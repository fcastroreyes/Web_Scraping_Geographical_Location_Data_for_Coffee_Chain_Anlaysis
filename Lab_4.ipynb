{
 "cells": [
  {
   "cell_type": "raw",
   "id": "59cc7a65",
   "metadata": {},
   "source": [
    "---\n",
    "format:\n",
    "  html:\n",
    "    code fold: false\n",
    "    theme: cosmo\n",
    "    self-contained: true\n",
    "---"
   ]
  },
  {
   "cell_type": "markdown",
   "id": "65bc5b25",
   "metadata": {},
   "source": [
    "# Importing Dependencies"
   ]
  },
  {
   "cell_type": "code",
   "execution_count": 299,
   "id": "6d759cea",
   "metadata": {},
   "outputs": [
    {
     "data": {
      "text/html": [
       "        <script type=\"text/javascript\">\n",
       "        window.PlotlyConfig = {MathJaxConfig: 'local'};\n",
       "        if (window.MathJax && window.MathJax.Hub && window.MathJax.Hub.Config) {window.MathJax.Hub.Config({SVG: {font: \"STIX-Web\"}});}\n",
       "        if (typeof require !== 'undefined') {\n",
       "        require.undef(\"plotly\");\n",
       "        requirejs.config({\n",
       "            paths: {\n",
       "                'plotly': ['https://cdn.plot.ly/plotly-2.12.1.min']\n",
       "            }\n",
       "        });\n",
       "        require(['plotly'], function(Plotly) {\n",
       "            window._Plotly = Plotly;\n",
       "        });\n",
       "        }\n",
       "        </script>\n",
       "        "
      ]
     },
     "metadata": {},
     "output_type": "display_data"
    }
   ],
   "source": [
    "import requests\n",
    "from bs4 import BeautifulSoup\n",
    "import re\n",
    "import pandas as pd\n",
    "import numpy as np\n",
    "from plotnine import *\n",
    "import plotly.express as px\n",
    "import plotly.graph_objects as go\n",
    "import numpy as np\n",
    "import scipy.stats\n",
    "import plotly.offline as pyo\n",
    "pyo.init_notebook_mode(connected=True)"
   ]
  },
  {
   "cell_type": "markdown",
   "id": "29d53805",
   "metadata": {},
   "source": [
    "# Scraping Location and Counts\n",
    "---"
   ]
  },
  {
   "cell_type": "markdown",
   "id": "cad881be",
   "metadata": {},
   "source": [
    "## Stateabb function"
   ]
  },
  {
   "cell_type": "code",
   "execution_count": 300,
   "id": "146b1eca",
   "metadata": {},
   "outputs": [],
   "source": [
    "#function that takes a state name and returns the abbreviation for the state, in US states\n",
    "def stateabb(state_name):\n",
    "    \n",
    "    # Convert the state name to title case to take care of formatting\n",
    "    state_name = state_name.strip().title()\n",
    "    \n",
    "    #creating a dictionary for the states in order to be able to map them to their corresponding abbreviations\n",
    "    state_abbreviations = {\n",
    "        'Alabama': 'AL', 'Alaska': 'AK', 'Arizona': 'AZ', 'Arkansas': 'AR', 'California': 'CA',\n",
    "        'Colorado': 'CO', 'Connecticut': 'CT', 'Delaware': 'DE','District of Columbia': 'DC','Washington, D.C.': 'DC', 'Florida': 'FL', 'Georgia': 'GA',\n",
    "        'Hawaii': 'HI', 'Idaho': 'ID', 'Illinois': 'IL', 'Indiana': 'IN', 'Iowa': 'IA',\n",
    "        'Kansas': 'KS', 'Kentucky': 'KY', 'Louisiana': 'LA', 'Maine': 'ME', 'Maryland': 'MD',\n",
    "        'Massachusetts': 'MA', 'Michigan': 'MI', 'Minnesota': 'MN', 'Mississippi': 'MS',\n",
    "        'Missouri': 'MO', 'Montana': 'MT', 'Nebraska': 'NE', 'Nevada': 'NV', 'New Hampshire': 'NH',\n",
    "        'New Jersey': 'NJ', 'New Mexico': 'NM', 'New York': 'NY', 'North Carolina': 'NC',\n",
    "        'North Dakota': 'ND', 'Ohio': 'OH', 'Oklahoma': 'OK', 'Oregon': 'OR', 'Pennsylvania': 'PA',\n",
    "        'Rhode Island': 'RI', 'South Carolina': 'SC', 'South Dakota': 'SD', 'Tennessee': 'TN',\n",
    "        'Texas': 'TX', 'Utah': 'UT', 'Vermont': 'VT', 'Virginia': 'VA', 'Washington': 'WA',\n",
    "        'West Virginia': 'WV', 'Wisconsin': 'WI', 'Wyoming': 'WY'\n",
    "    }\n",
    "\n",
    "    if state_name in state_abbreviations:\n",
    "        return state_abbreviations[state_name]\n",
    "    else:\n",
    "        return \"Not A US State\""
   ]
  },
  {
   "cell_type": "markdown",
   "id": "d38498dc",
   "metadata": {},
   "source": [
    "## Web Scraping Code"
   ]
  },
  {
   "cell_type": "code",
   "execution_count": 301,
   "id": "1bbd8652",
   "metadata": {},
   "outputs": [],
   "source": [
    "#Function to Scrape the URLs for each restaurant\n",
    "def scrape_data(url):\n",
    "    #Using beautiful soup and the requests to be able to scrape\n",
    "    response = requests.get(url)\n",
    "    soup = BeautifulSoup(response.content, \"html.parser\")\n",
    "\n",
    "    #Creating a dictionary of U.S. states In order to only pull information about these\n",
    "    us_states = {\n",
    "        'Alabama', 'Alaska', 'Arizona', 'Arkansas', 'California', 'Colorado', 'Connecticut',\n",
    "        'Delaware', 'District of Columbia', 'Florida', 'Georgia', 'Hawaii', 'Idaho', 'Illinois', 'Indiana', 'Iowa',\n",
    "        'Kansas', 'Kentucky', 'Louisiana', 'Maine', 'Maryland', 'Massachusetts', 'Michigan',\n",
    "        'Minnesota', 'Mississippi', 'Missouri', 'Montana', 'Nebraska', 'Nevada', 'New Hampshire',\n",
    "        'New Jersey', 'New Mexico', 'New York', 'North Carolina', 'North Dakota', 'Ohio', 'Oklahoma',\n",
    "        'Oregon', 'Pennsylvania', 'Rhode Island', 'South Carolina', 'South Dakota', 'Tennessee',\n",
    "        'Texas', 'Utah', 'Vermont', 'Virginia', 'Washington', 'West Virginia', 'Wisconsin', 'Wyoming'\n",
    "    }\n",
    "\n",
    "    #making the regular expression for extracting the state\n",
    "    state_pattern = r'^\\w+\\s+.*\\slocations \\(\\d+\\)$'\n",
    "\n",
    "    #Creating an empty list to put our scraped items in\n",
    "    rows = []\n",
    "\n",
    "    #Iterating over all <li> elements with class=\"\"\n",
    "    for coffee_location in soup.find_all('li', {'class': \"\"}):\n",
    "        a_tag = coffee_location.find(\"a\")\n",
    "        if a_tag:\n",
    "            \n",
    "            #Getting the text from the <a> tag\n",
    "            text = a_tag.get_text(strip=True)\n",
    "            \n",
    "            #Checking if the text matches the desired format and if the state is in the list of U.S. states\n",
    "            if re.match(state_pattern, text) and text.split()[0] in us_states:\n",
    "                \n",
    "                #Extract the state name and add it to the \"State\" field in the dictionary\n",
    "                state = text.split()[0]\n",
    "\n",
    "                #Extract the restaurant name (anything after the state name and before \"locations\")\n",
    "                match = re.search(fr'{state}\\s+(.*?)\\s+locations', text)\n",
    "                restaurant_name = match.group(1) if match else None\n",
    "\n",
    "                #Extract the number of locations using a regular expression\n",
    "                locations_match = re.search(r'\\((\\d+)\\)', text)\n",
    "                num_of_locations = int(locations_match.group(1)) if locations_match else None\n",
    "                \n",
    "                #filling the list, note we used the stateabb function here for the state\n",
    "                rows.append({\"State\": stateabb(state), \"Coffee Chain\": restaurant_name, \"Locations\": num_of_locations})\n",
    "\n",
    "    #creating a dataframe\n",
    "    data_df = pd.DataFrame(rows)\n",
    "\n",
    "    return data_df"
   ]
  },
  {
   "cell_type": "code",
   "execution_count": 302,
   "id": "88442930",
   "metadata": {},
   "outputs": [
    {
     "data": {
      "text/html": [
       "<div>\n",
       "<style scoped>\n",
       "    .dataframe tbody tr th:only-of-type {\n",
       "        vertical-align: middle;\n",
       "    }\n",
       "\n",
       "    .dataframe tbody tr th {\n",
       "        vertical-align: top;\n",
       "    }\n",
       "\n",
       "    .dataframe thead th {\n",
       "        text-align: right;\n",
       "    }\n",
       "</style>\n",
       "<table border=\"1\" class=\"dataframe\">\n",
       "  <thead>\n",
       "    <tr style=\"text-align: right;\">\n",
       "      <th></th>\n",
       "      <th>State</th>\n",
       "      <th>Locations</th>\n",
       "    </tr>\n",
       "  </thead>\n",
       "  <tbody>\n",
       "    <tr>\n",
       "      <th>0</th>\n",
       "      <td>AL</td>\n",
       "      <td>1</td>\n",
       "    </tr>\n",
       "    <tr>\n",
       "      <th>1</th>\n",
       "      <td>AR</td>\n",
       "      <td>11</td>\n",
       "    </tr>\n",
       "    <tr>\n",
       "      <th>2</th>\n",
       "      <td>AZ</td>\n",
       "      <td>74</td>\n",
       "    </tr>\n",
       "    <tr>\n",
       "      <th>3</th>\n",
       "      <td>CA</td>\n",
       "      <td>46</td>\n",
       "    </tr>\n",
       "    <tr>\n",
       "      <th>4</th>\n",
       "      <td>CO</td>\n",
       "      <td>5</td>\n",
       "    </tr>\n",
       "  </tbody>\n",
       "</table>\n",
       "</div>"
      ],
      "text/plain": [
       "  State  Locations\n",
       "0    AL          1\n",
       "1    AR         11\n",
       "2    AZ         74\n",
       "3    CA         46\n",
       "4    CO          5"
      ]
     },
     "execution_count": 302,
     "metadata": {},
     "output_type": "execute_result"
    }
   ],
   "source": [
    "#example of my code working on a web crawled old version of the website since the real one is down\n",
    "dunkin = scrape_data(\"https://web.archive.org/web/20220518102911/https://www.menuism.com/restaurant-locations/dunkin-donuts-181624\")\n",
    "dunkin[[\"State\",\"Locations\"]].head()"
   ]
  },
  {
   "cell_type": "markdown",
   "id": "a8ff6047",
   "metadata": {},
   "source": [
    "## Coffee Shop Scraping"
   ]
  },
  {
   "cell_type": "markdown",
   "id": "18a56a0a",
   "metadata": {},
   "source": [
    "Example of what I am Scraping:\n",
    "<li class=\"\">\n",
    "<a href=\"https://www.menuism.com/restaurant-locations/starbucks-coffee-39564/us/ak\" title=\"Starbucks Coffee locations in ak, us\">Alaska Starbucks Coffee locations (24)</a>\n",
    "</li>"
   ]
  },
  {
   "cell_type": "markdown",
   "id": "0a536f97",
   "metadata": {},
   "source": [
    "starbucks = scrape_data(\"insert starbucks URL\")\n",
    "\n",
    "dunkin = scrape_data(\"insert Dunkin’ Donuts URL\")\n",
    "\n",
    "peets = scrape_data(\"insert Peet’s Coffee & Tea URL\")\n",
    "\n",
    "tim_hortons = scrape_data(\"insert Tim Horton’s URL\")\n",
    "\n",
    "panera = scrape_data(\"insert Panera Bread URL\")\n",
    "\n",
    "caribou = scrape_data(\"insert Caribou Coffee URL\")\n",
    "\n",
    "au_bou_pain = scrape_data(\"insert Au Bon Pain URL\")\n",
    "\n",
    "coffe_bean = scrape_data(\"insert The Coffee Bean & Tea Leaf URL\")\n",
    "\n",
    "mcdonnalds = scrape_data(\"insert McDonald’s URL\")"
   ]
  },
  {
   "cell_type": "markdown",
   "id": "e8bef170",
   "metadata": {},
   "source": [
    "## Tidying Data"
   ]
  },
  {
   "cell_type": "code",
   "execution_count": 303,
   "id": "b903ebd5",
   "metadata": {},
   "outputs": [
    {
     "data": {
      "text/html": [
       "<div>\n",
       "<style scoped>\n",
       "    .dataframe tbody tr th:only-of-type {\n",
       "        vertical-align: middle;\n",
       "    }\n",
       "\n",
       "    .dataframe tbody tr th {\n",
       "        vertical-align: top;\n",
       "    }\n",
       "\n",
       "    .dataframe thead th {\n",
       "        text-align: right;\n",
       "    }\n",
       "</style>\n",
       "<table border=\"1\" class=\"dataframe\">\n",
       "  <thead>\n",
       "    <tr style=\"text-align: right;\">\n",
       "      <th></th>\n",
       "      <th>State Full</th>\n",
       "      <th>Coffee Chain</th>\n",
       "      <th>State</th>\n",
       "      <th>Location Count</th>\n",
       "      <th>Population</th>\n",
       "    </tr>\n",
       "  </thead>\n",
       "  <tbody>\n",
       "    <tr>\n",
       "      <th>0</th>\n",
       "      <td>Alaska</td>\n",
       "      <td>Starbucks</td>\n",
       "      <td>AK</td>\n",
       "      <td>24</td>\n",
       "      <td>733391</td>\n",
       "    </tr>\n",
       "    <tr>\n",
       "      <th>1</th>\n",
       "      <td>Alabama</td>\n",
       "      <td>Starbucks</td>\n",
       "      <td>AL</td>\n",
       "      <td>73</td>\n",
       "      <td>5024279</td>\n",
       "    </tr>\n",
       "    <tr>\n",
       "      <th>2</th>\n",
       "      <td>Arkansas</td>\n",
       "      <td>Starbucks</td>\n",
       "      <td>AR</td>\n",
       "      <td>33</td>\n",
       "      <td>3011524</td>\n",
       "    </tr>\n",
       "    <tr>\n",
       "      <th>3</th>\n",
       "      <td>Arizona</td>\n",
       "      <td>Starbucks</td>\n",
       "      <td>AZ</td>\n",
       "      <td>279</td>\n",
       "      <td>7151502</td>\n",
       "    </tr>\n",
       "    <tr>\n",
       "      <th>4</th>\n",
       "      <td>California</td>\n",
       "      <td>Starbucks</td>\n",
       "      <td>CA</td>\n",
       "      <td>2362</td>\n",
       "      <td>39538223</td>\n",
       "    </tr>\n",
       "  </tbody>\n",
       "</table>\n",
       "</div>"
      ],
      "text/plain": [
       "   State Full Coffee Chain State  Location Count  Population\n",
       "0      Alaska    Starbucks    AK              24      733391\n",
       "1     Alabama    Starbucks    AL              73     5024279\n",
       "2    Arkansas    Starbucks    AR              33     3011524\n",
       "3     Arizona    Starbucks    AZ             279     7151502\n",
       "4  California    Starbucks    CA            2362    39538223"
      ]
     },
     "execution_count": 303,
     "metadata": {},
     "output_type": "execute_result"
    }
   ],
   "source": [
    "#Utilizing the provided CSV since the site was not working to \"parse and tidy\" the data\n",
    "coffee = pd.read_csv(\"df_lab4_scraped.csv\")\n",
    "coffee = coffee.rename(columns={\"State\":\"State Full\", \"State Abbreviation\": \"State\"})\n",
    "coffee.head()"
   ]
  },
  {
   "cell_type": "markdown",
   "id": "f2f3ed90",
   "metadata": {},
   "source": [
    "# Suplemental Data\n",
    "---"
   ]
  },
  {
   "cell_type": "markdown",
   "id": "eb22f001",
   "metadata": {},
   "source": [
    "## Scraping States and Populations"
   ]
  },
  {
   "cell_type": "code",
   "execution_count": 304,
   "id": "6861deae",
   "metadata": {},
   "outputs": [
    {
     "data": {
      "text/html": [
       "<div>\n",
       "<style scoped>\n",
       "    .dataframe tbody tr th:only-of-type {\n",
       "        vertical-align: middle;\n",
       "    }\n",
       "\n",
       "    .dataframe tbody tr th {\n",
       "        vertical-align: top;\n",
       "    }\n",
       "\n",
       "    .dataframe thead th {\n",
       "        text-align: right;\n",
       "    }\n",
       "</style>\n",
       "<table border=\"1\" class=\"dataframe\">\n",
       "  <thead>\n",
       "    <tr style=\"text-align: right;\">\n",
       "      <th></th>\n",
       "      <th>Rank in states &amp; territories, 2020</th>\n",
       "      <th>Rank in states &amp; territories, 2010</th>\n",
       "      <th>State</th>\n",
       "      <th>Census population, April 1, 2020 [1][2]</th>\n",
       "      <th>Census population, April 1, 2010 [1][2]</th>\n",
       "      <th>Percent change, 2010–2020 [note 1]</th>\n",
       "      <th>Absolute change, 2010-2020</th>\n",
       "      <th>Total seats in the U.S. House of Representatives, 2023–2033</th>\n",
       "      <th>Census population per electoral vote [note 2]</th>\n",
       "      <th>Census population per House seat</th>\n",
       "      <th>Percent of the total U.S. population, 2020 [note 3]</th>\n",
       "    </tr>\n",
       "  </thead>\n",
       "  <tbody>\n",
       "    <tr>\n",
       "      <th>0</th>\n",
       "      <td>1.0</td>\n",
       "      <td>1.0</td>\n",
       "      <td>California</td>\n",
       "      <td>39538223</td>\n",
       "      <td>37253956</td>\n",
       "      <td>6.1%</td>\n",
       "      <td>+2284267</td>\n",
       "      <td>52</td>\n",
       "      <td>732189</td>\n",
       "      <td>760350</td>\n",
       "      <td>11.80%</td>\n",
       "    </tr>\n",
       "    <tr>\n",
       "      <th>1</th>\n",
       "      <td>2.0</td>\n",
       "      <td>2.0</td>\n",
       "      <td>Texas</td>\n",
       "      <td>29145505</td>\n",
       "      <td>25145561</td>\n",
       "      <td>15.9%</td>\n",
       "      <td>+3999944</td>\n",
       "      <td>38</td>\n",
       "      <td>728638</td>\n",
       "      <td>766987</td>\n",
       "      <td>8.70%</td>\n",
       "    </tr>\n",
       "    <tr>\n",
       "      <th>2</th>\n",
       "      <td>3.0</td>\n",
       "      <td>4.0</td>\n",
       "      <td>Florida</td>\n",
       "      <td>21538187</td>\n",
       "      <td>18801310</td>\n",
       "      <td>14.6%</td>\n",
       "      <td>+2736877</td>\n",
       "      <td>28</td>\n",
       "      <td>717940</td>\n",
       "      <td>769221</td>\n",
       "      <td>6.43%</td>\n",
       "    </tr>\n",
       "    <tr>\n",
       "      <th>3</th>\n",
       "      <td>4.0</td>\n",
       "      <td>3.0</td>\n",
       "      <td>New York</td>\n",
       "      <td>20201249</td>\n",
       "      <td>19378102</td>\n",
       "      <td>4.2%</td>\n",
       "      <td>+823147</td>\n",
       "      <td>26</td>\n",
       "      <td>721473</td>\n",
       "      <td>776971</td>\n",
       "      <td>6.03%</td>\n",
       "    </tr>\n",
       "    <tr>\n",
       "      <th>4</th>\n",
       "      <td>5.0</td>\n",
       "      <td>6.0</td>\n",
       "      <td>Pennsylvania</td>\n",
       "      <td>13002700</td>\n",
       "      <td>12702379</td>\n",
       "      <td>2.4%</td>\n",
       "      <td>+300321</td>\n",
       "      <td>17</td>\n",
       "      <td>684353</td>\n",
       "      <td>764865</td>\n",
       "      <td>3.88%</td>\n",
       "    </tr>\n",
       "  </tbody>\n",
       "</table>\n",
       "</div>"
      ],
      "text/plain": [
       "   Rank in states & territories, 2020  Rank in states & territories, 2010  \\\n",
       "0                                 1.0                                 1.0   \n",
       "1                                 2.0                                 2.0   \n",
       "2                                 3.0                                 4.0   \n",
       "3                                 4.0                                 3.0   \n",
       "4                                 5.0                                 6.0   \n",
       "\n",
       "          State  Census population, April 1, 2020 [1][2]  \\\n",
       "0    California                                 39538223   \n",
       "1         Texas                                 29145505   \n",
       "2       Florida                                 21538187   \n",
       "3      New York                                 20201249   \n",
       "4  Pennsylvania                                 13002700   \n",
       "\n",
       "   Census population, April 1, 2010 [1][2] Percent change, 2010–2020 [note 1]  \\\n",
       "0                                 37253956                               6.1%   \n",
       "1                                 25145561                              15.9%   \n",
       "2                                 18801310                              14.6%   \n",
       "3                                 19378102                               4.2%   \n",
       "4                                 12702379                               2.4%   \n",
       "\n",
       "  Absolute change, 2010-2020  \\\n",
       "0                   +2284267   \n",
       "1                   +3999944   \n",
       "2                   +2736877   \n",
       "3                    +823147   \n",
       "4                    +300321   \n",
       "\n",
       "  Total seats in the U.S. House of Representatives, 2023–2033  \\\n",
       "0                                                 52            \n",
       "1                                                 38            \n",
       "2                                                 28            \n",
       "3                                                 26            \n",
       "4                                                 17            \n",
       "\n",
       "  Census population per electoral vote [note 2]  \\\n",
       "0                                        732189   \n",
       "1                                        728638   \n",
       "2                                        717940   \n",
       "3                                        721473   \n",
       "4                                        684353   \n",
       "\n",
       "  Census population per House seat  \\\n",
       "0                           760350   \n",
       "1                           766987   \n",
       "2                           769221   \n",
       "3                           776971   \n",
       "4                           764865   \n",
       "\n",
       "  Percent of the total U.S. population, 2020 [note 3]  \n",
       "0                                             11.80%   \n",
       "1                                              8.70%   \n",
       "2                                              6.43%   \n",
       "3                                              6.03%   \n",
       "4                                              3.88%   "
      ]
     },
     "execution_count": 304,
     "metadata": {},
     "output_type": "execute_result"
    }
   ],
   "source": [
    "#scraping using pandas.read_html since it was already in table form\n",
    "population_data_full = pd.read_html(\"https://simple.wikipedia.org/wiki/List_of_U.S._states_by_population\", attrs = {'class': 'wikitable sortable', \"style\": \"width:100%; text-align:center;\"})[0]\n",
    "population_data_full.head()"
   ]
  },
  {
   "cell_type": "code",
   "execution_count": 305,
   "id": "16390b3d",
   "metadata": {},
   "outputs": [
    {
     "data": {
      "text/html": [
       "<div>\n",
       "<style scoped>\n",
       "    .dataframe tbody tr th:only-of-type {\n",
       "        vertical-align: middle;\n",
       "    }\n",
       "\n",
       "    .dataframe tbody tr th {\n",
       "        vertical-align: top;\n",
       "    }\n",
       "\n",
       "    .dataframe thead th {\n",
       "        text-align: right;\n",
       "    }\n",
       "</style>\n",
       "<table border=\"1\" class=\"dataframe\">\n",
       "  <thead>\n",
       "    <tr style=\"text-align: right;\">\n",
       "      <th></th>\n",
       "      <th>State</th>\n",
       "      <th>Population</th>\n",
       "    </tr>\n",
       "  </thead>\n",
       "  <tbody>\n",
       "    <tr>\n",
       "      <th>0</th>\n",
       "      <td>CA</td>\n",
       "      <td>39538223</td>\n",
       "    </tr>\n",
       "    <tr>\n",
       "      <th>1</th>\n",
       "      <td>TX</td>\n",
       "      <td>29145505</td>\n",
       "    </tr>\n",
       "    <tr>\n",
       "      <th>2</th>\n",
       "      <td>FL</td>\n",
       "      <td>21538187</td>\n",
       "    </tr>\n",
       "    <tr>\n",
       "      <th>3</th>\n",
       "      <td>NY</td>\n",
       "      <td>20201249</td>\n",
       "    </tr>\n",
       "    <tr>\n",
       "      <th>4</th>\n",
       "      <td>PA</td>\n",
       "      <td>13002700</td>\n",
       "    </tr>\n",
       "  </tbody>\n",
       "</table>\n",
       "</div>"
      ],
      "text/plain": [
       "  State  Population\n",
       "0    CA    39538223\n",
       "1    TX    29145505\n",
       "2    FL    21538187\n",
       "3    NY    20201249\n",
       "4    PA    13002700"
      ]
     },
     "execution_count": 305,
     "metadata": {},
     "output_type": "execute_result"
    }
   ],
   "source": [
    "#some data cleaning for the populaiton data set\n",
    "\n",
    "#Narrowing down the dataset to only what we need\n",
    "population_data = population_data_full[[\"State\",\"Census population, April 1, 2020 [1][2]\"]]\n",
    "\n",
    "#changing the column names to be more meaningful\n",
    "pop_data = population_data.rename(columns={\"Census population, April 1, 2020 [1][2]\": \"Population\"})\n",
    "\n",
    "#applying the state abbreviation function to help with merging later\n",
    "pop_data['State'] = pop_data['State'].apply(stateabb)\n",
    "pop_data.head()"
   ]
  },
  {
   "cell_type": "markdown",
   "id": "9ef28b8a",
   "metadata": {},
   "source": [
    "## Coffee Shops and Revenue for 2022:"
   ]
  },
  {
   "cell_type": "code",
   "execution_count": 306,
   "id": "76b16563",
   "metadata": {},
   "outputs": [
    {
     "data": {
      "text/html": [
       "<div>\n",
       "<style scoped>\n",
       "    .dataframe tbody tr th:only-of-type {\n",
       "        vertical-align: middle;\n",
       "    }\n",
       "\n",
       "    .dataframe tbody tr th {\n",
       "        vertical-align: top;\n",
       "    }\n",
       "\n",
       "    .dataframe thead th {\n",
       "        text-align: right;\n",
       "    }\n",
       "</style>\n",
       "<table border=\"1\" class=\"dataframe\">\n",
       "  <thead>\n",
       "    <tr style=\"text-align: right;\">\n",
       "      <th></th>\n",
       "      <th>Coffee Chain</th>\n",
       "      <th>Revenue2022</th>\n",
       "    </tr>\n",
       "  </thead>\n",
       "  <tbody>\n",
       "    <tr>\n",
       "      <th>0</th>\n",
       "      <td>Starbucks</td>\n",
       "      <td>32.25B</td>\n",
       "    </tr>\n",
       "    <tr>\n",
       "      <th>1</th>\n",
       "      <td>Dunkin' Donuts</td>\n",
       "      <td>1.4B</td>\n",
       "    </tr>\n",
       "    <tr>\n",
       "      <th>2</th>\n",
       "      <td>Peet's Coffee &amp; Tea</td>\n",
       "      <td>983M</td>\n",
       "    </tr>\n",
       "    <tr>\n",
       "      <th>3</th>\n",
       "      <td>Tim Horton's</td>\n",
       "      <td>2.63B</td>\n",
       "    </tr>\n",
       "    <tr>\n",
       "      <th>4</th>\n",
       "      <td>Panera Bread</td>\n",
       "      <td>4.8B</td>\n",
       "    </tr>\n",
       "    <tr>\n",
       "      <th>5</th>\n",
       "      <td>Caribou Coffee</td>\n",
       "      <td>262M</td>\n",
       "    </tr>\n",
       "    <tr>\n",
       "      <th>6</th>\n",
       "      <td>Au Bon Pain</td>\n",
       "      <td>41M</td>\n",
       "    </tr>\n",
       "    <tr>\n",
       "      <th>7</th>\n",
       "      <td>The Coffee Bean &amp; Tea Leaf</td>\n",
       "      <td>500M</td>\n",
       "    </tr>\n",
       "    <tr>\n",
       "      <th>8</th>\n",
       "      <td>McDonald's</td>\n",
       "      <td>23.18B</td>\n",
       "    </tr>\n",
       "  </tbody>\n",
       "</table>\n",
       "</div>"
      ],
      "text/plain": [
       "                 Coffee Chain Revenue2022\n",
       "0                   Starbucks      32.25B\n",
       "1              Dunkin' Donuts        1.4B\n",
       "2         Peet's Coffee & Tea        983M\n",
       "3                Tim Horton's       2.63B\n",
       "4                Panera Bread        4.8B\n",
       "5              Caribou Coffee        262M\n",
       "6                 Au Bon Pain         41M\n",
       "7  The Coffee Bean & Tea Leaf        500M\n",
       "8                  McDonald's      23.18B"
      ]
     },
     "execution_count": 306,
     "metadata": {},
     "output_type": "execute_result"
    }
   ],
   "source": [
    "#googled \"'coffe shop' revenue for 2022 to obtain\"\n",
    "\n",
    "\n",
    "#Defining the list of restaurants\n",
    "restaurants = [\n",
    "    \"Starbucks\",\n",
    "    \"Dunkin' Donuts\",\n",
    "    \"Peet's Coffee & Tea\",\n",
    "    \"Tim Horton's\",\n",
    "    \"Panera Bread\",\n",
    "    \"Caribou Coffee\",\n",
    "    \"Au Bon Pain\",\n",
    "    \"The Coffee Bean & Tea Leaf\",\n",
    "    \"McDonald's\"\n",
    "]\n",
    "\n",
    "#Creating a DataFrame with the \"Coffe Chain\" and \"Revenue2022\" columns\n",
    "revenue = pd.DataFrame({\n",
    "    \"Coffee Chain\": restaurants,\n",
    "    \"Revenue2022\": [\"32.25B\",\"1.4B\",\"983M\",\"2.63B\",\"4.8B\",\"262M\",\"41M\",\"500M\",\"23.18B\"]\n",
    "})\n",
    "\n",
    "revenue"
   ]
  },
  {
   "cell_type": "markdown",
   "id": "7a5885b6",
   "metadata": {},
   "source": [
    "## States and Their Regions"
   ]
  },
  {
   "cell_type": "code",
   "execution_count": 307,
   "id": "8a55ae7c",
   "metadata": {},
   "outputs": [
    {
     "data": {
      "text/html": [
       "<div>\n",
       "<style scoped>\n",
       "    .dataframe tbody tr th:only-of-type {\n",
       "        vertical-align: middle;\n",
       "    }\n",
       "\n",
       "    .dataframe tbody tr th {\n",
       "        vertical-align: top;\n",
       "    }\n",
       "\n",
       "    .dataframe thead th {\n",
       "        text-align: right;\n",
       "    }\n",
       "</style>\n",
       "<table border=\"1\" class=\"dataframe\">\n",
       "  <thead>\n",
       "    <tr style=\"text-align: right;\">\n",
       "      <th></th>\n",
       "      <th>State</th>\n",
       "      <th>Region</th>\n",
       "    </tr>\n",
       "  </thead>\n",
       "  <tbody>\n",
       "    <tr>\n",
       "      <th>0</th>\n",
       "      <td>CT</td>\n",
       "      <td>Northeast</td>\n",
       "    </tr>\n",
       "    <tr>\n",
       "      <th>1</th>\n",
       "      <td>ME</td>\n",
       "      <td>Northeast</td>\n",
       "    </tr>\n",
       "    <tr>\n",
       "      <th>2</th>\n",
       "      <td>MA</td>\n",
       "      <td>Northeast</td>\n",
       "    </tr>\n",
       "    <tr>\n",
       "      <th>3</th>\n",
       "      <td>NH</td>\n",
       "      <td>Northeast</td>\n",
       "    </tr>\n",
       "    <tr>\n",
       "      <th>4</th>\n",
       "      <td>RI</td>\n",
       "      <td>Northeast</td>\n",
       "    </tr>\n",
       "  </tbody>\n",
       "</table>\n",
       "</div>"
      ],
      "text/plain": [
       "  State     Region\n",
       "0    CT  Northeast\n",
       "1    ME  Northeast\n",
       "2    MA  Northeast\n",
       "3    NH  Northeast\n",
       "4    RI  Northeast"
      ]
     },
     "execution_count": 307,
     "metadata": {},
     "output_type": "execute_result"
    }
   ],
   "source": [
    "#Definign the data for states and their regions\n",
    "data = {\n",
    "    \"State\": [\n",
    "        \"Connecticut\", \"Maine\", \"Massachusetts\", \"New Hampshire\", \"Rhode Island\", \"Vermont\",\n",
    "        \"New Jersey\", \"New York\", \"Pennsylvania\",\n",
    "        \"Illinois\", \"Indiana\", \"Michigan\", \"Ohio\", \"Wisconsin\",\n",
    "        \"Iowa\", \"Kansas\", \"Minnesota\", \"Missouri\", \"Nebraska\", \"North Dakota\", \"South Dakota\",\n",
    "        \"Delaware\", \"Florida\", \"Georgia\", \"Maryland\", \"North Carolina\", \"South Carolina\", \"Virginia\", \"Washington, D.C.\", \"West Virginia\",\n",
    "        \"Alabama\", \"Kentucky\", \"Mississippi\", \"Tennessee\",\n",
    "        \"Arkansas\", \"Louisiana\", \"Oklahoma\", \"Texas\",\n",
    "        \"Arizona\", \"Colorado\", \"Idaho\", \"Montana\", \"Nevada\", \"New Mexico\", \"Utah\", \"Wyoming\",\n",
    "        \"Alaska\", \"California\", \"Hawaii\", \"Oregon\", \"Washington\", \"Alaska\", \"Hawaii\"\n",
    "    ],\n",
    "    \"Region\": [\n",
    "        \"Northeast\", \"Northeast\", \"Northeast\", \"Northeast\", \"Northeast\", \"Northeast\",\n",
    "        \"Northeast\", \"Northeast\", \"Northeast\",\n",
    "        \"Midwest\", \"Midwest\", \"Midwest\", \"Midwest\", \"Midwest\",\n",
    "        \"Midwest\", \"Midwest\", \"Midwest\", \"Midwest\", \"Midwest\", \"Midwest\", \"Midwest\",\n",
    "        \"South\", \"South\", \"South\", \"South\", \"South\", \"South\", \"South\", \"South\", \"South\",\n",
    "        \"South\", \"South\", \"South\", \"South\",\n",
    "        \"South\", \"South\", \"South\", \"South\",\n",
    "        \"West\", \"West\", \"West\", \"West\", \"West\", \"West\", \"West\", \"West\",\n",
    "        \"West\", \"West\", \"West\", \"West\", \"West\", \"Pacific\", \"Pacific\"\n",
    "    ]\n",
    "}\n",
    "\n",
    "#Creating a DataFrame\n",
    "state_region_df = pd.DataFrame(data)\n",
    "\n",
    "state_region_df['State'] = state_region_df['State'].apply(stateabb)\n",
    "state_region_df.head()\n"
   ]
  },
  {
   "cell_type": "markdown",
   "id": "d68ed8e1",
   "metadata": {},
   "source": [
    "## Merging All Datasets"
   ]
  },
  {
   "cell_type": "code",
   "execution_count": 308,
   "id": "21128476",
   "metadata": {},
   "outputs": [
    {
     "data": {
      "text/html": [
       "<div>\n",
       "<style scoped>\n",
       "    .dataframe tbody tr th:only-of-type {\n",
       "        vertical-align: middle;\n",
       "    }\n",
       "\n",
       "    .dataframe tbody tr th {\n",
       "        vertical-align: top;\n",
       "    }\n",
       "\n",
       "    .dataframe thead th {\n",
       "        text-align: right;\n",
       "    }\n",
       "</style>\n",
       "<table border=\"1\" class=\"dataframe\">\n",
       "  <thead>\n",
       "    <tr style=\"text-align: right;\">\n",
       "      <th></th>\n",
       "      <th>State</th>\n",
       "      <th>Population</th>\n",
       "      <th>Region</th>\n",
       "    </tr>\n",
       "  </thead>\n",
       "  <tbody>\n",
       "    <tr>\n",
       "      <th>0</th>\n",
       "      <td>CA</td>\n",
       "      <td>39538223</td>\n",
       "      <td>West</td>\n",
       "    </tr>\n",
       "    <tr>\n",
       "      <th>1</th>\n",
       "      <td>TX</td>\n",
       "      <td>29145505</td>\n",
       "      <td>South</td>\n",
       "    </tr>\n",
       "    <tr>\n",
       "      <th>2</th>\n",
       "      <td>FL</td>\n",
       "      <td>21538187</td>\n",
       "      <td>South</td>\n",
       "    </tr>\n",
       "    <tr>\n",
       "      <th>3</th>\n",
       "      <td>NY</td>\n",
       "      <td>20201249</td>\n",
       "      <td>Northeast</td>\n",
       "    </tr>\n",
       "    <tr>\n",
       "      <th>4</th>\n",
       "      <td>PA</td>\n",
       "      <td>13002700</td>\n",
       "      <td>Northeast</td>\n",
       "    </tr>\n",
       "  </tbody>\n",
       "</table>\n",
       "</div>"
      ],
      "text/plain": [
       "  State  Population     Region\n",
       "0    CA    39538223       West\n",
       "1    TX    29145505      South\n",
       "2    FL    21538187      South\n",
       "3    NY    20201249  Northeast\n",
       "4    PA    13002700  Northeast"
      ]
     },
     "execution_count": 308,
     "metadata": {},
     "output_type": "execute_result"
    }
   ],
   "source": [
    "#merging the state population and the region on State\n",
    "pop_merge = pop_data.merge(state_region_df, on='State', how='left')\n",
    "pop_merge.head()"
   ]
  },
  {
   "cell_type": "code",
   "execution_count": 309,
   "id": "124fd834",
   "metadata": {},
   "outputs": [
    {
     "data": {
      "text/html": [
       "<div>\n",
       "<style scoped>\n",
       "    .dataframe tbody tr th:only-of-type {\n",
       "        vertical-align: middle;\n",
       "    }\n",
       "\n",
       "    .dataframe tbody tr th {\n",
       "        vertical-align: top;\n",
       "    }\n",
       "\n",
       "    .dataframe thead th {\n",
       "        text-align: right;\n",
       "    }\n",
       "</style>\n",
       "<table border=\"1\" class=\"dataframe\">\n",
       "  <thead>\n",
       "    <tr style=\"text-align: right;\">\n",
       "      <th></th>\n",
       "      <th>State Full</th>\n",
       "      <th>Coffee Chain</th>\n",
       "      <th>State</th>\n",
       "      <th>Location Count</th>\n",
       "      <th>Population</th>\n",
       "    </tr>\n",
       "  </thead>\n",
       "  <tbody>\n",
       "    <tr>\n",
       "      <th>0</th>\n",
       "      <td>Alaska</td>\n",
       "      <td>Starbucks</td>\n",
       "      <td>AK</td>\n",
       "      <td>24</td>\n",
       "      <td>733391</td>\n",
       "    </tr>\n",
       "    <tr>\n",
       "      <th>1</th>\n",
       "      <td>Alabama</td>\n",
       "      <td>Starbucks</td>\n",
       "      <td>AL</td>\n",
       "      <td>73</td>\n",
       "      <td>5024279</td>\n",
       "    </tr>\n",
       "    <tr>\n",
       "      <th>2</th>\n",
       "      <td>Arkansas</td>\n",
       "      <td>Starbucks</td>\n",
       "      <td>AR</td>\n",
       "      <td>33</td>\n",
       "      <td>3011524</td>\n",
       "    </tr>\n",
       "    <tr>\n",
       "      <th>3</th>\n",
       "      <td>Arizona</td>\n",
       "      <td>Starbucks</td>\n",
       "      <td>AZ</td>\n",
       "      <td>279</td>\n",
       "      <td>7151502</td>\n",
       "    </tr>\n",
       "    <tr>\n",
       "      <th>4</th>\n",
       "      <td>California</td>\n",
       "      <td>Starbucks</td>\n",
       "      <td>CA</td>\n",
       "      <td>2362</td>\n",
       "      <td>39538223</td>\n",
       "    </tr>\n",
       "  </tbody>\n",
       "</table>\n",
       "</div>"
      ],
      "text/plain": [
       "   State Full Coffee Chain State  Location Count  Population\n",
       "0      Alaska    Starbucks    AK              24      733391\n",
       "1     Alabama    Starbucks    AL              73     5024279\n",
       "2    Arkansas    Starbucks    AR              33     3011524\n",
       "3     Arizona    Starbucks    AZ             279     7151502\n",
       "4  California    Starbucks    CA            2362    39538223"
      ]
     },
     "execution_count": 309,
     "metadata": {},
     "output_type": "execute_result"
    }
   ],
   "source": [
    "#checking\n",
    "coffee.head()"
   ]
  },
  {
   "cell_type": "code",
   "execution_count": 310,
   "id": "d6899d10",
   "metadata": {},
   "outputs": [
    {
     "data": {
      "text/html": [
       "<div>\n",
       "<style scoped>\n",
       "    .dataframe tbody tr th:only-of-type {\n",
       "        vertical-align: middle;\n",
       "    }\n",
       "\n",
       "    .dataframe tbody tr th {\n",
       "        vertical-align: top;\n",
       "    }\n",
       "\n",
       "    .dataframe thead th {\n",
       "        text-align: right;\n",
       "    }\n",
       "</style>\n",
       "<table border=\"1\" class=\"dataframe\">\n",
       "  <thead>\n",
       "    <tr style=\"text-align: right;\">\n",
       "      <th></th>\n",
       "      <th>State Full</th>\n",
       "      <th>Coffee Chain</th>\n",
       "      <th>State</th>\n",
       "      <th>Location Count</th>\n",
       "      <th>Population</th>\n",
       "      <th>Region</th>\n",
       "      <th>Revenue2022</th>\n",
       "    </tr>\n",
       "  </thead>\n",
       "  <tbody>\n",
       "    <tr>\n",
       "      <th>0</th>\n",
       "      <td>Alaska</td>\n",
       "      <td>Starbucks</td>\n",
       "      <td>AK</td>\n",
       "      <td>24</td>\n",
       "      <td>733391</td>\n",
       "      <td>West</td>\n",
       "      <td>32.25B</td>\n",
       "    </tr>\n",
       "    <tr>\n",
       "      <th>1</th>\n",
       "      <td>Alaska</td>\n",
       "      <td>Starbucks</td>\n",
       "      <td>AK</td>\n",
       "      <td>24</td>\n",
       "      <td>733391</td>\n",
       "      <td>Pacific</td>\n",
       "      <td>32.25B</td>\n",
       "    </tr>\n",
       "    <tr>\n",
       "      <th>2</th>\n",
       "      <td>Alabama</td>\n",
       "      <td>Starbucks</td>\n",
       "      <td>AL</td>\n",
       "      <td>73</td>\n",
       "      <td>5024279</td>\n",
       "      <td>South</td>\n",
       "      <td>32.25B</td>\n",
       "    </tr>\n",
       "    <tr>\n",
       "      <th>3</th>\n",
       "      <td>Arkansas</td>\n",
       "      <td>Starbucks</td>\n",
       "      <td>AR</td>\n",
       "      <td>33</td>\n",
       "      <td>3011524</td>\n",
       "      <td>South</td>\n",
       "      <td>32.25B</td>\n",
       "    </tr>\n",
       "    <tr>\n",
       "      <th>4</th>\n",
       "      <td>Arizona</td>\n",
       "      <td>Starbucks</td>\n",
       "      <td>AZ</td>\n",
       "      <td>279</td>\n",
       "      <td>7151502</td>\n",
       "      <td>West</td>\n",
       "      <td>32.25B</td>\n",
       "    </tr>\n",
       "    <tr>\n",
       "      <th>...</th>\n",
       "      <td>...</td>\n",
       "      <td>...</td>\n",
       "      <td>...</td>\n",
       "      <td>...</td>\n",
       "      <td>...</td>\n",
       "      <td>...</td>\n",
       "      <td>...</td>\n",
       "    </tr>\n",
       "    <tr>\n",
       "      <th>271</th>\n",
       "      <td>Vermont</td>\n",
       "      <td>McDonald's</td>\n",
       "      <td>VT</td>\n",
       "      <td>30</td>\n",
       "      <td>643077</td>\n",
       "      <td>Northeast</td>\n",
       "      <td>23.18B</td>\n",
       "    </tr>\n",
       "    <tr>\n",
       "      <th>272</th>\n",
       "      <td>Washington</td>\n",
       "      <td>McDonald's</td>\n",
       "      <td>WA</td>\n",
       "      <td>326</td>\n",
       "      <td>7705281</td>\n",
       "      <td>West</td>\n",
       "      <td>23.18B</td>\n",
       "    </tr>\n",
       "    <tr>\n",
       "      <th>273</th>\n",
       "      <td>Wisconsin</td>\n",
       "      <td>McDonald's</td>\n",
       "      <td>WI</td>\n",
       "      <td>353</td>\n",
       "      <td>5893718</td>\n",
       "      <td>Midwest</td>\n",
       "      <td>23.18B</td>\n",
       "    </tr>\n",
       "    <tr>\n",
       "      <th>274</th>\n",
       "      <td>West Virginia</td>\n",
       "      <td>McDonald's</td>\n",
       "      <td>WV</td>\n",
       "      <td>107</td>\n",
       "      <td>1793716</td>\n",
       "      <td>South</td>\n",
       "      <td>23.18B</td>\n",
       "    </tr>\n",
       "    <tr>\n",
       "      <th>275</th>\n",
       "      <td>Wyoming</td>\n",
       "      <td>McDonald's</td>\n",
       "      <td>WY</td>\n",
       "      <td>34</td>\n",
       "      <td>576851</td>\n",
       "      <td>West</td>\n",
       "      <td>23.18B</td>\n",
       "    </tr>\n",
       "  </tbody>\n",
       "</table>\n",
       "<p>276 rows × 7 columns</p>\n",
       "</div>"
      ],
      "text/plain": [
       "        State Full Coffee Chain State  Location Count  Population     Region  \\\n",
       "0           Alaska    Starbucks    AK              24      733391       West   \n",
       "1           Alaska    Starbucks    AK              24      733391    Pacific   \n",
       "2          Alabama    Starbucks    AL              73     5024279      South   \n",
       "3         Arkansas    Starbucks    AR              33     3011524      South   \n",
       "4          Arizona    Starbucks    AZ             279     7151502       West   \n",
       "..             ...          ...   ...             ...         ...        ...   \n",
       "271        Vermont   McDonald's    VT              30      643077  Northeast   \n",
       "272     Washington   McDonald's    WA             326     7705281       West   \n",
       "273      Wisconsin   McDonald's    WI             353     5893718    Midwest   \n",
       "274  West Virginia   McDonald's    WV             107     1793716      South   \n",
       "275        Wyoming   McDonald's    WY              34      576851       West   \n",
       "\n",
       "    Revenue2022  \n",
       "0        32.25B  \n",
       "1        32.25B  \n",
       "2        32.25B  \n",
       "3        32.25B  \n",
       "4        32.25B  \n",
       "..          ...  \n",
       "271      23.18B  \n",
       "272      23.18B  \n",
       "273      23.18B  \n",
       "274      23.18B  \n",
       "275      23.18B  \n",
       "\n",
       "[276 rows x 7 columns]"
      ]
     },
     "execution_count": 310,
     "metadata": {},
     "output_type": "execute_result"
    }
   ],
   "source": [
    "#merging the coffee dataset with the region\n",
    "clean_set = coffee.merge(state_region_df, on='State', how='left')\n",
    "coffee_clean = clean_set.merge(revenue, on='Coffee Chain', how='left')\n",
    "#cheking\n",
    "coffee_clean"
   ]
  },
  {
   "cell_type": "code",
   "execution_count": 311,
   "id": "6314b93d",
   "metadata": {},
   "outputs": [],
   "source": [
    "#function that handles values that were in human form 10k 5M 4.3b etc.\n",
    "def convert(value):\n",
    "    if pd.notna(value):\n",
    "        if isinstance(value, str):\n",
    "            value = value.lower()  # Convert value to lowercase\n",
    "            multiplier = 1\n",
    "            if value.endswith('k'):\n",
    "                multiplier = 1000\n",
    "                value = value[:-1]  # strip multiplier character\n",
    "            elif value.endswith('m'):\n",
    "                multiplier = 1000000\n",
    "                value = value[:-1]  # strip multiplier character\n",
    "            elif value.endswith('b'):\n",
    "                multiplier = 1000000000\n",
    "                value = value[:-1]  # strip multiplier character\n",
    "\n",
    "            return int(float(value) * multiplier)\n",
    "        else:\n",
    "            return int(value)  # Handle numeric values as they are\n",
    "    else:\n",
    "        return 0"
   ]
  },
  {
   "cell_type": "code",
   "execution_count": 312,
   "id": "9e2a9e28",
   "metadata": {},
   "outputs": [
    {
     "data": {
      "text/html": [
       "<div>\n",
       "<style scoped>\n",
       "    .dataframe tbody tr th:only-of-type {\n",
       "        vertical-align: middle;\n",
       "    }\n",
       "\n",
       "    .dataframe tbody tr th {\n",
       "        vertical-align: top;\n",
       "    }\n",
       "\n",
       "    .dataframe thead th {\n",
       "        text-align: right;\n",
       "    }\n",
       "</style>\n",
       "<table border=\"1\" class=\"dataframe\">\n",
       "  <thead>\n",
       "    <tr style=\"text-align: right;\">\n",
       "      <th></th>\n",
       "      <th>State Full</th>\n",
       "      <th>Coffee Chain</th>\n",
       "      <th>State</th>\n",
       "      <th>Location Count</th>\n",
       "      <th>Population</th>\n",
       "      <th>Region</th>\n",
       "      <th>Revenue2022</th>\n",
       "    </tr>\n",
       "  </thead>\n",
       "  <tbody>\n",
       "    <tr>\n",
       "      <th>0</th>\n",
       "      <td>Alaska</td>\n",
       "      <td>Starbucks</td>\n",
       "      <td>AK</td>\n",
       "      <td>24</td>\n",
       "      <td>733391</td>\n",
       "      <td>West</td>\n",
       "      <td>32250000000</td>\n",
       "    </tr>\n",
       "    <tr>\n",
       "      <th>1</th>\n",
       "      <td>Alaska</td>\n",
       "      <td>Starbucks</td>\n",
       "      <td>AK</td>\n",
       "      <td>24</td>\n",
       "      <td>733391</td>\n",
       "      <td>Pacific</td>\n",
       "      <td>32250000000</td>\n",
       "    </tr>\n",
       "    <tr>\n",
       "      <th>2</th>\n",
       "      <td>Alabama</td>\n",
       "      <td>Starbucks</td>\n",
       "      <td>AL</td>\n",
       "      <td>73</td>\n",
       "      <td>5024279</td>\n",
       "      <td>South</td>\n",
       "      <td>32250000000</td>\n",
       "    </tr>\n",
       "    <tr>\n",
       "      <th>3</th>\n",
       "      <td>Arkansas</td>\n",
       "      <td>Starbucks</td>\n",
       "      <td>AR</td>\n",
       "      <td>33</td>\n",
       "      <td>3011524</td>\n",
       "      <td>South</td>\n",
       "      <td>32250000000</td>\n",
       "    </tr>\n",
       "    <tr>\n",
       "      <th>4</th>\n",
       "      <td>Arizona</td>\n",
       "      <td>Starbucks</td>\n",
       "      <td>AZ</td>\n",
       "      <td>279</td>\n",
       "      <td>7151502</td>\n",
       "      <td>West</td>\n",
       "      <td>32250000000</td>\n",
       "    </tr>\n",
       "  </tbody>\n",
       "</table>\n",
       "</div>"
      ],
      "text/plain": [
       "  State Full Coffee Chain State  Location Count  Population   Region  \\\n",
       "0     Alaska    Starbucks    AK              24      733391     West   \n",
       "1     Alaska    Starbucks    AK              24      733391  Pacific   \n",
       "2    Alabama    Starbucks    AL              73     5024279    South   \n",
       "3   Arkansas    Starbucks    AR              33     3011524    South   \n",
       "4    Arizona    Starbucks    AZ             279     7151502     West   \n",
       "\n",
       "   Revenue2022  \n",
       "0  32250000000  \n",
       "1  32250000000  \n",
       "2  32250000000  \n",
       "3  32250000000  \n",
       "4  32250000000  "
      ]
     },
     "execution_count": 312,
     "metadata": {},
     "output_type": "execute_result"
    }
   ],
   "source": [
    "#converting the non numeric values in the revenue to numeric\n",
    "coffee_clean['Revenue2022'] = coffee_clean['Revenue2022'].apply(convert)\n",
    "coffee_clean.head()"
   ]
  },
  {
   "cell_type": "code",
   "execution_count": 313,
   "id": "560acbdc",
   "metadata": {},
   "outputs": [
    {
     "name": "stdout",
     "output_type": "stream",
     "text": [
      "9\n",
      "9\n",
      "51\n",
      "5\n",
      "51\n"
     ]
    }
   ],
   "source": [
    "print(len(coffee_clean.Revenue2022.unique()))\n",
    "print(len(coffee_clean['Coffee Chain'].unique()))\n",
    "print(len(coffee_clean['State'].unique()))\n",
    "print(len(coffee_clean['Region'].unique()))\n",
    "print(len(coffee_clean['Population'].unique()))"
   ]
  },
  {
   "cell_type": "markdown",
   "id": "183a155a",
   "metadata": {},
   "source": [
    "# Analyze\n"
   ]
  },
  {
   "cell_type": "code",
   "execution_count": 314,
   "id": "304593d4",
   "metadata": {},
   "outputs": [
    {
     "data": {
      "text/html": [
       "<div>\n",
       "<style scoped>\n",
       "    .dataframe tbody tr th:only-of-type {\n",
       "        vertical-align: middle;\n",
       "    }\n",
       "\n",
       "    .dataframe tbody tr th {\n",
       "        vertical-align: top;\n",
       "    }\n",
       "\n",
       "    .dataframe thead th {\n",
       "        text-align: right;\n",
       "    }\n",
       "</style>\n",
       "<table border=\"1\" class=\"dataframe\">\n",
       "  <thead>\n",
       "    <tr style=\"text-align: right;\">\n",
       "      <th></th>\n",
       "      <th>State Full</th>\n",
       "      <th>Coffee Chain</th>\n",
       "      <th>State</th>\n",
       "      <th>Location Count</th>\n",
       "      <th>Population</th>\n",
       "      <th>Region</th>\n",
       "      <th>Revenue2022</th>\n",
       "    </tr>\n",
       "  </thead>\n",
       "  <tbody>\n",
       "    <tr>\n",
       "      <th>0</th>\n",
       "      <td>Alaska</td>\n",
       "      <td>Starbucks</td>\n",
       "      <td>AK</td>\n",
       "      <td>24</td>\n",
       "      <td>733391</td>\n",
       "      <td>West</td>\n",
       "      <td>32250000000</td>\n",
       "    </tr>\n",
       "    <tr>\n",
       "      <th>1</th>\n",
       "      <td>Alaska</td>\n",
       "      <td>Starbucks</td>\n",
       "      <td>AK</td>\n",
       "      <td>24</td>\n",
       "      <td>733391</td>\n",
       "      <td>Pacific</td>\n",
       "      <td>32250000000</td>\n",
       "    </tr>\n",
       "    <tr>\n",
       "      <th>2</th>\n",
       "      <td>Alabama</td>\n",
       "      <td>Starbucks</td>\n",
       "      <td>AL</td>\n",
       "      <td>73</td>\n",
       "      <td>5024279</td>\n",
       "      <td>South</td>\n",
       "      <td>32250000000</td>\n",
       "    </tr>\n",
       "    <tr>\n",
       "      <th>3</th>\n",
       "      <td>Arkansas</td>\n",
       "      <td>Starbucks</td>\n",
       "      <td>AR</td>\n",
       "      <td>33</td>\n",
       "      <td>3011524</td>\n",
       "      <td>South</td>\n",
       "      <td>32250000000</td>\n",
       "    </tr>\n",
       "    <tr>\n",
       "      <th>4</th>\n",
       "      <td>Arizona</td>\n",
       "      <td>Starbucks</td>\n",
       "      <td>AZ</td>\n",
       "      <td>279</td>\n",
       "      <td>7151502</td>\n",
       "      <td>West</td>\n",
       "      <td>32250000000</td>\n",
       "    </tr>\n",
       "  </tbody>\n",
       "</table>\n",
       "</div>"
      ],
      "text/plain": [
       "  State Full Coffee Chain State  Location Count  Population   Region  \\\n",
       "0     Alaska    Starbucks    AK              24      733391     West   \n",
       "1     Alaska    Starbucks    AK              24      733391  Pacific   \n",
       "2    Alabama    Starbucks    AL              73     5024279    South   \n",
       "3   Arkansas    Starbucks    AR              33     3011524    South   \n",
       "4    Arizona    Starbucks    AZ             279     7151502     West   \n",
       "\n",
       "   Revenue2022  \n",
       "0  32250000000  \n",
       "1  32250000000  \n",
       "2  32250000000  \n",
       "3  32250000000  \n",
       "4  32250000000  "
      ]
     },
     "execution_count": 314,
     "metadata": {},
     "output_type": "execute_result"
    }
   ],
   "source": [
    "#first look at the full dataset\n",
    "coffee_clean.head()"
   ]
  },
  {
   "cell_type": "markdown",
   "id": "99e1baf6",
   "metadata": {},
   "source": [
    "### The following figure shows boxplots representing the location counts by each state. Notably, California is the state with the most coffee shop locations upwards of the thousands. This plot is not adding up all the locations for each state but rather showing the states that have many location counts vs less. If we take California out, the next ones with the most counts are florida, Illininois, Texas and New York. We can dive further into what this means."
   ]
  },
  {
   "cell_type": "code",
   "execution_count": 329,
   "id": "bc9007f8",
   "metadata": {},
   "outputs": [
    {
     "data": {
      "application/vnd.plotly.v1+json": {
       "config": {
        "plotlyServerURL": "https://plot.ly"
       },
       "data": [
        {
         "alignmentgroup": "True",
         "hovertemplate": "State=%{x}<br>Location Count=%{y}<extra></extra>",
         "legendgroup": "AK",
         "marker": {
          "color": "#636efa"
         },
         "name": "AK",
         "notched": false,
         "offsetgroup": "AK",
         "orientation": "v",
         "quartilemethod": "linear",
         "showlegend": true,
         "type": "box",
         "x": [
          "AK",
          "AK",
          "AK",
          "AK"
         ],
         "x0": " ",
         "xaxis": "x",
         "y": [
          24,
          24,
          33,
          33
         ],
         "y0": " ",
         "yaxis": "y"
        },
        {
         "alignmentgroup": "True",
         "hovertemplate": "State=%{x}<br>Location Count=%{y}<extra></extra>",
         "legendgroup": "AL",
         "marker": {
          "color": "#EF553B"
         },
         "name": "AL",
         "notched": false,
         "offsetgroup": "AL",
         "orientation": "v",
         "quartilemethod": "linear",
         "showlegend": true,
         "type": "box",
         "x": [
          "AL",
          "AL",
          "AL",
          "AL"
         ],
         "x0": " ",
         "xaxis": "x",
         "y": [
          73,
          1,
          20,
          279
         ],
         "y0": " ",
         "yaxis": "y"
        },
        {
         "alignmentgroup": "True",
         "hovertemplate": "State=%{x}<br>Location Count=%{y}<extra></extra>",
         "legendgroup": "AR",
         "marker": {
          "color": "#00cc96"
         },
         "name": "AR",
         "notched": false,
         "offsetgroup": "AR",
         "orientation": "v",
         "quartilemethod": "linear",
         "showlegend": true,
         "type": "box",
         "x": [
          "AR",
          "AR",
          "AR",
          "AR"
         ],
         "x0": " ",
         "xaxis": "x",
         "y": [
          33,
          11,
          13,
          190
         ],
         "y0": " ",
         "yaxis": "y"
        },
        {
         "alignmentgroup": "True",
         "hovertemplate": "State=%{x}<br>Location Count=%{y}<extra></extra>",
         "legendgroup": "AZ",
         "marker": {
          "color": "#ab63fa"
         },
         "name": "AZ",
         "notched": false,
         "offsetgroup": "AZ",
         "orientation": "v",
         "quartilemethod": "linear",
         "showlegend": true,
         "type": "box",
         "x": [
          "AZ",
          "AZ",
          "AZ",
          "AZ",
          "AZ"
         ],
         "x0": " ",
         "xaxis": "x",
         "y": [
          279,
          74,
          29,
          19,
          326
         ],
         "y0": " ",
         "yaxis": "y"
        },
        {
         "alignmentgroup": "True",
         "hovertemplate": "State=%{x}<br>Location Count=%{y}<extra></extra>",
         "legendgroup": "CA",
         "marker": {
          "color": "#FFA15A"
         },
         "name": "CA",
         "notched": false,
         "offsetgroup": "CA",
         "orientation": "v",
         "quartilemethod": "linear",
         "showlegend": true,
         "type": "box",
         "x": [
          "CA",
          "CA",
          "CA",
          "CA",
          "CA",
          "CA"
         ],
         "x0": " ",
         "xaxis": "x",
         "y": [
          2362,
          46,
          163,
          216,
          175,
          1623
         ],
         "y0": " ",
         "yaxis": "y"
        },
        {
         "alignmentgroup": "True",
         "hovertemplate": "State=%{x}<br>Location Count=%{y}<extra></extra>",
         "legendgroup": "CO",
         "marker": {
          "color": "#19d3f3"
         },
         "name": "CO",
         "notched": false,
         "offsetgroup": "CO",
         "orientation": "v",
         "quartilemethod": "linear",
         "showlegend": true,
         "type": "box",
         "x": [
          "CO",
          "CO",
          "CO",
          "CO",
          "CO",
          "CO"
         ],
         "x0": " ",
         "xaxis": "x",
         "y": [
          371,
          5,
          3,
          32,
          9,
          237
         ],
         "y0": " ",
         "yaxis": "y"
        },
        {
         "alignmentgroup": "True",
         "hovertemplate": "State=%{x}<br>Location Count=%{y}<extra></extra>",
         "legendgroup": "CT",
         "marker": {
          "color": "#FF6692"
         },
         "name": "CT",
         "notched": false,
         "offsetgroup": "CT",
         "orientation": "v",
         "quartilemethod": "linear",
         "showlegend": true,
         "type": "box",
         "x": [
          "CT",
          "CT",
          "CT",
          "CT",
          "CT",
          "CT"
         ],
         "x0": " ",
         "xaxis": "x",
         "y": [
          107,
          406,
          10,
          41,
          8,
          173
         ],
         "y0": " ",
         "yaxis": "y"
        },
        {
         "alignmentgroup": "True",
         "hovertemplate": "State=%{x}<br>Location Count=%{y}<extra></extra>",
         "legendgroup": "DC",
         "marker": {
          "color": "#B6E880"
         },
         "name": "DC",
         "notched": false,
         "offsetgroup": "DC",
         "orientation": "v",
         "quartilemethod": "linear",
         "showlegend": true,
         "type": "box",
         "x": [
          "DC",
          "DC",
          "DC",
          "DC",
          "DC",
          "DC"
         ],
         "x0": " ",
         "xaxis": "x",
         "y": [
          72,
          15,
          4,
          8,
          21,
          37
         ],
         "y0": " ",
         "yaxis": "y"
        },
        {
         "alignmentgroup": "True",
         "hovertemplate": "State=%{x}<br>Location Count=%{y}<extra></extra>",
         "legendgroup": "DE",
         "marker": {
          "color": "#FF97FF"
         },
         "name": "DE",
         "notched": false,
         "offsetgroup": "DE",
         "orientation": "v",
         "quartilemethod": "linear",
         "showlegend": true,
         "type": "box",
         "x": [
          "DE",
          "DE",
          "DE",
          "DE",
          "DE"
         ],
         "x0": " ",
         "xaxis": "x",
         "y": [
          20,
          57,
          1,
          9,
          46
         ],
         "y0": " ",
         "yaxis": "y"
        },
        {
         "alignmentgroup": "True",
         "hovertemplate": "State=%{x}<br>Location Count=%{y}<extra></extra>",
         "legendgroup": "FL",
         "marker": {
          "color": "#FECB52"
         },
         "name": "FL",
         "notched": false,
         "offsetgroup": "FL",
         "orientation": "v",
         "quartilemethod": "linear",
         "showlegend": true,
         "type": "box",
         "x": [
          "FL",
          "FL",
          "FL",
          "FL",
          "FL",
          "FL"
         ],
         "x0": " ",
         "xaxis": "x",
         "y": [
          616,
          654,
          227,
          23,
          1,
          1142
         ],
         "y0": " ",
         "yaxis": "y"
        },
        {
         "alignmentgroup": "True",
         "hovertemplate": "State=%{x}<br>Location Count=%{y}<extra></extra>",
         "legendgroup": "GA",
         "marker": {
          "color": "#636efa"
         },
         "name": "GA",
         "notched": false,
         "offsetgroup": "GA",
         "orientation": "v",
         "quartilemethod": "linear",
         "showlegend": true,
         "type": "box",
         "x": [
          "GA",
          "GA",
          "GA",
          "GA",
          "GA",
          "GA",
          "GA"
         ],
         "x0": " ",
         "xaxis": "x",
         "y": [
          248,
          147,
          71,
          25,
          3,
          2,
          563
         ],
         "y0": " ",
         "yaxis": "y"
        },
        {
         "alignmentgroup": "True",
         "hovertemplate": "State=%{x}<br>Location Count=%{y}<extra></extra>",
         "legendgroup": "HI",
         "marker": {
          "color": "#EF553B"
         },
         "name": "HI",
         "notched": false,
         "offsetgroup": "HI",
         "orientation": "v",
         "quartilemethod": "linear",
         "showlegend": true,
         "type": "box",
         "x": [
          "HI",
          "HI",
          "HI",
          "HI",
          "HI",
          "HI",
          "HI",
          "HI",
          "HI",
          "HI"
         ],
         "x0": " ",
         "xaxis": "x",
         "y": [
          72,
          72,
          1,
          1,
          1,
          1,
          22,
          22,
          74,
          74
         ],
         "y0": " ",
         "yaxis": "y"
        },
        {
         "alignmentgroup": "True",
         "hovertemplate": "State=%{x}<br>Location Count=%{y}<extra></extra>",
         "legendgroup": "IA",
         "marker": {
          "color": "#00cc96"
         },
         "name": "IA",
         "notched": false,
         "offsetgroup": "IA",
         "orientation": "v",
         "quartilemethod": "linear",
         "showlegend": true,
         "type": "box",
         "x": [
          "IA",
          "IA",
          "IA",
          "IA",
          "IA"
         ],
         "x0": " ",
         "xaxis": "x",
         "y": [
          49,
          14,
          27,
          11,
          181
         ],
         "y0": " ",
         "yaxis": "y"
        },
        {
         "alignmentgroup": "True",
         "hovertemplate": "State=%{x}<br>Location Count=%{y}<extra></extra>",
         "legendgroup": "ID",
         "marker": {
          "color": "#ab63fa"
         },
         "name": "ID",
         "notched": false,
         "offsetgroup": "ID",
         "orientation": "v",
         "quartilemethod": "linear",
         "showlegend": true,
         "type": "box",
         "x": [
          "ID",
          "ID",
          "ID"
         ],
         "x0": " ",
         "xaxis": "x",
         "y": [
          57,
          7,
          71
         ],
         "y0": " ",
         "yaxis": "y"
        },
        {
         "alignmentgroup": "True",
         "hovertemplate": "State=%{x}<br>Location Count=%{y}<extra></extra>",
         "legendgroup": "IL",
         "marker": {
          "color": "#FFA15A"
         },
         "name": "IL",
         "notched": false,
         "offsetgroup": "IL",
         "orientation": "v",
         "quartilemethod": "linear",
         "showlegend": true,
         "type": "box",
         "x": [
          "IL",
          "IL",
          "IL",
          "IL",
          "IL",
          "IL",
          "IL"
         ],
         "x0": " ",
         "xaxis": "x",
         "y": [
          455,
          579,
          3,
          154,
          81,
          32,
          791
         ],
         "y0": " ",
         "yaxis": "y"
        },
        {
         "alignmentgroup": "True",
         "hovertemplate": "State=%{x}<br>Location Count=%{y}<extra></extra>",
         "legendgroup": "IN",
         "marker": {
          "color": "#19d3f3"
         },
         "name": "IN",
         "notched": false,
         "offsetgroup": "IN",
         "orientation": "v",
         "quartilemethod": "linear",
         "showlegend": true,
         "type": "box",
         "x": [
          "IN",
          "IN",
          "IN",
          "IN",
          "IN",
          "IN",
          "IN"
         ],
         "x0": " ",
         "xaxis": "x",
         "y": [
          193,
          51,
          5,
          53,
          1,
          8,
          406
         ],
         "y0": " ",
         "yaxis": "y"
        },
        {
         "alignmentgroup": "True",
         "hovertemplate": "State=%{x}<br>Location Count=%{y}<extra></extra>",
         "legendgroup": "KS",
         "marker": {
          "color": "#FF6692"
         },
         "name": "KS",
         "notched": false,
         "offsetgroup": "KS",
         "orientation": "v",
         "quartilemethod": "linear",
         "showlegend": true,
         "type": "box",
         "x": [
          "KS",
          "KS",
          "KS",
          "KS",
          "KS"
         ],
         "x0": " ",
         "xaxis": "x",
         "y": [
          65,
          12,
          27,
          5,
          188
         ],
         "y0": " ",
         "yaxis": "y"
        },
        {
         "alignmentgroup": "True",
         "hovertemplate": "State=%{x}<br>Location Count=%{y}<extra></extra>",
         "legendgroup": "KY",
         "marker": {
          "color": "#B6E880"
         },
         "name": "KY",
         "notched": false,
         "offsetgroup": "KY",
         "orientation": "v",
         "quartilemethod": "linear",
         "showlegend": true,
         "type": "box",
         "x": [
          "KY",
          "KY",
          "KY",
          "KY",
          "KY",
          "KY"
         ],
         "x0": " ",
         "xaxis": "x",
         "y": [
          69,
          34,
          3,
          30,
          1,
          283
         ],
         "y0": " ",
         "yaxis": "y"
        },
        {
         "alignmentgroup": "True",
         "hovertemplate": "State=%{x}<br>Location Count=%{y}<extra></extra>",
         "legendgroup": "LA",
         "marker": {
          "color": "#FF97FF"
         },
         "name": "LA",
         "notched": false,
         "offsetgroup": "LA",
         "orientation": "v",
         "quartilemethod": "linear",
         "showlegend": true,
         "type": "box",
         "x": [
          "LA",
          "LA",
          "LA",
          "LA"
         ],
         "x0": " ",
         "xaxis": "x",
         "y": [
          76,
          5,
          1,
          291
         ],
         "y0": " ",
         "yaxis": "y"
        },
        {
         "alignmentgroup": "True",
         "hovertemplate": "State=%{x}<br>Location Count=%{y}<extra></extra>",
         "legendgroup": "MA",
         "marker": {
          "color": "#FECB52"
         },
         "name": "MA",
         "notched": false,
         "offsetgroup": "MA",
         "orientation": "v",
         "quartilemethod": "linear",
         "showlegend": true,
         "type": "box",
         "x": [
          "MA",
          "MA",
          "MA",
          "MA",
          "MA",
          "MA",
          "MA"
         ],
         "x0": " ",
         "xaxis": "x",
         "y": [
          208,
          1101,
          7,
          5,
          77,
          67,
          306
         ],
         "y0": " ",
         "yaxis": "y"
        },
        {
         "alignmentgroup": "True",
         "hovertemplate": "State=%{x}<br>Location Count=%{y}<extra></extra>",
         "legendgroup": "MD",
         "marker": {
          "color": "#636efa"
         },
         "name": "MD",
         "notched": false,
         "offsetgroup": "MD",
         "orientation": "v",
         "quartilemethod": "linear",
         "showlegend": true,
         "type": "box",
         "x": [
          "MD",
          "MD",
          "MD",
          "MD",
          "MD",
          "MD"
         ],
         "x0": " ",
         "xaxis": "x",
         "y": [
          212,
          201,
          69,
          9,
          9,
          402
         ],
         "y0": " ",
         "yaxis": "y"
        },
        {
         "alignmentgroup": "True",
         "hovertemplate": "State=%{x}<br>Location Count=%{y}<extra></extra>",
         "legendgroup": "ME",
         "marker": {
          "color": "#EF553B"
         },
         "name": "ME",
         "notched": false,
         "offsetgroup": "ME",
         "orientation": "v",
         "quartilemethod": "linear",
         "showlegend": true,
         "type": "box",
         "x": [
          "ME",
          "ME",
          "ME",
          "ME",
          "ME",
          "ME"
         ],
         "x0": " ",
         "xaxis": "x",
         "y": [
          22,
          102,
          27,
          5,
          1,
          72
         ],
         "y0": " ",
         "yaxis": "y"
        },
        {
         "alignmentgroup": "True",
         "hovertemplate": "State=%{x}<br>Location Count=%{y}<extra></extra>",
         "legendgroup": "MI",
         "marker": {
          "color": "#00cc96"
         },
         "name": "MI",
         "notched": false,
         "offsetgroup": "MI",
         "orientation": "v",
         "quartilemethod": "linear",
         "showlegend": true,
         "type": "box",
         "x": [
          "MI",
          "MI",
          "MI",
          "MI",
          "MI",
          "MI",
          "MI"
         ],
         "x0": " ",
         "xaxis": "x",
         "y": [
          196,
          91,
          191,
          108,
          30,
          6,
          662
         ],
         "y0": " ",
         "yaxis": "y"
        },
        {
         "alignmentgroup": "True",
         "hovertemplate": "State=%{x}<br>Location Count=%{y}<extra></extra>",
         "legendgroup": "MN",
         "marker": {
          "color": "#ab63fa"
         },
         "name": "MN",
         "notched": false,
         "offsetgroup": "MN",
         "orientation": "v",
         "quartilemethod": "linear",
         "showlegend": true,
         "type": "box",
         "x": [
          "MN",
          "MN",
          "MN",
          "MN",
          "MN",
          "MN",
          "MN"
         ],
         "x0": " ",
         "xaxis": "x",
         "y": [
          140,
          6,
          7,
          52,
          312,
          5,
          305
         ],
         "y0": " ",
         "yaxis": "y"
        },
        {
         "alignmentgroup": "True",
         "hovertemplate": "State=%{x}<br>Location Count=%{y}<extra></extra>",
         "legendgroup": "MO",
         "marker": {
          "color": "#FFA15A"
         },
         "name": "MO",
         "notched": false,
         "offsetgroup": "MO",
         "orientation": "v",
         "quartilemethod": "linear",
         "showlegend": true,
         "type": "box",
         "x": [
          "MO",
          "MO",
          "MO",
          "MO",
          "MO",
          "MO",
          "MO"
         ],
         "x0": " ",
         "xaxis": "x",
         "y": [
          118,
          21,
          1,
          91,
          2,
          3,
          396
         ],
         "y0": " ",
         "yaxis": "y"
        },
        {
         "alignmentgroup": "True",
         "hovertemplate": "State=%{x}<br>Location Count=%{y}<extra></extra>",
         "legendgroup": "MS",
         "marker": {
          "color": "#19d3f3"
         },
         "name": "MS",
         "notched": false,
         "offsetgroup": "MS",
         "orientation": "v",
         "quartilemethod": "linear",
         "showlegend": true,
         "type": "box",
         "x": [
          "MS",
          "MS",
          "MS",
          "MS"
         ],
         "x0": " ",
         "xaxis": "x",
         "y": [
          23,
          3,
          4,
          165
         ],
         "y0": " ",
         "yaxis": "y"
        },
        {
         "alignmentgroup": "True",
         "hovertemplate": "State=%{x}<br>Location Count=%{y}<extra></extra>",
         "legendgroup": "MT",
         "marker": {
          "color": "#FF6692"
         },
         "name": "MT",
         "notched": false,
         "offsetgroup": "MT",
         "orientation": "v",
         "quartilemethod": "linear",
         "showlegend": true,
         "type": "box",
         "x": [
          "MT",
          "MT"
         ],
         "x0": " ",
         "xaxis": "x",
         "y": [
          17,
          58
         ],
         "y0": " ",
         "yaxis": "y"
        },
        {
         "alignmentgroup": "True",
         "hovertemplate": "State=%{x}<br>Location Count=%{y}<extra></extra>",
         "legendgroup": "NC",
         "marker": {
          "color": "#B6E880"
         },
         "name": "NC",
         "notched": false,
         "offsetgroup": "NC",
         "orientation": "v",
         "quartilemethod": "linear",
         "showlegend": true,
         "type": "box",
         "x": [
          "NC",
          "NC",
          "NC",
          "NC",
          "NC",
          "NC"
         ],
         "x0": " ",
         "xaxis": "x",
         "y": [
          181,
          63,
          52,
          26,
          1,
          475
         ],
         "y0": " ",
         "yaxis": "y"
        },
        {
         "alignmentgroup": "True",
         "hovertemplate": "State=%{x}<br>Location Count=%{y}<extra></extra>",
         "legendgroup": "ND",
         "marker": {
          "color": "#FF97FF"
         },
         "name": "ND",
         "notched": false,
         "offsetgroup": "ND",
         "orientation": "v",
         "quartilemethod": "linear",
         "showlegend": true,
         "type": "box",
         "x": [
          "ND",
          "ND",
          "ND",
          "ND"
         ],
         "x0": " ",
         "xaxis": "x",
         "y": [
          15,
          2,
          7,
          29
         ],
         "y0": " ",
         "yaxis": "y"
        },
        {
         "alignmentgroup": "True",
         "hovertemplate": "State=%{x}<br>Location Count=%{y}<extra></extra>",
         "legendgroup": "NE",
         "marker": {
          "color": "#FECB52"
         },
         "name": "NE",
         "notched": false,
         "offsetgroup": "NE",
         "orientation": "v",
         "quartilemethod": "linear",
         "showlegend": true,
         "type": "box",
         "x": [
          "NE",
          "NE",
          "NE",
          "NE",
          "NE"
         ],
         "x0": " ",
         "xaxis": "x",
         "y": [
          30,
          9,
          15,
          5,
          90
         ],
         "y0": " ",
         "yaxis": "y"
        },
        {
         "alignmentgroup": "True",
         "hovertemplate": "State=%{x}<br>Location Count=%{y}<extra></extra>",
         "legendgroup": "NH",
         "marker": {
          "color": "#636efa"
         },
         "name": "NH",
         "notched": false,
         "offsetgroup": "NH",
         "orientation": "v",
         "quartilemethod": "linear",
         "showlegend": true,
         "type": "box",
         "x": [
          "NH",
          "NH",
          "NH",
          "NH",
          "NH"
         ],
         "x0": " ",
         "xaxis": "x",
         "y": [
          22,
          185,
          12,
          6,
          72
         ],
         "y0": " ",
         "yaxis": "y"
        },
        {
         "alignmentgroup": "True",
         "hovertemplate": "State=%{x}<br>Location Count=%{y}<extra></extra>",
         "legendgroup": "NJ",
         "marker": {
          "color": "#EF553B"
         },
         "name": "NJ",
         "notched": false,
         "offsetgroup": "NJ",
         "orientation": "v",
         "quartilemethod": "linear",
         "showlegend": true,
         "type": "box",
         "x": [
          "NJ",
          "NJ",
          "NJ",
          "NJ",
          "NJ",
          "NJ"
         ],
         "x0": " ",
         "xaxis": "x",
         "y": [
          154,
          477,
          2,
          98,
          10,
          335
         ],
         "y0": " ",
         "yaxis": "y"
        },
        {
         "alignmentgroup": "True",
         "hovertemplate": "State=%{x}<br>Location Count=%{y}<extra></extra>",
         "legendgroup": "NM",
         "marker": {
          "color": "#00cc96"
         },
         "name": "NM",
         "notched": false,
         "offsetgroup": "NM",
         "orientation": "v",
         "quartilemethod": "linear",
         "showlegend": true,
         "type": "box",
         "x": [
          "NM",
          "NM",
          "NM",
          "NM"
         ],
         "x0": " ",
         "xaxis": "x",
         "y": [
          56,
          7,
          5,
          106
         ],
         "y0": " ",
         "yaxis": "y"
        },
        {
         "alignmentgroup": "True",
         "hovertemplate": "State=%{x}<br>Location Count=%{y}<extra></extra>",
         "legendgroup": "NV",
         "marker": {
          "color": "#ab63fa"
         },
         "name": "NV",
         "notched": false,
         "offsetgroup": "NV",
         "orientation": "v",
         "quartilemethod": "linear",
         "showlegend": true,
         "type": "box",
         "x": [
          "NV",
          "NV",
          "NV",
          "NV",
          "NV",
          "NV",
          "NV"
         ],
         "x0": " ",
         "xaxis": "x",
         "y": [
          188,
          26,
          1,
          6,
          1,
          23,
          169
         ],
         "y0": " ",
         "yaxis": "y"
        },
        {
         "alignmentgroup": "True",
         "hovertemplate": "State=%{x}<br>Location Count=%{y}<extra></extra>",
         "legendgroup": "NY",
         "marker": {
          "color": "#FFA15A"
         },
         "name": "NY",
         "notched": false,
         "offsetgroup": "NY",
         "orientation": "v",
         "quartilemethod": "linear",
         "showlegend": true,
         "type": "box",
         "x": [
          "NY",
          "NY",
          "NY",
          "NY",
          "NY",
          "NY"
         ],
         "x0": " ",
         "xaxis": "x",
         "y": [
          492,
          1022,
          100,
          138,
          58,
          811
         ],
         "y0": " ",
         "yaxis": "y"
        },
        {
         "alignmentgroup": "True",
         "hovertemplate": "State=%{x}<br>Location Count=%{y}<extra></extra>",
         "legendgroup": "OH",
         "marker": {
          "color": "#19d3f3"
         },
         "name": "OH",
         "notched": false,
         "offsetgroup": "OH",
         "orientation": "v",
         "quartilemethod": "linear",
         "showlegend": true,
         "type": "box",
         "x": [
          "OH",
          "OH",
          "OH",
          "OH",
          "OH",
          "OH",
          "OH"
         ],
         "x0": " ",
         "xaxis": "x",
         "y": [
          266,
          116,
          105,
          170,
          46,
          10,
          843
         ],
         "y0": " ",
         "yaxis": "y"
        },
        {
         "alignmentgroup": "True",
         "hovertemplate": "State=%{x}<br>Location Count=%{y}<extra></extra>",
         "legendgroup": "OK",
         "marker": {
          "color": "#FF6692"
         },
         "name": "OK",
         "notched": false,
         "offsetgroup": "OK",
         "orientation": "v",
         "quartilemethod": "linear",
         "showlegend": true,
         "type": "box",
         "x": [
          "OK",
          "OK",
          "OK",
          "OK"
         ],
         "x0": " ",
         "xaxis": "x",
         "y": [
          62,
          6,
          28,
          220
         ],
         "y0": " ",
         "yaxis": "y"
        },
        {
         "alignmentgroup": "True",
         "hovertemplate": "State=%{x}<br>Location Count=%{y}<extra></extra>",
         "legendgroup": "OR",
         "marker": {
          "color": "#B6E880"
         },
         "name": "OR",
         "notched": false,
         "offsetgroup": "OR",
         "orientation": "v",
         "quartilemethod": "linear",
         "showlegend": true,
         "type": "box",
         "x": [
          "OR",
          "OR",
          "OR",
          "OR",
          "OR",
          "OR"
         ],
         "x0": " ",
         "xaxis": "x",
         "y": [
          279,
          1,
          8,
          12,
          1,
          209
         ],
         "y0": " ",
         "yaxis": "y"
        },
        {
         "alignmentgroup": "True",
         "hovertemplate": "State=%{x}<br>Location Count=%{y}<extra></extra>",
         "legendgroup": "PA",
         "marker": {
          "color": "#FF97FF"
         },
         "name": "PA",
         "notched": false,
         "offsetgroup": "PA",
         "orientation": "v",
         "quartilemethod": "linear",
         "showlegend": true,
         "type": "box",
         "x": [
          "PA",
          "PA",
          "PA",
          "PA",
          "PA",
          "PA",
          "PA",
          "PA"
         ],
         "x0": " ",
         "xaxis": "x",
         "y": [
          279,
          402,
          1,
          9,
          112,
          6,
          28,
          603
         ],
         "y0": " ",
         "yaxis": "y"
        },
        {
         "alignmentgroup": "True",
         "hovertemplate": "State=%{x}<br>Location Count=%{y}<extra></extra>",
         "legendgroup": "RI",
         "marker": {
          "color": "#FECB52"
         },
         "name": "RI",
         "notched": false,
         "offsetgroup": "RI",
         "orientation": "v",
         "quartilemethod": "linear",
         "showlegend": true,
         "type": "box",
         "x": [
          "RI",
          "RI",
          "RI",
          "RI",
          "RI",
          "RI"
         ],
         "x0": " ",
         "xaxis": "x",
         "y": [
          21,
          142,
          26,
          9,
          6,
          45
         ],
         "y0": " ",
         "yaxis": "y"
        },
        {
         "alignmentgroup": "True",
         "hovertemplate": "State=%{x}<br>Location Count=%{y}<extra></extra>",
         "legendgroup": "SC",
         "marker": {
          "color": "#636efa"
         },
         "name": "SC",
         "notched": false,
         "offsetgroup": "SC",
         "orientation": "v",
         "quartilemethod": "linear",
         "showlegend": true,
         "type": "box",
         "x": [
          "SC",
          "SC",
          "SC",
          "SC"
         ],
         "x0": " ",
         "xaxis": "x",
         "y": [
          65,
          15,
          17,
          258
         ],
         "y0": " ",
         "yaxis": "y"
        },
        {
         "alignmentgroup": "True",
         "hovertemplate": "State=%{x}<br>Location Count=%{y}<extra></extra>",
         "legendgroup": "SD",
         "marker": {
          "color": "#EF553B"
         },
         "name": "SD",
         "notched": false,
         "offsetgroup": "SD",
         "orientation": "v",
         "quartilemethod": "linear",
         "showlegend": true,
         "type": "box",
         "x": [
          "SD",
          "SD",
          "SD",
          "SD"
         ],
         "x0": " ",
         "xaxis": "x",
         "y": [
          14,
          2,
          4,
          36
         ],
         "y0": " ",
         "yaxis": "y"
        },
        {
         "alignmentgroup": "True",
         "hovertemplate": "State=%{x}<br>Location Count=%{y}<extra></extra>",
         "legendgroup": "TN",
         "marker": {
          "color": "#00cc96"
         },
         "name": "TN",
         "notched": false,
         "offsetgroup": "TN",
         "orientation": "v",
         "quartilemethod": "linear",
         "showlegend": true,
         "type": "box",
         "x": [
          "TN",
          "TN",
          "TN",
          "TN"
         ],
         "x0": " ",
         "xaxis": "x",
         "y": [
          126,
          55,
          42,
          409
         ],
         "y0": " ",
         "yaxis": "y"
        },
        {
         "alignmentgroup": "True",
         "hovertemplate": "State=%{x}<br>Location Count=%{y}<extra></extra>",
         "legendgroup": "TX",
         "marker": {
          "color": "#ab63fa"
         },
         "name": "TX",
         "notched": false,
         "offsetgroup": "TX",
         "orientation": "v",
         "quartilemethod": "linear",
         "showlegend": true,
         "type": "box",
         "x": [
          "TX",
          "TX",
          "TX",
          "TX",
          "TX",
          "TX",
          "TX"
         ],
         "x0": " ",
         "xaxis": "x",
         "y": [
          720,
          93,
          3,
          110,
          16,
          5,
          1303
         ],
         "y0": " ",
         "yaxis": "y"
        },
        {
         "alignmentgroup": "True",
         "hovertemplate": "State=%{x}<br>Location Count=%{y}<extra></extra>",
         "legendgroup": "UT",
         "marker": {
          "color": "#FFA15A"
         },
         "name": "UT",
         "notched": false,
         "offsetgroup": "UT",
         "orientation": "v",
         "quartilemethod": "linear",
         "showlegend": true,
         "type": "box",
         "x": [
          "UT",
          "UT",
          "UT"
         ],
         "x0": " ",
         "xaxis": "x",
         "y": [
          59,
          7,
          145
         ],
         "y0": " ",
         "yaxis": "y"
        },
        {
         "alignmentgroup": "True",
         "hovertemplate": "State=%{x}<br>Location Count=%{y}<extra></extra>",
         "legendgroup": "VA",
         "marker": {
          "color": "#19d3f3"
         },
         "name": "VA",
         "notched": false,
         "offsetgroup": "VA",
         "orientation": "v",
         "quartilemethod": "linear",
         "showlegend": true,
         "type": "box",
         "x": [
          "VA",
          "VA",
          "VA",
          "VA",
          "VA",
          "VA",
          "VA"
         ],
         "x0": " ",
         "xaxis": "x",
         "y": [
          300,
          147,
          1,
          98,
          19,
          10,
          473
         ],
         "y0": " ",
         "yaxis": "y"
        },
        {
         "alignmentgroup": "True",
         "hovertemplate": "State=%{x}<br>Location Count=%{y}<extra></extra>",
         "legendgroup": "VT",
         "marker": {
          "color": "#FF6692"
         },
         "name": "VT",
         "notched": false,
         "offsetgroup": "VT",
         "orientation": "v",
         "quartilemethod": "linear",
         "showlegend": true,
         "type": "box",
         "x": [
          "VT",
          "VT",
          "VT",
          "VT"
         ],
         "x0": " ",
         "xaxis": "x",
         "y": [
          6,
          34,
          6,
          30
         ],
         "y0": " ",
         "yaxis": "y"
        },
        {
         "alignmentgroup": "True",
         "hovertemplate": "State=%{x}<br>Location Count=%{y}<extra></extra>",
         "legendgroup": "WA",
         "marker": {
          "color": "#B6E880"
         },
         "name": "WA",
         "notched": false,
         "offsetgroup": "WA",
         "orientation": "v",
         "quartilemethod": "linear",
         "showlegend": true,
         "type": "box",
         "x": [
          "WA",
          "WA",
          "WA",
          "WA",
          "WA"
         ],
         "x0": " ",
         "xaxis": "x",
         "y": [
          634,
          2,
          14,
          16,
          326
         ],
         "y0": " ",
         "yaxis": "y"
        },
        {
         "alignmentgroup": "True",
         "hovertemplate": "State=%{x}<br>Location Count=%{y}<extra></extra>",
         "legendgroup": "WI",
         "marker": {
          "color": "#FF97FF"
         },
         "name": "WI",
         "notched": false,
         "offsetgroup": "WI",
         "orientation": "v",
         "quartilemethod": "linear",
         "showlegend": true,
         "type": "box",
         "x": [
          "WI",
          "WI",
          "WI",
          "WI",
          "WI"
         ],
         "x0": " ",
         "xaxis": "x",
         "y": [
          119,
          30,
          47,
          16,
          353
         ],
         "y0": " ",
         "yaxis": "y"
        },
        {
         "alignmentgroup": "True",
         "hovertemplate": "State=%{x}<br>Location Count=%{y}<extra></extra>",
         "legendgroup": "WV",
         "marker": {
          "color": "#FECB52"
         },
         "name": "WV",
         "notched": false,
         "offsetgroup": "WV",
         "orientation": "v",
         "quartilemethod": "linear",
         "showlegend": true,
         "type": "box",
         "x": [
          "WV",
          "WV",
          "WV",
          "WV",
          "WV"
         ],
         "x0": " ",
         "xaxis": "x",
         "y": [
          13,
          5,
          7,
          14,
          107
         ],
         "y0": " ",
         "yaxis": "y"
        },
        {
         "alignmentgroup": "True",
         "hovertemplate": "State=%{x}<br>Location Count=%{y}<extra></extra>",
         "legendgroup": "WY",
         "marker": {
          "color": "#636efa"
         },
         "name": "WY",
         "notched": false,
         "offsetgroup": "WY",
         "orientation": "v",
         "quartilemethod": "linear",
         "showlegend": true,
         "type": "box",
         "x": [
          "WY",
          "WY"
         ],
         "x0": " ",
         "xaxis": "x",
         "y": [
          16,
          34
         ],
         "y0": " ",
         "yaxis": "y"
        }
       ],
       "layout": {
        "boxmode": "overlay",
        "legend": {
         "title": {
          "text": "State"
         },
         "tracegroupgap": 0
        },
        "margin": {
         "t": 60
        },
        "template": {
         "data": {
          "bar": [
           {
            "error_x": {
             "color": "#2a3f5f"
            },
            "error_y": {
             "color": "#2a3f5f"
            },
            "marker": {
             "line": {
              "color": "#E5ECF6",
              "width": 0.5
             },
             "pattern": {
              "fillmode": "overlay",
              "size": 10,
              "solidity": 0.2
             }
            },
            "type": "bar"
           }
          ],
          "barpolar": [
           {
            "marker": {
             "line": {
              "color": "#E5ECF6",
              "width": 0.5
             },
             "pattern": {
              "fillmode": "overlay",
              "size": 10,
              "solidity": 0.2
             }
            },
            "type": "barpolar"
           }
          ],
          "carpet": [
           {
            "aaxis": {
             "endlinecolor": "#2a3f5f",
             "gridcolor": "white",
             "linecolor": "white",
             "minorgridcolor": "white",
             "startlinecolor": "#2a3f5f"
            },
            "baxis": {
             "endlinecolor": "#2a3f5f",
             "gridcolor": "white",
             "linecolor": "white",
             "minorgridcolor": "white",
             "startlinecolor": "#2a3f5f"
            },
            "type": "carpet"
           }
          ],
          "choropleth": [
           {
            "colorbar": {
             "outlinewidth": 0,
             "ticks": ""
            },
            "type": "choropleth"
           }
          ],
          "contour": [
           {
            "colorbar": {
             "outlinewidth": 0,
             "ticks": ""
            },
            "colorscale": [
             [
              0,
              "#0d0887"
             ],
             [
              0.1111111111111111,
              "#46039f"
             ],
             [
              0.2222222222222222,
              "#7201a8"
             ],
             [
              0.3333333333333333,
              "#9c179e"
             ],
             [
              0.4444444444444444,
              "#bd3786"
             ],
             [
              0.5555555555555556,
              "#d8576b"
             ],
             [
              0.6666666666666666,
              "#ed7953"
             ],
             [
              0.7777777777777778,
              "#fb9f3a"
             ],
             [
              0.8888888888888888,
              "#fdca26"
             ],
             [
              1,
              "#f0f921"
             ]
            ],
            "type": "contour"
           }
          ],
          "contourcarpet": [
           {
            "colorbar": {
             "outlinewidth": 0,
             "ticks": ""
            },
            "type": "contourcarpet"
           }
          ],
          "heatmap": [
           {
            "colorbar": {
             "outlinewidth": 0,
             "ticks": ""
            },
            "colorscale": [
             [
              0,
              "#0d0887"
             ],
             [
              0.1111111111111111,
              "#46039f"
             ],
             [
              0.2222222222222222,
              "#7201a8"
             ],
             [
              0.3333333333333333,
              "#9c179e"
             ],
             [
              0.4444444444444444,
              "#bd3786"
             ],
             [
              0.5555555555555556,
              "#d8576b"
             ],
             [
              0.6666666666666666,
              "#ed7953"
             ],
             [
              0.7777777777777778,
              "#fb9f3a"
             ],
             [
              0.8888888888888888,
              "#fdca26"
             ],
             [
              1,
              "#f0f921"
             ]
            ],
            "type": "heatmap"
           }
          ],
          "heatmapgl": [
           {
            "colorbar": {
             "outlinewidth": 0,
             "ticks": ""
            },
            "colorscale": [
             [
              0,
              "#0d0887"
             ],
             [
              0.1111111111111111,
              "#46039f"
             ],
             [
              0.2222222222222222,
              "#7201a8"
             ],
             [
              0.3333333333333333,
              "#9c179e"
             ],
             [
              0.4444444444444444,
              "#bd3786"
             ],
             [
              0.5555555555555556,
              "#d8576b"
             ],
             [
              0.6666666666666666,
              "#ed7953"
             ],
             [
              0.7777777777777778,
              "#fb9f3a"
             ],
             [
              0.8888888888888888,
              "#fdca26"
             ],
             [
              1,
              "#f0f921"
             ]
            ],
            "type": "heatmapgl"
           }
          ],
          "histogram": [
           {
            "marker": {
             "pattern": {
              "fillmode": "overlay",
              "size": 10,
              "solidity": 0.2
             }
            },
            "type": "histogram"
           }
          ],
          "histogram2d": [
           {
            "colorbar": {
             "outlinewidth": 0,
             "ticks": ""
            },
            "colorscale": [
             [
              0,
              "#0d0887"
             ],
             [
              0.1111111111111111,
              "#46039f"
             ],
             [
              0.2222222222222222,
              "#7201a8"
             ],
             [
              0.3333333333333333,
              "#9c179e"
             ],
             [
              0.4444444444444444,
              "#bd3786"
             ],
             [
              0.5555555555555556,
              "#d8576b"
             ],
             [
              0.6666666666666666,
              "#ed7953"
             ],
             [
              0.7777777777777778,
              "#fb9f3a"
             ],
             [
              0.8888888888888888,
              "#fdca26"
             ],
             [
              1,
              "#f0f921"
             ]
            ],
            "type": "histogram2d"
           }
          ],
          "histogram2dcontour": [
           {
            "colorbar": {
             "outlinewidth": 0,
             "ticks": ""
            },
            "colorscale": [
             [
              0,
              "#0d0887"
             ],
             [
              0.1111111111111111,
              "#46039f"
             ],
             [
              0.2222222222222222,
              "#7201a8"
             ],
             [
              0.3333333333333333,
              "#9c179e"
             ],
             [
              0.4444444444444444,
              "#bd3786"
             ],
             [
              0.5555555555555556,
              "#d8576b"
             ],
             [
              0.6666666666666666,
              "#ed7953"
             ],
             [
              0.7777777777777778,
              "#fb9f3a"
             ],
             [
              0.8888888888888888,
              "#fdca26"
             ],
             [
              1,
              "#f0f921"
             ]
            ],
            "type": "histogram2dcontour"
           }
          ],
          "mesh3d": [
           {
            "colorbar": {
             "outlinewidth": 0,
             "ticks": ""
            },
            "type": "mesh3d"
           }
          ],
          "parcoords": [
           {
            "line": {
             "colorbar": {
              "outlinewidth": 0,
              "ticks": ""
             }
            },
            "type": "parcoords"
           }
          ],
          "pie": [
           {
            "automargin": true,
            "type": "pie"
           }
          ],
          "scatter": [
           {
            "fillpattern": {
             "fillmode": "overlay",
             "size": 10,
             "solidity": 0.2
            },
            "type": "scatter"
           }
          ],
          "scatter3d": [
           {
            "line": {
             "colorbar": {
              "outlinewidth": 0,
              "ticks": ""
             }
            },
            "marker": {
             "colorbar": {
              "outlinewidth": 0,
              "ticks": ""
             }
            },
            "type": "scatter3d"
           }
          ],
          "scattercarpet": [
           {
            "marker": {
             "colorbar": {
              "outlinewidth": 0,
              "ticks": ""
             }
            },
            "type": "scattercarpet"
           }
          ],
          "scattergeo": [
           {
            "marker": {
             "colorbar": {
              "outlinewidth": 0,
              "ticks": ""
             }
            },
            "type": "scattergeo"
           }
          ],
          "scattergl": [
           {
            "marker": {
             "colorbar": {
              "outlinewidth": 0,
              "ticks": ""
             }
            },
            "type": "scattergl"
           }
          ],
          "scattermapbox": [
           {
            "marker": {
             "colorbar": {
              "outlinewidth": 0,
              "ticks": ""
             }
            },
            "type": "scattermapbox"
           }
          ],
          "scatterpolar": [
           {
            "marker": {
             "colorbar": {
              "outlinewidth": 0,
              "ticks": ""
             }
            },
            "type": "scatterpolar"
           }
          ],
          "scatterpolargl": [
           {
            "marker": {
             "colorbar": {
              "outlinewidth": 0,
              "ticks": ""
             }
            },
            "type": "scatterpolargl"
           }
          ],
          "scatterternary": [
           {
            "marker": {
             "colorbar": {
              "outlinewidth": 0,
              "ticks": ""
             }
            },
            "type": "scatterternary"
           }
          ],
          "surface": [
           {
            "colorbar": {
             "outlinewidth": 0,
             "ticks": ""
            },
            "colorscale": [
             [
              0,
              "#0d0887"
             ],
             [
              0.1111111111111111,
              "#46039f"
             ],
             [
              0.2222222222222222,
              "#7201a8"
             ],
             [
              0.3333333333333333,
              "#9c179e"
             ],
             [
              0.4444444444444444,
              "#bd3786"
             ],
             [
              0.5555555555555556,
              "#d8576b"
             ],
             [
              0.6666666666666666,
              "#ed7953"
             ],
             [
              0.7777777777777778,
              "#fb9f3a"
             ],
             [
              0.8888888888888888,
              "#fdca26"
             ],
             [
              1,
              "#f0f921"
             ]
            ],
            "type": "surface"
           }
          ],
          "table": [
           {
            "cells": {
             "fill": {
              "color": "#EBF0F8"
             },
             "line": {
              "color": "white"
             }
            },
            "header": {
             "fill": {
              "color": "#C8D4E3"
             },
             "line": {
              "color": "white"
             }
            },
            "type": "table"
           }
          ]
         },
         "layout": {
          "annotationdefaults": {
           "arrowcolor": "#2a3f5f",
           "arrowhead": 0,
           "arrowwidth": 1
          },
          "autotypenumbers": "strict",
          "coloraxis": {
           "colorbar": {
            "outlinewidth": 0,
            "ticks": ""
           }
          },
          "colorscale": {
           "diverging": [
            [
             0,
             "#8e0152"
            ],
            [
             0.1,
             "#c51b7d"
            ],
            [
             0.2,
             "#de77ae"
            ],
            [
             0.3,
             "#f1b6da"
            ],
            [
             0.4,
             "#fde0ef"
            ],
            [
             0.5,
             "#f7f7f7"
            ],
            [
             0.6,
             "#e6f5d0"
            ],
            [
             0.7,
             "#b8e186"
            ],
            [
             0.8,
             "#7fbc41"
            ],
            [
             0.9,
             "#4d9221"
            ],
            [
             1,
             "#276419"
            ]
           ],
           "sequential": [
            [
             0,
             "#0d0887"
            ],
            [
             0.1111111111111111,
             "#46039f"
            ],
            [
             0.2222222222222222,
             "#7201a8"
            ],
            [
             0.3333333333333333,
             "#9c179e"
            ],
            [
             0.4444444444444444,
             "#bd3786"
            ],
            [
             0.5555555555555556,
             "#d8576b"
            ],
            [
             0.6666666666666666,
             "#ed7953"
            ],
            [
             0.7777777777777778,
             "#fb9f3a"
            ],
            [
             0.8888888888888888,
             "#fdca26"
            ],
            [
             1,
             "#f0f921"
            ]
           ],
           "sequentialminus": [
            [
             0,
             "#0d0887"
            ],
            [
             0.1111111111111111,
             "#46039f"
            ],
            [
             0.2222222222222222,
             "#7201a8"
            ],
            [
             0.3333333333333333,
             "#9c179e"
            ],
            [
             0.4444444444444444,
             "#bd3786"
            ],
            [
             0.5555555555555556,
             "#d8576b"
            ],
            [
             0.6666666666666666,
             "#ed7953"
            ],
            [
             0.7777777777777778,
             "#fb9f3a"
            ],
            [
             0.8888888888888888,
             "#fdca26"
            ],
            [
             1,
             "#f0f921"
            ]
           ]
          },
          "colorway": [
           "#636efa",
           "#EF553B",
           "#00cc96",
           "#ab63fa",
           "#FFA15A",
           "#19d3f3",
           "#FF6692",
           "#B6E880",
           "#FF97FF",
           "#FECB52"
          ],
          "font": {
           "color": "#2a3f5f"
          },
          "geo": {
           "bgcolor": "white",
           "lakecolor": "white",
           "landcolor": "#E5ECF6",
           "showlakes": true,
           "showland": true,
           "subunitcolor": "white"
          },
          "hoverlabel": {
           "align": "left"
          },
          "hovermode": "closest",
          "mapbox": {
           "style": "light"
          },
          "paper_bgcolor": "white",
          "plot_bgcolor": "#E5ECF6",
          "polar": {
           "angularaxis": {
            "gridcolor": "white",
            "linecolor": "white",
            "ticks": ""
           },
           "bgcolor": "#E5ECF6",
           "radialaxis": {
            "gridcolor": "white",
            "linecolor": "white",
            "ticks": ""
           }
          },
          "scene": {
           "xaxis": {
            "backgroundcolor": "#E5ECF6",
            "gridcolor": "white",
            "gridwidth": 2,
            "linecolor": "white",
            "showbackground": true,
            "ticks": "",
            "zerolinecolor": "white"
           },
           "yaxis": {
            "backgroundcolor": "#E5ECF6",
            "gridcolor": "white",
            "gridwidth": 2,
            "linecolor": "white",
            "showbackground": true,
            "ticks": "",
            "zerolinecolor": "white"
           },
           "zaxis": {
            "backgroundcolor": "#E5ECF6",
            "gridcolor": "white",
            "gridwidth": 2,
            "linecolor": "white",
            "showbackground": true,
            "ticks": "",
            "zerolinecolor": "white"
           }
          },
          "shapedefaults": {
           "line": {
            "color": "#2a3f5f"
           }
          },
          "ternary": {
           "aaxis": {
            "gridcolor": "white",
            "linecolor": "white",
            "ticks": ""
           },
           "baxis": {
            "gridcolor": "white",
            "linecolor": "white",
            "ticks": ""
           },
           "bgcolor": "#E5ECF6",
           "caxis": {
            "gridcolor": "white",
            "linecolor": "white",
            "ticks": ""
           }
          },
          "title": {
           "x": 0.05
          },
          "xaxis": {
           "automargin": true,
           "gridcolor": "white",
           "linecolor": "white",
           "ticks": "",
           "title": {
            "standoff": 15
           },
           "zerolinecolor": "white",
           "zerolinewidth": 2
          },
          "yaxis": {
           "automargin": true,
           "gridcolor": "white",
           "linecolor": "white",
           "ticks": "",
           "title": {
            "standoff": 15
           },
           "zerolinecolor": "white",
           "zerolinewidth": 2
          }
         }
        },
        "xaxis": {
         "anchor": "y",
         "categoryarray": [
          "AK",
          "AL",
          "AR",
          "AZ",
          "CA",
          "CO",
          "CT",
          "DC",
          "DE",
          "FL",
          "GA",
          "HI",
          "IA",
          "ID",
          "IL",
          "IN",
          "KS",
          "KY",
          "LA",
          "MA",
          "MD",
          "ME",
          "MI",
          "MN",
          "MO",
          "MS",
          "MT",
          "NC",
          "ND",
          "NE",
          "NH",
          "NJ",
          "NM",
          "NV",
          "NY",
          "OH",
          "OK",
          "OR",
          "PA",
          "RI",
          "SC",
          "SD",
          "TN",
          "TX",
          "UT",
          "VA",
          "VT",
          "WA",
          "WI",
          "WV",
          "WY"
         ],
         "categoryorder": "array",
         "domain": [
          0,
          1
         ],
         "title": {
          "text": "State"
         }
        },
        "yaxis": {
         "anchor": "x",
         "domain": [
          0,
          1
         ],
         "title": {
          "text": "Location Count"
         }
        }
       }
      },
      "text/html": [
       "<div>                            <div id=\"66c6104a-14da-48d7-9883-e22ec79930ec\" class=\"plotly-graph-div\" style=\"height:525px; width:100%;\"></div>            <script type=\"text/javascript\">                require([\"plotly\"], function(Plotly) {                    window.PLOTLYENV=window.PLOTLYENV || {};                                    if (document.getElementById(\"66c6104a-14da-48d7-9883-e22ec79930ec\")) {                    Plotly.newPlot(                        \"66c6104a-14da-48d7-9883-e22ec79930ec\",                        [{\"alignmentgroup\":\"True\",\"hovertemplate\":\"State=%{x}<br>Location Count=%{y}<extra></extra>\",\"legendgroup\":\"AK\",\"marker\":{\"color\":\"#636efa\"},\"name\":\"AK\",\"notched\":false,\"offsetgroup\":\"AK\",\"orientation\":\"v\",\"showlegend\":true,\"x\":[\"AK\",\"AK\",\"AK\",\"AK\"],\"x0\":\" \",\"xaxis\":\"x\",\"y\":[24,24,33,33],\"y0\":\" \",\"yaxis\":\"y\",\"type\":\"box\",\"quartilemethod\":\"linear\"},{\"alignmentgroup\":\"True\",\"hovertemplate\":\"State=%{x}<br>Location Count=%{y}<extra></extra>\",\"legendgroup\":\"AL\",\"marker\":{\"color\":\"#EF553B\"},\"name\":\"AL\",\"notched\":false,\"offsetgroup\":\"AL\",\"orientation\":\"v\",\"showlegend\":true,\"x\":[\"AL\",\"AL\",\"AL\",\"AL\"],\"x0\":\" \",\"xaxis\":\"x\",\"y\":[73,1,20,279],\"y0\":\" \",\"yaxis\":\"y\",\"type\":\"box\",\"quartilemethod\":\"linear\"},{\"alignmentgroup\":\"True\",\"hovertemplate\":\"State=%{x}<br>Location Count=%{y}<extra></extra>\",\"legendgroup\":\"AR\",\"marker\":{\"color\":\"#00cc96\"},\"name\":\"AR\",\"notched\":false,\"offsetgroup\":\"AR\",\"orientation\":\"v\",\"showlegend\":true,\"x\":[\"AR\",\"AR\",\"AR\",\"AR\"],\"x0\":\" \",\"xaxis\":\"x\",\"y\":[33,11,13,190],\"y0\":\" \",\"yaxis\":\"y\",\"type\":\"box\",\"quartilemethod\":\"linear\"},{\"alignmentgroup\":\"True\",\"hovertemplate\":\"State=%{x}<br>Location Count=%{y}<extra></extra>\",\"legendgroup\":\"AZ\",\"marker\":{\"color\":\"#ab63fa\"},\"name\":\"AZ\",\"notched\":false,\"offsetgroup\":\"AZ\",\"orientation\":\"v\",\"showlegend\":true,\"x\":[\"AZ\",\"AZ\",\"AZ\",\"AZ\",\"AZ\"],\"x0\":\" \",\"xaxis\":\"x\",\"y\":[279,74,29,19,326],\"y0\":\" \",\"yaxis\":\"y\",\"type\":\"box\",\"quartilemethod\":\"linear\"},{\"alignmentgroup\":\"True\",\"hovertemplate\":\"State=%{x}<br>Location Count=%{y}<extra></extra>\",\"legendgroup\":\"CA\",\"marker\":{\"color\":\"#FFA15A\"},\"name\":\"CA\",\"notched\":false,\"offsetgroup\":\"CA\",\"orientation\":\"v\",\"showlegend\":true,\"x\":[\"CA\",\"CA\",\"CA\",\"CA\",\"CA\",\"CA\"],\"x0\":\" \",\"xaxis\":\"x\",\"y\":[2362,46,163,216,175,1623],\"y0\":\" \",\"yaxis\":\"y\",\"type\":\"box\",\"quartilemethod\":\"linear\"},{\"alignmentgroup\":\"True\",\"hovertemplate\":\"State=%{x}<br>Location Count=%{y}<extra></extra>\",\"legendgroup\":\"CO\",\"marker\":{\"color\":\"#19d3f3\"},\"name\":\"CO\",\"notched\":false,\"offsetgroup\":\"CO\",\"orientation\":\"v\",\"showlegend\":true,\"x\":[\"CO\",\"CO\",\"CO\",\"CO\",\"CO\",\"CO\"],\"x0\":\" \",\"xaxis\":\"x\",\"y\":[371,5,3,32,9,237],\"y0\":\" \",\"yaxis\":\"y\",\"type\":\"box\",\"quartilemethod\":\"linear\"},{\"alignmentgroup\":\"True\",\"hovertemplate\":\"State=%{x}<br>Location Count=%{y}<extra></extra>\",\"legendgroup\":\"CT\",\"marker\":{\"color\":\"#FF6692\"},\"name\":\"CT\",\"notched\":false,\"offsetgroup\":\"CT\",\"orientation\":\"v\",\"showlegend\":true,\"x\":[\"CT\",\"CT\",\"CT\",\"CT\",\"CT\",\"CT\"],\"x0\":\" \",\"xaxis\":\"x\",\"y\":[107,406,10,41,8,173],\"y0\":\" \",\"yaxis\":\"y\",\"type\":\"box\",\"quartilemethod\":\"linear\"},{\"alignmentgroup\":\"True\",\"hovertemplate\":\"State=%{x}<br>Location Count=%{y}<extra></extra>\",\"legendgroup\":\"DC\",\"marker\":{\"color\":\"#B6E880\"},\"name\":\"DC\",\"notched\":false,\"offsetgroup\":\"DC\",\"orientation\":\"v\",\"showlegend\":true,\"x\":[\"DC\",\"DC\",\"DC\",\"DC\",\"DC\",\"DC\"],\"x0\":\" \",\"xaxis\":\"x\",\"y\":[72,15,4,8,21,37],\"y0\":\" \",\"yaxis\":\"y\",\"type\":\"box\",\"quartilemethod\":\"linear\"},{\"alignmentgroup\":\"True\",\"hovertemplate\":\"State=%{x}<br>Location Count=%{y}<extra></extra>\",\"legendgroup\":\"DE\",\"marker\":{\"color\":\"#FF97FF\"},\"name\":\"DE\",\"notched\":false,\"offsetgroup\":\"DE\",\"orientation\":\"v\",\"showlegend\":true,\"x\":[\"DE\",\"DE\",\"DE\",\"DE\",\"DE\"],\"x0\":\" \",\"xaxis\":\"x\",\"y\":[20,57,1,9,46],\"y0\":\" \",\"yaxis\":\"y\",\"type\":\"box\",\"quartilemethod\":\"linear\"},{\"alignmentgroup\":\"True\",\"hovertemplate\":\"State=%{x}<br>Location Count=%{y}<extra></extra>\",\"legendgroup\":\"FL\",\"marker\":{\"color\":\"#FECB52\"},\"name\":\"FL\",\"notched\":false,\"offsetgroup\":\"FL\",\"orientation\":\"v\",\"showlegend\":true,\"x\":[\"FL\",\"FL\",\"FL\",\"FL\",\"FL\",\"FL\"],\"x0\":\" \",\"xaxis\":\"x\",\"y\":[616,654,227,23,1,1142],\"y0\":\" \",\"yaxis\":\"y\",\"type\":\"box\",\"quartilemethod\":\"linear\"},{\"alignmentgroup\":\"True\",\"hovertemplate\":\"State=%{x}<br>Location Count=%{y}<extra></extra>\",\"legendgroup\":\"GA\",\"marker\":{\"color\":\"#636efa\"},\"name\":\"GA\",\"notched\":false,\"offsetgroup\":\"GA\",\"orientation\":\"v\",\"showlegend\":true,\"x\":[\"GA\",\"GA\",\"GA\",\"GA\",\"GA\",\"GA\",\"GA\"],\"x0\":\" \",\"xaxis\":\"x\",\"y\":[248,147,71,25,3,2,563],\"y0\":\" \",\"yaxis\":\"y\",\"type\":\"box\",\"quartilemethod\":\"linear\"},{\"alignmentgroup\":\"True\",\"hovertemplate\":\"State=%{x}<br>Location Count=%{y}<extra></extra>\",\"legendgroup\":\"HI\",\"marker\":{\"color\":\"#EF553B\"},\"name\":\"HI\",\"notched\":false,\"offsetgroup\":\"HI\",\"orientation\":\"v\",\"showlegend\":true,\"x\":[\"HI\",\"HI\",\"HI\",\"HI\",\"HI\",\"HI\",\"HI\",\"HI\",\"HI\",\"HI\"],\"x0\":\" \",\"xaxis\":\"x\",\"y\":[72,72,1,1,1,1,22,22,74,74],\"y0\":\" \",\"yaxis\":\"y\",\"type\":\"box\",\"quartilemethod\":\"linear\"},{\"alignmentgroup\":\"True\",\"hovertemplate\":\"State=%{x}<br>Location Count=%{y}<extra></extra>\",\"legendgroup\":\"IA\",\"marker\":{\"color\":\"#00cc96\"},\"name\":\"IA\",\"notched\":false,\"offsetgroup\":\"IA\",\"orientation\":\"v\",\"showlegend\":true,\"x\":[\"IA\",\"IA\",\"IA\",\"IA\",\"IA\"],\"x0\":\" \",\"xaxis\":\"x\",\"y\":[49,14,27,11,181],\"y0\":\" \",\"yaxis\":\"y\",\"type\":\"box\",\"quartilemethod\":\"linear\"},{\"alignmentgroup\":\"True\",\"hovertemplate\":\"State=%{x}<br>Location Count=%{y}<extra></extra>\",\"legendgroup\":\"ID\",\"marker\":{\"color\":\"#ab63fa\"},\"name\":\"ID\",\"notched\":false,\"offsetgroup\":\"ID\",\"orientation\":\"v\",\"showlegend\":true,\"x\":[\"ID\",\"ID\",\"ID\"],\"x0\":\" \",\"xaxis\":\"x\",\"y\":[57,7,71],\"y0\":\" \",\"yaxis\":\"y\",\"type\":\"box\",\"quartilemethod\":\"linear\"},{\"alignmentgroup\":\"True\",\"hovertemplate\":\"State=%{x}<br>Location Count=%{y}<extra></extra>\",\"legendgroup\":\"IL\",\"marker\":{\"color\":\"#FFA15A\"},\"name\":\"IL\",\"notched\":false,\"offsetgroup\":\"IL\",\"orientation\":\"v\",\"showlegend\":true,\"x\":[\"IL\",\"IL\",\"IL\",\"IL\",\"IL\",\"IL\",\"IL\"],\"x0\":\" \",\"xaxis\":\"x\",\"y\":[455,579,3,154,81,32,791],\"y0\":\" \",\"yaxis\":\"y\",\"type\":\"box\",\"quartilemethod\":\"linear\"},{\"alignmentgroup\":\"True\",\"hovertemplate\":\"State=%{x}<br>Location Count=%{y}<extra></extra>\",\"legendgroup\":\"IN\",\"marker\":{\"color\":\"#19d3f3\"},\"name\":\"IN\",\"notched\":false,\"offsetgroup\":\"IN\",\"orientation\":\"v\",\"showlegend\":true,\"x\":[\"IN\",\"IN\",\"IN\",\"IN\",\"IN\",\"IN\",\"IN\"],\"x0\":\" \",\"xaxis\":\"x\",\"y\":[193,51,5,53,1,8,406],\"y0\":\" \",\"yaxis\":\"y\",\"type\":\"box\",\"quartilemethod\":\"linear\"},{\"alignmentgroup\":\"True\",\"hovertemplate\":\"State=%{x}<br>Location Count=%{y}<extra></extra>\",\"legendgroup\":\"KS\",\"marker\":{\"color\":\"#FF6692\"},\"name\":\"KS\",\"notched\":false,\"offsetgroup\":\"KS\",\"orientation\":\"v\",\"showlegend\":true,\"x\":[\"KS\",\"KS\",\"KS\",\"KS\",\"KS\"],\"x0\":\" \",\"xaxis\":\"x\",\"y\":[65,12,27,5,188],\"y0\":\" \",\"yaxis\":\"y\",\"type\":\"box\",\"quartilemethod\":\"linear\"},{\"alignmentgroup\":\"True\",\"hovertemplate\":\"State=%{x}<br>Location Count=%{y}<extra></extra>\",\"legendgroup\":\"KY\",\"marker\":{\"color\":\"#B6E880\"},\"name\":\"KY\",\"notched\":false,\"offsetgroup\":\"KY\",\"orientation\":\"v\",\"showlegend\":true,\"x\":[\"KY\",\"KY\",\"KY\",\"KY\",\"KY\",\"KY\"],\"x0\":\" \",\"xaxis\":\"x\",\"y\":[69,34,3,30,1,283],\"y0\":\" \",\"yaxis\":\"y\",\"type\":\"box\",\"quartilemethod\":\"linear\"},{\"alignmentgroup\":\"True\",\"hovertemplate\":\"State=%{x}<br>Location Count=%{y}<extra></extra>\",\"legendgroup\":\"LA\",\"marker\":{\"color\":\"#FF97FF\"},\"name\":\"LA\",\"notched\":false,\"offsetgroup\":\"LA\",\"orientation\":\"v\",\"showlegend\":true,\"x\":[\"LA\",\"LA\",\"LA\",\"LA\"],\"x0\":\" \",\"xaxis\":\"x\",\"y\":[76,5,1,291],\"y0\":\" \",\"yaxis\":\"y\",\"type\":\"box\",\"quartilemethod\":\"linear\"},{\"alignmentgroup\":\"True\",\"hovertemplate\":\"State=%{x}<br>Location Count=%{y}<extra></extra>\",\"legendgroup\":\"MA\",\"marker\":{\"color\":\"#FECB52\"},\"name\":\"MA\",\"notched\":false,\"offsetgroup\":\"MA\",\"orientation\":\"v\",\"showlegend\":true,\"x\":[\"MA\",\"MA\",\"MA\",\"MA\",\"MA\",\"MA\",\"MA\"],\"x0\":\" \",\"xaxis\":\"x\",\"y\":[208,1101,7,5,77,67,306],\"y0\":\" \",\"yaxis\":\"y\",\"type\":\"box\",\"quartilemethod\":\"linear\"},{\"alignmentgroup\":\"True\",\"hovertemplate\":\"State=%{x}<br>Location Count=%{y}<extra></extra>\",\"legendgroup\":\"MD\",\"marker\":{\"color\":\"#636efa\"},\"name\":\"MD\",\"notched\":false,\"offsetgroup\":\"MD\",\"orientation\":\"v\",\"showlegend\":true,\"x\":[\"MD\",\"MD\",\"MD\",\"MD\",\"MD\",\"MD\"],\"x0\":\" \",\"xaxis\":\"x\",\"y\":[212,201,69,9,9,402],\"y0\":\" \",\"yaxis\":\"y\",\"type\":\"box\",\"quartilemethod\":\"linear\"},{\"alignmentgroup\":\"True\",\"hovertemplate\":\"State=%{x}<br>Location Count=%{y}<extra></extra>\",\"legendgroup\":\"ME\",\"marker\":{\"color\":\"#EF553B\"},\"name\":\"ME\",\"notched\":false,\"offsetgroup\":\"ME\",\"orientation\":\"v\",\"showlegend\":true,\"x\":[\"ME\",\"ME\",\"ME\",\"ME\",\"ME\",\"ME\"],\"x0\":\" \",\"xaxis\":\"x\",\"y\":[22,102,27,5,1,72],\"y0\":\" \",\"yaxis\":\"y\",\"type\":\"box\",\"quartilemethod\":\"linear\"},{\"alignmentgroup\":\"True\",\"hovertemplate\":\"State=%{x}<br>Location Count=%{y}<extra></extra>\",\"legendgroup\":\"MI\",\"marker\":{\"color\":\"#00cc96\"},\"name\":\"MI\",\"notched\":false,\"offsetgroup\":\"MI\",\"orientation\":\"v\",\"showlegend\":true,\"x\":[\"MI\",\"MI\",\"MI\",\"MI\",\"MI\",\"MI\",\"MI\"],\"x0\":\" \",\"xaxis\":\"x\",\"y\":[196,91,191,108,30,6,662],\"y0\":\" \",\"yaxis\":\"y\",\"type\":\"box\",\"quartilemethod\":\"linear\"},{\"alignmentgroup\":\"True\",\"hovertemplate\":\"State=%{x}<br>Location Count=%{y}<extra></extra>\",\"legendgroup\":\"MN\",\"marker\":{\"color\":\"#ab63fa\"},\"name\":\"MN\",\"notched\":false,\"offsetgroup\":\"MN\",\"orientation\":\"v\",\"showlegend\":true,\"x\":[\"MN\",\"MN\",\"MN\",\"MN\",\"MN\",\"MN\",\"MN\"],\"x0\":\" \",\"xaxis\":\"x\",\"y\":[140,6,7,52,312,5,305],\"y0\":\" \",\"yaxis\":\"y\",\"type\":\"box\",\"quartilemethod\":\"linear\"},{\"alignmentgroup\":\"True\",\"hovertemplate\":\"State=%{x}<br>Location Count=%{y}<extra></extra>\",\"legendgroup\":\"MO\",\"marker\":{\"color\":\"#FFA15A\"},\"name\":\"MO\",\"notched\":false,\"offsetgroup\":\"MO\",\"orientation\":\"v\",\"showlegend\":true,\"x\":[\"MO\",\"MO\",\"MO\",\"MO\",\"MO\",\"MO\",\"MO\"],\"x0\":\" \",\"xaxis\":\"x\",\"y\":[118,21,1,91,2,3,396],\"y0\":\" \",\"yaxis\":\"y\",\"type\":\"box\",\"quartilemethod\":\"linear\"},{\"alignmentgroup\":\"True\",\"hovertemplate\":\"State=%{x}<br>Location Count=%{y}<extra></extra>\",\"legendgroup\":\"MS\",\"marker\":{\"color\":\"#19d3f3\"},\"name\":\"MS\",\"notched\":false,\"offsetgroup\":\"MS\",\"orientation\":\"v\",\"showlegend\":true,\"x\":[\"MS\",\"MS\",\"MS\",\"MS\"],\"x0\":\" \",\"xaxis\":\"x\",\"y\":[23,3,4,165],\"y0\":\" \",\"yaxis\":\"y\",\"type\":\"box\",\"quartilemethod\":\"linear\"},{\"alignmentgroup\":\"True\",\"hovertemplate\":\"State=%{x}<br>Location Count=%{y}<extra></extra>\",\"legendgroup\":\"MT\",\"marker\":{\"color\":\"#FF6692\"},\"name\":\"MT\",\"notched\":false,\"offsetgroup\":\"MT\",\"orientation\":\"v\",\"showlegend\":true,\"x\":[\"MT\",\"MT\"],\"x0\":\" \",\"xaxis\":\"x\",\"y\":[17,58],\"y0\":\" \",\"yaxis\":\"y\",\"type\":\"box\",\"quartilemethod\":\"linear\"},{\"alignmentgroup\":\"True\",\"hovertemplate\":\"State=%{x}<br>Location Count=%{y}<extra></extra>\",\"legendgroup\":\"NC\",\"marker\":{\"color\":\"#B6E880\"},\"name\":\"NC\",\"notched\":false,\"offsetgroup\":\"NC\",\"orientation\":\"v\",\"showlegend\":true,\"x\":[\"NC\",\"NC\",\"NC\",\"NC\",\"NC\",\"NC\"],\"x0\":\" \",\"xaxis\":\"x\",\"y\":[181,63,52,26,1,475],\"y0\":\" \",\"yaxis\":\"y\",\"type\":\"box\",\"quartilemethod\":\"linear\"},{\"alignmentgroup\":\"True\",\"hovertemplate\":\"State=%{x}<br>Location Count=%{y}<extra></extra>\",\"legendgroup\":\"ND\",\"marker\":{\"color\":\"#FF97FF\"},\"name\":\"ND\",\"notched\":false,\"offsetgroup\":\"ND\",\"orientation\":\"v\",\"showlegend\":true,\"x\":[\"ND\",\"ND\",\"ND\",\"ND\"],\"x0\":\" \",\"xaxis\":\"x\",\"y\":[15,2,7,29],\"y0\":\" \",\"yaxis\":\"y\",\"type\":\"box\",\"quartilemethod\":\"linear\"},{\"alignmentgroup\":\"True\",\"hovertemplate\":\"State=%{x}<br>Location Count=%{y}<extra></extra>\",\"legendgroup\":\"NE\",\"marker\":{\"color\":\"#FECB52\"},\"name\":\"NE\",\"notched\":false,\"offsetgroup\":\"NE\",\"orientation\":\"v\",\"showlegend\":true,\"x\":[\"NE\",\"NE\",\"NE\",\"NE\",\"NE\"],\"x0\":\" \",\"xaxis\":\"x\",\"y\":[30,9,15,5,90],\"y0\":\" \",\"yaxis\":\"y\",\"type\":\"box\",\"quartilemethod\":\"linear\"},{\"alignmentgroup\":\"True\",\"hovertemplate\":\"State=%{x}<br>Location Count=%{y}<extra></extra>\",\"legendgroup\":\"NH\",\"marker\":{\"color\":\"#636efa\"},\"name\":\"NH\",\"notched\":false,\"offsetgroup\":\"NH\",\"orientation\":\"v\",\"showlegend\":true,\"x\":[\"NH\",\"NH\",\"NH\",\"NH\",\"NH\"],\"x0\":\" \",\"xaxis\":\"x\",\"y\":[22,185,12,6,72],\"y0\":\" \",\"yaxis\":\"y\",\"type\":\"box\",\"quartilemethod\":\"linear\"},{\"alignmentgroup\":\"True\",\"hovertemplate\":\"State=%{x}<br>Location Count=%{y}<extra></extra>\",\"legendgroup\":\"NJ\",\"marker\":{\"color\":\"#EF553B\"},\"name\":\"NJ\",\"notched\":false,\"offsetgroup\":\"NJ\",\"orientation\":\"v\",\"showlegend\":true,\"x\":[\"NJ\",\"NJ\",\"NJ\",\"NJ\",\"NJ\",\"NJ\"],\"x0\":\" \",\"xaxis\":\"x\",\"y\":[154,477,2,98,10,335],\"y0\":\" \",\"yaxis\":\"y\",\"type\":\"box\",\"quartilemethod\":\"linear\"},{\"alignmentgroup\":\"True\",\"hovertemplate\":\"State=%{x}<br>Location Count=%{y}<extra></extra>\",\"legendgroup\":\"NM\",\"marker\":{\"color\":\"#00cc96\"},\"name\":\"NM\",\"notched\":false,\"offsetgroup\":\"NM\",\"orientation\":\"v\",\"showlegend\":true,\"x\":[\"NM\",\"NM\",\"NM\",\"NM\"],\"x0\":\" \",\"xaxis\":\"x\",\"y\":[56,7,5,106],\"y0\":\" \",\"yaxis\":\"y\",\"type\":\"box\",\"quartilemethod\":\"linear\"},{\"alignmentgroup\":\"True\",\"hovertemplate\":\"State=%{x}<br>Location Count=%{y}<extra></extra>\",\"legendgroup\":\"NV\",\"marker\":{\"color\":\"#ab63fa\"},\"name\":\"NV\",\"notched\":false,\"offsetgroup\":\"NV\",\"orientation\":\"v\",\"showlegend\":true,\"x\":[\"NV\",\"NV\",\"NV\",\"NV\",\"NV\",\"NV\",\"NV\"],\"x0\":\" \",\"xaxis\":\"x\",\"y\":[188,26,1,6,1,23,169],\"y0\":\" \",\"yaxis\":\"y\",\"type\":\"box\",\"quartilemethod\":\"linear\"},{\"alignmentgroup\":\"True\",\"hovertemplate\":\"State=%{x}<br>Location Count=%{y}<extra></extra>\",\"legendgroup\":\"NY\",\"marker\":{\"color\":\"#FFA15A\"},\"name\":\"NY\",\"notched\":false,\"offsetgroup\":\"NY\",\"orientation\":\"v\",\"showlegend\":true,\"x\":[\"NY\",\"NY\",\"NY\",\"NY\",\"NY\",\"NY\"],\"x0\":\" \",\"xaxis\":\"x\",\"y\":[492,1022,100,138,58,811],\"y0\":\" \",\"yaxis\":\"y\",\"type\":\"box\",\"quartilemethod\":\"linear\"},{\"alignmentgroup\":\"True\",\"hovertemplate\":\"State=%{x}<br>Location Count=%{y}<extra></extra>\",\"legendgroup\":\"OH\",\"marker\":{\"color\":\"#19d3f3\"},\"name\":\"OH\",\"notched\":false,\"offsetgroup\":\"OH\",\"orientation\":\"v\",\"showlegend\":true,\"x\":[\"OH\",\"OH\",\"OH\",\"OH\",\"OH\",\"OH\",\"OH\"],\"x0\":\" \",\"xaxis\":\"x\",\"y\":[266,116,105,170,46,10,843],\"y0\":\" \",\"yaxis\":\"y\",\"type\":\"box\",\"quartilemethod\":\"linear\"},{\"alignmentgroup\":\"True\",\"hovertemplate\":\"State=%{x}<br>Location Count=%{y}<extra></extra>\",\"legendgroup\":\"OK\",\"marker\":{\"color\":\"#FF6692\"},\"name\":\"OK\",\"notched\":false,\"offsetgroup\":\"OK\",\"orientation\":\"v\",\"showlegend\":true,\"x\":[\"OK\",\"OK\",\"OK\",\"OK\"],\"x0\":\" \",\"xaxis\":\"x\",\"y\":[62,6,28,220],\"y0\":\" \",\"yaxis\":\"y\",\"type\":\"box\",\"quartilemethod\":\"linear\"},{\"alignmentgroup\":\"True\",\"hovertemplate\":\"State=%{x}<br>Location Count=%{y}<extra></extra>\",\"legendgroup\":\"OR\",\"marker\":{\"color\":\"#B6E880\"},\"name\":\"OR\",\"notched\":false,\"offsetgroup\":\"OR\",\"orientation\":\"v\",\"showlegend\":true,\"x\":[\"OR\",\"OR\",\"OR\",\"OR\",\"OR\",\"OR\"],\"x0\":\" \",\"xaxis\":\"x\",\"y\":[279,1,8,12,1,209],\"y0\":\" \",\"yaxis\":\"y\",\"type\":\"box\",\"quartilemethod\":\"linear\"},{\"alignmentgroup\":\"True\",\"hovertemplate\":\"State=%{x}<br>Location Count=%{y}<extra></extra>\",\"legendgroup\":\"PA\",\"marker\":{\"color\":\"#FF97FF\"},\"name\":\"PA\",\"notched\":false,\"offsetgroup\":\"PA\",\"orientation\":\"v\",\"showlegend\":true,\"x\":[\"PA\",\"PA\",\"PA\",\"PA\",\"PA\",\"PA\",\"PA\",\"PA\"],\"x0\":\" \",\"xaxis\":\"x\",\"y\":[279,402,1,9,112,6,28,603],\"y0\":\" \",\"yaxis\":\"y\",\"type\":\"box\",\"quartilemethod\":\"linear\"},{\"alignmentgroup\":\"True\",\"hovertemplate\":\"State=%{x}<br>Location Count=%{y}<extra></extra>\",\"legendgroup\":\"RI\",\"marker\":{\"color\":\"#FECB52\"},\"name\":\"RI\",\"notched\":false,\"offsetgroup\":\"RI\",\"orientation\":\"v\",\"showlegend\":true,\"x\":[\"RI\",\"RI\",\"RI\",\"RI\",\"RI\",\"RI\"],\"x0\":\" \",\"xaxis\":\"x\",\"y\":[21,142,26,9,6,45],\"y0\":\" \",\"yaxis\":\"y\",\"type\":\"box\",\"quartilemethod\":\"linear\"},{\"alignmentgroup\":\"True\",\"hovertemplate\":\"State=%{x}<br>Location Count=%{y}<extra></extra>\",\"legendgroup\":\"SC\",\"marker\":{\"color\":\"#636efa\"},\"name\":\"SC\",\"notched\":false,\"offsetgroup\":\"SC\",\"orientation\":\"v\",\"showlegend\":true,\"x\":[\"SC\",\"SC\",\"SC\",\"SC\"],\"x0\":\" \",\"xaxis\":\"x\",\"y\":[65,15,17,258],\"y0\":\" \",\"yaxis\":\"y\",\"type\":\"box\",\"quartilemethod\":\"linear\"},{\"alignmentgroup\":\"True\",\"hovertemplate\":\"State=%{x}<br>Location Count=%{y}<extra></extra>\",\"legendgroup\":\"SD\",\"marker\":{\"color\":\"#EF553B\"},\"name\":\"SD\",\"notched\":false,\"offsetgroup\":\"SD\",\"orientation\":\"v\",\"showlegend\":true,\"x\":[\"SD\",\"SD\",\"SD\",\"SD\"],\"x0\":\" \",\"xaxis\":\"x\",\"y\":[14,2,4,36],\"y0\":\" \",\"yaxis\":\"y\",\"type\":\"box\",\"quartilemethod\":\"linear\"},{\"alignmentgroup\":\"True\",\"hovertemplate\":\"State=%{x}<br>Location Count=%{y}<extra></extra>\",\"legendgroup\":\"TN\",\"marker\":{\"color\":\"#00cc96\"},\"name\":\"TN\",\"notched\":false,\"offsetgroup\":\"TN\",\"orientation\":\"v\",\"showlegend\":true,\"x\":[\"TN\",\"TN\",\"TN\",\"TN\"],\"x0\":\" \",\"xaxis\":\"x\",\"y\":[126,55,42,409],\"y0\":\" \",\"yaxis\":\"y\",\"type\":\"box\",\"quartilemethod\":\"linear\"},{\"alignmentgroup\":\"True\",\"hovertemplate\":\"State=%{x}<br>Location Count=%{y}<extra></extra>\",\"legendgroup\":\"TX\",\"marker\":{\"color\":\"#ab63fa\"},\"name\":\"TX\",\"notched\":false,\"offsetgroup\":\"TX\",\"orientation\":\"v\",\"showlegend\":true,\"x\":[\"TX\",\"TX\",\"TX\",\"TX\",\"TX\",\"TX\",\"TX\"],\"x0\":\" \",\"xaxis\":\"x\",\"y\":[720,93,3,110,16,5,1303],\"y0\":\" \",\"yaxis\":\"y\",\"type\":\"box\",\"quartilemethod\":\"linear\"},{\"alignmentgroup\":\"True\",\"hovertemplate\":\"State=%{x}<br>Location Count=%{y}<extra></extra>\",\"legendgroup\":\"UT\",\"marker\":{\"color\":\"#FFA15A\"},\"name\":\"UT\",\"notched\":false,\"offsetgroup\":\"UT\",\"orientation\":\"v\",\"showlegend\":true,\"x\":[\"UT\",\"UT\",\"UT\"],\"x0\":\" \",\"xaxis\":\"x\",\"y\":[59,7,145],\"y0\":\" \",\"yaxis\":\"y\",\"type\":\"box\",\"quartilemethod\":\"linear\"},{\"alignmentgroup\":\"True\",\"hovertemplate\":\"State=%{x}<br>Location Count=%{y}<extra></extra>\",\"legendgroup\":\"VA\",\"marker\":{\"color\":\"#19d3f3\"},\"name\":\"VA\",\"notched\":false,\"offsetgroup\":\"VA\",\"orientation\":\"v\",\"showlegend\":true,\"x\":[\"VA\",\"VA\",\"VA\",\"VA\",\"VA\",\"VA\",\"VA\"],\"x0\":\" \",\"xaxis\":\"x\",\"y\":[300,147,1,98,19,10,473],\"y0\":\" \",\"yaxis\":\"y\",\"type\":\"box\",\"quartilemethod\":\"linear\"},{\"alignmentgroup\":\"True\",\"hovertemplate\":\"State=%{x}<br>Location Count=%{y}<extra></extra>\",\"legendgroup\":\"VT\",\"marker\":{\"color\":\"#FF6692\"},\"name\":\"VT\",\"notched\":false,\"offsetgroup\":\"VT\",\"orientation\":\"v\",\"showlegend\":true,\"x\":[\"VT\",\"VT\",\"VT\",\"VT\"],\"x0\":\" \",\"xaxis\":\"x\",\"y\":[6,34,6,30],\"y0\":\" \",\"yaxis\":\"y\",\"type\":\"box\",\"quartilemethod\":\"linear\"},{\"alignmentgroup\":\"True\",\"hovertemplate\":\"State=%{x}<br>Location Count=%{y}<extra></extra>\",\"legendgroup\":\"WA\",\"marker\":{\"color\":\"#B6E880\"},\"name\":\"WA\",\"notched\":false,\"offsetgroup\":\"WA\",\"orientation\":\"v\",\"showlegend\":true,\"x\":[\"WA\",\"WA\",\"WA\",\"WA\",\"WA\"],\"x0\":\" \",\"xaxis\":\"x\",\"y\":[634,2,14,16,326],\"y0\":\" \",\"yaxis\":\"y\",\"type\":\"box\",\"quartilemethod\":\"linear\"},{\"alignmentgroup\":\"True\",\"hovertemplate\":\"State=%{x}<br>Location Count=%{y}<extra></extra>\",\"legendgroup\":\"WI\",\"marker\":{\"color\":\"#FF97FF\"},\"name\":\"WI\",\"notched\":false,\"offsetgroup\":\"WI\",\"orientation\":\"v\",\"showlegend\":true,\"x\":[\"WI\",\"WI\",\"WI\",\"WI\",\"WI\"],\"x0\":\" \",\"xaxis\":\"x\",\"y\":[119,30,47,16,353],\"y0\":\" \",\"yaxis\":\"y\",\"type\":\"box\",\"quartilemethod\":\"linear\"},{\"alignmentgroup\":\"True\",\"hovertemplate\":\"State=%{x}<br>Location Count=%{y}<extra></extra>\",\"legendgroup\":\"WV\",\"marker\":{\"color\":\"#FECB52\"},\"name\":\"WV\",\"notched\":false,\"offsetgroup\":\"WV\",\"orientation\":\"v\",\"showlegend\":true,\"x\":[\"WV\",\"WV\",\"WV\",\"WV\",\"WV\"],\"x0\":\" \",\"xaxis\":\"x\",\"y\":[13,5,7,14,107],\"y0\":\" \",\"yaxis\":\"y\",\"type\":\"box\",\"quartilemethod\":\"linear\"},{\"alignmentgroup\":\"True\",\"hovertemplate\":\"State=%{x}<br>Location Count=%{y}<extra></extra>\",\"legendgroup\":\"WY\",\"marker\":{\"color\":\"#636efa\"},\"name\":\"WY\",\"notched\":false,\"offsetgroup\":\"WY\",\"orientation\":\"v\",\"showlegend\":true,\"x\":[\"WY\",\"WY\"],\"x0\":\" \",\"xaxis\":\"x\",\"y\":[16,34],\"y0\":\" \",\"yaxis\":\"y\",\"type\":\"box\",\"quartilemethod\":\"linear\"}],                        {\"template\":{\"data\":{\"histogram2dcontour\":[{\"type\":\"histogram2dcontour\",\"colorbar\":{\"outlinewidth\":0,\"ticks\":\"\"},\"colorscale\":[[0.0,\"#0d0887\"],[0.1111111111111111,\"#46039f\"],[0.2222222222222222,\"#7201a8\"],[0.3333333333333333,\"#9c179e\"],[0.4444444444444444,\"#bd3786\"],[0.5555555555555556,\"#d8576b\"],[0.6666666666666666,\"#ed7953\"],[0.7777777777777778,\"#fb9f3a\"],[0.8888888888888888,\"#fdca26\"],[1.0,\"#f0f921\"]]}],\"choropleth\":[{\"type\":\"choropleth\",\"colorbar\":{\"outlinewidth\":0,\"ticks\":\"\"}}],\"histogram2d\":[{\"type\":\"histogram2d\",\"colorbar\":{\"outlinewidth\":0,\"ticks\":\"\"},\"colorscale\":[[0.0,\"#0d0887\"],[0.1111111111111111,\"#46039f\"],[0.2222222222222222,\"#7201a8\"],[0.3333333333333333,\"#9c179e\"],[0.4444444444444444,\"#bd3786\"],[0.5555555555555556,\"#d8576b\"],[0.6666666666666666,\"#ed7953\"],[0.7777777777777778,\"#fb9f3a\"],[0.8888888888888888,\"#fdca26\"],[1.0,\"#f0f921\"]]}],\"heatmap\":[{\"type\":\"heatmap\",\"colorbar\":{\"outlinewidth\":0,\"ticks\":\"\"},\"colorscale\":[[0.0,\"#0d0887\"],[0.1111111111111111,\"#46039f\"],[0.2222222222222222,\"#7201a8\"],[0.3333333333333333,\"#9c179e\"],[0.4444444444444444,\"#bd3786\"],[0.5555555555555556,\"#d8576b\"],[0.6666666666666666,\"#ed7953\"],[0.7777777777777778,\"#fb9f3a\"],[0.8888888888888888,\"#fdca26\"],[1.0,\"#f0f921\"]]}],\"heatmapgl\":[{\"type\":\"heatmapgl\",\"colorbar\":{\"outlinewidth\":0,\"ticks\":\"\"},\"colorscale\":[[0.0,\"#0d0887\"],[0.1111111111111111,\"#46039f\"],[0.2222222222222222,\"#7201a8\"],[0.3333333333333333,\"#9c179e\"],[0.4444444444444444,\"#bd3786\"],[0.5555555555555556,\"#d8576b\"],[0.6666666666666666,\"#ed7953\"],[0.7777777777777778,\"#fb9f3a\"],[0.8888888888888888,\"#fdca26\"],[1.0,\"#f0f921\"]]}],\"contourcarpet\":[{\"type\":\"contourcarpet\",\"colorbar\":{\"outlinewidth\":0,\"ticks\":\"\"}}],\"contour\":[{\"type\":\"contour\",\"colorbar\":{\"outlinewidth\":0,\"ticks\":\"\"},\"colorscale\":[[0.0,\"#0d0887\"],[0.1111111111111111,\"#46039f\"],[0.2222222222222222,\"#7201a8\"],[0.3333333333333333,\"#9c179e\"],[0.4444444444444444,\"#bd3786\"],[0.5555555555555556,\"#d8576b\"],[0.6666666666666666,\"#ed7953\"],[0.7777777777777778,\"#fb9f3a\"],[0.8888888888888888,\"#fdca26\"],[1.0,\"#f0f921\"]]}],\"surface\":[{\"type\":\"surface\",\"colorbar\":{\"outlinewidth\":0,\"ticks\":\"\"},\"colorscale\":[[0.0,\"#0d0887\"],[0.1111111111111111,\"#46039f\"],[0.2222222222222222,\"#7201a8\"],[0.3333333333333333,\"#9c179e\"],[0.4444444444444444,\"#bd3786\"],[0.5555555555555556,\"#d8576b\"],[0.6666666666666666,\"#ed7953\"],[0.7777777777777778,\"#fb9f3a\"],[0.8888888888888888,\"#fdca26\"],[1.0,\"#f0f921\"]]}],\"mesh3d\":[{\"type\":\"mesh3d\",\"colorbar\":{\"outlinewidth\":0,\"ticks\":\"\"}}],\"scatter\":[{\"fillpattern\":{\"fillmode\":\"overlay\",\"size\":10,\"solidity\":0.2},\"type\":\"scatter\"}],\"parcoords\":[{\"type\":\"parcoords\",\"line\":{\"colorbar\":{\"outlinewidth\":0,\"ticks\":\"\"}}}],\"scatterpolargl\":[{\"type\":\"scatterpolargl\",\"marker\":{\"colorbar\":{\"outlinewidth\":0,\"ticks\":\"\"}}}],\"bar\":[{\"error_x\":{\"color\":\"#2a3f5f\"},\"error_y\":{\"color\":\"#2a3f5f\"},\"marker\":{\"line\":{\"color\":\"#E5ECF6\",\"width\":0.5},\"pattern\":{\"fillmode\":\"overlay\",\"size\":10,\"solidity\":0.2}},\"type\":\"bar\"}],\"scattergeo\":[{\"type\":\"scattergeo\",\"marker\":{\"colorbar\":{\"outlinewidth\":0,\"ticks\":\"\"}}}],\"scatterpolar\":[{\"type\":\"scatterpolar\",\"marker\":{\"colorbar\":{\"outlinewidth\":0,\"ticks\":\"\"}}}],\"histogram\":[{\"marker\":{\"pattern\":{\"fillmode\":\"overlay\",\"size\":10,\"solidity\":0.2}},\"type\":\"histogram\"}],\"scattergl\":[{\"type\":\"scattergl\",\"marker\":{\"colorbar\":{\"outlinewidth\":0,\"ticks\":\"\"}}}],\"scatter3d\":[{\"type\":\"scatter3d\",\"line\":{\"colorbar\":{\"outlinewidth\":0,\"ticks\":\"\"}},\"marker\":{\"colorbar\":{\"outlinewidth\":0,\"ticks\":\"\"}}}],\"scattermapbox\":[{\"type\":\"scattermapbox\",\"marker\":{\"colorbar\":{\"outlinewidth\":0,\"ticks\":\"\"}}}],\"scatterternary\":[{\"type\":\"scatterternary\",\"marker\":{\"colorbar\":{\"outlinewidth\":0,\"ticks\":\"\"}}}],\"scattercarpet\":[{\"type\":\"scattercarpet\",\"marker\":{\"colorbar\":{\"outlinewidth\":0,\"ticks\":\"\"}}}],\"carpet\":[{\"aaxis\":{\"endlinecolor\":\"#2a3f5f\",\"gridcolor\":\"white\",\"linecolor\":\"white\",\"minorgridcolor\":\"white\",\"startlinecolor\":\"#2a3f5f\"},\"baxis\":{\"endlinecolor\":\"#2a3f5f\",\"gridcolor\":\"white\",\"linecolor\":\"white\",\"minorgridcolor\":\"white\",\"startlinecolor\":\"#2a3f5f\"},\"type\":\"carpet\"}],\"table\":[{\"cells\":{\"fill\":{\"color\":\"#EBF0F8\"},\"line\":{\"color\":\"white\"}},\"header\":{\"fill\":{\"color\":\"#C8D4E3\"},\"line\":{\"color\":\"white\"}},\"type\":\"table\"}],\"barpolar\":[{\"marker\":{\"line\":{\"color\":\"#E5ECF6\",\"width\":0.5},\"pattern\":{\"fillmode\":\"overlay\",\"size\":10,\"solidity\":0.2}},\"type\":\"barpolar\"}],\"pie\":[{\"automargin\":true,\"type\":\"pie\"}]},\"layout\":{\"autotypenumbers\":\"strict\",\"colorway\":[\"#636efa\",\"#EF553B\",\"#00cc96\",\"#ab63fa\",\"#FFA15A\",\"#19d3f3\",\"#FF6692\",\"#B6E880\",\"#FF97FF\",\"#FECB52\"],\"font\":{\"color\":\"#2a3f5f\"},\"hovermode\":\"closest\",\"hoverlabel\":{\"align\":\"left\"},\"paper_bgcolor\":\"white\",\"plot_bgcolor\":\"#E5ECF6\",\"polar\":{\"bgcolor\":\"#E5ECF6\",\"angularaxis\":{\"gridcolor\":\"white\",\"linecolor\":\"white\",\"ticks\":\"\"},\"radialaxis\":{\"gridcolor\":\"white\",\"linecolor\":\"white\",\"ticks\":\"\"}},\"ternary\":{\"bgcolor\":\"#E5ECF6\",\"aaxis\":{\"gridcolor\":\"white\",\"linecolor\":\"white\",\"ticks\":\"\"},\"baxis\":{\"gridcolor\":\"white\",\"linecolor\":\"white\",\"ticks\":\"\"},\"caxis\":{\"gridcolor\":\"white\",\"linecolor\":\"white\",\"ticks\":\"\"}},\"coloraxis\":{\"colorbar\":{\"outlinewidth\":0,\"ticks\":\"\"}},\"colorscale\":{\"sequential\":[[0.0,\"#0d0887\"],[0.1111111111111111,\"#46039f\"],[0.2222222222222222,\"#7201a8\"],[0.3333333333333333,\"#9c179e\"],[0.4444444444444444,\"#bd3786\"],[0.5555555555555556,\"#d8576b\"],[0.6666666666666666,\"#ed7953\"],[0.7777777777777778,\"#fb9f3a\"],[0.8888888888888888,\"#fdca26\"],[1.0,\"#f0f921\"]],\"sequentialminus\":[[0.0,\"#0d0887\"],[0.1111111111111111,\"#46039f\"],[0.2222222222222222,\"#7201a8\"],[0.3333333333333333,\"#9c179e\"],[0.4444444444444444,\"#bd3786\"],[0.5555555555555556,\"#d8576b\"],[0.6666666666666666,\"#ed7953\"],[0.7777777777777778,\"#fb9f3a\"],[0.8888888888888888,\"#fdca26\"],[1.0,\"#f0f921\"]],\"diverging\":[[0,\"#8e0152\"],[0.1,\"#c51b7d\"],[0.2,\"#de77ae\"],[0.3,\"#f1b6da\"],[0.4,\"#fde0ef\"],[0.5,\"#f7f7f7\"],[0.6,\"#e6f5d0\"],[0.7,\"#b8e186\"],[0.8,\"#7fbc41\"],[0.9,\"#4d9221\"],[1,\"#276419\"]]},\"xaxis\":{\"gridcolor\":\"white\",\"linecolor\":\"white\",\"ticks\":\"\",\"title\":{\"standoff\":15},\"zerolinecolor\":\"white\",\"automargin\":true,\"zerolinewidth\":2},\"yaxis\":{\"gridcolor\":\"white\",\"linecolor\":\"white\",\"ticks\":\"\",\"title\":{\"standoff\":15},\"zerolinecolor\":\"white\",\"automargin\":true,\"zerolinewidth\":2},\"scene\":{\"xaxis\":{\"backgroundcolor\":\"#E5ECF6\",\"gridcolor\":\"white\",\"linecolor\":\"white\",\"showbackground\":true,\"ticks\":\"\",\"zerolinecolor\":\"white\",\"gridwidth\":2},\"yaxis\":{\"backgroundcolor\":\"#E5ECF6\",\"gridcolor\":\"white\",\"linecolor\":\"white\",\"showbackground\":true,\"ticks\":\"\",\"zerolinecolor\":\"white\",\"gridwidth\":2},\"zaxis\":{\"backgroundcolor\":\"#E5ECF6\",\"gridcolor\":\"white\",\"linecolor\":\"white\",\"showbackground\":true,\"ticks\":\"\",\"zerolinecolor\":\"white\",\"gridwidth\":2}},\"shapedefaults\":{\"line\":{\"color\":\"#2a3f5f\"}},\"annotationdefaults\":{\"arrowcolor\":\"#2a3f5f\",\"arrowhead\":0,\"arrowwidth\":1},\"geo\":{\"bgcolor\":\"white\",\"landcolor\":\"#E5ECF6\",\"subunitcolor\":\"white\",\"showland\":true,\"showlakes\":true,\"lakecolor\":\"white\"},\"title\":{\"x\":0.05},\"mapbox\":{\"style\":\"light\"}}},\"xaxis\":{\"anchor\":\"y\",\"domain\":[0.0,1.0],\"title\":{\"text\":\"State\"},\"categoryorder\":\"array\",\"categoryarray\":[\"AK\",\"AL\",\"AR\",\"AZ\",\"CA\",\"CO\",\"CT\",\"DC\",\"DE\",\"FL\",\"GA\",\"HI\",\"IA\",\"ID\",\"IL\",\"IN\",\"KS\",\"KY\",\"LA\",\"MA\",\"MD\",\"ME\",\"MI\",\"MN\",\"MO\",\"MS\",\"MT\",\"NC\",\"ND\",\"NE\",\"NH\",\"NJ\",\"NM\",\"NV\",\"NY\",\"OH\",\"OK\",\"OR\",\"PA\",\"RI\",\"SC\",\"SD\",\"TN\",\"TX\",\"UT\",\"VA\",\"VT\",\"WA\",\"WI\",\"WV\",\"WY\"]},\"yaxis\":{\"anchor\":\"x\",\"domain\":[0.0,1.0],\"title\":{\"text\":\"Location Count\"}},\"legend\":{\"title\":{\"text\":\"State\"},\"tracegroupgap\":0},\"margin\":{\"t\":60},\"boxmode\":\"overlay\"},                        {\"responsive\": true}                    ).then(function(){\n",
       "                            \n",
       "var gd = document.getElementById('66c6104a-14da-48d7-9883-e22ec79930ec');\n",
       "var x = new MutationObserver(function (mutations, observer) {{\n",
       "        var display = window.getComputedStyle(gd).display;\n",
       "        if (!display || display === 'none') {{\n",
       "            console.log([gd, 'removed!']);\n",
       "            Plotly.purge(gd);\n",
       "            observer.disconnect();\n",
       "        }}\n",
       "}});\n",
       "\n",
       "// Listen for the removal of the full notebook cells\n",
       "var notebookContainer = gd.closest('#notebook-container');\n",
       "if (notebookContainer) {{\n",
       "    x.observe(notebookContainer, {childList: true});\n",
       "}}\n",
       "\n",
       "// Listen for the clearing of the current output cell\n",
       "var outputEl = gd.closest('.output');\n",
       "if (outputEl) {{\n",
       "    x.observe(outputEl, {childList: true});\n",
       "}}\n",
       "\n",
       "                        })                };                });            </script>        </div>"
      ]
     },
     "metadata": {},
     "output_type": "display_data"
    }
   ],
   "source": [
    "#creating boxplots for location counts by state\n",
    "fig_boxplot_coffee_shops = px.box(coffee_clean, x='State', y='Location Count', color='State')\n",
    "fig_boxplot_coffee_shops.update_traces(quartilemethod=\"linear\")\n",
    "fig_boxplot_coffee_shops.show()"
   ]
  },
  {
   "cell_type": "markdown",
   "id": "659fd692",
   "metadata": {},
   "source": [
    "### Similar to the figure above, the figure below is just showing the location counts for each coffee chain, they are not being aggregated here but rather illustrated as their distributions of counts which is helpful to see which chains have the most abnormally high or low counts from the data set. Here, we can see that McDonald's is significantly higher and has the highest location counts. If we were to take out McDonald's, Starbucks is the clear victor in terms of counts. "
   ]
  },
  {
   "cell_type": "code",
   "execution_count": 316,
   "id": "92b4c409",
   "metadata": {},
   "outputs": [
    {
     "data": {
      "application/vnd.plotly.v1+json": {
       "config": {
        "plotlyServerURL": "https://plot.ly"
       },
       "data": [
        {
         "alignmentgroup": "True",
         "hovertemplate": "Coffee Chain=%{x}<br>Location Count=%{y}<extra></extra>",
         "legendgroup": "Starbucks",
         "marker": {
          "color": "#636efa"
         },
         "name": "Starbucks",
         "notched": false,
         "offsetgroup": "Starbucks",
         "orientation": "v",
         "quartilemethod": "linear",
         "showlegend": true,
         "type": "box",
         "x": [
          "Starbucks",
          "Starbucks",
          "Starbucks",
          "Starbucks",
          "Starbucks",
          "Starbucks",
          "Starbucks",
          "Starbucks",
          "Starbucks",
          "Starbucks",
          "Starbucks",
          "Starbucks",
          "Starbucks",
          "Starbucks",
          "Starbucks",
          "Starbucks",
          "Starbucks",
          "Starbucks",
          "Starbucks",
          "Starbucks",
          "Starbucks",
          "Starbucks",
          "Starbucks",
          "Starbucks",
          "Starbucks",
          "Starbucks",
          "Starbucks",
          "Starbucks",
          "Starbucks",
          "Starbucks",
          "Starbucks",
          "Starbucks",
          "Starbucks",
          "Starbucks",
          "Starbucks",
          "Starbucks",
          "Starbucks",
          "Starbucks",
          "Starbucks",
          "Starbucks",
          "Starbucks",
          "Starbucks",
          "Starbucks",
          "Starbucks",
          "Starbucks",
          "Starbucks",
          "Starbucks",
          "Starbucks",
          "Starbucks",
          "Starbucks",
          "Starbucks",
          "Starbucks",
          "Starbucks"
         ],
         "x0": " ",
         "xaxis": "x",
         "y": [
          24,
          24,
          73,
          33,
          279,
          2362,
          371,
          107,
          72,
          20,
          616,
          248,
          72,
          72,
          49,
          57,
          455,
          193,
          65,
          69,
          76,
          208,
          212,
          22,
          196,
          140,
          118,
          23,
          17,
          181,
          15,
          30,
          22,
          154,
          56,
          188,
          492,
          266,
          62,
          279,
          279,
          21,
          65,
          14,
          126,
          720,
          59,
          300,
          6,
          634,
          119,
          13,
          16
         ],
         "y0": " ",
         "yaxis": "y"
        },
        {
         "alignmentgroup": "True",
         "hovertemplate": "Coffee Chain=%{x}<br>Location Count=%{y}<extra></extra>",
         "legendgroup": "Dunkin' Donuts",
         "marker": {
          "color": "#EF553B"
         },
         "name": "Dunkin' Donuts",
         "notched": false,
         "offsetgroup": "Dunkin' Donuts",
         "orientation": "v",
         "quartilemethod": "linear",
         "showlegend": true,
         "type": "box",
         "x": [
          "Dunkin' Donuts",
          "Dunkin' Donuts",
          "Dunkin' Donuts",
          "Dunkin' Donuts",
          "Dunkin' Donuts",
          "Dunkin' Donuts",
          "Dunkin' Donuts",
          "Dunkin' Donuts",
          "Dunkin' Donuts",
          "Dunkin' Donuts",
          "Dunkin' Donuts",
          "Dunkin' Donuts",
          "Dunkin' Donuts",
          "Dunkin' Donuts",
          "Dunkin' Donuts",
          "Dunkin' Donuts",
          "Dunkin' Donuts",
          "Dunkin' Donuts",
          "Dunkin' Donuts",
          "Dunkin' Donuts",
          "Dunkin' Donuts",
          "Dunkin' Donuts",
          "Dunkin' Donuts",
          "Dunkin' Donuts",
          "Dunkin' Donuts",
          "Dunkin' Donuts",
          "Dunkin' Donuts",
          "Dunkin' Donuts",
          "Dunkin' Donuts",
          "Dunkin' Donuts",
          "Dunkin' Donuts",
          "Dunkin' Donuts",
          "Dunkin' Donuts",
          "Dunkin' Donuts",
          "Dunkin' Donuts",
          "Dunkin' Donuts",
          "Dunkin' Donuts",
          "Dunkin' Donuts",
          "Dunkin' Donuts",
          "Dunkin' Donuts",
          "Dunkin' Donuts",
          "Dunkin' Donuts",
          "Dunkin' Donuts",
          "Dunkin' Donuts",
          "Dunkin' Donuts",
          "Dunkin' Donuts"
         ],
         "x0": " ",
         "xaxis": "x",
         "y": [
          1,
          11,
          74,
          46,
          5,
          406,
          15,
          57,
          654,
          147,
          1,
          1,
          14,
          579,
          51,
          12,
          34,
          5,
          1101,
          201,
          102,
          91,
          6,
          21,
          3,
          63,
          9,
          185,
          477,
          7,
          26,
          1022,
          116,
          6,
          1,
          402,
          142,
          15,
          55,
          93,
          7,
          147,
          34,
          2,
          30,
          5
         ],
         "y0": " ",
         "yaxis": "y"
        },
        {
         "alignmentgroup": "True",
         "hovertemplate": "Coffee Chain=%{x}<br>Location Count=%{y}<extra></extra>",
         "legendgroup": "Peet's Coffee & Tea",
         "marker": {
          "color": "#00cc96"
         },
         "name": "Peet's Coffee & Tea",
         "notched": false,
         "offsetgroup": "Peet's Coffee & Tea",
         "orientation": "v",
         "quartilemethod": "linear",
         "showlegend": true,
         "type": "box",
         "x": [
          "Peet's Coffee & Tea",
          "Peet's Coffee & Tea",
          "Peet's Coffee & Tea",
          "Peet's Coffee & Tea",
          "Peet's Coffee & Tea",
          "Peet's Coffee & Tea",
          "Peet's Coffee & Tea",
          "Peet's Coffee & Tea",
          "Peet's Coffee & Tea",
          "Peet's Coffee & Tea",
          "Peet's Coffee & Tea"
         ],
         "x0": " ",
         "xaxis": "x",
         "y": [
          163,
          3,
          1,
          1,
          3,
          1,
          8,
          1,
          3,
          14,
          7
         ],
         "y0": " ",
         "yaxis": "y"
        },
        {
         "alignmentgroup": "True",
         "hovertemplate": "Coffee Chain=%{x}<br>Location Count=%{y}<extra></extra>",
         "legendgroup": "Tim Horton's",
         "marker": {
          "color": "#ab63fa"
         },
         "name": "Tim Horton's",
         "notched": false,
         "offsetgroup": "Tim Horton's",
         "orientation": "v",
         "quartilemethod": "linear",
         "showlegend": true,
         "type": "box",
         "x": [
          "Tim Horton's",
          "Tim Horton's",
          "Tim Horton's",
          "Tim Horton's",
          "Tim Horton's",
          "Tim Horton's",
          "Tim Horton's",
          "Tim Horton's",
          "Tim Horton's",
          "Tim Horton's",
          "Tim Horton's",
          "Tim Horton's",
          "Tim Horton's",
          "Tim Horton's",
          "Tim Horton's",
          "Tim Horton's"
         ],
         "x0": " ",
         "xaxis": "x",
         "y": [
          10,
          1,
          5,
          3,
          5,
          27,
          191,
          7,
          1,
          2,
          100,
          105,
          9,
          26,
          1,
          7
         ],
         "y0": " ",
         "yaxis": "y"
        },
        {
         "alignmentgroup": "True",
         "hovertemplate": "Coffee Chain=%{x}<br>Location Count=%{y}<extra></extra>",
         "legendgroup": "Panera Bread",
         "marker": {
          "color": "#FFA15A"
         },
         "name": "Panera Bread",
         "notched": false,
         "offsetgroup": "Panera Bread",
         "orientation": "v",
         "quartilemethod": "linear",
         "showlegend": true,
         "type": "box",
         "x": [
          "Panera Bread",
          "Panera Bread",
          "Panera Bread",
          "Panera Bread",
          "Panera Bread",
          "Panera Bread",
          "Panera Bread",
          "Panera Bread",
          "Panera Bread",
          "Panera Bread",
          "Panera Bread",
          "Panera Bread",
          "Panera Bread",
          "Panera Bread",
          "Panera Bread",
          "Panera Bread",
          "Panera Bread",
          "Panera Bread",
          "Panera Bread",
          "Panera Bread",
          "Panera Bread",
          "Panera Bread",
          "Panera Bread",
          "Panera Bread",
          "Panera Bread",
          "Panera Bread",
          "Panera Bread",
          "Panera Bread",
          "Panera Bread",
          "Panera Bread",
          "Panera Bread",
          "Panera Bread",
          "Panera Bread",
          "Panera Bread",
          "Panera Bread",
          "Panera Bread",
          "Panera Bread",
          "Panera Bread",
          "Panera Bread",
          "Panera Bread",
          "Panera Bread",
          "Panera Bread",
          "Panera Bread",
          "Panera Bread",
          "Panera Bread",
          "Panera Bread"
         ],
         "x0": " ",
         "xaxis": "x",
         "y": [
          20,
          13,
          29,
          216,
          32,
          41,
          4,
          9,
          227,
          71,
          27,
          7,
          154,
          53,
          27,
          30,
          1,
          77,
          69,
          5,
          108,
          52,
          91,
          4,
          52,
          2,
          15,
          12,
          98,
          5,
          6,
          138,
          170,
          28,
          12,
          112,
          9,
          17,
          2,
          42,
          110,
          98,
          6,
          16,
          47,
          14
         ],
         "y0": " ",
         "yaxis": "y"
        },
        {
         "alignmentgroup": "True",
         "hovertemplate": "Coffee Chain=%{x}<br>Location Count=%{y}<extra></extra>",
         "legendgroup": "Caribou Coffee",
         "marker": {
          "color": "#19d3f3"
         },
         "name": "Caribou Coffee",
         "notched": false,
         "offsetgroup": "Caribou Coffee",
         "orientation": "v",
         "quartilemethod": "linear",
         "showlegend": true,
         "type": "box",
         "x": [
          "Caribou Coffee",
          "Caribou Coffee",
          "Caribou Coffee",
          "Caribou Coffee",
          "Caribou Coffee",
          "Caribou Coffee",
          "Caribou Coffee",
          "Caribou Coffee",
          "Caribou Coffee",
          "Caribou Coffee",
          "Caribou Coffee",
          "Caribou Coffee",
          "Caribou Coffee",
          "Caribou Coffee",
          "Caribou Coffee",
          "Caribou Coffee",
          "Caribou Coffee",
          "Caribou Coffee",
          "Caribou Coffee",
          "Caribou Coffee"
         ],
         "x0": " ",
         "xaxis": "x",
         "y": [
          9,
          8,
          25,
          11,
          81,
          1,
          5,
          9,
          30,
          312,
          2,
          26,
          7,
          5,
          46,
          1,
          6,
          4,
          19,
          16
         ],
         "y0": " ",
         "yaxis": "y"
        },
        {
         "alignmentgroup": "True",
         "hovertemplate": "Coffee Chain=%{x}<br>Location Count=%{y}<extra></extra>",
         "legendgroup": "Au Bon Pain",
         "marker": {
          "color": "#FF6692"
         },
         "name": "Au Bon Pain",
         "notched": false,
         "offsetgroup": "Au Bon Pain",
         "orientation": "v",
         "quartilemethod": "linear",
         "showlegend": true,
         "type": "box",
         "x": [
          "Au Bon Pain",
          "Au Bon Pain",
          "Au Bon Pain",
          "Au Bon Pain",
          "Au Bon Pain",
          "Au Bon Pain",
          "Au Bon Pain",
          "Au Bon Pain",
          "Au Bon Pain",
          "Au Bon Pain",
          "Au Bon Pain",
          "Au Bon Pain",
          "Au Bon Pain",
          "Au Bon Pain",
          "Au Bon Pain",
          "Au Bon Pain",
          "Au Bon Pain",
          "Au Bon Pain",
          "Au Bon Pain",
          "Au Bon Pain",
          "Au Bon Pain",
          "Au Bon Pain"
         ],
         "x0": " ",
         "xaxis": "x",
         "y": [
          8,
          21,
          23,
          3,
          32,
          8,
          1,
          67,
          9,
          1,
          6,
          5,
          3,
          6,
          10,
          1,
          58,
          10,
          28,
          6,
          16,
          10
         ],
         "y0": " ",
         "yaxis": "y"
        },
        {
         "alignmentgroup": "True",
         "hovertemplate": "Coffee Chain=%{x}<br>Location Count=%{y}<extra></extra>",
         "legendgroup": "The Coffee Bean & Tea Leaf",
         "marker": {
          "color": "#B6E880"
         },
         "name": "The Coffee Bean & Tea Leaf",
         "notched": false,
         "offsetgroup": "The Coffee Bean & Tea Leaf",
         "orientation": "v",
         "quartilemethod": "linear",
         "showlegend": true,
         "type": "box",
         "x": [
          "The Coffee Bean & Tea Leaf",
          "The Coffee Bean & Tea Leaf",
          "The Coffee Bean & Tea Leaf",
          "The Coffee Bean & Tea Leaf",
          "The Coffee Bean & Tea Leaf",
          "The Coffee Bean & Tea Leaf",
          "The Coffee Bean & Tea Leaf",
          "The Coffee Bean & Tea Leaf",
          "The Coffee Bean & Tea Leaf"
         ],
         "x0": " ",
         "xaxis": "x",
         "y": [
          19,
          175,
          1,
          2,
          22,
          22,
          1,
          23,
          5
         ],
         "y0": " ",
         "yaxis": "y"
        },
        {
         "alignmentgroup": "True",
         "hovertemplate": "Coffee Chain=%{x}<br>Location Count=%{y}<extra></extra>",
         "legendgroup": "McDonald's",
         "marker": {
          "color": "#FF97FF"
         },
         "name": "McDonald's",
         "notched": false,
         "offsetgroup": "McDonald's",
         "orientation": "v",
         "quartilemethod": "linear",
         "showlegend": true,
         "type": "box",
         "x": [
          "McDonald's",
          "McDonald's",
          "McDonald's",
          "McDonald's",
          "McDonald's",
          "McDonald's",
          "McDonald's",
          "McDonald's",
          "McDonald's",
          "McDonald's",
          "McDonald's",
          "McDonald's",
          "McDonald's",
          "McDonald's",
          "McDonald's",
          "McDonald's",
          "McDonald's",
          "McDonald's",
          "McDonald's",
          "McDonald's",
          "McDonald's",
          "McDonald's",
          "McDonald's",
          "McDonald's",
          "McDonald's",
          "McDonald's",
          "McDonald's",
          "McDonald's",
          "McDonald's",
          "McDonald's",
          "McDonald's",
          "McDonald's",
          "McDonald's",
          "McDonald's",
          "McDonald's",
          "McDonald's",
          "McDonald's",
          "McDonald's",
          "McDonald's",
          "McDonald's",
          "McDonald's",
          "McDonald's",
          "McDonald's",
          "McDonald's",
          "McDonald's",
          "McDonald's",
          "McDonald's",
          "McDonald's",
          "McDonald's",
          "McDonald's",
          "McDonald's",
          "McDonald's",
          "McDonald's"
         ],
         "x0": " ",
         "xaxis": "x",
         "y": [
          33,
          33,
          279,
          190,
          326,
          1623,
          237,
          173,
          37,
          46,
          1142,
          563,
          74,
          74,
          181,
          71,
          791,
          406,
          188,
          283,
          291,
          306,
          402,
          72,
          662,
          305,
          396,
          165,
          58,
          475,
          29,
          90,
          72,
          335,
          106,
          169,
          811,
          843,
          220,
          209,
          603,
          45,
          258,
          36,
          409,
          1303,
          145,
          473,
          30,
          326,
          353,
          107,
          34
         ],
         "y0": " ",
         "yaxis": "y"
        }
       ],
       "layout": {
        "boxmode": "overlay",
        "legend": {
         "title": {
          "text": "Coffee Chain"
         },
         "tracegroupgap": 0
        },
        "margin": {
         "t": 60
        },
        "template": {
         "data": {
          "bar": [
           {
            "error_x": {
             "color": "#2a3f5f"
            },
            "error_y": {
             "color": "#2a3f5f"
            },
            "marker": {
             "line": {
              "color": "#E5ECF6",
              "width": 0.5
             },
             "pattern": {
              "fillmode": "overlay",
              "size": 10,
              "solidity": 0.2
             }
            },
            "type": "bar"
           }
          ],
          "barpolar": [
           {
            "marker": {
             "line": {
              "color": "#E5ECF6",
              "width": 0.5
             },
             "pattern": {
              "fillmode": "overlay",
              "size": 10,
              "solidity": 0.2
             }
            },
            "type": "barpolar"
           }
          ],
          "carpet": [
           {
            "aaxis": {
             "endlinecolor": "#2a3f5f",
             "gridcolor": "white",
             "linecolor": "white",
             "minorgridcolor": "white",
             "startlinecolor": "#2a3f5f"
            },
            "baxis": {
             "endlinecolor": "#2a3f5f",
             "gridcolor": "white",
             "linecolor": "white",
             "minorgridcolor": "white",
             "startlinecolor": "#2a3f5f"
            },
            "type": "carpet"
           }
          ],
          "choropleth": [
           {
            "colorbar": {
             "outlinewidth": 0,
             "ticks": ""
            },
            "type": "choropleth"
           }
          ],
          "contour": [
           {
            "colorbar": {
             "outlinewidth": 0,
             "ticks": ""
            },
            "colorscale": [
             [
              0,
              "#0d0887"
             ],
             [
              0.1111111111111111,
              "#46039f"
             ],
             [
              0.2222222222222222,
              "#7201a8"
             ],
             [
              0.3333333333333333,
              "#9c179e"
             ],
             [
              0.4444444444444444,
              "#bd3786"
             ],
             [
              0.5555555555555556,
              "#d8576b"
             ],
             [
              0.6666666666666666,
              "#ed7953"
             ],
             [
              0.7777777777777778,
              "#fb9f3a"
             ],
             [
              0.8888888888888888,
              "#fdca26"
             ],
             [
              1,
              "#f0f921"
             ]
            ],
            "type": "contour"
           }
          ],
          "contourcarpet": [
           {
            "colorbar": {
             "outlinewidth": 0,
             "ticks": ""
            },
            "type": "contourcarpet"
           }
          ],
          "heatmap": [
           {
            "colorbar": {
             "outlinewidth": 0,
             "ticks": ""
            },
            "colorscale": [
             [
              0,
              "#0d0887"
             ],
             [
              0.1111111111111111,
              "#46039f"
             ],
             [
              0.2222222222222222,
              "#7201a8"
             ],
             [
              0.3333333333333333,
              "#9c179e"
             ],
             [
              0.4444444444444444,
              "#bd3786"
             ],
             [
              0.5555555555555556,
              "#d8576b"
             ],
             [
              0.6666666666666666,
              "#ed7953"
             ],
             [
              0.7777777777777778,
              "#fb9f3a"
             ],
             [
              0.8888888888888888,
              "#fdca26"
             ],
             [
              1,
              "#f0f921"
             ]
            ],
            "type": "heatmap"
           }
          ],
          "heatmapgl": [
           {
            "colorbar": {
             "outlinewidth": 0,
             "ticks": ""
            },
            "colorscale": [
             [
              0,
              "#0d0887"
             ],
             [
              0.1111111111111111,
              "#46039f"
             ],
             [
              0.2222222222222222,
              "#7201a8"
             ],
             [
              0.3333333333333333,
              "#9c179e"
             ],
             [
              0.4444444444444444,
              "#bd3786"
             ],
             [
              0.5555555555555556,
              "#d8576b"
             ],
             [
              0.6666666666666666,
              "#ed7953"
             ],
             [
              0.7777777777777778,
              "#fb9f3a"
             ],
             [
              0.8888888888888888,
              "#fdca26"
             ],
             [
              1,
              "#f0f921"
             ]
            ],
            "type": "heatmapgl"
           }
          ],
          "histogram": [
           {
            "marker": {
             "pattern": {
              "fillmode": "overlay",
              "size": 10,
              "solidity": 0.2
             }
            },
            "type": "histogram"
           }
          ],
          "histogram2d": [
           {
            "colorbar": {
             "outlinewidth": 0,
             "ticks": ""
            },
            "colorscale": [
             [
              0,
              "#0d0887"
             ],
             [
              0.1111111111111111,
              "#46039f"
             ],
             [
              0.2222222222222222,
              "#7201a8"
             ],
             [
              0.3333333333333333,
              "#9c179e"
             ],
             [
              0.4444444444444444,
              "#bd3786"
             ],
             [
              0.5555555555555556,
              "#d8576b"
             ],
             [
              0.6666666666666666,
              "#ed7953"
             ],
             [
              0.7777777777777778,
              "#fb9f3a"
             ],
             [
              0.8888888888888888,
              "#fdca26"
             ],
             [
              1,
              "#f0f921"
             ]
            ],
            "type": "histogram2d"
           }
          ],
          "histogram2dcontour": [
           {
            "colorbar": {
             "outlinewidth": 0,
             "ticks": ""
            },
            "colorscale": [
             [
              0,
              "#0d0887"
             ],
             [
              0.1111111111111111,
              "#46039f"
             ],
             [
              0.2222222222222222,
              "#7201a8"
             ],
             [
              0.3333333333333333,
              "#9c179e"
             ],
             [
              0.4444444444444444,
              "#bd3786"
             ],
             [
              0.5555555555555556,
              "#d8576b"
             ],
             [
              0.6666666666666666,
              "#ed7953"
             ],
             [
              0.7777777777777778,
              "#fb9f3a"
             ],
             [
              0.8888888888888888,
              "#fdca26"
             ],
             [
              1,
              "#f0f921"
             ]
            ],
            "type": "histogram2dcontour"
           }
          ],
          "mesh3d": [
           {
            "colorbar": {
             "outlinewidth": 0,
             "ticks": ""
            },
            "type": "mesh3d"
           }
          ],
          "parcoords": [
           {
            "line": {
             "colorbar": {
              "outlinewidth": 0,
              "ticks": ""
             }
            },
            "type": "parcoords"
           }
          ],
          "pie": [
           {
            "automargin": true,
            "type": "pie"
           }
          ],
          "scatter": [
           {
            "fillpattern": {
             "fillmode": "overlay",
             "size": 10,
             "solidity": 0.2
            },
            "type": "scatter"
           }
          ],
          "scatter3d": [
           {
            "line": {
             "colorbar": {
              "outlinewidth": 0,
              "ticks": ""
             }
            },
            "marker": {
             "colorbar": {
              "outlinewidth": 0,
              "ticks": ""
             }
            },
            "type": "scatter3d"
           }
          ],
          "scattercarpet": [
           {
            "marker": {
             "colorbar": {
              "outlinewidth": 0,
              "ticks": ""
             }
            },
            "type": "scattercarpet"
           }
          ],
          "scattergeo": [
           {
            "marker": {
             "colorbar": {
              "outlinewidth": 0,
              "ticks": ""
             }
            },
            "type": "scattergeo"
           }
          ],
          "scattergl": [
           {
            "marker": {
             "colorbar": {
              "outlinewidth": 0,
              "ticks": ""
             }
            },
            "type": "scattergl"
           }
          ],
          "scattermapbox": [
           {
            "marker": {
             "colorbar": {
              "outlinewidth": 0,
              "ticks": ""
             }
            },
            "type": "scattermapbox"
           }
          ],
          "scatterpolar": [
           {
            "marker": {
             "colorbar": {
              "outlinewidth": 0,
              "ticks": ""
             }
            },
            "type": "scatterpolar"
           }
          ],
          "scatterpolargl": [
           {
            "marker": {
             "colorbar": {
              "outlinewidth": 0,
              "ticks": ""
             }
            },
            "type": "scatterpolargl"
           }
          ],
          "scatterternary": [
           {
            "marker": {
             "colorbar": {
              "outlinewidth": 0,
              "ticks": ""
             }
            },
            "type": "scatterternary"
           }
          ],
          "surface": [
           {
            "colorbar": {
             "outlinewidth": 0,
             "ticks": ""
            },
            "colorscale": [
             [
              0,
              "#0d0887"
             ],
             [
              0.1111111111111111,
              "#46039f"
             ],
             [
              0.2222222222222222,
              "#7201a8"
             ],
             [
              0.3333333333333333,
              "#9c179e"
             ],
             [
              0.4444444444444444,
              "#bd3786"
             ],
             [
              0.5555555555555556,
              "#d8576b"
             ],
             [
              0.6666666666666666,
              "#ed7953"
             ],
             [
              0.7777777777777778,
              "#fb9f3a"
             ],
             [
              0.8888888888888888,
              "#fdca26"
             ],
             [
              1,
              "#f0f921"
             ]
            ],
            "type": "surface"
           }
          ],
          "table": [
           {
            "cells": {
             "fill": {
              "color": "#EBF0F8"
             },
             "line": {
              "color": "white"
             }
            },
            "header": {
             "fill": {
              "color": "#C8D4E3"
             },
             "line": {
              "color": "white"
             }
            },
            "type": "table"
           }
          ]
         },
         "layout": {
          "annotationdefaults": {
           "arrowcolor": "#2a3f5f",
           "arrowhead": 0,
           "arrowwidth": 1
          },
          "autotypenumbers": "strict",
          "coloraxis": {
           "colorbar": {
            "outlinewidth": 0,
            "ticks": ""
           }
          },
          "colorscale": {
           "diverging": [
            [
             0,
             "#8e0152"
            ],
            [
             0.1,
             "#c51b7d"
            ],
            [
             0.2,
             "#de77ae"
            ],
            [
             0.3,
             "#f1b6da"
            ],
            [
             0.4,
             "#fde0ef"
            ],
            [
             0.5,
             "#f7f7f7"
            ],
            [
             0.6,
             "#e6f5d0"
            ],
            [
             0.7,
             "#b8e186"
            ],
            [
             0.8,
             "#7fbc41"
            ],
            [
             0.9,
             "#4d9221"
            ],
            [
             1,
             "#276419"
            ]
           ],
           "sequential": [
            [
             0,
             "#0d0887"
            ],
            [
             0.1111111111111111,
             "#46039f"
            ],
            [
             0.2222222222222222,
             "#7201a8"
            ],
            [
             0.3333333333333333,
             "#9c179e"
            ],
            [
             0.4444444444444444,
             "#bd3786"
            ],
            [
             0.5555555555555556,
             "#d8576b"
            ],
            [
             0.6666666666666666,
             "#ed7953"
            ],
            [
             0.7777777777777778,
             "#fb9f3a"
            ],
            [
             0.8888888888888888,
             "#fdca26"
            ],
            [
             1,
             "#f0f921"
            ]
           ],
           "sequentialminus": [
            [
             0,
             "#0d0887"
            ],
            [
             0.1111111111111111,
             "#46039f"
            ],
            [
             0.2222222222222222,
             "#7201a8"
            ],
            [
             0.3333333333333333,
             "#9c179e"
            ],
            [
             0.4444444444444444,
             "#bd3786"
            ],
            [
             0.5555555555555556,
             "#d8576b"
            ],
            [
             0.6666666666666666,
             "#ed7953"
            ],
            [
             0.7777777777777778,
             "#fb9f3a"
            ],
            [
             0.8888888888888888,
             "#fdca26"
            ],
            [
             1,
             "#f0f921"
            ]
           ]
          },
          "colorway": [
           "#636efa",
           "#EF553B",
           "#00cc96",
           "#ab63fa",
           "#FFA15A",
           "#19d3f3",
           "#FF6692",
           "#B6E880",
           "#FF97FF",
           "#FECB52"
          ],
          "font": {
           "color": "#2a3f5f"
          },
          "geo": {
           "bgcolor": "white",
           "lakecolor": "white",
           "landcolor": "#E5ECF6",
           "showlakes": true,
           "showland": true,
           "subunitcolor": "white"
          },
          "hoverlabel": {
           "align": "left"
          },
          "hovermode": "closest",
          "mapbox": {
           "style": "light"
          },
          "paper_bgcolor": "white",
          "plot_bgcolor": "#E5ECF6",
          "polar": {
           "angularaxis": {
            "gridcolor": "white",
            "linecolor": "white",
            "ticks": ""
           },
           "bgcolor": "#E5ECF6",
           "radialaxis": {
            "gridcolor": "white",
            "linecolor": "white",
            "ticks": ""
           }
          },
          "scene": {
           "xaxis": {
            "backgroundcolor": "#E5ECF6",
            "gridcolor": "white",
            "gridwidth": 2,
            "linecolor": "white",
            "showbackground": true,
            "ticks": "",
            "zerolinecolor": "white"
           },
           "yaxis": {
            "backgroundcolor": "#E5ECF6",
            "gridcolor": "white",
            "gridwidth": 2,
            "linecolor": "white",
            "showbackground": true,
            "ticks": "",
            "zerolinecolor": "white"
           },
           "zaxis": {
            "backgroundcolor": "#E5ECF6",
            "gridcolor": "white",
            "gridwidth": 2,
            "linecolor": "white",
            "showbackground": true,
            "ticks": "",
            "zerolinecolor": "white"
           }
          },
          "shapedefaults": {
           "line": {
            "color": "#2a3f5f"
           }
          },
          "ternary": {
           "aaxis": {
            "gridcolor": "white",
            "linecolor": "white",
            "ticks": ""
           },
           "baxis": {
            "gridcolor": "white",
            "linecolor": "white",
            "ticks": ""
           },
           "bgcolor": "#E5ECF6",
           "caxis": {
            "gridcolor": "white",
            "linecolor": "white",
            "ticks": ""
           }
          },
          "title": {
           "x": 0.05
          },
          "xaxis": {
           "automargin": true,
           "gridcolor": "white",
           "linecolor": "white",
           "ticks": "",
           "title": {
            "standoff": 15
           },
           "zerolinecolor": "white",
           "zerolinewidth": 2
          },
          "yaxis": {
           "automargin": true,
           "gridcolor": "white",
           "linecolor": "white",
           "ticks": "",
           "title": {
            "standoff": 15
           },
           "zerolinecolor": "white",
           "zerolinewidth": 2
          }
         }
        },
        "xaxis": {
         "anchor": "y",
         "categoryarray": [
          "Starbucks",
          "Dunkin' Donuts",
          "Peet's Coffee & Tea",
          "Tim Horton's",
          "Panera Bread",
          "Caribou Coffee",
          "Au Bon Pain",
          "The Coffee Bean & Tea Leaf",
          "McDonald's"
         ],
         "categoryorder": "array",
         "domain": [
          0,
          1
         ],
         "title": {
          "text": "Coffee Chain"
         }
        },
        "yaxis": {
         "anchor": "x",
         "domain": [
          0,
          1
         ],
         "title": {
          "text": "Location Count"
         }
        }
       }
      },
      "text/html": [
       "<div>                            <div id=\"ec3872da-efea-485b-9c7c-04b1f0c55ade\" class=\"plotly-graph-div\" style=\"height:525px; width:100%;\"></div>            <script type=\"text/javascript\">                require([\"plotly\"], function(Plotly) {                    window.PLOTLYENV=window.PLOTLYENV || {};                                    if (document.getElementById(\"ec3872da-efea-485b-9c7c-04b1f0c55ade\")) {                    Plotly.newPlot(                        \"ec3872da-efea-485b-9c7c-04b1f0c55ade\",                        [{\"alignmentgroup\":\"True\",\"hovertemplate\":\"Coffee Chain=%{x}<br>Location Count=%{y}<extra></extra>\",\"legendgroup\":\"Starbucks\",\"marker\":{\"color\":\"#636efa\"},\"name\":\"Starbucks\",\"notched\":false,\"offsetgroup\":\"Starbucks\",\"orientation\":\"v\",\"showlegend\":true,\"x\":[\"Starbucks\",\"Starbucks\",\"Starbucks\",\"Starbucks\",\"Starbucks\",\"Starbucks\",\"Starbucks\",\"Starbucks\",\"Starbucks\",\"Starbucks\",\"Starbucks\",\"Starbucks\",\"Starbucks\",\"Starbucks\",\"Starbucks\",\"Starbucks\",\"Starbucks\",\"Starbucks\",\"Starbucks\",\"Starbucks\",\"Starbucks\",\"Starbucks\",\"Starbucks\",\"Starbucks\",\"Starbucks\",\"Starbucks\",\"Starbucks\",\"Starbucks\",\"Starbucks\",\"Starbucks\",\"Starbucks\",\"Starbucks\",\"Starbucks\",\"Starbucks\",\"Starbucks\",\"Starbucks\",\"Starbucks\",\"Starbucks\",\"Starbucks\",\"Starbucks\",\"Starbucks\",\"Starbucks\",\"Starbucks\",\"Starbucks\",\"Starbucks\",\"Starbucks\",\"Starbucks\",\"Starbucks\",\"Starbucks\",\"Starbucks\",\"Starbucks\",\"Starbucks\",\"Starbucks\"],\"x0\":\" \",\"xaxis\":\"x\",\"y\":[24,24,73,33,279,2362,371,107,72,20,616,248,72,72,49,57,455,193,65,69,76,208,212,22,196,140,118,23,17,181,15,30,22,154,56,188,492,266,62,279,279,21,65,14,126,720,59,300,6,634,119,13,16],\"y0\":\" \",\"yaxis\":\"y\",\"type\":\"box\",\"quartilemethod\":\"linear\"},{\"alignmentgroup\":\"True\",\"hovertemplate\":\"Coffee Chain=%{x}<br>Location Count=%{y}<extra></extra>\",\"legendgroup\":\"Dunkin' Donuts\",\"marker\":{\"color\":\"#EF553B\"},\"name\":\"Dunkin' Donuts\",\"notched\":false,\"offsetgroup\":\"Dunkin' Donuts\",\"orientation\":\"v\",\"showlegend\":true,\"x\":[\"Dunkin' Donuts\",\"Dunkin' Donuts\",\"Dunkin' Donuts\",\"Dunkin' Donuts\",\"Dunkin' Donuts\",\"Dunkin' Donuts\",\"Dunkin' Donuts\",\"Dunkin' Donuts\",\"Dunkin' Donuts\",\"Dunkin' Donuts\",\"Dunkin' Donuts\",\"Dunkin' Donuts\",\"Dunkin' Donuts\",\"Dunkin' Donuts\",\"Dunkin' Donuts\",\"Dunkin' Donuts\",\"Dunkin' Donuts\",\"Dunkin' Donuts\",\"Dunkin' Donuts\",\"Dunkin' Donuts\",\"Dunkin' Donuts\",\"Dunkin' Donuts\",\"Dunkin' Donuts\",\"Dunkin' Donuts\",\"Dunkin' Donuts\",\"Dunkin' Donuts\",\"Dunkin' Donuts\",\"Dunkin' Donuts\",\"Dunkin' Donuts\",\"Dunkin' Donuts\",\"Dunkin' Donuts\",\"Dunkin' Donuts\",\"Dunkin' Donuts\",\"Dunkin' Donuts\",\"Dunkin' Donuts\",\"Dunkin' Donuts\",\"Dunkin' Donuts\",\"Dunkin' Donuts\",\"Dunkin' Donuts\",\"Dunkin' Donuts\",\"Dunkin' Donuts\",\"Dunkin' Donuts\",\"Dunkin' Donuts\",\"Dunkin' Donuts\",\"Dunkin' Donuts\",\"Dunkin' Donuts\"],\"x0\":\" \",\"xaxis\":\"x\",\"y\":[1,11,74,46,5,406,15,57,654,147,1,1,14,579,51,12,34,5,1101,201,102,91,6,21,3,63,9,185,477,7,26,1022,116,6,1,402,142,15,55,93,7,147,34,2,30,5],\"y0\":\" \",\"yaxis\":\"y\",\"type\":\"box\",\"quartilemethod\":\"linear\"},{\"alignmentgroup\":\"True\",\"hovertemplate\":\"Coffee Chain=%{x}<br>Location Count=%{y}<extra></extra>\",\"legendgroup\":\"Peet's Coffee & Tea\",\"marker\":{\"color\":\"#00cc96\"},\"name\":\"Peet's Coffee & Tea\",\"notched\":false,\"offsetgroup\":\"Peet's Coffee & Tea\",\"orientation\":\"v\",\"showlegend\":true,\"x\":[\"Peet's Coffee & Tea\",\"Peet's Coffee & Tea\",\"Peet's Coffee & Tea\",\"Peet's Coffee & Tea\",\"Peet's Coffee & Tea\",\"Peet's Coffee & Tea\",\"Peet's Coffee & Tea\",\"Peet's Coffee & Tea\",\"Peet's Coffee & Tea\",\"Peet's Coffee & Tea\",\"Peet's Coffee & Tea\"],\"x0\":\" \",\"xaxis\":\"x\",\"y\":[163,3,1,1,3,1,8,1,3,14,7],\"y0\":\" \",\"yaxis\":\"y\",\"type\":\"box\",\"quartilemethod\":\"linear\"},{\"alignmentgroup\":\"True\",\"hovertemplate\":\"Coffee Chain=%{x}<br>Location Count=%{y}<extra></extra>\",\"legendgroup\":\"Tim Horton's\",\"marker\":{\"color\":\"#ab63fa\"},\"name\":\"Tim Horton's\",\"notched\":false,\"offsetgroup\":\"Tim Horton's\",\"orientation\":\"v\",\"showlegend\":true,\"x\":[\"Tim Horton's\",\"Tim Horton's\",\"Tim Horton's\",\"Tim Horton's\",\"Tim Horton's\",\"Tim Horton's\",\"Tim Horton's\",\"Tim Horton's\",\"Tim Horton's\",\"Tim Horton's\",\"Tim Horton's\",\"Tim Horton's\",\"Tim Horton's\",\"Tim Horton's\",\"Tim Horton's\",\"Tim Horton's\"],\"x0\":\" \",\"xaxis\":\"x\",\"y\":[10,1,5,3,5,27,191,7,1,2,100,105,9,26,1,7],\"y0\":\" \",\"yaxis\":\"y\",\"type\":\"box\",\"quartilemethod\":\"linear\"},{\"alignmentgroup\":\"True\",\"hovertemplate\":\"Coffee Chain=%{x}<br>Location Count=%{y}<extra></extra>\",\"legendgroup\":\"Panera Bread\",\"marker\":{\"color\":\"#FFA15A\"},\"name\":\"Panera Bread\",\"notched\":false,\"offsetgroup\":\"Panera Bread\",\"orientation\":\"v\",\"showlegend\":true,\"x\":[\"Panera Bread\",\"Panera Bread\",\"Panera Bread\",\"Panera Bread\",\"Panera Bread\",\"Panera Bread\",\"Panera Bread\",\"Panera Bread\",\"Panera Bread\",\"Panera Bread\",\"Panera Bread\",\"Panera Bread\",\"Panera Bread\",\"Panera Bread\",\"Panera Bread\",\"Panera Bread\",\"Panera Bread\",\"Panera Bread\",\"Panera Bread\",\"Panera Bread\",\"Panera Bread\",\"Panera Bread\",\"Panera Bread\",\"Panera Bread\",\"Panera Bread\",\"Panera Bread\",\"Panera Bread\",\"Panera Bread\",\"Panera Bread\",\"Panera Bread\",\"Panera Bread\",\"Panera Bread\",\"Panera Bread\",\"Panera Bread\",\"Panera Bread\",\"Panera Bread\",\"Panera Bread\",\"Panera Bread\",\"Panera Bread\",\"Panera Bread\",\"Panera Bread\",\"Panera Bread\",\"Panera Bread\",\"Panera Bread\",\"Panera Bread\",\"Panera Bread\"],\"x0\":\" \",\"xaxis\":\"x\",\"y\":[20,13,29,216,32,41,4,9,227,71,27,7,154,53,27,30,1,77,69,5,108,52,91,4,52,2,15,12,98,5,6,138,170,28,12,112,9,17,2,42,110,98,6,16,47,14],\"y0\":\" \",\"yaxis\":\"y\",\"type\":\"box\",\"quartilemethod\":\"linear\"},{\"alignmentgroup\":\"True\",\"hovertemplate\":\"Coffee Chain=%{x}<br>Location Count=%{y}<extra></extra>\",\"legendgroup\":\"Caribou Coffee\",\"marker\":{\"color\":\"#19d3f3\"},\"name\":\"Caribou Coffee\",\"notched\":false,\"offsetgroup\":\"Caribou Coffee\",\"orientation\":\"v\",\"showlegend\":true,\"x\":[\"Caribou Coffee\",\"Caribou Coffee\",\"Caribou Coffee\",\"Caribou Coffee\",\"Caribou Coffee\",\"Caribou Coffee\",\"Caribou Coffee\",\"Caribou Coffee\",\"Caribou Coffee\",\"Caribou Coffee\",\"Caribou Coffee\",\"Caribou Coffee\",\"Caribou Coffee\",\"Caribou Coffee\",\"Caribou Coffee\",\"Caribou Coffee\",\"Caribou Coffee\",\"Caribou Coffee\",\"Caribou Coffee\",\"Caribou Coffee\"],\"x0\":\" \",\"xaxis\":\"x\",\"y\":[9,8,25,11,81,1,5,9,30,312,2,26,7,5,46,1,6,4,19,16],\"y0\":\" \",\"yaxis\":\"y\",\"type\":\"box\",\"quartilemethod\":\"linear\"},{\"alignmentgroup\":\"True\",\"hovertemplate\":\"Coffee Chain=%{x}<br>Location Count=%{y}<extra></extra>\",\"legendgroup\":\"Au Bon Pain\",\"marker\":{\"color\":\"#FF6692\"},\"name\":\"Au Bon Pain\",\"notched\":false,\"offsetgroup\":\"Au Bon Pain\",\"orientation\":\"v\",\"showlegend\":true,\"x\":[\"Au Bon Pain\",\"Au Bon Pain\",\"Au Bon Pain\",\"Au Bon Pain\",\"Au Bon Pain\",\"Au Bon Pain\",\"Au Bon Pain\",\"Au Bon Pain\",\"Au Bon Pain\",\"Au Bon Pain\",\"Au Bon Pain\",\"Au Bon Pain\",\"Au Bon Pain\",\"Au Bon Pain\",\"Au Bon Pain\",\"Au Bon Pain\",\"Au Bon Pain\",\"Au Bon Pain\",\"Au Bon Pain\",\"Au Bon Pain\",\"Au Bon Pain\",\"Au Bon Pain\"],\"x0\":\" \",\"xaxis\":\"x\",\"y\":[8,21,23,3,32,8,1,67,9,1,6,5,3,6,10,1,58,10,28,6,16,10],\"y0\":\" \",\"yaxis\":\"y\",\"type\":\"box\",\"quartilemethod\":\"linear\"},{\"alignmentgroup\":\"True\",\"hovertemplate\":\"Coffee Chain=%{x}<br>Location Count=%{y}<extra></extra>\",\"legendgroup\":\"The Coffee Bean & Tea Leaf\",\"marker\":{\"color\":\"#B6E880\"},\"name\":\"The Coffee Bean & Tea Leaf\",\"notched\":false,\"offsetgroup\":\"The Coffee Bean & Tea Leaf\",\"orientation\":\"v\",\"showlegend\":true,\"x\":[\"The Coffee Bean & Tea Leaf\",\"The Coffee Bean & Tea Leaf\",\"The Coffee Bean & Tea Leaf\",\"The Coffee Bean & Tea Leaf\",\"The Coffee Bean & Tea Leaf\",\"The Coffee Bean & Tea Leaf\",\"The Coffee Bean & Tea Leaf\",\"The Coffee Bean & Tea Leaf\",\"The Coffee Bean & Tea Leaf\"],\"x0\":\" \",\"xaxis\":\"x\",\"y\":[19,175,1,2,22,22,1,23,5],\"y0\":\" \",\"yaxis\":\"y\",\"type\":\"box\",\"quartilemethod\":\"linear\"},{\"alignmentgroup\":\"True\",\"hovertemplate\":\"Coffee Chain=%{x}<br>Location Count=%{y}<extra></extra>\",\"legendgroup\":\"McDonald's\",\"marker\":{\"color\":\"#FF97FF\"},\"name\":\"McDonald's\",\"notched\":false,\"offsetgroup\":\"McDonald's\",\"orientation\":\"v\",\"showlegend\":true,\"x\":[\"McDonald's\",\"McDonald's\",\"McDonald's\",\"McDonald's\",\"McDonald's\",\"McDonald's\",\"McDonald's\",\"McDonald's\",\"McDonald's\",\"McDonald's\",\"McDonald's\",\"McDonald's\",\"McDonald's\",\"McDonald's\",\"McDonald's\",\"McDonald's\",\"McDonald's\",\"McDonald's\",\"McDonald's\",\"McDonald's\",\"McDonald's\",\"McDonald's\",\"McDonald's\",\"McDonald's\",\"McDonald's\",\"McDonald's\",\"McDonald's\",\"McDonald's\",\"McDonald's\",\"McDonald's\",\"McDonald's\",\"McDonald's\",\"McDonald's\",\"McDonald's\",\"McDonald's\",\"McDonald's\",\"McDonald's\",\"McDonald's\",\"McDonald's\",\"McDonald's\",\"McDonald's\",\"McDonald's\",\"McDonald's\",\"McDonald's\",\"McDonald's\",\"McDonald's\",\"McDonald's\",\"McDonald's\",\"McDonald's\",\"McDonald's\",\"McDonald's\",\"McDonald's\",\"McDonald's\"],\"x0\":\" \",\"xaxis\":\"x\",\"y\":[33,33,279,190,326,1623,237,173,37,46,1142,563,74,74,181,71,791,406,188,283,291,306,402,72,662,305,396,165,58,475,29,90,72,335,106,169,811,843,220,209,603,45,258,36,409,1303,145,473,30,326,353,107,34],\"y0\":\" \",\"yaxis\":\"y\",\"type\":\"box\",\"quartilemethod\":\"linear\"}],                        {\"template\":{\"data\":{\"histogram2dcontour\":[{\"type\":\"histogram2dcontour\",\"colorbar\":{\"outlinewidth\":0,\"ticks\":\"\"},\"colorscale\":[[0.0,\"#0d0887\"],[0.1111111111111111,\"#46039f\"],[0.2222222222222222,\"#7201a8\"],[0.3333333333333333,\"#9c179e\"],[0.4444444444444444,\"#bd3786\"],[0.5555555555555556,\"#d8576b\"],[0.6666666666666666,\"#ed7953\"],[0.7777777777777778,\"#fb9f3a\"],[0.8888888888888888,\"#fdca26\"],[1.0,\"#f0f921\"]]}],\"choropleth\":[{\"type\":\"choropleth\",\"colorbar\":{\"outlinewidth\":0,\"ticks\":\"\"}}],\"histogram2d\":[{\"type\":\"histogram2d\",\"colorbar\":{\"outlinewidth\":0,\"ticks\":\"\"},\"colorscale\":[[0.0,\"#0d0887\"],[0.1111111111111111,\"#46039f\"],[0.2222222222222222,\"#7201a8\"],[0.3333333333333333,\"#9c179e\"],[0.4444444444444444,\"#bd3786\"],[0.5555555555555556,\"#d8576b\"],[0.6666666666666666,\"#ed7953\"],[0.7777777777777778,\"#fb9f3a\"],[0.8888888888888888,\"#fdca26\"],[1.0,\"#f0f921\"]]}],\"heatmap\":[{\"type\":\"heatmap\",\"colorbar\":{\"outlinewidth\":0,\"ticks\":\"\"},\"colorscale\":[[0.0,\"#0d0887\"],[0.1111111111111111,\"#46039f\"],[0.2222222222222222,\"#7201a8\"],[0.3333333333333333,\"#9c179e\"],[0.4444444444444444,\"#bd3786\"],[0.5555555555555556,\"#d8576b\"],[0.6666666666666666,\"#ed7953\"],[0.7777777777777778,\"#fb9f3a\"],[0.8888888888888888,\"#fdca26\"],[1.0,\"#f0f921\"]]}],\"heatmapgl\":[{\"type\":\"heatmapgl\",\"colorbar\":{\"outlinewidth\":0,\"ticks\":\"\"},\"colorscale\":[[0.0,\"#0d0887\"],[0.1111111111111111,\"#46039f\"],[0.2222222222222222,\"#7201a8\"],[0.3333333333333333,\"#9c179e\"],[0.4444444444444444,\"#bd3786\"],[0.5555555555555556,\"#d8576b\"],[0.6666666666666666,\"#ed7953\"],[0.7777777777777778,\"#fb9f3a\"],[0.8888888888888888,\"#fdca26\"],[1.0,\"#f0f921\"]]}],\"contourcarpet\":[{\"type\":\"contourcarpet\",\"colorbar\":{\"outlinewidth\":0,\"ticks\":\"\"}}],\"contour\":[{\"type\":\"contour\",\"colorbar\":{\"outlinewidth\":0,\"ticks\":\"\"},\"colorscale\":[[0.0,\"#0d0887\"],[0.1111111111111111,\"#46039f\"],[0.2222222222222222,\"#7201a8\"],[0.3333333333333333,\"#9c179e\"],[0.4444444444444444,\"#bd3786\"],[0.5555555555555556,\"#d8576b\"],[0.6666666666666666,\"#ed7953\"],[0.7777777777777778,\"#fb9f3a\"],[0.8888888888888888,\"#fdca26\"],[1.0,\"#f0f921\"]]}],\"surface\":[{\"type\":\"surface\",\"colorbar\":{\"outlinewidth\":0,\"ticks\":\"\"},\"colorscale\":[[0.0,\"#0d0887\"],[0.1111111111111111,\"#46039f\"],[0.2222222222222222,\"#7201a8\"],[0.3333333333333333,\"#9c179e\"],[0.4444444444444444,\"#bd3786\"],[0.5555555555555556,\"#d8576b\"],[0.6666666666666666,\"#ed7953\"],[0.7777777777777778,\"#fb9f3a\"],[0.8888888888888888,\"#fdca26\"],[1.0,\"#f0f921\"]]}],\"mesh3d\":[{\"type\":\"mesh3d\",\"colorbar\":{\"outlinewidth\":0,\"ticks\":\"\"}}],\"scatter\":[{\"fillpattern\":{\"fillmode\":\"overlay\",\"size\":10,\"solidity\":0.2},\"type\":\"scatter\"}],\"parcoords\":[{\"type\":\"parcoords\",\"line\":{\"colorbar\":{\"outlinewidth\":0,\"ticks\":\"\"}}}],\"scatterpolargl\":[{\"type\":\"scatterpolargl\",\"marker\":{\"colorbar\":{\"outlinewidth\":0,\"ticks\":\"\"}}}],\"bar\":[{\"error_x\":{\"color\":\"#2a3f5f\"},\"error_y\":{\"color\":\"#2a3f5f\"},\"marker\":{\"line\":{\"color\":\"#E5ECF6\",\"width\":0.5},\"pattern\":{\"fillmode\":\"overlay\",\"size\":10,\"solidity\":0.2}},\"type\":\"bar\"}],\"scattergeo\":[{\"type\":\"scattergeo\",\"marker\":{\"colorbar\":{\"outlinewidth\":0,\"ticks\":\"\"}}}],\"scatterpolar\":[{\"type\":\"scatterpolar\",\"marker\":{\"colorbar\":{\"outlinewidth\":0,\"ticks\":\"\"}}}],\"histogram\":[{\"marker\":{\"pattern\":{\"fillmode\":\"overlay\",\"size\":10,\"solidity\":0.2}},\"type\":\"histogram\"}],\"scattergl\":[{\"type\":\"scattergl\",\"marker\":{\"colorbar\":{\"outlinewidth\":0,\"ticks\":\"\"}}}],\"scatter3d\":[{\"type\":\"scatter3d\",\"line\":{\"colorbar\":{\"outlinewidth\":0,\"ticks\":\"\"}},\"marker\":{\"colorbar\":{\"outlinewidth\":0,\"ticks\":\"\"}}}],\"scattermapbox\":[{\"type\":\"scattermapbox\",\"marker\":{\"colorbar\":{\"outlinewidth\":0,\"ticks\":\"\"}}}],\"scatterternary\":[{\"type\":\"scatterternary\",\"marker\":{\"colorbar\":{\"outlinewidth\":0,\"ticks\":\"\"}}}],\"scattercarpet\":[{\"type\":\"scattercarpet\",\"marker\":{\"colorbar\":{\"outlinewidth\":0,\"ticks\":\"\"}}}],\"carpet\":[{\"aaxis\":{\"endlinecolor\":\"#2a3f5f\",\"gridcolor\":\"white\",\"linecolor\":\"white\",\"minorgridcolor\":\"white\",\"startlinecolor\":\"#2a3f5f\"},\"baxis\":{\"endlinecolor\":\"#2a3f5f\",\"gridcolor\":\"white\",\"linecolor\":\"white\",\"minorgridcolor\":\"white\",\"startlinecolor\":\"#2a3f5f\"},\"type\":\"carpet\"}],\"table\":[{\"cells\":{\"fill\":{\"color\":\"#EBF0F8\"},\"line\":{\"color\":\"white\"}},\"header\":{\"fill\":{\"color\":\"#C8D4E3\"},\"line\":{\"color\":\"white\"}},\"type\":\"table\"}],\"barpolar\":[{\"marker\":{\"line\":{\"color\":\"#E5ECF6\",\"width\":0.5},\"pattern\":{\"fillmode\":\"overlay\",\"size\":10,\"solidity\":0.2}},\"type\":\"barpolar\"}],\"pie\":[{\"automargin\":true,\"type\":\"pie\"}]},\"layout\":{\"autotypenumbers\":\"strict\",\"colorway\":[\"#636efa\",\"#EF553B\",\"#00cc96\",\"#ab63fa\",\"#FFA15A\",\"#19d3f3\",\"#FF6692\",\"#B6E880\",\"#FF97FF\",\"#FECB52\"],\"font\":{\"color\":\"#2a3f5f\"},\"hovermode\":\"closest\",\"hoverlabel\":{\"align\":\"left\"},\"paper_bgcolor\":\"white\",\"plot_bgcolor\":\"#E5ECF6\",\"polar\":{\"bgcolor\":\"#E5ECF6\",\"angularaxis\":{\"gridcolor\":\"white\",\"linecolor\":\"white\",\"ticks\":\"\"},\"radialaxis\":{\"gridcolor\":\"white\",\"linecolor\":\"white\",\"ticks\":\"\"}},\"ternary\":{\"bgcolor\":\"#E5ECF6\",\"aaxis\":{\"gridcolor\":\"white\",\"linecolor\":\"white\",\"ticks\":\"\"},\"baxis\":{\"gridcolor\":\"white\",\"linecolor\":\"white\",\"ticks\":\"\"},\"caxis\":{\"gridcolor\":\"white\",\"linecolor\":\"white\",\"ticks\":\"\"}},\"coloraxis\":{\"colorbar\":{\"outlinewidth\":0,\"ticks\":\"\"}},\"colorscale\":{\"sequential\":[[0.0,\"#0d0887\"],[0.1111111111111111,\"#46039f\"],[0.2222222222222222,\"#7201a8\"],[0.3333333333333333,\"#9c179e\"],[0.4444444444444444,\"#bd3786\"],[0.5555555555555556,\"#d8576b\"],[0.6666666666666666,\"#ed7953\"],[0.7777777777777778,\"#fb9f3a\"],[0.8888888888888888,\"#fdca26\"],[1.0,\"#f0f921\"]],\"sequentialminus\":[[0.0,\"#0d0887\"],[0.1111111111111111,\"#46039f\"],[0.2222222222222222,\"#7201a8\"],[0.3333333333333333,\"#9c179e\"],[0.4444444444444444,\"#bd3786\"],[0.5555555555555556,\"#d8576b\"],[0.6666666666666666,\"#ed7953\"],[0.7777777777777778,\"#fb9f3a\"],[0.8888888888888888,\"#fdca26\"],[1.0,\"#f0f921\"]],\"diverging\":[[0,\"#8e0152\"],[0.1,\"#c51b7d\"],[0.2,\"#de77ae\"],[0.3,\"#f1b6da\"],[0.4,\"#fde0ef\"],[0.5,\"#f7f7f7\"],[0.6,\"#e6f5d0\"],[0.7,\"#b8e186\"],[0.8,\"#7fbc41\"],[0.9,\"#4d9221\"],[1,\"#276419\"]]},\"xaxis\":{\"gridcolor\":\"white\",\"linecolor\":\"white\",\"ticks\":\"\",\"title\":{\"standoff\":15},\"zerolinecolor\":\"white\",\"automargin\":true,\"zerolinewidth\":2},\"yaxis\":{\"gridcolor\":\"white\",\"linecolor\":\"white\",\"ticks\":\"\",\"title\":{\"standoff\":15},\"zerolinecolor\":\"white\",\"automargin\":true,\"zerolinewidth\":2},\"scene\":{\"xaxis\":{\"backgroundcolor\":\"#E5ECF6\",\"gridcolor\":\"white\",\"linecolor\":\"white\",\"showbackground\":true,\"ticks\":\"\",\"zerolinecolor\":\"white\",\"gridwidth\":2},\"yaxis\":{\"backgroundcolor\":\"#E5ECF6\",\"gridcolor\":\"white\",\"linecolor\":\"white\",\"showbackground\":true,\"ticks\":\"\",\"zerolinecolor\":\"white\",\"gridwidth\":2},\"zaxis\":{\"backgroundcolor\":\"#E5ECF6\",\"gridcolor\":\"white\",\"linecolor\":\"white\",\"showbackground\":true,\"ticks\":\"\",\"zerolinecolor\":\"white\",\"gridwidth\":2}},\"shapedefaults\":{\"line\":{\"color\":\"#2a3f5f\"}},\"annotationdefaults\":{\"arrowcolor\":\"#2a3f5f\",\"arrowhead\":0,\"arrowwidth\":1},\"geo\":{\"bgcolor\":\"white\",\"landcolor\":\"#E5ECF6\",\"subunitcolor\":\"white\",\"showland\":true,\"showlakes\":true,\"lakecolor\":\"white\"},\"title\":{\"x\":0.05},\"mapbox\":{\"style\":\"light\"}}},\"xaxis\":{\"anchor\":\"y\",\"domain\":[0.0,1.0],\"title\":{\"text\":\"Coffee Chain\"},\"categoryorder\":\"array\",\"categoryarray\":[\"Starbucks\",\"Dunkin' Donuts\",\"Peet's Coffee & Tea\",\"Tim Horton's\",\"Panera Bread\",\"Caribou Coffee\",\"Au Bon Pain\",\"The Coffee Bean & Tea Leaf\",\"McDonald's\"]},\"yaxis\":{\"anchor\":\"x\",\"domain\":[0.0,1.0],\"title\":{\"text\":\"Location Count\"}},\"legend\":{\"title\":{\"text\":\"Coffee Chain\"},\"tracegroupgap\":0},\"margin\":{\"t\":60},\"boxmode\":\"overlay\"},                        {\"responsive\": true}                    ).then(function(){\n",
       "                            \n",
       "var gd = document.getElementById('ec3872da-efea-485b-9c7c-04b1f0c55ade');\n",
       "var x = new MutationObserver(function (mutations, observer) {{\n",
       "        var display = window.getComputedStyle(gd).display;\n",
       "        if (!display || display === 'none') {{\n",
       "            console.log([gd, 'removed!']);\n",
       "            Plotly.purge(gd);\n",
       "            observer.disconnect();\n",
       "        }}\n",
       "}});\n",
       "\n",
       "// Listen for the removal of the full notebook cells\n",
       "var notebookContainer = gd.closest('#notebook-container');\n",
       "if (notebookContainer) {{\n",
       "    x.observe(notebookContainer, {childList: true});\n",
       "}}\n",
       "\n",
       "// Listen for the clearing of the current output cell\n",
       "var outputEl = gd.closest('.output');\n",
       "if (outputEl) {{\n",
       "    x.observe(outputEl, {childList: true});\n",
       "}}\n",
       "\n",
       "                        })                };                });            </script>        </div>"
      ]
     },
     "metadata": {},
     "output_type": "display_data"
    }
   ],
   "source": [
    "#creating boxplots for location counts by coffee chain\n",
    "fig_boxplot_coffee_shops2 = px.box(coffee_clean, x='Coffee Chain', y='Location Count', color='Coffee Chain')\n",
    "fig_boxplot_coffee_shops2.update_traces(quartilemethod=\"linear\")\n",
    "fig_boxplot_coffee_shops2.show()"
   ]
  },
  {
   "cell_type": "markdown",
   "id": "84668ea5",
   "metadata": {},
   "source": [
    "### When we visualize the counts of the chains by region, we see that in certain regions there are simply more restaurants than in others. Some things to note are that the prevalene of Dunkin Donuts is highest in the Northeast and McDonald's has higher prevalence in the Midwest. Starbucks seems to be fairly distributed except for in Alaska and Hawaii. However, Starbucks has quite a longer tail at the higher values of counts in the west."
   ]
  },
  {
   "cell_type": "code",
   "execution_count": 317,
   "id": "53db68f3",
   "metadata": {},
   "outputs": [
    {
     "data": {
      "application/vnd.plotly.v1+json": {
       "config": {
        "plotlyServerURL": "https://plot.ly"
       },
       "data": [
        {
         "alignmentgroup": "True",
         "hovertemplate": "Coffee Chain=%{x}<br>Region=West<br>Location Count=%{y}<extra></extra>",
         "legendgroup": "Starbucks",
         "marker": {
          "color": "#636efa"
         },
         "name": "Starbucks",
         "notched": false,
         "offsetgroup": "Starbucks",
         "orientation": "v",
         "quartilemethod": "linear",
         "showlegend": true,
         "type": "box",
         "x": [
          "Starbucks",
          "Starbucks",
          "Starbucks",
          "Starbucks",
          "Starbucks",
          "Starbucks",
          "Starbucks",
          "Starbucks",
          "Starbucks",
          "Starbucks",
          "Starbucks",
          "Starbucks",
          "Starbucks"
         ],
         "x0": " ",
         "xaxis": "x",
         "y": [
          24,
          279,
          2362,
          371,
          72,
          57,
          17,
          56,
          188,
          279,
          59,
          634,
          16
         ],
         "y0": " ",
         "yaxis": "y"
        },
        {
         "alignmentgroup": "True",
         "hovertemplate": "Coffee Chain=%{x}<br>Region=Pacific<br>Location Count=%{y}<extra></extra>",
         "legendgroup": "Starbucks",
         "marker": {
          "color": "#636efa"
         },
         "name": "Starbucks",
         "notched": false,
         "offsetgroup": "Starbucks",
         "orientation": "v",
         "quartilemethod": "linear",
         "showlegend": false,
         "type": "box",
         "x": [
          "Starbucks",
          "Starbucks"
         ],
         "x0": " ",
         "xaxis": "x2",
         "y": [
          24,
          72
         ],
         "y0": " ",
         "yaxis": "y2"
        },
        {
         "alignmentgroup": "True",
         "hovertemplate": "Coffee Chain=%{x}<br>Region=South<br>Location Count=%{y}<extra></extra>",
         "legendgroup": "Starbucks",
         "marker": {
          "color": "#636efa"
         },
         "name": "Starbucks",
         "notched": false,
         "offsetgroup": "Starbucks",
         "orientation": "v",
         "quartilemethod": "linear",
         "showlegend": false,
         "type": "box",
         "x": [
          "Starbucks",
          "Starbucks",
          "Starbucks",
          "Starbucks",
          "Starbucks",
          "Starbucks",
          "Starbucks",
          "Starbucks",
          "Starbucks",
          "Starbucks",
          "Starbucks",
          "Starbucks",
          "Starbucks",
          "Starbucks",
          "Starbucks",
          "Starbucks",
          "Starbucks"
         ],
         "x0": " ",
         "xaxis": "x3",
         "y": [
          73,
          33,
          72,
          20,
          616,
          248,
          69,
          76,
          212,
          23,
          181,
          62,
          65,
          126,
          720,
          300,
          13
         ],
         "y0": " ",
         "yaxis": "y3"
        },
        {
         "alignmentgroup": "True",
         "hovertemplate": "Coffee Chain=%{x}<br>Region=Northeast<br>Location Count=%{y}<extra></extra>",
         "legendgroup": "Starbucks",
         "marker": {
          "color": "#636efa"
         },
         "name": "Starbucks",
         "notched": false,
         "offsetgroup": "Starbucks",
         "orientation": "v",
         "quartilemethod": "linear",
         "showlegend": false,
         "type": "box",
         "x": [
          "Starbucks",
          "Starbucks",
          "Starbucks",
          "Starbucks",
          "Starbucks",
          "Starbucks",
          "Starbucks",
          "Starbucks",
          "Starbucks"
         ],
         "x0": " ",
         "xaxis": "x4",
         "y": [
          107,
          208,
          22,
          22,
          154,
          492,
          279,
          21,
          6
         ],
         "y0": " ",
         "yaxis": "y4"
        },
        {
         "alignmentgroup": "True",
         "hovertemplate": "Coffee Chain=%{x}<br>Region=Midwest<br>Location Count=%{y}<extra></extra>",
         "legendgroup": "Starbucks",
         "marker": {
          "color": "#636efa"
         },
         "name": "Starbucks",
         "notched": false,
         "offsetgroup": "Starbucks",
         "orientation": "v",
         "quartilemethod": "linear",
         "showlegend": false,
         "type": "box",
         "x": [
          "Starbucks",
          "Starbucks",
          "Starbucks",
          "Starbucks",
          "Starbucks",
          "Starbucks",
          "Starbucks",
          "Starbucks",
          "Starbucks",
          "Starbucks",
          "Starbucks",
          "Starbucks"
         ],
         "x0": " ",
         "xaxis": "x5",
         "y": [
          49,
          455,
          193,
          65,
          196,
          140,
          118,
          15,
          30,
          266,
          14,
          119
         ],
         "y0": " ",
         "yaxis": "y5"
        },
        {
         "alignmentgroup": "True",
         "hovertemplate": "Coffee Chain=%{x}<br>Region=West<br>Location Count=%{y}<extra></extra>",
         "legendgroup": "Dunkin' Donuts",
         "marker": {
          "color": "#EF553B"
         },
         "name": "Dunkin' Donuts",
         "notched": false,
         "offsetgroup": "Dunkin' Donuts",
         "orientation": "v",
         "quartilemethod": "linear",
         "showlegend": true,
         "type": "box",
         "x": [
          "Dunkin' Donuts",
          "Dunkin' Donuts",
          "Dunkin' Donuts",
          "Dunkin' Donuts",
          "Dunkin' Donuts",
          "Dunkin' Donuts",
          "Dunkin' Donuts",
          "Dunkin' Donuts",
          "Dunkin' Donuts"
         ],
         "x0": " ",
         "xaxis": "x",
         "y": [
          74,
          46,
          5,
          1,
          7,
          26,
          1,
          7,
          2
         ],
         "y0": " ",
         "yaxis": "y"
        },
        {
         "alignmentgroup": "True",
         "hovertemplate": "Coffee Chain=%{x}<br>Region=Pacific<br>Location Count=%{y}<extra></extra>",
         "legendgroup": "Dunkin' Donuts",
         "marker": {
          "color": "#EF553B"
         },
         "name": "Dunkin' Donuts",
         "notched": false,
         "offsetgroup": "Dunkin' Donuts",
         "orientation": "v",
         "quartilemethod": "linear",
         "showlegend": false,
         "type": "box",
         "x": [
          "Dunkin' Donuts"
         ],
         "x0": " ",
         "xaxis": "x2",
         "y": [
          1
         ],
         "y0": " ",
         "yaxis": "y2"
        },
        {
         "alignmentgroup": "True",
         "hovertemplate": "Coffee Chain=%{x}<br>Region=South<br>Location Count=%{y}<extra></extra>",
         "legendgroup": "Dunkin' Donuts",
         "marker": {
          "color": "#EF553B"
         },
         "name": "Dunkin' Donuts",
         "notched": false,
         "offsetgroup": "Dunkin' Donuts",
         "orientation": "v",
         "quartilemethod": "linear",
         "showlegend": false,
         "type": "box",
         "x": [
          "Dunkin' Donuts",
          "Dunkin' Donuts",
          "Dunkin' Donuts",
          "Dunkin' Donuts",
          "Dunkin' Donuts",
          "Dunkin' Donuts",
          "Dunkin' Donuts",
          "Dunkin' Donuts",
          "Dunkin' Donuts",
          "Dunkin' Donuts",
          "Dunkin' Donuts",
          "Dunkin' Donuts",
          "Dunkin' Donuts",
          "Dunkin' Donuts",
          "Dunkin' Donuts",
          "Dunkin' Donuts",
          "Dunkin' Donuts"
         ],
         "x0": " ",
         "xaxis": "x3",
         "y": [
          1,
          11,
          15,
          57,
          654,
          147,
          34,
          5,
          201,
          3,
          63,
          6,
          15,
          55,
          93,
          147,
          5
         ],
         "y0": " ",
         "yaxis": "y3"
        },
        {
         "alignmentgroup": "True",
         "hovertemplate": "Coffee Chain=%{x}<br>Region=Northeast<br>Location Count=%{y}<extra></extra>",
         "legendgroup": "Dunkin' Donuts",
         "marker": {
          "color": "#EF553B"
         },
         "name": "Dunkin' Donuts",
         "notched": false,
         "offsetgroup": "Dunkin' Donuts",
         "orientation": "v",
         "quartilemethod": "linear",
         "showlegend": false,
         "type": "box",
         "x": [
          "Dunkin' Donuts",
          "Dunkin' Donuts",
          "Dunkin' Donuts",
          "Dunkin' Donuts",
          "Dunkin' Donuts",
          "Dunkin' Donuts",
          "Dunkin' Donuts",
          "Dunkin' Donuts",
          "Dunkin' Donuts"
         ],
         "x0": " ",
         "xaxis": "x4",
         "y": [
          406,
          1101,
          102,
          185,
          477,
          1022,
          402,
          142,
          34
         ],
         "y0": " ",
         "yaxis": "y4"
        },
        {
         "alignmentgroup": "True",
         "hovertemplate": "Coffee Chain=%{x}<br>Region=Midwest<br>Location Count=%{y}<extra></extra>",
         "legendgroup": "Dunkin' Donuts",
         "marker": {
          "color": "#EF553B"
         },
         "name": "Dunkin' Donuts",
         "notched": false,
         "offsetgroup": "Dunkin' Donuts",
         "orientation": "v",
         "quartilemethod": "linear",
         "showlegend": false,
         "type": "box",
         "x": [
          "Dunkin' Donuts",
          "Dunkin' Donuts",
          "Dunkin' Donuts",
          "Dunkin' Donuts",
          "Dunkin' Donuts",
          "Dunkin' Donuts",
          "Dunkin' Donuts",
          "Dunkin' Donuts",
          "Dunkin' Donuts",
          "Dunkin' Donuts"
         ],
         "x0": " ",
         "xaxis": "x5",
         "y": [
          14,
          579,
          51,
          12,
          91,
          6,
          21,
          9,
          116,
          30
         ],
         "y0": " ",
         "yaxis": "y5"
        },
        {
         "alignmentgroup": "True",
         "hovertemplate": "Coffee Chain=%{x}<br>Region=West<br>Location Count=%{y}<extra></extra>",
         "legendgroup": "Peet's Coffee & Tea",
         "marker": {
          "color": "#00cc96"
         },
         "name": "Peet's Coffee & Tea",
         "notched": false,
         "offsetgroup": "Peet's Coffee & Tea",
         "orientation": "v",
         "quartilemethod": "linear",
         "showlegend": true,
         "type": "box",
         "x": [
          "Peet's Coffee & Tea",
          "Peet's Coffee & Tea",
          "Peet's Coffee & Tea",
          "Peet's Coffee & Tea",
          "Peet's Coffee & Tea",
          "Peet's Coffee & Tea"
         ],
         "x0": " ",
         "xaxis": "x",
         "y": [
          163,
          3,
          1,
          1,
          8,
          14
         ],
         "y0": " ",
         "yaxis": "y"
        },
        {
         "alignmentgroup": "True",
         "hovertemplate": "Coffee Chain=%{x}<br>Region=Pacific<br>Location Count=%{y}<extra></extra>",
         "legendgroup": "Peet's Coffee & Tea",
         "marker": {
          "color": "#00cc96"
         },
         "name": "Peet's Coffee & Tea",
         "notched": false,
         "offsetgroup": "Peet's Coffee & Tea",
         "orientation": "v",
         "quartilemethod": "linear",
         "showlegend": false,
         "type": "box",
         "x": [
          "Peet's Coffee & Tea"
         ],
         "x0": " ",
         "xaxis": "x2",
         "y": [
          1
         ],
         "y0": " ",
         "yaxis": "y2"
        },
        {
         "alignmentgroup": "True",
         "hovertemplate": "Coffee Chain=%{x}<br>Region=South<br>Location Count=%{y}<extra></extra>",
         "legendgroup": "Peet's Coffee & Tea",
         "marker": {
          "color": "#00cc96"
         },
         "name": "Peet's Coffee & Tea",
         "notched": false,
         "offsetgroup": "Peet's Coffee & Tea",
         "orientation": "v",
         "quartilemethod": "linear",
         "showlegend": false,
         "type": "box",
         "x": [
          "Peet's Coffee & Tea"
         ],
         "x0": " ",
         "xaxis": "x3",
         "y": [
          3
         ],
         "y0": " ",
         "yaxis": "y3"
        },
        {
         "alignmentgroup": "True",
         "hovertemplate": "Coffee Chain=%{x}<br>Region=Northeast<br>Location Count=%{y}<extra></extra>",
         "legendgroup": "Peet's Coffee & Tea",
         "marker": {
          "color": "#00cc96"
         },
         "name": "Peet's Coffee & Tea",
         "notched": false,
         "offsetgroup": "Peet's Coffee & Tea",
         "orientation": "v",
         "quartilemethod": "linear",
         "showlegend": false,
         "type": "box",
         "x": [
          "Peet's Coffee & Tea",
          "Peet's Coffee & Tea"
         ],
         "x0": " ",
         "xaxis": "x4",
         "y": [
          1,
          7
         ],
         "y0": " ",
         "yaxis": "y4"
        },
        {
         "alignmentgroup": "True",
         "hovertemplate": "Coffee Chain=%{x}<br>Region=Midwest<br>Location Count=%{y}<extra></extra>",
         "legendgroup": "Peet's Coffee & Tea",
         "marker": {
          "color": "#00cc96"
         },
         "name": "Peet's Coffee & Tea",
         "notched": false,
         "offsetgroup": "Peet's Coffee & Tea",
         "orientation": "v",
         "quartilemethod": "linear",
         "showlegend": false,
         "type": "box",
         "x": [
          "Peet's Coffee & Tea"
         ],
         "x0": " ",
         "xaxis": "x5",
         "y": [
          3
         ],
         "y0": " ",
         "yaxis": "y5"
        },
        {
         "alignmentgroup": "True",
         "hovertemplate": "Coffee Chain=%{x}<br>Region=South<br>Location Count=%{y}<extra></extra>",
         "legendgroup": "Tim Horton's",
         "marker": {
          "color": "#ab63fa"
         },
         "name": "Tim Horton's",
         "notched": false,
         "offsetgroup": "Tim Horton's",
         "orientation": "v",
         "quartilemethod": "linear",
         "showlegend": true,
         "type": "box",
         "x": [
          "Tim Horton's",
          "Tim Horton's",
          "Tim Horton's",
          "Tim Horton's"
         ],
         "x0": " ",
         "xaxis": "x3",
         "y": [
          1,
          3,
          1,
          7
         ],
         "y0": " ",
         "yaxis": "y3"
        },
        {
         "alignmentgroup": "True",
         "hovertemplate": "Coffee Chain=%{x}<br>Region=Northeast<br>Location Count=%{y}<extra></extra>",
         "legendgroup": "Tim Horton's",
         "marker": {
          "color": "#ab63fa"
         },
         "name": "Tim Horton's",
         "notched": false,
         "offsetgroup": "Tim Horton's",
         "orientation": "v",
         "quartilemethod": "linear",
         "showlegend": false,
         "type": "box",
         "x": [
          "Tim Horton's",
          "Tim Horton's",
          "Tim Horton's",
          "Tim Horton's",
          "Tim Horton's",
          "Tim Horton's",
          "Tim Horton's"
         ],
         "x0": " ",
         "xaxis": "x4",
         "y": [
          10,
          5,
          27,
          2,
          100,
          9,
          26
         ],
         "y0": " ",
         "yaxis": "y4"
        },
        {
         "alignmentgroup": "True",
         "hovertemplate": "Coffee Chain=%{x}<br>Region=Midwest<br>Location Count=%{y}<extra></extra>",
         "legendgroup": "Tim Horton's",
         "marker": {
          "color": "#ab63fa"
         },
         "name": "Tim Horton's",
         "notched": false,
         "offsetgroup": "Tim Horton's",
         "orientation": "v",
         "quartilemethod": "linear",
         "showlegend": false,
         "type": "box",
         "x": [
          "Tim Horton's",
          "Tim Horton's",
          "Tim Horton's",
          "Tim Horton's",
          "Tim Horton's"
         ],
         "x0": " ",
         "xaxis": "x5",
         "y": [
          5,
          191,
          7,
          1,
          105
         ],
         "y0": " ",
         "yaxis": "y5"
        },
        {
         "alignmentgroup": "True",
         "hovertemplate": "Coffee Chain=%{x}<br>Region=West<br>Location Count=%{y}<extra></extra>",
         "legendgroup": "Panera Bread",
         "marker": {
          "color": "#FFA15A"
         },
         "name": "Panera Bread",
         "notched": false,
         "offsetgroup": "Panera Bread",
         "orientation": "v",
         "quartilemethod": "linear",
         "showlegend": true,
         "type": "box",
         "x": [
          "Panera Bread",
          "Panera Bread",
          "Panera Bread",
          "Panera Bread",
          "Panera Bread",
          "Panera Bread",
          "Panera Bread",
          "Panera Bread"
         ],
         "x0": " ",
         "xaxis": "x",
         "y": [
          29,
          216,
          32,
          7,
          5,
          6,
          12,
          16
         ],
         "y0": " ",
         "yaxis": "y"
        },
        {
         "alignmentgroup": "True",
         "hovertemplate": "Coffee Chain=%{x}<br>Region=South<br>Location Count=%{y}<extra></extra>",
         "legendgroup": "Panera Bread",
         "marker": {
          "color": "#FFA15A"
         },
         "name": "Panera Bread",
         "notched": false,
         "offsetgroup": "Panera Bread",
         "orientation": "v",
         "quartilemethod": "linear",
         "showlegend": false,
         "type": "box",
         "x": [
          "Panera Bread",
          "Panera Bread",
          "Panera Bread",
          "Panera Bread",
          "Panera Bread",
          "Panera Bread",
          "Panera Bread",
          "Panera Bread",
          "Panera Bread",
          "Panera Bread",
          "Panera Bread",
          "Panera Bread",
          "Panera Bread",
          "Panera Bread",
          "Panera Bread",
          "Panera Bread",
          "Panera Bread"
         ],
         "x0": " ",
         "xaxis": "x3",
         "y": [
          20,
          13,
          4,
          9,
          227,
          71,
          30,
          1,
          69,
          4,
          52,
          28,
          17,
          42,
          110,
          98,
          14
         ],
         "y0": " ",
         "yaxis": "y3"
        },
        {
         "alignmentgroup": "True",
         "hovertemplate": "Coffee Chain=%{x}<br>Region=Northeast<br>Location Count=%{y}<extra></extra>",
         "legendgroup": "Panera Bread",
         "marker": {
          "color": "#FFA15A"
         },
         "name": "Panera Bread",
         "notched": false,
         "offsetgroup": "Panera Bread",
         "orientation": "v",
         "quartilemethod": "linear",
         "showlegend": false,
         "type": "box",
         "x": [
          "Panera Bread",
          "Panera Bread",
          "Panera Bread",
          "Panera Bread",
          "Panera Bread",
          "Panera Bread",
          "Panera Bread",
          "Panera Bread",
          "Panera Bread"
         ],
         "x0": " ",
         "xaxis": "x4",
         "y": [
          41,
          77,
          5,
          12,
          98,
          138,
          112,
          9,
          6
         ],
         "y0": " ",
         "yaxis": "y4"
        },
        {
         "alignmentgroup": "True",
         "hovertemplate": "Coffee Chain=%{x}<br>Region=Midwest<br>Location Count=%{y}<extra></extra>",
         "legendgroup": "Panera Bread",
         "marker": {
          "color": "#FFA15A"
         },
         "name": "Panera Bread",
         "notched": false,
         "offsetgroup": "Panera Bread",
         "orientation": "v",
         "quartilemethod": "linear",
         "showlegend": false,
         "type": "box",
         "x": [
          "Panera Bread",
          "Panera Bread",
          "Panera Bread",
          "Panera Bread",
          "Panera Bread",
          "Panera Bread",
          "Panera Bread",
          "Panera Bread",
          "Panera Bread",
          "Panera Bread",
          "Panera Bread",
          "Panera Bread"
         ],
         "x0": " ",
         "xaxis": "x5",
         "y": [
          27,
          154,
          53,
          27,
          108,
          52,
          91,
          2,
          15,
          170,
          2,
          47
         ],
         "y0": " ",
         "yaxis": "y5"
        },
        {
         "alignmentgroup": "True",
         "hovertemplate": "Coffee Chain=%{x}<br>Region=West<br>Location Count=%{y}<extra></extra>",
         "legendgroup": "Caribou Coffee",
         "marker": {
          "color": "#19d3f3"
         },
         "name": "Caribou Coffee",
         "notched": false,
         "offsetgroup": "Caribou Coffee",
         "orientation": "v",
         "quartilemethod": "linear",
         "showlegend": true,
         "type": "box",
         "x": [
          "Caribou Coffee",
          "Caribou Coffee"
         ],
         "x0": " ",
         "xaxis": "x",
         "y": [
          9,
          1
         ],
         "y0": " ",
         "yaxis": "y"
        },
        {
         "alignmentgroup": "True",
         "hovertemplate": "Coffee Chain=%{x}<br>Region=South<br>Location Count=%{y}<extra></extra>",
         "legendgroup": "Caribou Coffee",
         "marker": {
          "color": "#19d3f3"
         },
         "name": "Caribou Coffee",
         "notched": false,
         "offsetgroup": "Caribou Coffee",
         "orientation": "v",
         "quartilemethod": "linear",
         "showlegend": false,
         "type": "box",
         "x": [
          "Caribou Coffee",
          "Caribou Coffee",
          "Caribou Coffee",
          "Caribou Coffee",
          "Caribou Coffee"
         ],
         "x0": " ",
         "xaxis": "x3",
         "y": [
          8,
          25,
          9,
          26,
          19
         ],
         "y0": " ",
         "yaxis": "y3"
        },
        {
         "alignmentgroup": "True",
         "hovertemplate": "Coffee Chain=%{x}<br>Region=Northeast<br>Location Count=%{y}<extra></extra>",
         "legendgroup": "Caribou Coffee",
         "marker": {
          "color": "#19d3f3"
         },
         "name": "Caribou Coffee",
         "notched": false,
         "offsetgroup": "Caribou Coffee",
         "orientation": "v",
         "quartilemethod": "linear",
         "showlegend": false,
         "type": "box",
         "x": [
          "Caribou Coffee"
         ],
         "x0": " ",
         "xaxis": "x4",
         "y": [
          6
         ],
         "y0": " ",
         "yaxis": "y4"
        },
        {
         "alignmentgroup": "True",
         "hovertemplate": "Coffee Chain=%{x}<br>Region=Midwest<br>Location Count=%{y}<extra></extra>",
         "legendgroup": "Caribou Coffee",
         "marker": {
          "color": "#19d3f3"
         },
         "name": "Caribou Coffee",
         "notched": false,
         "offsetgroup": "Caribou Coffee",
         "orientation": "v",
         "quartilemethod": "linear",
         "showlegend": false,
         "type": "box",
         "x": [
          "Caribou Coffee",
          "Caribou Coffee",
          "Caribou Coffee",
          "Caribou Coffee",
          "Caribou Coffee",
          "Caribou Coffee",
          "Caribou Coffee",
          "Caribou Coffee",
          "Caribou Coffee",
          "Caribou Coffee",
          "Caribou Coffee",
          "Caribou Coffee"
         ],
         "x0": " ",
         "xaxis": "x5",
         "y": [
          11,
          81,
          1,
          5,
          30,
          312,
          2,
          7,
          5,
          46,
          4,
          16
         ],
         "y0": " ",
         "yaxis": "y5"
        },
        {
         "alignmentgroup": "True",
         "hovertemplate": "Coffee Chain=%{x}<br>Region=West<br>Location Count=%{y}<extra></extra>",
         "legendgroup": "Au Bon Pain",
         "marker": {
          "color": "#FF6692"
         },
         "name": "Au Bon Pain",
         "notched": false,
         "offsetgroup": "Au Bon Pain",
         "orientation": "v",
         "quartilemethod": "linear",
         "showlegend": true,
         "type": "box",
         "x": [
          "Au Bon Pain"
         ],
         "x0": " ",
         "xaxis": "x",
         "y": [
          1
         ],
         "y0": " ",
         "yaxis": "y"
        },
        {
         "alignmentgroup": "True",
         "hovertemplate": "Coffee Chain=%{x}<br>Region=South<br>Location Count=%{y}<extra></extra>",
         "legendgroup": "Au Bon Pain",
         "marker": {
          "color": "#FF6692"
         },
         "name": "Au Bon Pain",
         "notched": false,
         "offsetgroup": "Au Bon Pain",
         "orientation": "v",
         "quartilemethod": "linear",
         "showlegend": false,
         "type": "box",
         "x": [
          "Au Bon Pain",
          "Au Bon Pain",
          "Au Bon Pain",
          "Au Bon Pain",
          "Au Bon Pain",
          "Au Bon Pain",
          "Au Bon Pain"
         ],
         "x0": " ",
         "xaxis": "x3",
         "y": [
          21,
          23,
          3,
          1,
          9,
          16,
          10
         ],
         "y0": " ",
         "yaxis": "y3"
        },
        {
         "alignmentgroup": "True",
         "hovertemplate": "Coffee Chain=%{x}<br>Region=Northeast<br>Location Count=%{y}<extra></extra>",
         "legendgroup": "Au Bon Pain",
         "marker": {
          "color": "#FF6692"
         },
         "name": "Au Bon Pain",
         "notched": false,
         "offsetgroup": "Au Bon Pain",
         "orientation": "v",
         "quartilemethod": "linear",
         "showlegend": false,
         "type": "box",
         "x": [
          "Au Bon Pain",
          "Au Bon Pain",
          "Au Bon Pain",
          "Au Bon Pain",
          "Au Bon Pain",
          "Au Bon Pain",
          "Au Bon Pain",
          "Au Bon Pain"
         ],
         "x0": " ",
         "xaxis": "x4",
         "y": [
          8,
          67,
          1,
          6,
          10,
          58,
          28,
          6
         ],
         "y0": " ",
         "yaxis": "y4"
        },
        {
         "alignmentgroup": "True",
         "hovertemplate": "Coffee Chain=%{x}<br>Region=Midwest<br>Location Count=%{y}<extra></extra>",
         "legendgroup": "Au Bon Pain",
         "marker": {
          "color": "#FF6692"
         },
         "name": "Au Bon Pain",
         "notched": false,
         "offsetgroup": "Au Bon Pain",
         "orientation": "v",
         "quartilemethod": "linear",
         "showlegend": false,
         "type": "box",
         "x": [
          "Au Bon Pain",
          "Au Bon Pain",
          "Au Bon Pain",
          "Au Bon Pain",
          "Au Bon Pain",
          "Au Bon Pain"
         ],
         "x0": " ",
         "xaxis": "x5",
         "y": [
          32,
          8,
          6,
          5,
          3,
          10
         ],
         "y0": " ",
         "yaxis": "y5"
        },
        {
         "alignmentgroup": "True",
         "hovertemplate": "Coffee Chain=%{x}<br>Region=West<br>Location Count=%{y}<extra></extra>",
         "legendgroup": "The Coffee Bean & Tea Leaf",
         "marker": {
          "color": "#B6E880"
         },
         "name": "The Coffee Bean & Tea Leaf",
         "notched": false,
         "offsetgroup": "The Coffee Bean & Tea Leaf",
         "orientation": "v",
         "quartilemethod": "linear",
         "showlegend": true,
         "type": "box",
         "x": [
          "The Coffee Bean & Tea Leaf",
          "The Coffee Bean & Tea Leaf",
          "The Coffee Bean & Tea Leaf",
          "The Coffee Bean & Tea Leaf"
         ],
         "x0": " ",
         "xaxis": "x",
         "y": [
          19,
          175,
          22,
          23
         ],
         "y0": " ",
         "yaxis": "y"
        },
        {
         "alignmentgroup": "True",
         "hovertemplate": "Coffee Chain=%{x}<br>Region=Pacific<br>Location Count=%{y}<extra></extra>",
         "legendgroup": "The Coffee Bean & Tea Leaf",
         "marker": {
          "color": "#B6E880"
         },
         "name": "The Coffee Bean & Tea Leaf",
         "notched": false,
         "offsetgroup": "The Coffee Bean & Tea Leaf",
         "orientation": "v",
         "quartilemethod": "linear",
         "showlegend": false,
         "type": "box",
         "x": [
          "The Coffee Bean & Tea Leaf"
         ],
         "x0": " ",
         "xaxis": "x2",
         "y": [
          22
         ],
         "y0": " ",
         "yaxis": "y2"
        },
        {
         "alignmentgroup": "True",
         "hovertemplate": "Coffee Chain=%{x}<br>Region=South<br>Location Count=%{y}<extra></extra>",
         "legendgroup": "The Coffee Bean & Tea Leaf",
         "marker": {
          "color": "#B6E880"
         },
         "name": "The Coffee Bean & Tea Leaf",
         "notched": false,
         "offsetgroup": "The Coffee Bean & Tea Leaf",
         "orientation": "v",
         "quartilemethod": "linear",
         "showlegend": false,
         "type": "box",
         "x": [
          "The Coffee Bean & Tea Leaf",
          "The Coffee Bean & Tea Leaf",
          "The Coffee Bean & Tea Leaf",
          "The Coffee Bean & Tea Leaf"
         ],
         "x0": " ",
         "xaxis": "x3",
         "y": [
          1,
          2,
          1,
          5
         ],
         "y0": " ",
         "yaxis": "y3"
        },
        {
         "alignmentgroup": "True",
         "hovertemplate": "Coffee Chain=%{x}<br>Region=West<br>Location Count=%{y}<extra></extra>",
         "legendgroup": "McDonald's",
         "marker": {
          "color": "#FF97FF"
         },
         "name": "McDonald's",
         "notched": false,
         "offsetgroup": "McDonald's",
         "orientation": "v",
         "quartilemethod": "linear",
         "showlegend": true,
         "type": "box",
         "x": [
          "McDonald's",
          "McDonald's",
          "McDonald's",
          "McDonald's",
          "McDonald's",
          "McDonald's",
          "McDonald's",
          "McDonald's",
          "McDonald's",
          "McDonald's",
          "McDonald's",
          "McDonald's",
          "McDonald's"
         ],
         "x0": " ",
         "xaxis": "x",
         "y": [
          33,
          326,
          1623,
          237,
          74,
          71,
          58,
          106,
          169,
          209,
          145,
          326,
          34
         ],
         "y0": " ",
         "yaxis": "y"
        },
        {
         "alignmentgroup": "True",
         "hovertemplate": "Coffee Chain=%{x}<br>Region=Pacific<br>Location Count=%{y}<extra></extra>",
         "legendgroup": "McDonald's",
         "marker": {
          "color": "#FF97FF"
         },
         "name": "McDonald's",
         "notched": false,
         "offsetgroup": "McDonald's",
         "orientation": "v",
         "quartilemethod": "linear",
         "showlegend": false,
         "type": "box",
         "x": [
          "McDonald's",
          "McDonald's"
         ],
         "x0": " ",
         "xaxis": "x2",
         "y": [
          33,
          74
         ],
         "y0": " ",
         "yaxis": "y2"
        },
        {
         "alignmentgroup": "True",
         "hovertemplate": "Coffee Chain=%{x}<br>Region=South<br>Location Count=%{y}<extra></extra>",
         "legendgroup": "McDonald's",
         "marker": {
          "color": "#FF97FF"
         },
         "name": "McDonald's",
         "notched": false,
         "offsetgroup": "McDonald's",
         "orientation": "v",
         "quartilemethod": "linear",
         "showlegend": false,
         "type": "box",
         "x": [
          "McDonald's",
          "McDonald's",
          "McDonald's",
          "McDonald's",
          "McDonald's",
          "McDonald's",
          "McDonald's",
          "McDonald's",
          "McDonald's",
          "McDonald's",
          "McDonald's",
          "McDonald's",
          "McDonald's",
          "McDonald's",
          "McDonald's",
          "McDonald's",
          "McDonald's"
         ],
         "x0": " ",
         "xaxis": "x3",
         "y": [
          279,
          190,
          37,
          46,
          1142,
          563,
          283,
          291,
          402,
          165,
          475,
          220,
          258,
          409,
          1303,
          473,
          107
         ],
         "y0": " ",
         "yaxis": "y3"
        },
        {
         "alignmentgroup": "True",
         "hovertemplate": "Coffee Chain=%{x}<br>Region=Northeast<br>Location Count=%{y}<extra></extra>",
         "legendgroup": "McDonald's",
         "marker": {
          "color": "#FF97FF"
         },
         "name": "McDonald's",
         "notched": false,
         "offsetgroup": "McDonald's",
         "orientation": "v",
         "quartilemethod": "linear",
         "showlegend": false,
         "type": "box",
         "x": [
          "McDonald's",
          "McDonald's",
          "McDonald's",
          "McDonald's",
          "McDonald's",
          "McDonald's",
          "McDonald's",
          "McDonald's",
          "McDonald's"
         ],
         "x0": " ",
         "xaxis": "x4",
         "y": [
          173,
          306,
          72,
          72,
          335,
          811,
          603,
          45,
          30
         ],
         "y0": " ",
         "yaxis": "y4"
        },
        {
         "alignmentgroup": "True",
         "hovertemplate": "Coffee Chain=%{x}<br>Region=Midwest<br>Location Count=%{y}<extra></extra>",
         "legendgroup": "McDonald's",
         "marker": {
          "color": "#FF97FF"
         },
         "name": "McDonald's",
         "notched": false,
         "offsetgroup": "McDonald's",
         "orientation": "v",
         "quartilemethod": "linear",
         "showlegend": false,
         "type": "box",
         "x": [
          "McDonald's",
          "McDonald's",
          "McDonald's",
          "McDonald's",
          "McDonald's",
          "McDonald's",
          "McDonald's",
          "McDonald's",
          "McDonald's",
          "McDonald's",
          "McDonald's",
          "McDonald's"
         ],
         "x0": " ",
         "xaxis": "x5",
         "y": [
          181,
          791,
          406,
          188,
          662,
          305,
          396,
          29,
          90,
          843,
          36,
          353
         ],
         "y0": " ",
         "yaxis": "y5"
        }
       ],
       "layout": {
        "annotations": [
         {
          "font": {},
          "showarrow": false,
          "text": "Region=West",
          "x": 0.09200000000000001,
          "xanchor": "center",
          "xref": "paper",
          "y": 1,
          "yanchor": "bottom",
          "yref": "paper"
         },
         {
          "font": {},
          "showarrow": false,
          "text": "Region=Pacific",
          "x": 0.29600000000000004,
          "xanchor": "center",
          "xref": "paper",
          "y": 1,
          "yanchor": "bottom",
          "yref": "paper"
         },
         {
          "font": {},
          "showarrow": false,
          "text": "Region=South",
          "x": 0.5,
          "xanchor": "center",
          "xref": "paper",
          "y": 1,
          "yanchor": "bottom",
          "yref": "paper"
         },
         {
          "font": {},
          "showarrow": false,
          "text": "Region=Northeast",
          "x": 0.7040000000000002,
          "xanchor": "center",
          "xref": "paper",
          "y": 1,
          "yanchor": "bottom",
          "yref": "paper"
         },
         {
          "font": {},
          "showarrow": false,
          "text": "Region=Midwest",
          "x": 0.908,
          "xanchor": "center",
          "xref": "paper",
          "y": 1,
          "yanchor": "bottom",
          "yref": "paper"
         }
        ],
        "boxmode": "overlay",
        "height": 500,
        "legend": {
         "title": {
          "text": "Coffee Chain"
         },
         "tracegroupgap": 0
        },
        "margin": {
         "t": 60
        },
        "showlegend": false,
        "template": {
         "data": {
          "bar": [
           {
            "error_x": {
             "color": "#2a3f5f"
            },
            "error_y": {
             "color": "#2a3f5f"
            },
            "marker": {
             "line": {
              "color": "#E5ECF6",
              "width": 0.5
             },
             "pattern": {
              "fillmode": "overlay",
              "size": 10,
              "solidity": 0.2
             }
            },
            "type": "bar"
           }
          ],
          "barpolar": [
           {
            "marker": {
             "line": {
              "color": "#E5ECF6",
              "width": 0.5
             },
             "pattern": {
              "fillmode": "overlay",
              "size": 10,
              "solidity": 0.2
             }
            },
            "type": "barpolar"
           }
          ],
          "carpet": [
           {
            "aaxis": {
             "endlinecolor": "#2a3f5f",
             "gridcolor": "white",
             "linecolor": "white",
             "minorgridcolor": "white",
             "startlinecolor": "#2a3f5f"
            },
            "baxis": {
             "endlinecolor": "#2a3f5f",
             "gridcolor": "white",
             "linecolor": "white",
             "minorgridcolor": "white",
             "startlinecolor": "#2a3f5f"
            },
            "type": "carpet"
           }
          ],
          "choropleth": [
           {
            "colorbar": {
             "outlinewidth": 0,
             "ticks": ""
            },
            "type": "choropleth"
           }
          ],
          "contour": [
           {
            "colorbar": {
             "outlinewidth": 0,
             "ticks": ""
            },
            "colorscale": [
             [
              0,
              "#0d0887"
             ],
             [
              0.1111111111111111,
              "#46039f"
             ],
             [
              0.2222222222222222,
              "#7201a8"
             ],
             [
              0.3333333333333333,
              "#9c179e"
             ],
             [
              0.4444444444444444,
              "#bd3786"
             ],
             [
              0.5555555555555556,
              "#d8576b"
             ],
             [
              0.6666666666666666,
              "#ed7953"
             ],
             [
              0.7777777777777778,
              "#fb9f3a"
             ],
             [
              0.8888888888888888,
              "#fdca26"
             ],
             [
              1,
              "#f0f921"
             ]
            ],
            "type": "contour"
           }
          ],
          "contourcarpet": [
           {
            "colorbar": {
             "outlinewidth": 0,
             "ticks": ""
            },
            "type": "contourcarpet"
           }
          ],
          "heatmap": [
           {
            "colorbar": {
             "outlinewidth": 0,
             "ticks": ""
            },
            "colorscale": [
             [
              0,
              "#0d0887"
             ],
             [
              0.1111111111111111,
              "#46039f"
             ],
             [
              0.2222222222222222,
              "#7201a8"
             ],
             [
              0.3333333333333333,
              "#9c179e"
             ],
             [
              0.4444444444444444,
              "#bd3786"
             ],
             [
              0.5555555555555556,
              "#d8576b"
             ],
             [
              0.6666666666666666,
              "#ed7953"
             ],
             [
              0.7777777777777778,
              "#fb9f3a"
             ],
             [
              0.8888888888888888,
              "#fdca26"
             ],
             [
              1,
              "#f0f921"
             ]
            ],
            "type": "heatmap"
           }
          ],
          "heatmapgl": [
           {
            "colorbar": {
             "outlinewidth": 0,
             "ticks": ""
            },
            "colorscale": [
             [
              0,
              "#0d0887"
             ],
             [
              0.1111111111111111,
              "#46039f"
             ],
             [
              0.2222222222222222,
              "#7201a8"
             ],
             [
              0.3333333333333333,
              "#9c179e"
             ],
             [
              0.4444444444444444,
              "#bd3786"
             ],
             [
              0.5555555555555556,
              "#d8576b"
             ],
             [
              0.6666666666666666,
              "#ed7953"
             ],
             [
              0.7777777777777778,
              "#fb9f3a"
             ],
             [
              0.8888888888888888,
              "#fdca26"
             ],
             [
              1,
              "#f0f921"
             ]
            ],
            "type": "heatmapgl"
           }
          ],
          "histogram": [
           {
            "marker": {
             "pattern": {
              "fillmode": "overlay",
              "size": 10,
              "solidity": 0.2
             }
            },
            "type": "histogram"
           }
          ],
          "histogram2d": [
           {
            "colorbar": {
             "outlinewidth": 0,
             "ticks": ""
            },
            "colorscale": [
             [
              0,
              "#0d0887"
             ],
             [
              0.1111111111111111,
              "#46039f"
             ],
             [
              0.2222222222222222,
              "#7201a8"
             ],
             [
              0.3333333333333333,
              "#9c179e"
             ],
             [
              0.4444444444444444,
              "#bd3786"
             ],
             [
              0.5555555555555556,
              "#d8576b"
             ],
             [
              0.6666666666666666,
              "#ed7953"
             ],
             [
              0.7777777777777778,
              "#fb9f3a"
             ],
             [
              0.8888888888888888,
              "#fdca26"
             ],
             [
              1,
              "#f0f921"
             ]
            ],
            "type": "histogram2d"
           }
          ],
          "histogram2dcontour": [
           {
            "colorbar": {
             "outlinewidth": 0,
             "ticks": ""
            },
            "colorscale": [
             [
              0,
              "#0d0887"
             ],
             [
              0.1111111111111111,
              "#46039f"
             ],
             [
              0.2222222222222222,
              "#7201a8"
             ],
             [
              0.3333333333333333,
              "#9c179e"
             ],
             [
              0.4444444444444444,
              "#bd3786"
             ],
             [
              0.5555555555555556,
              "#d8576b"
             ],
             [
              0.6666666666666666,
              "#ed7953"
             ],
             [
              0.7777777777777778,
              "#fb9f3a"
             ],
             [
              0.8888888888888888,
              "#fdca26"
             ],
             [
              1,
              "#f0f921"
             ]
            ],
            "type": "histogram2dcontour"
           }
          ],
          "mesh3d": [
           {
            "colorbar": {
             "outlinewidth": 0,
             "ticks": ""
            },
            "type": "mesh3d"
           }
          ],
          "parcoords": [
           {
            "line": {
             "colorbar": {
              "outlinewidth": 0,
              "ticks": ""
             }
            },
            "type": "parcoords"
           }
          ],
          "pie": [
           {
            "automargin": true,
            "type": "pie"
           }
          ],
          "scatter": [
           {
            "fillpattern": {
             "fillmode": "overlay",
             "size": 10,
             "solidity": 0.2
            },
            "type": "scatter"
           }
          ],
          "scatter3d": [
           {
            "line": {
             "colorbar": {
              "outlinewidth": 0,
              "ticks": ""
             }
            },
            "marker": {
             "colorbar": {
              "outlinewidth": 0,
              "ticks": ""
             }
            },
            "type": "scatter3d"
           }
          ],
          "scattercarpet": [
           {
            "marker": {
             "colorbar": {
              "outlinewidth": 0,
              "ticks": ""
             }
            },
            "type": "scattercarpet"
           }
          ],
          "scattergeo": [
           {
            "marker": {
             "colorbar": {
              "outlinewidth": 0,
              "ticks": ""
             }
            },
            "type": "scattergeo"
           }
          ],
          "scattergl": [
           {
            "marker": {
             "colorbar": {
              "outlinewidth": 0,
              "ticks": ""
             }
            },
            "type": "scattergl"
           }
          ],
          "scattermapbox": [
           {
            "marker": {
             "colorbar": {
              "outlinewidth": 0,
              "ticks": ""
             }
            },
            "type": "scattermapbox"
           }
          ],
          "scatterpolar": [
           {
            "marker": {
             "colorbar": {
              "outlinewidth": 0,
              "ticks": ""
             }
            },
            "type": "scatterpolar"
           }
          ],
          "scatterpolargl": [
           {
            "marker": {
             "colorbar": {
              "outlinewidth": 0,
              "ticks": ""
             }
            },
            "type": "scatterpolargl"
           }
          ],
          "scatterternary": [
           {
            "marker": {
             "colorbar": {
              "outlinewidth": 0,
              "ticks": ""
             }
            },
            "type": "scatterternary"
           }
          ],
          "surface": [
           {
            "colorbar": {
             "outlinewidth": 0,
             "ticks": ""
            },
            "colorscale": [
             [
              0,
              "#0d0887"
             ],
             [
              0.1111111111111111,
              "#46039f"
             ],
             [
              0.2222222222222222,
              "#7201a8"
             ],
             [
              0.3333333333333333,
              "#9c179e"
             ],
             [
              0.4444444444444444,
              "#bd3786"
             ],
             [
              0.5555555555555556,
              "#d8576b"
             ],
             [
              0.6666666666666666,
              "#ed7953"
             ],
             [
              0.7777777777777778,
              "#fb9f3a"
             ],
             [
              0.8888888888888888,
              "#fdca26"
             ],
             [
              1,
              "#f0f921"
             ]
            ],
            "type": "surface"
           }
          ],
          "table": [
           {
            "cells": {
             "fill": {
              "color": "#EBF0F8"
             },
             "line": {
              "color": "white"
             }
            },
            "header": {
             "fill": {
              "color": "#C8D4E3"
             },
             "line": {
              "color": "white"
             }
            },
            "type": "table"
           }
          ]
         },
         "layout": {
          "annotationdefaults": {
           "arrowcolor": "#2a3f5f",
           "arrowhead": 0,
           "arrowwidth": 1
          },
          "autotypenumbers": "strict",
          "coloraxis": {
           "colorbar": {
            "outlinewidth": 0,
            "ticks": ""
           }
          },
          "colorscale": {
           "diverging": [
            [
             0,
             "#8e0152"
            ],
            [
             0.1,
             "#c51b7d"
            ],
            [
             0.2,
             "#de77ae"
            ],
            [
             0.3,
             "#f1b6da"
            ],
            [
             0.4,
             "#fde0ef"
            ],
            [
             0.5,
             "#f7f7f7"
            ],
            [
             0.6,
             "#e6f5d0"
            ],
            [
             0.7,
             "#b8e186"
            ],
            [
             0.8,
             "#7fbc41"
            ],
            [
             0.9,
             "#4d9221"
            ],
            [
             1,
             "#276419"
            ]
           ],
           "sequential": [
            [
             0,
             "#0d0887"
            ],
            [
             0.1111111111111111,
             "#46039f"
            ],
            [
             0.2222222222222222,
             "#7201a8"
            ],
            [
             0.3333333333333333,
             "#9c179e"
            ],
            [
             0.4444444444444444,
             "#bd3786"
            ],
            [
             0.5555555555555556,
             "#d8576b"
            ],
            [
             0.6666666666666666,
             "#ed7953"
            ],
            [
             0.7777777777777778,
             "#fb9f3a"
            ],
            [
             0.8888888888888888,
             "#fdca26"
            ],
            [
             1,
             "#f0f921"
            ]
           ],
           "sequentialminus": [
            [
             0,
             "#0d0887"
            ],
            [
             0.1111111111111111,
             "#46039f"
            ],
            [
             0.2222222222222222,
             "#7201a8"
            ],
            [
             0.3333333333333333,
             "#9c179e"
            ],
            [
             0.4444444444444444,
             "#bd3786"
            ],
            [
             0.5555555555555556,
             "#d8576b"
            ],
            [
             0.6666666666666666,
             "#ed7953"
            ],
            [
             0.7777777777777778,
             "#fb9f3a"
            ],
            [
             0.8888888888888888,
             "#fdca26"
            ],
            [
             1,
             "#f0f921"
            ]
           ]
          },
          "colorway": [
           "#636efa",
           "#EF553B",
           "#00cc96",
           "#ab63fa",
           "#FFA15A",
           "#19d3f3",
           "#FF6692",
           "#B6E880",
           "#FF97FF",
           "#FECB52"
          ],
          "font": {
           "color": "#2a3f5f"
          },
          "geo": {
           "bgcolor": "white",
           "lakecolor": "white",
           "landcolor": "#E5ECF6",
           "showlakes": true,
           "showland": true,
           "subunitcolor": "white"
          },
          "hoverlabel": {
           "align": "left"
          },
          "hovermode": "closest",
          "mapbox": {
           "style": "light"
          },
          "paper_bgcolor": "white",
          "plot_bgcolor": "#E5ECF6",
          "polar": {
           "angularaxis": {
            "gridcolor": "white",
            "linecolor": "white",
            "ticks": ""
           },
           "bgcolor": "#E5ECF6",
           "radialaxis": {
            "gridcolor": "white",
            "linecolor": "white",
            "ticks": ""
           }
          },
          "scene": {
           "xaxis": {
            "backgroundcolor": "#E5ECF6",
            "gridcolor": "white",
            "gridwidth": 2,
            "linecolor": "white",
            "showbackground": true,
            "ticks": "",
            "zerolinecolor": "white"
           },
           "yaxis": {
            "backgroundcolor": "#E5ECF6",
            "gridcolor": "white",
            "gridwidth": 2,
            "linecolor": "white",
            "showbackground": true,
            "ticks": "",
            "zerolinecolor": "white"
           },
           "zaxis": {
            "backgroundcolor": "#E5ECF6",
            "gridcolor": "white",
            "gridwidth": 2,
            "linecolor": "white",
            "showbackground": true,
            "ticks": "",
            "zerolinecolor": "white"
           }
          },
          "shapedefaults": {
           "line": {
            "color": "#2a3f5f"
           }
          },
          "ternary": {
           "aaxis": {
            "gridcolor": "white",
            "linecolor": "white",
            "ticks": ""
           },
           "baxis": {
            "gridcolor": "white",
            "linecolor": "white",
            "ticks": ""
           },
           "bgcolor": "#E5ECF6",
           "caxis": {
            "gridcolor": "white",
            "linecolor": "white",
            "ticks": ""
           }
          },
          "title": {
           "x": 0.05
          },
          "xaxis": {
           "automargin": true,
           "gridcolor": "white",
           "linecolor": "white",
           "ticks": "",
           "title": {
            "standoff": 15
           },
           "zerolinecolor": "white",
           "zerolinewidth": 2
          },
          "yaxis": {
           "automargin": true,
           "gridcolor": "white",
           "linecolor": "white",
           "ticks": "",
           "title": {
            "standoff": 15
           },
           "zerolinecolor": "white",
           "zerolinewidth": 2
          }
         }
        },
        "xaxis": {
         "anchor": "y",
         "categoryarray": [
          "Starbucks",
          "Dunkin' Donuts",
          "Peet's Coffee & Tea",
          "Tim Horton's",
          "Panera Bread",
          "Caribou Coffee",
          "Au Bon Pain",
          "The Coffee Bean & Tea Leaf",
          "McDonald's"
         ],
         "categoryorder": "array",
         "domain": [
          0,
          0.18400000000000002
         ],
         "title": {
          "text": "Coffee Chain"
         }
        },
        "xaxis2": {
         "anchor": "y2",
         "categoryarray": [
          "Starbucks",
          "Dunkin' Donuts",
          "Peet's Coffee & Tea",
          "Tim Horton's",
          "Panera Bread",
          "Caribou Coffee",
          "Au Bon Pain",
          "The Coffee Bean & Tea Leaf",
          "McDonald's"
         ],
         "categoryorder": "array",
         "domain": [
          0.20400000000000001,
          0.388
         ],
         "matches": "x",
         "title": {
          "text": "Coffee Chain"
         }
        },
        "xaxis3": {
         "anchor": "y3",
         "categoryarray": [
          "Starbucks",
          "Dunkin' Donuts",
          "Peet's Coffee & Tea",
          "Tim Horton's",
          "Panera Bread",
          "Caribou Coffee",
          "Au Bon Pain",
          "The Coffee Bean & Tea Leaf",
          "McDonald's"
         ],
         "categoryorder": "array",
         "domain": [
          0.40800000000000003,
          0.5920000000000001
         ],
         "matches": "x",
         "title": {
          "text": "Coffee Chain"
         }
        },
        "xaxis4": {
         "anchor": "y4",
         "categoryarray": [
          "Starbucks",
          "Dunkin' Donuts",
          "Peet's Coffee & Tea",
          "Tim Horton's",
          "Panera Bread",
          "Caribou Coffee",
          "Au Bon Pain",
          "The Coffee Bean & Tea Leaf",
          "McDonald's"
         ],
         "categoryorder": "array",
         "domain": [
          0.6120000000000001,
          0.7960000000000002
         ],
         "matches": "x",
         "title": {
          "text": "Coffee Chain"
         }
        },
        "xaxis5": {
         "anchor": "y5",
         "categoryarray": [
          "Starbucks",
          "Dunkin' Donuts",
          "Peet's Coffee & Tea",
          "Tim Horton's",
          "Panera Bread",
          "Caribou Coffee",
          "Au Bon Pain",
          "The Coffee Bean & Tea Leaf",
          "McDonald's"
         ],
         "categoryorder": "array",
         "domain": [
          0.8160000000000001,
          1
         ],
         "matches": "x",
         "title": {
          "text": "Coffee Chain"
         }
        },
        "yaxis": {
         "anchor": "x",
         "domain": [
          0,
          1
         ],
         "range": [
          0,
          1000
         ],
         "title": {
          "text": "Location Count"
         }
        },
        "yaxis2": {
         "anchor": "x2",
         "domain": [
          0,
          1
         ],
         "matches": "y",
         "range": [
          0,
          1000
         ],
         "showticklabels": false
        },
        "yaxis3": {
         "anchor": "x3",
         "domain": [
          0,
          1
         ],
         "matches": "y",
         "range": [
          0,
          1000
         ],
         "showticklabels": false
        },
        "yaxis4": {
         "anchor": "x4",
         "domain": [
          0,
          1
         ],
         "matches": "y",
         "range": [
          0,
          1000
         ],
         "showticklabels": false
        },
        "yaxis5": {
         "anchor": "x5",
         "domain": [
          0,
          1
         ],
         "matches": "y",
         "range": [
          0,
          1000
         ],
         "showticklabels": false
        }
       }
      },
      "text/html": [
       "<div>                            <div id=\"d34a375e-42ee-49ad-bb71-ca2b7be23de4\" class=\"plotly-graph-div\" style=\"height:500px; width:100%;\"></div>            <script type=\"text/javascript\">                require([\"plotly\"], function(Plotly) {                    window.PLOTLYENV=window.PLOTLYENV || {};                                    if (document.getElementById(\"d34a375e-42ee-49ad-bb71-ca2b7be23de4\")) {                    Plotly.newPlot(                        \"d34a375e-42ee-49ad-bb71-ca2b7be23de4\",                        [{\"alignmentgroup\":\"True\",\"hovertemplate\":\"Coffee Chain=%{x}<br>Region=West<br>Location Count=%{y}<extra></extra>\",\"legendgroup\":\"Starbucks\",\"marker\":{\"color\":\"#636efa\"},\"name\":\"Starbucks\",\"notched\":false,\"offsetgroup\":\"Starbucks\",\"orientation\":\"v\",\"showlegend\":true,\"x\":[\"Starbucks\",\"Starbucks\",\"Starbucks\",\"Starbucks\",\"Starbucks\",\"Starbucks\",\"Starbucks\",\"Starbucks\",\"Starbucks\",\"Starbucks\",\"Starbucks\",\"Starbucks\",\"Starbucks\"],\"x0\":\" \",\"xaxis\":\"x\",\"y\":[24,279,2362,371,72,57,17,56,188,279,59,634,16],\"y0\":\" \",\"yaxis\":\"y\",\"type\":\"box\",\"quartilemethod\":\"linear\"},{\"alignmentgroup\":\"True\",\"hovertemplate\":\"Coffee Chain=%{x}<br>Region=Pacific<br>Location Count=%{y}<extra></extra>\",\"legendgroup\":\"Starbucks\",\"marker\":{\"color\":\"#636efa\"},\"name\":\"Starbucks\",\"notched\":false,\"offsetgroup\":\"Starbucks\",\"orientation\":\"v\",\"showlegend\":false,\"x\":[\"Starbucks\",\"Starbucks\"],\"x0\":\" \",\"xaxis\":\"x2\",\"y\":[24,72],\"y0\":\" \",\"yaxis\":\"y2\",\"type\":\"box\",\"quartilemethod\":\"linear\"},{\"alignmentgroup\":\"True\",\"hovertemplate\":\"Coffee Chain=%{x}<br>Region=South<br>Location Count=%{y}<extra></extra>\",\"legendgroup\":\"Starbucks\",\"marker\":{\"color\":\"#636efa\"},\"name\":\"Starbucks\",\"notched\":false,\"offsetgroup\":\"Starbucks\",\"orientation\":\"v\",\"showlegend\":false,\"x\":[\"Starbucks\",\"Starbucks\",\"Starbucks\",\"Starbucks\",\"Starbucks\",\"Starbucks\",\"Starbucks\",\"Starbucks\",\"Starbucks\",\"Starbucks\",\"Starbucks\",\"Starbucks\",\"Starbucks\",\"Starbucks\",\"Starbucks\",\"Starbucks\",\"Starbucks\"],\"x0\":\" \",\"xaxis\":\"x3\",\"y\":[73,33,72,20,616,248,69,76,212,23,181,62,65,126,720,300,13],\"y0\":\" \",\"yaxis\":\"y3\",\"type\":\"box\",\"quartilemethod\":\"linear\"},{\"alignmentgroup\":\"True\",\"hovertemplate\":\"Coffee Chain=%{x}<br>Region=Northeast<br>Location Count=%{y}<extra></extra>\",\"legendgroup\":\"Starbucks\",\"marker\":{\"color\":\"#636efa\"},\"name\":\"Starbucks\",\"notched\":false,\"offsetgroup\":\"Starbucks\",\"orientation\":\"v\",\"showlegend\":false,\"x\":[\"Starbucks\",\"Starbucks\",\"Starbucks\",\"Starbucks\",\"Starbucks\",\"Starbucks\",\"Starbucks\",\"Starbucks\",\"Starbucks\"],\"x0\":\" \",\"xaxis\":\"x4\",\"y\":[107,208,22,22,154,492,279,21,6],\"y0\":\" \",\"yaxis\":\"y4\",\"type\":\"box\",\"quartilemethod\":\"linear\"},{\"alignmentgroup\":\"True\",\"hovertemplate\":\"Coffee Chain=%{x}<br>Region=Midwest<br>Location Count=%{y}<extra></extra>\",\"legendgroup\":\"Starbucks\",\"marker\":{\"color\":\"#636efa\"},\"name\":\"Starbucks\",\"notched\":false,\"offsetgroup\":\"Starbucks\",\"orientation\":\"v\",\"showlegend\":false,\"x\":[\"Starbucks\",\"Starbucks\",\"Starbucks\",\"Starbucks\",\"Starbucks\",\"Starbucks\",\"Starbucks\",\"Starbucks\",\"Starbucks\",\"Starbucks\",\"Starbucks\",\"Starbucks\"],\"x0\":\" \",\"xaxis\":\"x5\",\"y\":[49,455,193,65,196,140,118,15,30,266,14,119],\"y0\":\" \",\"yaxis\":\"y5\",\"type\":\"box\",\"quartilemethod\":\"linear\"},{\"alignmentgroup\":\"True\",\"hovertemplate\":\"Coffee Chain=%{x}<br>Region=West<br>Location Count=%{y}<extra></extra>\",\"legendgroup\":\"Dunkin' Donuts\",\"marker\":{\"color\":\"#EF553B\"},\"name\":\"Dunkin' Donuts\",\"notched\":false,\"offsetgroup\":\"Dunkin' Donuts\",\"orientation\":\"v\",\"showlegend\":true,\"x\":[\"Dunkin' Donuts\",\"Dunkin' Donuts\",\"Dunkin' Donuts\",\"Dunkin' Donuts\",\"Dunkin' Donuts\",\"Dunkin' Donuts\",\"Dunkin' Donuts\",\"Dunkin' Donuts\",\"Dunkin' Donuts\"],\"x0\":\" \",\"xaxis\":\"x\",\"y\":[74,46,5,1,7,26,1,7,2],\"y0\":\" \",\"yaxis\":\"y\",\"type\":\"box\",\"quartilemethod\":\"linear\"},{\"alignmentgroup\":\"True\",\"hovertemplate\":\"Coffee Chain=%{x}<br>Region=Pacific<br>Location Count=%{y}<extra></extra>\",\"legendgroup\":\"Dunkin' Donuts\",\"marker\":{\"color\":\"#EF553B\"},\"name\":\"Dunkin' Donuts\",\"notched\":false,\"offsetgroup\":\"Dunkin' Donuts\",\"orientation\":\"v\",\"showlegend\":false,\"x\":[\"Dunkin' Donuts\"],\"x0\":\" \",\"xaxis\":\"x2\",\"y\":[1],\"y0\":\" \",\"yaxis\":\"y2\",\"type\":\"box\",\"quartilemethod\":\"linear\"},{\"alignmentgroup\":\"True\",\"hovertemplate\":\"Coffee Chain=%{x}<br>Region=South<br>Location Count=%{y}<extra></extra>\",\"legendgroup\":\"Dunkin' Donuts\",\"marker\":{\"color\":\"#EF553B\"},\"name\":\"Dunkin' Donuts\",\"notched\":false,\"offsetgroup\":\"Dunkin' Donuts\",\"orientation\":\"v\",\"showlegend\":false,\"x\":[\"Dunkin' Donuts\",\"Dunkin' Donuts\",\"Dunkin' Donuts\",\"Dunkin' Donuts\",\"Dunkin' Donuts\",\"Dunkin' Donuts\",\"Dunkin' Donuts\",\"Dunkin' Donuts\",\"Dunkin' Donuts\",\"Dunkin' Donuts\",\"Dunkin' Donuts\",\"Dunkin' Donuts\",\"Dunkin' Donuts\",\"Dunkin' Donuts\",\"Dunkin' Donuts\",\"Dunkin' Donuts\",\"Dunkin' Donuts\"],\"x0\":\" \",\"xaxis\":\"x3\",\"y\":[1,11,15,57,654,147,34,5,201,3,63,6,15,55,93,147,5],\"y0\":\" \",\"yaxis\":\"y3\",\"type\":\"box\",\"quartilemethod\":\"linear\"},{\"alignmentgroup\":\"True\",\"hovertemplate\":\"Coffee Chain=%{x}<br>Region=Northeast<br>Location Count=%{y}<extra></extra>\",\"legendgroup\":\"Dunkin' Donuts\",\"marker\":{\"color\":\"#EF553B\"},\"name\":\"Dunkin' Donuts\",\"notched\":false,\"offsetgroup\":\"Dunkin' Donuts\",\"orientation\":\"v\",\"showlegend\":false,\"x\":[\"Dunkin' Donuts\",\"Dunkin' Donuts\",\"Dunkin' Donuts\",\"Dunkin' Donuts\",\"Dunkin' Donuts\",\"Dunkin' Donuts\",\"Dunkin' Donuts\",\"Dunkin' Donuts\",\"Dunkin' Donuts\"],\"x0\":\" \",\"xaxis\":\"x4\",\"y\":[406,1101,102,185,477,1022,402,142,34],\"y0\":\" \",\"yaxis\":\"y4\",\"type\":\"box\",\"quartilemethod\":\"linear\"},{\"alignmentgroup\":\"True\",\"hovertemplate\":\"Coffee Chain=%{x}<br>Region=Midwest<br>Location Count=%{y}<extra></extra>\",\"legendgroup\":\"Dunkin' Donuts\",\"marker\":{\"color\":\"#EF553B\"},\"name\":\"Dunkin' Donuts\",\"notched\":false,\"offsetgroup\":\"Dunkin' Donuts\",\"orientation\":\"v\",\"showlegend\":false,\"x\":[\"Dunkin' Donuts\",\"Dunkin' Donuts\",\"Dunkin' Donuts\",\"Dunkin' Donuts\",\"Dunkin' Donuts\",\"Dunkin' Donuts\",\"Dunkin' Donuts\",\"Dunkin' Donuts\",\"Dunkin' Donuts\",\"Dunkin' Donuts\"],\"x0\":\" \",\"xaxis\":\"x5\",\"y\":[14,579,51,12,91,6,21,9,116,30],\"y0\":\" \",\"yaxis\":\"y5\",\"type\":\"box\",\"quartilemethod\":\"linear\"},{\"alignmentgroup\":\"True\",\"hovertemplate\":\"Coffee Chain=%{x}<br>Region=West<br>Location Count=%{y}<extra></extra>\",\"legendgroup\":\"Peet's Coffee & Tea\",\"marker\":{\"color\":\"#00cc96\"},\"name\":\"Peet's Coffee & Tea\",\"notched\":false,\"offsetgroup\":\"Peet's Coffee & Tea\",\"orientation\":\"v\",\"showlegend\":true,\"x\":[\"Peet's Coffee & Tea\",\"Peet's Coffee & Tea\",\"Peet's Coffee & Tea\",\"Peet's Coffee & Tea\",\"Peet's Coffee & Tea\",\"Peet's Coffee & Tea\"],\"x0\":\" \",\"xaxis\":\"x\",\"y\":[163,3,1,1,8,14],\"y0\":\" \",\"yaxis\":\"y\",\"type\":\"box\",\"quartilemethod\":\"linear\"},{\"alignmentgroup\":\"True\",\"hovertemplate\":\"Coffee Chain=%{x}<br>Region=Pacific<br>Location Count=%{y}<extra></extra>\",\"legendgroup\":\"Peet's Coffee & Tea\",\"marker\":{\"color\":\"#00cc96\"},\"name\":\"Peet's Coffee & Tea\",\"notched\":false,\"offsetgroup\":\"Peet's Coffee & Tea\",\"orientation\":\"v\",\"showlegend\":false,\"x\":[\"Peet's Coffee & Tea\"],\"x0\":\" \",\"xaxis\":\"x2\",\"y\":[1],\"y0\":\" \",\"yaxis\":\"y2\",\"type\":\"box\",\"quartilemethod\":\"linear\"},{\"alignmentgroup\":\"True\",\"hovertemplate\":\"Coffee Chain=%{x}<br>Region=South<br>Location Count=%{y}<extra></extra>\",\"legendgroup\":\"Peet's Coffee & Tea\",\"marker\":{\"color\":\"#00cc96\"},\"name\":\"Peet's Coffee & Tea\",\"notched\":false,\"offsetgroup\":\"Peet's Coffee & Tea\",\"orientation\":\"v\",\"showlegend\":false,\"x\":[\"Peet's Coffee & Tea\"],\"x0\":\" \",\"xaxis\":\"x3\",\"y\":[3],\"y0\":\" \",\"yaxis\":\"y3\",\"type\":\"box\",\"quartilemethod\":\"linear\"},{\"alignmentgroup\":\"True\",\"hovertemplate\":\"Coffee Chain=%{x}<br>Region=Northeast<br>Location Count=%{y}<extra></extra>\",\"legendgroup\":\"Peet's Coffee & Tea\",\"marker\":{\"color\":\"#00cc96\"},\"name\":\"Peet's Coffee & Tea\",\"notched\":false,\"offsetgroup\":\"Peet's Coffee & Tea\",\"orientation\":\"v\",\"showlegend\":false,\"x\":[\"Peet's Coffee & Tea\",\"Peet's Coffee & Tea\"],\"x0\":\" \",\"xaxis\":\"x4\",\"y\":[1,7],\"y0\":\" \",\"yaxis\":\"y4\",\"type\":\"box\",\"quartilemethod\":\"linear\"},{\"alignmentgroup\":\"True\",\"hovertemplate\":\"Coffee Chain=%{x}<br>Region=Midwest<br>Location Count=%{y}<extra></extra>\",\"legendgroup\":\"Peet's Coffee & Tea\",\"marker\":{\"color\":\"#00cc96\"},\"name\":\"Peet's Coffee & Tea\",\"notched\":false,\"offsetgroup\":\"Peet's Coffee & Tea\",\"orientation\":\"v\",\"showlegend\":false,\"x\":[\"Peet's Coffee & Tea\"],\"x0\":\" \",\"xaxis\":\"x5\",\"y\":[3],\"y0\":\" \",\"yaxis\":\"y5\",\"type\":\"box\",\"quartilemethod\":\"linear\"},{\"alignmentgroup\":\"True\",\"hovertemplate\":\"Coffee Chain=%{x}<br>Region=South<br>Location Count=%{y}<extra></extra>\",\"legendgroup\":\"Tim Horton's\",\"marker\":{\"color\":\"#ab63fa\"},\"name\":\"Tim Horton's\",\"notched\":false,\"offsetgroup\":\"Tim Horton's\",\"orientation\":\"v\",\"showlegend\":true,\"x\":[\"Tim Horton's\",\"Tim Horton's\",\"Tim Horton's\",\"Tim Horton's\"],\"x0\":\" \",\"xaxis\":\"x3\",\"y\":[1,3,1,7],\"y0\":\" \",\"yaxis\":\"y3\",\"type\":\"box\",\"quartilemethod\":\"linear\"},{\"alignmentgroup\":\"True\",\"hovertemplate\":\"Coffee Chain=%{x}<br>Region=Northeast<br>Location Count=%{y}<extra></extra>\",\"legendgroup\":\"Tim Horton's\",\"marker\":{\"color\":\"#ab63fa\"},\"name\":\"Tim Horton's\",\"notched\":false,\"offsetgroup\":\"Tim Horton's\",\"orientation\":\"v\",\"showlegend\":false,\"x\":[\"Tim Horton's\",\"Tim Horton's\",\"Tim Horton's\",\"Tim Horton's\",\"Tim Horton's\",\"Tim Horton's\",\"Tim Horton's\"],\"x0\":\" \",\"xaxis\":\"x4\",\"y\":[10,5,27,2,100,9,26],\"y0\":\" \",\"yaxis\":\"y4\",\"type\":\"box\",\"quartilemethod\":\"linear\"},{\"alignmentgroup\":\"True\",\"hovertemplate\":\"Coffee Chain=%{x}<br>Region=Midwest<br>Location Count=%{y}<extra></extra>\",\"legendgroup\":\"Tim Horton's\",\"marker\":{\"color\":\"#ab63fa\"},\"name\":\"Tim Horton's\",\"notched\":false,\"offsetgroup\":\"Tim Horton's\",\"orientation\":\"v\",\"showlegend\":false,\"x\":[\"Tim Horton's\",\"Tim Horton's\",\"Tim Horton's\",\"Tim Horton's\",\"Tim Horton's\"],\"x0\":\" \",\"xaxis\":\"x5\",\"y\":[5,191,7,1,105],\"y0\":\" \",\"yaxis\":\"y5\",\"type\":\"box\",\"quartilemethod\":\"linear\"},{\"alignmentgroup\":\"True\",\"hovertemplate\":\"Coffee Chain=%{x}<br>Region=West<br>Location Count=%{y}<extra></extra>\",\"legendgroup\":\"Panera Bread\",\"marker\":{\"color\":\"#FFA15A\"},\"name\":\"Panera Bread\",\"notched\":false,\"offsetgroup\":\"Panera Bread\",\"orientation\":\"v\",\"showlegend\":true,\"x\":[\"Panera Bread\",\"Panera Bread\",\"Panera Bread\",\"Panera Bread\",\"Panera Bread\",\"Panera Bread\",\"Panera Bread\",\"Panera Bread\"],\"x0\":\" \",\"xaxis\":\"x\",\"y\":[29,216,32,7,5,6,12,16],\"y0\":\" \",\"yaxis\":\"y\",\"type\":\"box\",\"quartilemethod\":\"linear\"},{\"alignmentgroup\":\"True\",\"hovertemplate\":\"Coffee Chain=%{x}<br>Region=South<br>Location Count=%{y}<extra></extra>\",\"legendgroup\":\"Panera Bread\",\"marker\":{\"color\":\"#FFA15A\"},\"name\":\"Panera Bread\",\"notched\":false,\"offsetgroup\":\"Panera Bread\",\"orientation\":\"v\",\"showlegend\":false,\"x\":[\"Panera Bread\",\"Panera Bread\",\"Panera Bread\",\"Panera Bread\",\"Panera Bread\",\"Panera Bread\",\"Panera Bread\",\"Panera Bread\",\"Panera Bread\",\"Panera Bread\",\"Panera Bread\",\"Panera Bread\",\"Panera Bread\",\"Panera Bread\",\"Panera Bread\",\"Panera Bread\",\"Panera Bread\"],\"x0\":\" \",\"xaxis\":\"x3\",\"y\":[20,13,4,9,227,71,30,1,69,4,52,28,17,42,110,98,14],\"y0\":\" \",\"yaxis\":\"y3\",\"type\":\"box\",\"quartilemethod\":\"linear\"},{\"alignmentgroup\":\"True\",\"hovertemplate\":\"Coffee Chain=%{x}<br>Region=Northeast<br>Location Count=%{y}<extra></extra>\",\"legendgroup\":\"Panera Bread\",\"marker\":{\"color\":\"#FFA15A\"},\"name\":\"Panera Bread\",\"notched\":false,\"offsetgroup\":\"Panera Bread\",\"orientation\":\"v\",\"showlegend\":false,\"x\":[\"Panera Bread\",\"Panera Bread\",\"Panera Bread\",\"Panera Bread\",\"Panera Bread\",\"Panera Bread\",\"Panera Bread\",\"Panera Bread\",\"Panera Bread\"],\"x0\":\" \",\"xaxis\":\"x4\",\"y\":[41,77,5,12,98,138,112,9,6],\"y0\":\" \",\"yaxis\":\"y4\",\"type\":\"box\",\"quartilemethod\":\"linear\"},{\"alignmentgroup\":\"True\",\"hovertemplate\":\"Coffee Chain=%{x}<br>Region=Midwest<br>Location Count=%{y}<extra></extra>\",\"legendgroup\":\"Panera Bread\",\"marker\":{\"color\":\"#FFA15A\"},\"name\":\"Panera Bread\",\"notched\":false,\"offsetgroup\":\"Panera Bread\",\"orientation\":\"v\",\"showlegend\":false,\"x\":[\"Panera Bread\",\"Panera Bread\",\"Panera Bread\",\"Panera Bread\",\"Panera Bread\",\"Panera Bread\",\"Panera Bread\",\"Panera Bread\",\"Panera Bread\",\"Panera Bread\",\"Panera Bread\",\"Panera Bread\"],\"x0\":\" \",\"xaxis\":\"x5\",\"y\":[27,154,53,27,108,52,91,2,15,170,2,47],\"y0\":\" \",\"yaxis\":\"y5\",\"type\":\"box\",\"quartilemethod\":\"linear\"},{\"alignmentgroup\":\"True\",\"hovertemplate\":\"Coffee Chain=%{x}<br>Region=West<br>Location Count=%{y}<extra></extra>\",\"legendgroup\":\"Caribou Coffee\",\"marker\":{\"color\":\"#19d3f3\"},\"name\":\"Caribou Coffee\",\"notched\":false,\"offsetgroup\":\"Caribou Coffee\",\"orientation\":\"v\",\"showlegend\":true,\"x\":[\"Caribou Coffee\",\"Caribou Coffee\"],\"x0\":\" \",\"xaxis\":\"x\",\"y\":[9,1],\"y0\":\" \",\"yaxis\":\"y\",\"type\":\"box\",\"quartilemethod\":\"linear\"},{\"alignmentgroup\":\"True\",\"hovertemplate\":\"Coffee Chain=%{x}<br>Region=South<br>Location Count=%{y}<extra></extra>\",\"legendgroup\":\"Caribou Coffee\",\"marker\":{\"color\":\"#19d3f3\"},\"name\":\"Caribou Coffee\",\"notched\":false,\"offsetgroup\":\"Caribou Coffee\",\"orientation\":\"v\",\"showlegend\":false,\"x\":[\"Caribou Coffee\",\"Caribou Coffee\",\"Caribou Coffee\",\"Caribou Coffee\",\"Caribou Coffee\"],\"x0\":\" \",\"xaxis\":\"x3\",\"y\":[8,25,9,26,19],\"y0\":\" \",\"yaxis\":\"y3\",\"type\":\"box\",\"quartilemethod\":\"linear\"},{\"alignmentgroup\":\"True\",\"hovertemplate\":\"Coffee Chain=%{x}<br>Region=Northeast<br>Location Count=%{y}<extra></extra>\",\"legendgroup\":\"Caribou Coffee\",\"marker\":{\"color\":\"#19d3f3\"},\"name\":\"Caribou Coffee\",\"notched\":false,\"offsetgroup\":\"Caribou Coffee\",\"orientation\":\"v\",\"showlegend\":false,\"x\":[\"Caribou Coffee\"],\"x0\":\" \",\"xaxis\":\"x4\",\"y\":[6],\"y0\":\" \",\"yaxis\":\"y4\",\"type\":\"box\",\"quartilemethod\":\"linear\"},{\"alignmentgroup\":\"True\",\"hovertemplate\":\"Coffee Chain=%{x}<br>Region=Midwest<br>Location Count=%{y}<extra></extra>\",\"legendgroup\":\"Caribou Coffee\",\"marker\":{\"color\":\"#19d3f3\"},\"name\":\"Caribou Coffee\",\"notched\":false,\"offsetgroup\":\"Caribou Coffee\",\"orientation\":\"v\",\"showlegend\":false,\"x\":[\"Caribou Coffee\",\"Caribou Coffee\",\"Caribou Coffee\",\"Caribou Coffee\",\"Caribou Coffee\",\"Caribou Coffee\",\"Caribou Coffee\",\"Caribou Coffee\",\"Caribou Coffee\",\"Caribou Coffee\",\"Caribou Coffee\",\"Caribou Coffee\"],\"x0\":\" \",\"xaxis\":\"x5\",\"y\":[11,81,1,5,30,312,2,7,5,46,4,16],\"y0\":\" \",\"yaxis\":\"y5\",\"type\":\"box\",\"quartilemethod\":\"linear\"},{\"alignmentgroup\":\"True\",\"hovertemplate\":\"Coffee Chain=%{x}<br>Region=West<br>Location Count=%{y}<extra></extra>\",\"legendgroup\":\"Au Bon Pain\",\"marker\":{\"color\":\"#FF6692\"},\"name\":\"Au Bon Pain\",\"notched\":false,\"offsetgroup\":\"Au Bon Pain\",\"orientation\":\"v\",\"showlegend\":true,\"x\":[\"Au Bon Pain\"],\"x0\":\" \",\"xaxis\":\"x\",\"y\":[1],\"y0\":\" \",\"yaxis\":\"y\",\"type\":\"box\",\"quartilemethod\":\"linear\"},{\"alignmentgroup\":\"True\",\"hovertemplate\":\"Coffee Chain=%{x}<br>Region=South<br>Location Count=%{y}<extra></extra>\",\"legendgroup\":\"Au Bon Pain\",\"marker\":{\"color\":\"#FF6692\"},\"name\":\"Au Bon Pain\",\"notched\":false,\"offsetgroup\":\"Au Bon Pain\",\"orientation\":\"v\",\"showlegend\":false,\"x\":[\"Au Bon Pain\",\"Au Bon Pain\",\"Au Bon Pain\",\"Au Bon Pain\",\"Au Bon Pain\",\"Au Bon Pain\",\"Au Bon Pain\"],\"x0\":\" \",\"xaxis\":\"x3\",\"y\":[21,23,3,1,9,16,10],\"y0\":\" \",\"yaxis\":\"y3\",\"type\":\"box\",\"quartilemethod\":\"linear\"},{\"alignmentgroup\":\"True\",\"hovertemplate\":\"Coffee Chain=%{x}<br>Region=Northeast<br>Location Count=%{y}<extra></extra>\",\"legendgroup\":\"Au Bon Pain\",\"marker\":{\"color\":\"#FF6692\"},\"name\":\"Au Bon Pain\",\"notched\":false,\"offsetgroup\":\"Au Bon Pain\",\"orientation\":\"v\",\"showlegend\":false,\"x\":[\"Au Bon Pain\",\"Au Bon Pain\",\"Au Bon Pain\",\"Au Bon Pain\",\"Au Bon Pain\",\"Au Bon Pain\",\"Au Bon Pain\",\"Au Bon Pain\"],\"x0\":\" \",\"xaxis\":\"x4\",\"y\":[8,67,1,6,10,58,28,6],\"y0\":\" \",\"yaxis\":\"y4\",\"type\":\"box\",\"quartilemethod\":\"linear\"},{\"alignmentgroup\":\"True\",\"hovertemplate\":\"Coffee Chain=%{x}<br>Region=Midwest<br>Location Count=%{y}<extra></extra>\",\"legendgroup\":\"Au Bon Pain\",\"marker\":{\"color\":\"#FF6692\"},\"name\":\"Au Bon Pain\",\"notched\":false,\"offsetgroup\":\"Au Bon Pain\",\"orientation\":\"v\",\"showlegend\":false,\"x\":[\"Au Bon Pain\",\"Au Bon Pain\",\"Au Bon Pain\",\"Au Bon Pain\",\"Au Bon Pain\",\"Au Bon Pain\"],\"x0\":\" \",\"xaxis\":\"x5\",\"y\":[32,8,6,5,3,10],\"y0\":\" \",\"yaxis\":\"y5\",\"type\":\"box\",\"quartilemethod\":\"linear\"},{\"alignmentgroup\":\"True\",\"hovertemplate\":\"Coffee Chain=%{x}<br>Region=West<br>Location Count=%{y}<extra></extra>\",\"legendgroup\":\"The Coffee Bean & Tea Leaf\",\"marker\":{\"color\":\"#B6E880\"},\"name\":\"The Coffee Bean & Tea Leaf\",\"notched\":false,\"offsetgroup\":\"The Coffee Bean & Tea Leaf\",\"orientation\":\"v\",\"showlegend\":true,\"x\":[\"The Coffee Bean & Tea Leaf\",\"The Coffee Bean & Tea Leaf\",\"The Coffee Bean & Tea Leaf\",\"The Coffee Bean & Tea Leaf\"],\"x0\":\" \",\"xaxis\":\"x\",\"y\":[19,175,22,23],\"y0\":\" \",\"yaxis\":\"y\",\"type\":\"box\",\"quartilemethod\":\"linear\"},{\"alignmentgroup\":\"True\",\"hovertemplate\":\"Coffee Chain=%{x}<br>Region=Pacific<br>Location Count=%{y}<extra></extra>\",\"legendgroup\":\"The Coffee Bean & Tea Leaf\",\"marker\":{\"color\":\"#B6E880\"},\"name\":\"The Coffee Bean & Tea Leaf\",\"notched\":false,\"offsetgroup\":\"The Coffee Bean & Tea Leaf\",\"orientation\":\"v\",\"showlegend\":false,\"x\":[\"The Coffee Bean & Tea Leaf\"],\"x0\":\" \",\"xaxis\":\"x2\",\"y\":[22],\"y0\":\" \",\"yaxis\":\"y2\",\"type\":\"box\",\"quartilemethod\":\"linear\"},{\"alignmentgroup\":\"True\",\"hovertemplate\":\"Coffee Chain=%{x}<br>Region=South<br>Location Count=%{y}<extra></extra>\",\"legendgroup\":\"The Coffee Bean & Tea Leaf\",\"marker\":{\"color\":\"#B6E880\"},\"name\":\"The Coffee Bean & Tea Leaf\",\"notched\":false,\"offsetgroup\":\"The Coffee Bean & Tea Leaf\",\"orientation\":\"v\",\"showlegend\":false,\"x\":[\"The Coffee Bean & Tea Leaf\",\"The Coffee Bean & Tea Leaf\",\"The Coffee Bean & Tea Leaf\",\"The Coffee Bean & Tea Leaf\"],\"x0\":\" \",\"xaxis\":\"x3\",\"y\":[1,2,1,5],\"y0\":\" \",\"yaxis\":\"y3\",\"type\":\"box\",\"quartilemethod\":\"linear\"},{\"alignmentgroup\":\"True\",\"hovertemplate\":\"Coffee Chain=%{x}<br>Region=West<br>Location Count=%{y}<extra></extra>\",\"legendgroup\":\"McDonald's\",\"marker\":{\"color\":\"#FF97FF\"},\"name\":\"McDonald's\",\"notched\":false,\"offsetgroup\":\"McDonald's\",\"orientation\":\"v\",\"showlegend\":true,\"x\":[\"McDonald's\",\"McDonald's\",\"McDonald's\",\"McDonald's\",\"McDonald's\",\"McDonald's\",\"McDonald's\",\"McDonald's\",\"McDonald's\",\"McDonald's\",\"McDonald's\",\"McDonald's\",\"McDonald's\"],\"x0\":\" \",\"xaxis\":\"x\",\"y\":[33,326,1623,237,74,71,58,106,169,209,145,326,34],\"y0\":\" \",\"yaxis\":\"y\",\"type\":\"box\",\"quartilemethod\":\"linear\"},{\"alignmentgroup\":\"True\",\"hovertemplate\":\"Coffee Chain=%{x}<br>Region=Pacific<br>Location Count=%{y}<extra></extra>\",\"legendgroup\":\"McDonald's\",\"marker\":{\"color\":\"#FF97FF\"},\"name\":\"McDonald's\",\"notched\":false,\"offsetgroup\":\"McDonald's\",\"orientation\":\"v\",\"showlegend\":false,\"x\":[\"McDonald's\",\"McDonald's\"],\"x0\":\" \",\"xaxis\":\"x2\",\"y\":[33,74],\"y0\":\" \",\"yaxis\":\"y2\",\"type\":\"box\",\"quartilemethod\":\"linear\"},{\"alignmentgroup\":\"True\",\"hovertemplate\":\"Coffee Chain=%{x}<br>Region=South<br>Location Count=%{y}<extra></extra>\",\"legendgroup\":\"McDonald's\",\"marker\":{\"color\":\"#FF97FF\"},\"name\":\"McDonald's\",\"notched\":false,\"offsetgroup\":\"McDonald's\",\"orientation\":\"v\",\"showlegend\":false,\"x\":[\"McDonald's\",\"McDonald's\",\"McDonald's\",\"McDonald's\",\"McDonald's\",\"McDonald's\",\"McDonald's\",\"McDonald's\",\"McDonald's\",\"McDonald's\",\"McDonald's\",\"McDonald's\",\"McDonald's\",\"McDonald's\",\"McDonald's\",\"McDonald's\",\"McDonald's\"],\"x0\":\" \",\"xaxis\":\"x3\",\"y\":[279,190,37,46,1142,563,283,291,402,165,475,220,258,409,1303,473,107],\"y0\":\" \",\"yaxis\":\"y3\",\"type\":\"box\",\"quartilemethod\":\"linear\"},{\"alignmentgroup\":\"True\",\"hovertemplate\":\"Coffee Chain=%{x}<br>Region=Northeast<br>Location Count=%{y}<extra></extra>\",\"legendgroup\":\"McDonald's\",\"marker\":{\"color\":\"#FF97FF\"},\"name\":\"McDonald's\",\"notched\":false,\"offsetgroup\":\"McDonald's\",\"orientation\":\"v\",\"showlegend\":false,\"x\":[\"McDonald's\",\"McDonald's\",\"McDonald's\",\"McDonald's\",\"McDonald's\",\"McDonald's\",\"McDonald's\",\"McDonald's\",\"McDonald's\"],\"x0\":\" \",\"xaxis\":\"x4\",\"y\":[173,306,72,72,335,811,603,45,30],\"y0\":\" \",\"yaxis\":\"y4\",\"type\":\"box\",\"quartilemethod\":\"linear\"},{\"alignmentgroup\":\"True\",\"hovertemplate\":\"Coffee Chain=%{x}<br>Region=Midwest<br>Location Count=%{y}<extra></extra>\",\"legendgroup\":\"McDonald's\",\"marker\":{\"color\":\"#FF97FF\"},\"name\":\"McDonald's\",\"notched\":false,\"offsetgroup\":\"McDonald's\",\"orientation\":\"v\",\"showlegend\":false,\"x\":[\"McDonald's\",\"McDonald's\",\"McDonald's\",\"McDonald's\",\"McDonald's\",\"McDonald's\",\"McDonald's\",\"McDonald's\",\"McDonald's\",\"McDonald's\",\"McDonald's\",\"McDonald's\"],\"x0\":\" \",\"xaxis\":\"x5\",\"y\":[181,791,406,188,662,305,396,29,90,843,36,353],\"y0\":\" \",\"yaxis\":\"y5\",\"type\":\"box\",\"quartilemethod\":\"linear\"}],                        {\"template\":{\"data\":{\"histogram2dcontour\":[{\"type\":\"histogram2dcontour\",\"colorbar\":{\"outlinewidth\":0,\"ticks\":\"\"},\"colorscale\":[[0.0,\"#0d0887\"],[0.1111111111111111,\"#46039f\"],[0.2222222222222222,\"#7201a8\"],[0.3333333333333333,\"#9c179e\"],[0.4444444444444444,\"#bd3786\"],[0.5555555555555556,\"#d8576b\"],[0.6666666666666666,\"#ed7953\"],[0.7777777777777778,\"#fb9f3a\"],[0.8888888888888888,\"#fdca26\"],[1.0,\"#f0f921\"]]}],\"choropleth\":[{\"type\":\"choropleth\",\"colorbar\":{\"outlinewidth\":0,\"ticks\":\"\"}}],\"histogram2d\":[{\"type\":\"histogram2d\",\"colorbar\":{\"outlinewidth\":0,\"ticks\":\"\"},\"colorscale\":[[0.0,\"#0d0887\"],[0.1111111111111111,\"#46039f\"],[0.2222222222222222,\"#7201a8\"],[0.3333333333333333,\"#9c179e\"],[0.4444444444444444,\"#bd3786\"],[0.5555555555555556,\"#d8576b\"],[0.6666666666666666,\"#ed7953\"],[0.7777777777777778,\"#fb9f3a\"],[0.8888888888888888,\"#fdca26\"],[1.0,\"#f0f921\"]]}],\"heatmap\":[{\"type\":\"heatmap\",\"colorbar\":{\"outlinewidth\":0,\"ticks\":\"\"},\"colorscale\":[[0.0,\"#0d0887\"],[0.1111111111111111,\"#46039f\"],[0.2222222222222222,\"#7201a8\"],[0.3333333333333333,\"#9c179e\"],[0.4444444444444444,\"#bd3786\"],[0.5555555555555556,\"#d8576b\"],[0.6666666666666666,\"#ed7953\"],[0.7777777777777778,\"#fb9f3a\"],[0.8888888888888888,\"#fdca26\"],[1.0,\"#f0f921\"]]}],\"heatmapgl\":[{\"type\":\"heatmapgl\",\"colorbar\":{\"outlinewidth\":0,\"ticks\":\"\"},\"colorscale\":[[0.0,\"#0d0887\"],[0.1111111111111111,\"#46039f\"],[0.2222222222222222,\"#7201a8\"],[0.3333333333333333,\"#9c179e\"],[0.4444444444444444,\"#bd3786\"],[0.5555555555555556,\"#d8576b\"],[0.6666666666666666,\"#ed7953\"],[0.7777777777777778,\"#fb9f3a\"],[0.8888888888888888,\"#fdca26\"],[1.0,\"#f0f921\"]]}],\"contourcarpet\":[{\"type\":\"contourcarpet\",\"colorbar\":{\"outlinewidth\":0,\"ticks\":\"\"}}],\"contour\":[{\"type\":\"contour\",\"colorbar\":{\"outlinewidth\":0,\"ticks\":\"\"},\"colorscale\":[[0.0,\"#0d0887\"],[0.1111111111111111,\"#46039f\"],[0.2222222222222222,\"#7201a8\"],[0.3333333333333333,\"#9c179e\"],[0.4444444444444444,\"#bd3786\"],[0.5555555555555556,\"#d8576b\"],[0.6666666666666666,\"#ed7953\"],[0.7777777777777778,\"#fb9f3a\"],[0.8888888888888888,\"#fdca26\"],[1.0,\"#f0f921\"]]}],\"surface\":[{\"type\":\"surface\",\"colorbar\":{\"outlinewidth\":0,\"ticks\":\"\"},\"colorscale\":[[0.0,\"#0d0887\"],[0.1111111111111111,\"#46039f\"],[0.2222222222222222,\"#7201a8\"],[0.3333333333333333,\"#9c179e\"],[0.4444444444444444,\"#bd3786\"],[0.5555555555555556,\"#d8576b\"],[0.6666666666666666,\"#ed7953\"],[0.7777777777777778,\"#fb9f3a\"],[0.8888888888888888,\"#fdca26\"],[1.0,\"#f0f921\"]]}],\"mesh3d\":[{\"type\":\"mesh3d\",\"colorbar\":{\"outlinewidth\":0,\"ticks\":\"\"}}],\"scatter\":[{\"fillpattern\":{\"fillmode\":\"overlay\",\"size\":10,\"solidity\":0.2},\"type\":\"scatter\"}],\"parcoords\":[{\"type\":\"parcoords\",\"line\":{\"colorbar\":{\"outlinewidth\":0,\"ticks\":\"\"}}}],\"scatterpolargl\":[{\"type\":\"scatterpolargl\",\"marker\":{\"colorbar\":{\"outlinewidth\":0,\"ticks\":\"\"}}}],\"bar\":[{\"error_x\":{\"color\":\"#2a3f5f\"},\"error_y\":{\"color\":\"#2a3f5f\"},\"marker\":{\"line\":{\"color\":\"#E5ECF6\",\"width\":0.5},\"pattern\":{\"fillmode\":\"overlay\",\"size\":10,\"solidity\":0.2}},\"type\":\"bar\"}],\"scattergeo\":[{\"type\":\"scattergeo\",\"marker\":{\"colorbar\":{\"outlinewidth\":0,\"ticks\":\"\"}}}],\"scatterpolar\":[{\"type\":\"scatterpolar\",\"marker\":{\"colorbar\":{\"outlinewidth\":0,\"ticks\":\"\"}}}],\"histogram\":[{\"marker\":{\"pattern\":{\"fillmode\":\"overlay\",\"size\":10,\"solidity\":0.2}},\"type\":\"histogram\"}],\"scattergl\":[{\"type\":\"scattergl\",\"marker\":{\"colorbar\":{\"outlinewidth\":0,\"ticks\":\"\"}}}],\"scatter3d\":[{\"type\":\"scatter3d\",\"line\":{\"colorbar\":{\"outlinewidth\":0,\"ticks\":\"\"}},\"marker\":{\"colorbar\":{\"outlinewidth\":0,\"ticks\":\"\"}}}],\"scattermapbox\":[{\"type\":\"scattermapbox\",\"marker\":{\"colorbar\":{\"outlinewidth\":0,\"ticks\":\"\"}}}],\"scatterternary\":[{\"type\":\"scatterternary\",\"marker\":{\"colorbar\":{\"outlinewidth\":0,\"ticks\":\"\"}}}],\"scattercarpet\":[{\"type\":\"scattercarpet\",\"marker\":{\"colorbar\":{\"outlinewidth\":0,\"ticks\":\"\"}}}],\"carpet\":[{\"aaxis\":{\"endlinecolor\":\"#2a3f5f\",\"gridcolor\":\"white\",\"linecolor\":\"white\",\"minorgridcolor\":\"white\",\"startlinecolor\":\"#2a3f5f\"},\"baxis\":{\"endlinecolor\":\"#2a3f5f\",\"gridcolor\":\"white\",\"linecolor\":\"white\",\"minorgridcolor\":\"white\",\"startlinecolor\":\"#2a3f5f\"},\"type\":\"carpet\"}],\"table\":[{\"cells\":{\"fill\":{\"color\":\"#EBF0F8\"},\"line\":{\"color\":\"white\"}},\"header\":{\"fill\":{\"color\":\"#C8D4E3\"},\"line\":{\"color\":\"white\"}},\"type\":\"table\"}],\"barpolar\":[{\"marker\":{\"line\":{\"color\":\"#E5ECF6\",\"width\":0.5},\"pattern\":{\"fillmode\":\"overlay\",\"size\":10,\"solidity\":0.2}},\"type\":\"barpolar\"}],\"pie\":[{\"automargin\":true,\"type\":\"pie\"}]},\"layout\":{\"autotypenumbers\":\"strict\",\"colorway\":[\"#636efa\",\"#EF553B\",\"#00cc96\",\"#ab63fa\",\"#FFA15A\",\"#19d3f3\",\"#FF6692\",\"#B6E880\",\"#FF97FF\",\"#FECB52\"],\"font\":{\"color\":\"#2a3f5f\"},\"hovermode\":\"closest\",\"hoverlabel\":{\"align\":\"left\"},\"paper_bgcolor\":\"white\",\"plot_bgcolor\":\"#E5ECF6\",\"polar\":{\"bgcolor\":\"#E5ECF6\",\"angularaxis\":{\"gridcolor\":\"white\",\"linecolor\":\"white\",\"ticks\":\"\"},\"radialaxis\":{\"gridcolor\":\"white\",\"linecolor\":\"white\",\"ticks\":\"\"}},\"ternary\":{\"bgcolor\":\"#E5ECF6\",\"aaxis\":{\"gridcolor\":\"white\",\"linecolor\":\"white\",\"ticks\":\"\"},\"baxis\":{\"gridcolor\":\"white\",\"linecolor\":\"white\",\"ticks\":\"\"},\"caxis\":{\"gridcolor\":\"white\",\"linecolor\":\"white\",\"ticks\":\"\"}},\"coloraxis\":{\"colorbar\":{\"outlinewidth\":0,\"ticks\":\"\"}},\"colorscale\":{\"sequential\":[[0.0,\"#0d0887\"],[0.1111111111111111,\"#46039f\"],[0.2222222222222222,\"#7201a8\"],[0.3333333333333333,\"#9c179e\"],[0.4444444444444444,\"#bd3786\"],[0.5555555555555556,\"#d8576b\"],[0.6666666666666666,\"#ed7953\"],[0.7777777777777778,\"#fb9f3a\"],[0.8888888888888888,\"#fdca26\"],[1.0,\"#f0f921\"]],\"sequentialminus\":[[0.0,\"#0d0887\"],[0.1111111111111111,\"#46039f\"],[0.2222222222222222,\"#7201a8\"],[0.3333333333333333,\"#9c179e\"],[0.4444444444444444,\"#bd3786\"],[0.5555555555555556,\"#d8576b\"],[0.6666666666666666,\"#ed7953\"],[0.7777777777777778,\"#fb9f3a\"],[0.8888888888888888,\"#fdca26\"],[1.0,\"#f0f921\"]],\"diverging\":[[0,\"#8e0152\"],[0.1,\"#c51b7d\"],[0.2,\"#de77ae\"],[0.3,\"#f1b6da\"],[0.4,\"#fde0ef\"],[0.5,\"#f7f7f7\"],[0.6,\"#e6f5d0\"],[0.7,\"#b8e186\"],[0.8,\"#7fbc41\"],[0.9,\"#4d9221\"],[1,\"#276419\"]]},\"xaxis\":{\"gridcolor\":\"white\",\"linecolor\":\"white\",\"ticks\":\"\",\"title\":{\"standoff\":15},\"zerolinecolor\":\"white\",\"automargin\":true,\"zerolinewidth\":2},\"yaxis\":{\"gridcolor\":\"white\",\"linecolor\":\"white\",\"ticks\":\"\",\"title\":{\"standoff\":15},\"zerolinecolor\":\"white\",\"automargin\":true,\"zerolinewidth\":2},\"scene\":{\"xaxis\":{\"backgroundcolor\":\"#E5ECF6\",\"gridcolor\":\"white\",\"linecolor\":\"white\",\"showbackground\":true,\"ticks\":\"\",\"zerolinecolor\":\"white\",\"gridwidth\":2},\"yaxis\":{\"backgroundcolor\":\"#E5ECF6\",\"gridcolor\":\"white\",\"linecolor\":\"white\",\"showbackground\":true,\"ticks\":\"\",\"zerolinecolor\":\"white\",\"gridwidth\":2},\"zaxis\":{\"backgroundcolor\":\"#E5ECF6\",\"gridcolor\":\"white\",\"linecolor\":\"white\",\"showbackground\":true,\"ticks\":\"\",\"zerolinecolor\":\"white\",\"gridwidth\":2}},\"shapedefaults\":{\"line\":{\"color\":\"#2a3f5f\"}},\"annotationdefaults\":{\"arrowcolor\":\"#2a3f5f\",\"arrowhead\":0,\"arrowwidth\":1},\"geo\":{\"bgcolor\":\"white\",\"landcolor\":\"#E5ECF6\",\"subunitcolor\":\"white\",\"showland\":true,\"showlakes\":true,\"lakecolor\":\"white\"},\"title\":{\"x\":0.05},\"mapbox\":{\"style\":\"light\"}}},\"xaxis\":{\"anchor\":\"y\",\"domain\":[0.0,0.18400000000000002],\"title\":{\"text\":\"Coffee Chain\"},\"categoryorder\":\"array\",\"categoryarray\":[\"Starbucks\",\"Dunkin' Donuts\",\"Peet's Coffee & Tea\",\"Tim Horton's\",\"Panera Bread\",\"Caribou Coffee\",\"Au Bon Pain\",\"The Coffee Bean & Tea Leaf\",\"McDonald's\"]},\"yaxis\":{\"anchor\":\"x\",\"domain\":[0.0,1.0],\"title\":{\"text\":\"Location Count\"},\"range\":[0,1000]},\"xaxis2\":{\"anchor\":\"y2\",\"domain\":[0.20400000000000001,0.388],\"matches\":\"x\",\"title\":{\"text\":\"Coffee Chain\"},\"categoryorder\":\"array\",\"categoryarray\":[\"Starbucks\",\"Dunkin' Donuts\",\"Peet's Coffee & Tea\",\"Tim Horton's\",\"Panera Bread\",\"Caribou Coffee\",\"Au Bon Pain\",\"The Coffee Bean & Tea Leaf\",\"McDonald's\"]},\"yaxis2\":{\"anchor\":\"x2\",\"domain\":[0.0,1.0],\"matches\":\"y\",\"showticklabels\":false,\"range\":[0,1000]},\"xaxis3\":{\"anchor\":\"y3\",\"domain\":[0.40800000000000003,0.5920000000000001],\"matches\":\"x\",\"title\":{\"text\":\"Coffee Chain\"},\"categoryorder\":\"array\",\"categoryarray\":[\"Starbucks\",\"Dunkin' Donuts\",\"Peet's Coffee & Tea\",\"Tim Horton's\",\"Panera Bread\",\"Caribou Coffee\",\"Au Bon Pain\",\"The Coffee Bean & Tea Leaf\",\"McDonald's\"]},\"yaxis3\":{\"anchor\":\"x3\",\"domain\":[0.0,1.0],\"matches\":\"y\",\"showticklabels\":false,\"range\":[0,1000]},\"xaxis4\":{\"anchor\":\"y4\",\"domain\":[0.6120000000000001,0.7960000000000002],\"matches\":\"x\",\"title\":{\"text\":\"Coffee Chain\"},\"categoryorder\":\"array\",\"categoryarray\":[\"Starbucks\",\"Dunkin' Donuts\",\"Peet's Coffee & Tea\",\"Tim Horton's\",\"Panera Bread\",\"Caribou Coffee\",\"Au Bon Pain\",\"The Coffee Bean & Tea Leaf\",\"McDonald's\"]},\"yaxis4\":{\"anchor\":\"x4\",\"domain\":[0.0,1.0],\"matches\":\"y\",\"showticklabels\":false,\"range\":[0,1000]},\"xaxis5\":{\"anchor\":\"y5\",\"domain\":[0.8160000000000001,1.0],\"matches\":\"x\",\"title\":{\"text\":\"Coffee Chain\"},\"categoryorder\":\"array\",\"categoryarray\":[\"Starbucks\",\"Dunkin' Donuts\",\"Peet's Coffee & Tea\",\"Tim Horton's\",\"Panera Bread\",\"Caribou Coffee\",\"Au Bon Pain\",\"The Coffee Bean & Tea Leaf\",\"McDonald's\"]},\"yaxis5\":{\"anchor\":\"x5\",\"domain\":[0.0,1.0],\"matches\":\"y\",\"showticklabels\":false,\"range\":[0,1000]},\"annotations\":[{\"font\":{},\"showarrow\":false,\"text\":\"Region=West\",\"x\":0.09200000000000001,\"xanchor\":\"center\",\"xref\":\"paper\",\"y\":1.0,\"yanchor\":\"bottom\",\"yref\":\"paper\"},{\"font\":{},\"showarrow\":false,\"text\":\"Region=Pacific\",\"x\":0.29600000000000004,\"xanchor\":\"center\",\"xref\":\"paper\",\"y\":1.0,\"yanchor\":\"bottom\",\"yref\":\"paper\"},{\"font\":{},\"showarrow\":false,\"text\":\"Region=South\",\"x\":0.5,\"xanchor\":\"center\",\"xref\":\"paper\",\"y\":1.0,\"yanchor\":\"bottom\",\"yref\":\"paper\"},{\"font\":{},\"showarrow\":false,\"text\":\"Region=Northeast\",\"x\":0.7040000000000002,\"xanchor\":\"center\",\"xref\":\"paper\",\"y\":1.0,\"yanchor\":\"bottom\",\"yref\":\"paper\"},{\"font\":{},\"showarrow\":false,\"text\":\"Region=Midwest\",\"x\":0.908,\"xanchor\":\"center\",\"xref\":\"paper\",\"y\":1.0,\"yanchor\":\"bottom\",\"yref\":\"paper\"}],\"legend\":{\"title\":{\"text\":\"Coffee Chain\"},\"tracegroupgap\":0},\"margin\":{\"t\":60},\"boxmode\":\"overlay\",\"showlegend\":false,\"height\":500},                        {\"responsive\": true}                    ).then(function(){\n",
       "                            \n",
       "var gd = document.getElementById('d34a375e-42ee-49ad-bb71-ca2b7be23de4');\n",
       "var x = new MutationObserver(function (mutations, observer) {{\n",
       "        var display = window.getComputedStyle(gd).display;\n",
       "        if (!display || display === 'none') {{\n",
       "            console.log([gd, 'removed!']);\n",
       "            Plotly.purge(gd);\n",
       "            observer.disconnect();\n",
       "        }}\n",
       "}});\n",
       "\n",
       "// Listen for the removal of the full notebook cells\n",
       "var notebookContainer = gd.closest('#notebook-container');\n",
       "if (notebookContainer) {{\n",
       "    x.observe(notebookContainer, {childList: true});\n",
       "}}\n",
       "\n",
       "// Listen for the clearing of the current output cell\n",
       "var outputEl = gd.closest('.output');\n",
       "if (outputEl) {{\n",
       "    x.observe(outputEl, {childList: true});\n",
       "}}\n",
       "\n",
       "                        })                };                });            </script>        </div>"
      ]
     },
     "metadata": {},
     "output_type": "display_data"
    }
   ],
   "source": [
    "#creating box plots for location counts for the different chains by region\n",
    "fig_boxplot_coffee_shops_by_region_vertical = px.box(coffee_clean, x='Coffee Chain', y='Location Count', color='Coffee Chain', facet_col='Region')\n",
    "fig_boxplot_coffee_shops_by_region_vertical.update_traces(quartilemethod=\"linear\")\n",
    "\n",
    "#removing the legend\n",
    "fig_boxplot_coffee_shops_by_region_vertical.update_layout(showlegend=False)\n",
    "\n",
    "#Setting the height of the figure (adjust the value as needed)\n",
    "fig_boxplot_coffee_shops_by_region_vertical.update_layout(height=500)\n",
    "\n",
    "#y axis fix\n",
    "fig_boxplot_coffee_shops_by_region_vertical.update_yaxes(range=[0, 1000])\n",
    "\n",
    "\n",
    "fig_boxplot_coffee_shops_by_region_vertical.show()\n"
   ]
  },
  {
   "cell_type": "markdown",
   "id": "871b46c9",
   "metadata": {},
   "source": [
    "### Visualized differently, the coffee chain prevalence by regions shows tht indeeed, Starbucks is ever more prevalent in the West and that McDonald's has high prevalence in the Midwest and the South. Some of the smaller chains get lost in these scenarios, so it would be good idea to isolate them."
   ]
  },
  {
   "cell_type": "code",
   "execution_count": 318,
   "id": "81d1012b",
   "metadata": {},
   "outputs": [
    {
     "data": {
      "image/png": "[encoded data removed]",
      "text/plain": [
       "<Figure size 640x480 with 1 Axes>"
      ]
     },
     "metadata": {
      "image/png": {
       "height": 480,
       "width": 640
      },
      "needs_background": "light"
     },
     "output_type": "display_data"
    },
    {
     "name": "stdout",
     "output_type": "stream",
     "text": [
      "\n"
     ]
    }
   ],
   "source": [
    "#Aggregation: Sum the location counts for each coffee chain and region\n",
    "aggregated_data = coffee_clean.groupby(['Coffee Chain', 'Region'])['Location Count'].sum().reset_index()\n",
    "\n",
    "#Handling Outliers: Cap location counts to a maximum value (e.g., 95th percentile)\n",
    "outlier_threshold = aggregated_data['Location Count'].quantile(0.95)\n",
    "aggregated_data['Capped Location Count'] = aggregated_data['Location Count'].apply(lambda x: min(x, outlier_threshold))\n",
    "\n",
    "#Scaling or Normalizing\n",
    "aggregated_data['Scaled Location Count'] = (aggregated_data['Capped Location Count'] - aggregated_data['Capped Location Count'].min()) / (aggregated_data['Capped Location Count'].max() - aggregated_data['Capped Location Count'].min())\n",
    "\n",
    "#Creating a bar plot to visualize the cleaned data\n",
    "plot_cleaned_data = (\n",
    "    ggplot(aggregated_data, aes(x='Coffee Chain', y='Scaled Location Count', fill='Region')) +\n",
    "    geom_bar(stat='identity', position=position_dodge(width=0.8)) +\n",
    "    theme_minimal() +\n",
    "    labs(title=\"Cleaned Coffee Chain Prevalence in Regions\",\n",
    "         x=\"Coffee Chain\",\n",
    "         y=\"Scaled Location Count\",\n",
    "         fill=\"Region\") +\n",
    "    theme(axis_text_x=element_text(angle=45, hjust=1))\n",
    ")\n",
    "\n",
    "print(plot_cleaned_data)\n"
   ]
  },
  {
   "cell_type": "markdown",
   "id": "2a7a1828",
   "metadata": {},
   "source": [
    "### Here we can see the actual efficiency of the chains with a new metric also visualized by region. When we take into account their revenue by location count we see that the most efficient region is the Northeast, meaning theres more bang for with buck in these areas. "
   ]
  },
  {
   "cell_type": "code",
   "execution_count": 319,
   "id": "fc79dd98",
   "metadata": {},
   "outputs": [
    {
     "data": {
      "image/png": "[encoded data removed]",
      "text/plain": [
       "<Figure size 640x480 with 1 Axes>"
      ]
     },
     "metadata": {
      "image/png": {
       "height": 480,
       "width": 640
      },
      "needs_background": "light"
     },
     "output_type": "display_data"
    },
    {
     "name": "stdout",
     "output_type": "stream",
     "text": [
      "\n"
     ]
    }
   ],
   "source": [
    "#Calculating \"Revenue per Number of Locations\" based on the single revenue value for each coffee chain\n",
    "coffee_clean['Revenue per Location'] = coffee_clean['Revenue2022'] / coffee_clean['Location Count']\n",
    "\n",
    "#Definign the desired order for the \"Region\" variable\n",
    "desired_order = ['Northeast', 'South', 'Midwest', 'West', 'Pacific']\n",
    "\n",
    "#creating a bar chart to visualize \"Revenue per Number of Locations\" by region\n",
    "plot_revenue_efficiency = (\n",
    "    ggplot(coffee_clean, aes(x='Region', y='Revenue per Location', fill='Region')) +\n",
    "    geom_bar(stat='identity', position=position_dodge(width=0.8)) +\n",
    "    theme_minimal() +\n",
    "    labs(title=\"Revenue Efficiency by Region\",\n",
    "         x=\"Region\",\n",
    "         y=\"Revenue per Location\") +\n",
    "    scale_x_discrete(limits=desired_order) +  # Specifying the desired order\n",
    "    theme(axis_text_x=element_text(angle=45, hjust=1))\n",
    ")\n",
    "\n",
    "print(plot_revenue_efficiency)"
   ]
  },
  {
   "cell_type": "markdown",
   "id": "beda4076",
   "metadata": {},
   "source": [
    "### Another way to visualize the location counts is a bar chart, we can see here that the giants are making this harder to see. See figure below this one to see the smaller chains and how they compare in terms of number of locations."
   ]
  },
  {
   "cell_type": "code",
   "execution_count": 320,
   "id": "6bc758a2",
   "metadata": {},
   "outputs": [
    {
     "data": {
      "image/png": "[encoded data removed]",
      "text/plain": [
       "<Figure size 640x480 with 1 Axes>"
      ]
     },
     "metadata": {
      "image/png": {
       "height": 480,
       "width": 640
      },
      "needs_background": "light"
     },
     "output_type": "display_data"
    },
    {
     "name": "stdout",
     "output_type": "stream",
     "text": [
      "\n"
     ]
    }
   ],
   "source": [
    "#Creating a Bar chart to visualize the distribution of the number of stores by coffee chain\n",
    "plot_store_distribution = (\n",
    "    ggplot(coffee_clean, aes(x='Coffee Chain', y='Location Count', fill='Coffee Chain')) +\n",
    "    geom_bar(stat='identity') +\n",
    "    theme_minimal() +\n",
    "    labs(title=\"Distribution of Coffee Shop Locations by Chain\",\n",
    "         x=\"Coffee Chain\",\n",
    "         y=\"Location Count\") +\n",
    "    theme(axis_text_x=element_text(angle=45, hjust=1))\n",
    ")\n",
    "\n",
    "print(plot_store_distribution)"
   ]
  },
  {
   "cell_type": "markdown",
   "id": "42ad9850",
   "metadata": {},
   "source": [
    "### Visualizing a bar plot for the number of locations of the chains excluding the large chains."
   ]
  },
  {
   "cell_type": "code",
   "execution_count": 321,
   "id": "aef8bb6a",
   "metadata": {},
   "outputs": [
    {
     "data": {
      "image/png": "[encoded data removed]",
      "text/plain": [
       "<Figure size 640x480 with 1 Axes>"
      ]
     },
     "metadata": {
      "image/png": {
       "height": 480,
       "width": 640
      },
      "needs_background": "light"
     },
     "output_type": "display_data"
    },
    {
     "name": "stdout",
     "output_type": "stream",
     "text": [
      "\n"
     ]
    }
   ],
   "source": [
    "#Lising of coffee chains to exclude\n",
    "exclude_chains = ['McDonald\\'s', 'Dunkin\\' Donuts', 'Starbucks', 'Panera Bread']\n",
    "\n",
    "#Filtering the data to exclude the specified coffee chains\n",
    "filtered_data = coffee_clean[~coffee_clean['Coffee Chain'].isin(exclude_chains)]\n",
    "\n",
    "#Aggregating the data by coffee chain and calculate the sum of 'Location Count' for each chain\n",
    "chain_location_counts = filtered_data.groupby('Coffee Chain')['Location Count'].sum().reset_index()\n",
    "\n",
    "#Creating Bar chart to visualize the total location count for each coffee chain (excluding specified chains)\n",
    "plot_store_distribution = (\n",
    "    ggplot(chain_location_counts, aes(x='Coffee Chain', y='Location Count', fill='Coffee Chain')) +\n",
    "    geom_bar(stat='identity') +\n",
    "    theme_minimal() +\n",
    "    labs(title=\"Total Coffee Shop Locations by Chain (Excluding McDonald's, Dunkin', Starbucks)\",\n",
    "         x=\"Coffee Chain\",\n",
    "         y=\"Location Count\") +\n",
    "    theme(axis_text_x=element_text(angle=45, hjust=1))\n",
    ")\n",
    "\n",
    "print(plot_store_distribution)\n"
   ]
  },
  {
   "cell_type": "markdown",
   "id": "ef68886d",
   "metadata": {},
   "source": [
    "### Perhaps we want to see if there is a relationship to the number of locations and the population of the states. As it turns out there is quite a high correlation to the number of people and the number of stores that these chains have. This is not surprising but it might be a reason for the prevalence and perhaps revenue for the chains."
   ]
  },
  {
   "cell_type": "code",
   "execution_count": 322,
   "id": "5e37c3ee",
   "metadata": {},
   "outputs": [
    {
     "data": {
      "image/png": "[encoded data removed]",
      "text/plain": [
       "<Figure size 640x480 with 1 Axes>"
      ]
     },
     "metadata": {
      "image/png": {
       "height": 480,
       "width": 640
      },
      "needs_background": "light"
     },
     "output_type": "display_data"
    },
    {
     "name": "stdout",
     "output_type": "stream",
     "text": [
      "\n"
     ]
    }
   ],
   "source": [
    "#Grouping the data by 'State' and aggregating the population and location count\n",
    "state_population_locations = coffee_clean.groupby('State').agg({\n",
    "    'Population': 'first',  # Take the first population value for each state\n",
    "    'Location Count': 'sum'  # Sum the location counts for each state\n",
    "}).reset_index()\n",
    "\n",
    "#Getting the correlation coefficient for the populaiton and location\n",
    "correlation_coefficient = state_population_locations['Population'].corr(state_population_locations['Location Count'])\n",
    "\n",
    "#Creating a scatterplot of population vs. location count\n",
    "plot_population_vs_locations = (\n",
    "    ggplot(state_population_locations, aes(x='Population', y='Location Count')) +\n",
    "    geom_point(color=\"red\") +\n",
    "    theme_minimal() +\n",
    "    labs(title=f\"Population vs. Coffee Shop Locations (Correlation: {correlation_coefficient:.2f})\",\n",
    "         x=\"Population\",\n",
    "         y=\"Location Count\")\n",
    ")\n",
    "\n",
    "print(plot_population_vs_locations)"
   ]
  },
  {
   "cell_type": "markdown",
   "id": "d1b8b378",
   "metadata": {},
   "source": [
    "### Here is another way to visualize just where the population is the highest, and there seems to be a clear indication that California is pulling the data a certain way in terms of location counts since the correlation of population and location counts."
   ]
  },
  {
   "cell_type": "code",
   "execution_count": 323,
   "id": "9c8d9d34",
   "metadata": {},
   "outputs": [
    {
     "data": {
      "application/vnd.plotly.v1+json": {
       "config": {
        "plotlyServerURL": "https://plot.ly"
       },
       "data": [
        {
         "coloraxis": "coloraxis",
         "geo": "geo",
         "hovertemplate": "<b>%{hovertext}</b><br><br>State=%{location}<br>Population=%{z}<extra></extra>",
         "hovertext": [
          "AK",
          "AK",
          "AL",
          "AR",
          "AZ",
          "CA",
          "CO",
          "CT",
          "DC",
          "DE",
          "FL",
          "GA",
          "HI",
          "HI",
          "IA",
          "ID",
          "IL",
          "IN",
          "KS",
          "KY",
          "LA",
          "MA",
          "MD",
          "ME",
          "MI",
          "MN",
          "MO",
          "MS",
          "MT",
          "NC",
          "ND",
          "NE",
          "NH",
          "NJ",
          "NM",
          "NV",
          "NY",
          "OH",
          "OK",
          "OR",
          "PA",
          "RI",
          "SC",
          "SD",
          "TN",
          "TX",
          "UT",
          "VA",
          "VT",
          "WA",
          "WI",
          "WV",
          "WY",
          "AL",
          "AR",
          "AZ",
          "CA",
          "CO",
          "CT",
          "DC",
          "DE",
          "FL",
          "GA",
          "HI",
          "HI",
          "IA",
          "IL",
          "IN",
          "KS",
          "KY",
          "LA",
          "MA",
          "MD",
          "ME",
          "MI",
          "MN",
          "MO",
          "MS",
          "NC",
          "NE",
          "NH",
          "NJ",
          "NM",
          "NV",
          "NY",
          "OH",
          "OK",
          "OR",
          "PA",
          "RI",
          "SC",
          "TN",
          "TX",
          "UT",
          "VA",
          "VT",
          "WA",
          "WI",
          "WV",
          "CA",
          "CO",
          "HI",
          "HI",
          "IL",
          "NV",
          "OR",
          "PA",
          "TX",
          "WA",
          "MA",
          "CT",
          "DE",
          "IN",
          "KY",
          "MA",
          "ME",
          "MI",
          "MN",
          "MO",
          "NJ",
          "NY",
          "OH",
          "PA",
          "RI",
          "VA",
          "WV",
          "AL",
          "AR",
          "AZ",
          "CA",
          "CO",
          "CT",
          "DC",
          "DE",
          "FL",
          "GA",
          "IA",
          "ID",
          "IL",
          "IN",
          "KS",
          "KY",
          "LA",
          "MA",
          "MD",
          "ME",
          "MI",
          "MN",
          "MO",
          "MS",
          "NC",
          "ND",
          "NE",
          "NH",
          "NJ",
          "NM",
          "NV",
          "NY",
          "OH",
          "OK",
          "OR",
          "PA",
          "RI",
          "SC",
          "SD",
          "TN",
          "TX",
          "VA",
          "VT",
          "WA",
          "WI",
          "WV",
          "CO",
          "DC",
          "GA",
          "IA",
          "IL",
          "IN",
          "KS",
          "MD",
          "MI",
          "MN",
          "MO",
          "NC",
          "ND",
          "NE",
          "OH",
          "OR",
          "PA",
          "SD",
          "VA",
          "WI",
          "CT",
          "DC",
          "FL",
          "GA",
          "IL",
          "IN",
          "KY",
          "MA",
          "MD",
          "ME",
          "MI",
          "MN",
          "MO",
          "NH",
          "NJ",
          "NV",
          "NY",
          "OH",
          "PA",
          "RI",
          "TX",
          "VA",
          "AZ",
          "CA",
          "FL",
          "GA",
          "HI",
          "HI",
          "NC",
          "NV",
          "TX",
          "AK",
          "AK",
          "AL",
          "AR",
          "AZ",
          "CA",
          "CO",
          "CT",
          "DC",
          "DE",
          "FL",
          "GA",
          "HI",
          "HI",
          "IA",
          "ID",
          "IL",
          "IN",
          "KS",
          "KY",
          "LA",
          "MA",
          "MD",
          "ME",
          "MI",
          "MN",
          "MO",
          "MS",
          "MT",
          "NC",
          "ND",
          "NE",
          "NH",
          "NJ",
          "NM",
          "NV",
          "NY",
          "OH",
          "OK",
          "OR",
          "PA",
          "RI",
          "SC",
          "SD",
          "TN",
          "TX",
          "UT",
          "VA",
          "VT",
          "WA",
          "WI",
          "WV",
          "WY"
         ],
         "locationmode": "USA-states",
         "locations": [
          "AK",
          "AK",
          "AL",
          "AR",
          "AZ",
          "CA",
          "CO",
          "CT",
          "DC",
          "DE",
          "FL",
          "GA",
          "HI",
          "HI",
          "IA",
          "ID",
          "IL",
          "IN",
          "KS",
          "KY",
          "LA",
          "MA",
          "MD",
          "ME",
          "MI",
          "MN",
          "MO",
          "MS",
          "MT",
          "NC",
          "ND",
          "NE",
          "NH",
          "NJ",
          "NM",
          "NV",
          "NY",
          "OH",
          "OK",
          "OR",
          "PA",
          "RI",
          "SC",
          "SD",
          "TN",
          "TX",
          "UT",
          "VA",
          "VT",
          "WA",
          "WI",
          "WV",
          "WY",
          "AL",
          "AR",
          "AZ",
          "CA",
          "CO",
          "CT",
          "DC",
          "DE",
          "FL",
          "GA",
          "HI",
          "HI",
          "IA",
          "IL",
          "IN",
          "KS",
          "KY",
          "LA",
          "MA",
          "MD",
          "ME",
          "MI",
          "MN",
          "MO",
          "MS",
          "NC",
          "NE",
          "NH",
          "NJ",
          "NM",
          "NV",
          "NY",
          "OH",
          "OK",
          "OR",
          "PA",
          "RI",
          "SC",
          "TN",
          "TX",
          "UT",
          "VA",
          "VT",
          "WA",
          "WI",
          "WV",
          "CA",
          "CO",
          "HI",
          "HI",
          "IL",
          "NV",
          "OR",
          "PA",
          "TX",
          "WA",
          "MA",
          "CT",
          "DE",
          "IN",
          "KY",
          "MA",
          "ME",
          "MI",
          "MN",
          "MO",
          "NJ",
          "NY",
          "OH",
          "PA",
          "RI",
          "VA",
          "WV",
          "AL",
          "AR",
          "AZ",
          "CA",
          "CO",
          "CT",
          "DC",
          "DE",
          "FL",
          "GA",
          "IA",
          "ID",
          "IL",
          "IN",
          "KS",
          "KY",
          "LA",
          "MA",
          "MD",
          "ME",
          "MI",
          "MN",
          "MO",
          "MS",
          "NC",
          "ND",
          "NE",
          "NH",
          "NJ",
          "NM",
          "NV",
          "NY",
          "OH",
          "OK",
          "OR",
          "PA",
          "RI",
          "SC",
          "SD",
          "TN",
          "TX",
          "VA",
          "VT",
          "WA",
          "WI",
          "WV",
          "CO",
          "DC",
          "GA",
          "IA",
          "IL",
          "IN",
          "KS",
          "MD",
          "MI",
          "MN",
          "MO",
          "NC",
          "ND",
          "NE",
          "OH",
          "OR",
          "PA",
          "SD",
          "VA",
          "WI",
          "CT",
          "DC",
          "FL",
          "GA",
          "IL",
          "IN",
          "KY",
          "MA",
          "MD",
          "ME",
          "MI",
          "MN",
          "MO",
          "NH",
          "NJ",
          "NV",
          "NY",
          "OH",
          "PA",
          "RI",
          "TX",
          "VA",
          "AZ",
          "CA",
          "FL",
          "GA",
          "HI",
          "HI",
          "NC",
          "NV",
          "TX",
          "AK",
          "AK",
          "AL",
          "AR",
          "AZ",
          "CA",
          "CO",
          "CT",
          "DC",
          "DE",
          "FL",
          "GA",
          "HI",
          "HI",
          "IA",
          "ID",
          "IL",
          "IN",
          "KS",
          "KY",
          "LA",
          "MA",
          "MD",
          "ME",
          "MI",
          "MN",
          "MO",
          "MS",
          "MT",
          "NC",
          "ND",
          "NE",
          "NH",
          "NJ",
          "NM",
          "NV",
          "NY",
          "OH",
          "OK",
          "OR",
          "PA",
          "RI",
          "SC",
          "SD",
          "TN",
          "TX",
          "UT",
          "VA",
          "VT",
          "WA",
          "WI",
          "WV",
          "WY"
         ],
         "name": "",
         "type": "choropleth",
         "z": [
          733391,
          733391,
          5024279,
          3011524,
          7151502,
          39538223,
          5773714,
          3605944,
          689545,
          989948,
          21538187,
          10711908,
          1455271,
          1455271,
          3190369,
          1839106,
          12812508,
          6785528,
          2937880,
          4505836,
          4657757,
          7029917,
          6177224,
          1362359,
          10077331,
          5706494,
          6154913,
          2961279,
          1084225,
          10439388,
          779094,
          1961504,
          1377529,
          9288994,
          2117522,
          3104614,
          20201249,
          11799448,
          3959353,
          4237256,
          13002700,
          1097379,
          5118425,
          886667,
          6910840,
          29145505,
          3271616,
          8631393,
          643077,
          7705281,
          5893718,
          1793716,
          576851,
          5024279,
          3011524,
          7151502,
          39538223,
          5773714,
          3605944,
          689545,
          989948,
          21538187,
          10711908,
          1455271,
          1455271,
          3190369,
          12812508,
          6785528,
          2937880,
          4505836,
          4657757,
          7029917,
          6177224,
          1362359,
          10077331,
          5706494,
          6154913,
          2961279,
          10439388,
          1961504,
          1377529,
          9288994,
          2117522,
          3104614,
          20201249,
          11799448,
          3959353,
          4237256,
          13002700,
          1097379,
          5118425,
          6910840,
          29145505,
          3271616,
          8631393,
          643077,
          7705281,
          5893718,
          1793716,
          39538223,
          5773714,
          1455271,
          1455271,
          12812508,
          3104614,
          4237256,
          13002700,
          29145505,
          7705281,
          7029917,
          3605944,
          989948,
          6785528,
          4505836,
          7029917,
          1362359,
          10077331,
          5706494,
          6154913,
          9288994,
          20201249,
          11799448,
          13002700,
          1097379,
          8631393,
          1793716,
          5024279,
          3011524,
          7151502,
          39538223,
          5773714,
          3605944,
          689545,
          989948,
          21538187,
          10711908,
          3190369,
          1839106,
          12812508,
          6785528,
          2937880,
          4505836,
          4657757,
          7029917,
          6177224,
          1362359,
          10077331,
          5706494,
          6154913,
          2961279,
          10439388,
          779094,
          1961504,
          1377529,
          9288994,
          2117522,
          3104614,
          20201249,
          11799448,
          3959353,
          4237256,
          13002700,
          1097379,
          5118425,
          886667,
          6910840,
          29145505,
          8631393,
          643077,
          7705281,
          5893718,
          1793716,
          5773714,
          689545,
          10711908,
          3190369,
          12812508,
          6785528,
          2937880,
          6177224,
          10077331,
          5706494,
          6154913,
          10439388,
          779094,
          1961504,
          11799448,
          4237256,
          13002700,
          886667,
          8631393,
          5893718,
          3605944,
          689545,
          21538187,
          10711908,
          12812508,
          6785528,
          4505836,
          7029917,
          6177224,
          1362359,
          10077331,
          5706494,
          6154913,
          1377529,
          9288994,
          3104614,
          20201249,
          11799448,
          13002700,
          1097379,
          29145505,
          8631393,
          7151502,
          39538223,
          21538187,
          10711908,
          1455271,
          1455271,
          10439388,
          3104614,
          29145505,
          733391,
          733391,
          5024279,
          3011524,
          7151502,
          39538223,
          5773714,
          3605944,
          689545,
          989948,
          21538187,
          10711908,
          1455271,
          1455271,
          3190369,
          1839106,
          12812508,
          6785528,
          2937880,
          4505836,
          4657757,
          7029917,
          6177224,
          1362359,
          10077331,
          5706494,
          6154913,
          2961279,
          1084225,
          10439388,
          779094,
          1961504,
          1377529,
          9288994,
          2117522,
          3104614,
          20201249,
          11799448,
          3959353,
          4237256,
          13002700,
          1097379,
          5118425,
          886667,
          6910840,
          29145505,
          3271616,
          8631393,
          643077,
          7705281,
          5893718,
          1793716,
          576851
         ]
        }
       ],
       "layout": {
        "coloraxis": {
         "colorbar": {
          "title": {
           "text": "Population"
          }
         },
         "colorscale": [
          [
           0,
           "#0d0887"
          ],
          [
           0.1111111111111111,
           "#46039f"
          ],
          [
           0.2222222222222222,
           "#7201a8"
          ],
          [
           0.3333333333333333,
           "#9c179e"
          ],
          [
           0.4444444444444444,
           "#bd3786"
          ],
          [
           0.5555555555555556,
           "#d8576b"
          ],
          [
           0.6666666666666666,
           "#ed7953"
          ],
          [
           0.7777777777777778,
           "#fb9f3a"
          ],
          [
           0.8888888888888888,
           "#fdca26"
          ],
          [
           1,
           "#f0f921"
          ]
         ]
        },
        "geo": {
         "center": {},
         "domain": {
          "x": [
           0,
           1
          ],
          "y": [
           0,
           1
          ]
         },
         "scope": "usa"
        },
        "legend": {
         "tracegroupgap": 0
        },
        "template": {
         "data": {
          "bar": [
           {
            "error_x": {
             "color": "#2a3f5f"
            },
            "error_y": {
             "color": "#2a3f5f"
            },
            "marker": {
             "line": {
              "color": "#E5ECF6",
              "width": 0.5
             },
             "pattern": {
              "fillmode": "overlay",
              "size": 10,
              "solidity": 0.2
             }
            },
            "type": "bar"
           }
          ],
          "barpolar": [
           {
            "marker": {
             "line": {
              "color": "#E5ECF6",
              "width": 0.5
             },
             "pattern": {
              "fillmode": "overlay",
              "size": 10,
              "solidity": 0.2
             }
            },
            "type": "barpolar"
           }
          ],
          "carpet": [
           {
            "aaxis": {
             "endlinecolor": "#2a3f5f",
             "gridcolor": "white",
             "linecolor": "white",
             "minorgridcolor": "white",
             "startlinecolor": "#2a3f5f"
            },
            "baxis": {
             "endlinecolor": "#2a3f5f",
             "gridcolor": "white",
             "linecolor": "white",
             "minorgridcolor": "white",
             "startlinecolor": "#2a3f5f"
            },
            "type": "carpet"
           }
          ],
          "choropleth": [
           {
            "colorbar": {
             "outlinewidth": 0,
             "ticks": ""
            },
            "type": "choropleth"
           }
          ],
          "contour": [
           {
            "colorbar": {
             "outlinewidth": 0,
             "ticks": ""
            },
            "colorscale": [
             [
              0,
              "#0d0887"
             ],
             [
              0.1111111111111111,
              "#46039f"
             ],
             [
              0.2222222222222222,
              "#7201a8"
             ],
             [
              0.3333333333333333,
              "#9c179e"
             ],
             [
              0.4444444444444444,
              "#bd3786"
             ],
             [
              0.5555555555555556,
              "#d8576b"
             ],
             [
              0.6666666666666666,
              "#ed7953"
             ],
             [
              0.7777777777777778,
              "#fb9f3a"
             ],
             [
              0.8888888888888888,
              "#fdca26"
             ],
             [
              1,
              "#f0f921"
             ]
            ],
            "type": "contour"
           }
          ],
          "contourcarpet": [
           {
            "colorbar": {
             "outlinewidth": 0,
             "ticks": ""
            },
            "type": "contourcarpet"
           }
          ],
          "heatmap": [
           {
            "colorbar": {
             "outlinewidth": 0,
             "ticks": ""
            },
            "colorscale": [
             [
              0,
              "#0d0887"
             ],
             [
              0.1111111111111111,
              "#46039f"
             ],
             [
              0.2222222222222222,
              "#7201a8"
             ],
             [
              0.3333333333333333,
              "#9c179e"
             ],
             [
              0.4444444444444444,
              "#bd3786"
             ],
             [
              0.5555555555555556,
              "#d8576b"
             ],
             [
              0.6666666666666666,
              "#ed7953"
             ],
             [
              0.7777777777777778,
              "#fb9f3a"
             ],
             [
              0.8888888888888888,
              "#fdca26"
             ],
             [
              1,
              "#f0f921"
             ]
            ],
            "type": "heatmap"
           }
          ],
          "heatmapgl": [
           {
            "colorbar": {
             "outlinewidth": 0,
             "ticks": ""
            },
            "colorscale": [
             [
              0,
              "#0d0887"
             ],
             [
              0.1111111111111111,
              "#46039f"
             ],
             [
              0.2222222222222222,
              "#7201a8"
             ],
             [
              0.3333333333333333,
              "#9c179e"
             ],
             [
              0.4444444444444444,
              "#bd3786"
             ],
             [
              0.5555555555555556,
              "#d8576b"
             ],
             [
              0.6666666666666666,
              "#ed7953"
             ],
             [
              0.7777777777777778,
              "#fb9f3a"
             ],
             [
              0.8888888888888888,
              "#fdca26"
             ],
             [
              1,
              "#f0f921"
             ]
            ],
            "type": "heatmapgl"
           }
          ],
          "histogram": [
           {
            "marker": {
             "pattern": {
              "fillmode": "overlay",
              "size": 10,
              "solidity": 0.2
             }
            },
            "type": "histogram"
           }
          ],
          "histogram2d": [
           {
            "colorbar": {
             "outlinewidth": 0,
             "ticks": ""
            },
            "colorscale": [
             [
              0,
              "#0d0887"
             ],
             [
              0.1111111111111111,
              "#46039f"
             ],
             [
              0.2222222222222222,
              "#7201a8"
             ],
             [
              0.3333333333333333,
              "#9c179e"
             ],
             [
              0.4444444444444444,
              "#bd3786"
             ],
             [
              0.5555555555555556,
              "#d8576b"
             ],
             [
              0.6666666666666666,
              "#ed7953"
             ],
             [
              0.7777777777777778,
              "#fb9f3a"
             ],
             [
              0.8888888888888888,
              "#fdca26"
             ],
             [
              1,
              "#f0f921"
             ]
            ],
            "type": "histogram2d"
           }
          ],
          "histogram2dcontour": [
           {
            "colorbar": {
             "outlinewidth": 0,
             "ticks": ""
            },
            "colorscale": [
             [
              0,
              "#0d0887"
             ],
             [
              0.1111111111111111,
              "#46039f"
             ],
             [
              0.2222222222222222,
              "#7201a8"
             ],
             [
              0.3333333333333333,
              "#9c179e"
             ],
             [
              0.4444444444444444,
              "#bd3786"
             ],
             [
              0.5555555555555556,
              "#d8576b"
             ],
             [
              0.6666666666666666,
              "#ed7953"
             ],
             [
              0.7777777777777778,
              "#fb9f3a"
             ],
             [
              0.8888888888888888,
              "#fdca26"
             ],
             [
              1,
              "#f0f921"
             ]
            ],
            "type": "histogram2dcontour"
           }
          ],
          "mesh3d": [
           {
            "colorbar": {
             "outlinewidth": 0,
             "ticks": ""
            },
            "type": "mesh3d"
           }
          ],
          "parcoords": [
           {
            "line": {
             "colorbar": {
              "outlinewidth": 0,
              "ticks": ""
             }
            },
            "type": "parcoords"
           }
          ],
          "pie": [
           {
            "automargin": true,
            "type": "pie"
           }
          ],
          "scatter": [
           {
            "fillpattern": {
             "fillmode": "overlay",
             "size": 10,
             "solidity": 0.2
            },
            "type": "scatter"
           }
          ],
          "scatter3d": [
           {
            "line": {
             "colorbar": {
              "outlinewidth": 0,
              "ticks": ""
             }
            },
            "marker": {
             "colorbar": {
              "outlinewidth": 0,
              "ticks": ""
             }
            },
            "type": "scatter3d"
           }
          ],
          "scattercarpet": [
           {
            "marker": {
             "colorbar": {
              "outlinewidth": 0,
              "ticks": ""
             }
            },
            "type": "scattercarpet"
           }
          ],
          "scattergeo": [
           {
            "marker": {
             "colorbar": {
              "outlinewidth": 0,
              "ticks": ""
             }
            },
            "type": "scattergeo"
           }
          ],
          "scattergl": [
           {
            "marker": {
             "colorbar": {
              "outlinewidth": 0,
              "ticks": ""
             }
            },
            "type": "scattergl"
           }
          ],
          "scattermapbox": [
           {
            "marker": {
             "colorbar": {
              "outlinewidth": 0,
              "ticks": ""
             }
            },
            "type": "scattermapbox"
           }
          ],
          "scatterpolar": [
           {
            "marker": {
             "colorbar": {
              "outlinewidth": 0,
              "ticks": ""
             }
            },
            "type": "scatterpolar"
           }
          ],
          "scatterpolargl": [
           {
            "marker": {
             "colorbar": {
              "outlinewidth": 0,
              "ticks": ""
             }
            },
            "type": "scatterpolargl"
           }
          ],
          "scatterternary": [
           {
            "marker": {
             "colorbar": {
              "outlinewidth": 0,
              "ticks": ""
             }
            },
            "type": "scatterternary"
           }
          ],
          "surface": [
           {
            "colorbar": {
             "outlinewidth": 0,
             "ticks": ""
            },
            "colorscale": [
             [
              0,
              "#0d0887"
             ],
             [
              0.1111111111111111,
              "#46039f"
             ],
             [
              0.2222222222222222,
              "#7201a8"
             ],
             [
              0.3333333333333333,
              "#9c179e"
             ],
             [
              0.4444444444444444,
              "#bd3786"
             ],
             [
              0.5555555555555556,
              "#d8576b"
             ],
             [
              0.6666666666666666,
              "#ed7953"
             ],
             [
              0.7777777777777778,
              "#fb9f3a"
             ],
             [
              0.8888888888888888,
              "#fdca26"
             ],
             [
              1,
              "#f0f921"
             ]
            ],
            "type": "surface"
           }
          ],
          "table": [
           {
            "cells": {
             "fill": {
              "color": "#EBF0F8"
             },
             "line": {
              "color": "white"
             }
            },
            "header": {
             "fill": {
              "color": "#C8D4E3"
             },
             "line": {
              "color": "white"
             }
            },
            "type": "table"
           }
          ]
         },
         "layout": {
          "annotationdefaults": {
           "arrowcolor": "#2a3f5f",
           "arrowhead": 0,
           "arrowwidth": 1
          },
          "autotypenumbers": "strict",
          "coloraxis": {
           "colorbar": {
            "outlinewidth": 0,
            "ticks": ""
           }
          },
          "colorscale": {
           "diverging": [
            [
             0,
             "#8e0152"
            ],
            [
             0.1,
             "#c51b7d"
            ],
            [
             0.2,
             "#de77ae"
            ],
            [
             0.3,
             "#f1b6da"
            ],
            [
             0.4,
             "#fde0ef"
            ],
            [
             0.5,
             "#f7f7f7"
            ],
            [
             0.6,
             "#e6f5d0"
            ],
            [
             0.7,
             "#b8e186"
            ],
            [
             0.8,
             "#7fbc41"
            ],
            [
             0.9,
             "#4d9221"
            ],
            [
             1,
             "#276419"
            ]
           ],
           "sequential": [
            [
             0,
             "#0d0887"
            ],
            [
             0.1111111111111111,
             "#46039f"
            ],
            [
             0.2222222222222222,
             "#7201a8"
            ],
            [
             0.3333333333333333,
             "#9c179e"
            ],
            [
             0.4444444444444444,
             "#bd3786"
            ],
            [
             0.5555555555555556,
             "#d8576b"
            ],
            [
             0.6666666666666666,
             "#ed7953"
            ],
            [
             0.7777777777777778,
             "#fb9f3a"
            ],
            [
             0.8888888888888888,
             "#fdca26"
            ],
            [
             1,
             "#f0f921"
            ]
           ],
           "sequentialminus": [
            [
             0,
             "#0d0887"
            ],
            [
             0.1111111111111111,
             "#46039f"
            ],
            [
             0.2222222222222222,
             "#7201a8"
            ],
            [
             0.3333333333333333,
             "#9c179e"
            ],
            [
             0.4444444444444444,
             "#bd3786"
            ],
            [
             0.5555555555555556,
             "#d8576b"
            ],
            [
             0.6666666666666666,
             "#ed7953"
            ],
            [
             0.7777777777777778,
             "#fb9f3a"
            ],
            [
             0.8888888888888888,
             "#fdca26"
            ],
            [
             1,
             "#f0f921"
            ]
           ]
          },
          "colorway": [
           "#636efa",
           "#EF553B",
           "#00cc96",
           "#ab63fa",
           "#FFA15A",
           "#19d3f3",
           "#FF6692",
           "#B6E880",
           "#FF97FF",
           "#FECB52"
          ],
          "font": {
           "color": "#2a3f5f"
          },
          "geo": {
           "bgcolor": "white",
           "lakecolor": "white",
           "landcolor": "#E5ECF6",
           "showlakes": true,
           "showland": true,
           "subunitcolor": "white"
          },
          "hoverlabel": {
           "align": "left"
          },
          "hovermode": "closest",
          "mapbox": {
           "style": "light"
          },
          "paper_bgcolor": "white",
          "plot_bgcolor": "#E5ECF6",
          "polar": {
           "angularaxis": {
            "gridcolor": "white",
            "linecolor": "white",
            "ticks": ""
           },
           "bgcolor": "#E5ECF6",
           "radialaxis": {
            "gridcolor": "white",
            "linecolor": "white",
            "ticks": ""
           }
          },
          "scene": {
           "xaxis": {
            "backgroundcolor": "#E5ECF6",
            "gridcolor": "white",
            "gridwidth": 2,
            "linecolor": "white",
            "showbackground": true,
            "ticks": "",
            "zerolinecolor": "white"
           },
           "yaxis": {
            "backgroundcolor": "#E5ECF6",
            "gridcolor": "white",
            "gridwidth": 2,
            "linecolor": "white",
            "showbackground": true,
            "ticks": "",
            "zerolinecolor": "white"
           },
           "zaxis": {
            "backgroundcolor": "#E5ECF6",
            "gridcolor": "white",
            "gridwidth": 2,
            "linecolor": "white",
            "showbackground": true,
            "ticks": "",
            "zerolinecolor": "white"
           }
          },
          "shapedefaults": {
           "line": {
            "color": "#2a3f5f"
           }
          },
          "ternary": {
           "aaxis": {
            "gridcolor": "white",
            "linecolor": "white",
            "ticks": ""
           },
           "baxis": {
            "gridcolor": "white",
            "linecolor": "white",
            "ticks": ""
           },
           "bgcolor": "#E5ECF6",
           "caxis": {
            "gridcolor": "white",
            "linecolor": "white",
            "ticks": ""
           }
          },
          "title": {
           "x": 0.05
          },
          "xaxis": {
           "automargin": true,
           "gridcolor": "white",
           "linecolor": "white",
           "ticks": "",
           "title": {
            "standoff": 15
           },
           "zerolinecolor": "white",
           "zerolinewidth": 2
          },
          "yaxis": {
           "automargin": true,
           "gridcolor": "white",
           "linecolor": "white",
           "ticks": "",
           "title": {
            "standoff": 15
           },
           "zerolinecolor": "white",
           "zerolinewidth": 2
          }
         }
        },
        "title": {
         "text": "Population by State"
        }
       }
      },
      "text/html": [
       "<div>                            <div id=\"b8333ac6-10b6-4eb2-a767-a80482b45164\" class=\"plotly-graph-div\" style=\"height:525px; width:100%;\"></div>            <script type=\"text/javascript\">                require([\"plotly\"], function(Plotly) {                    window.PLOTLYENV=window.PLOTLYENV || {};                                    if (document.getElementById(\"b8333ac6-10b6-4eb2-a767-a80482b45164\")) {                    Plotly.newPlot(                        \"b8333ac6-10b6-4eb2-a767-a80482b45164\",                        [{\"coloraxis\":\"coloraxis\",\"geo\":\"geo\",\"hovertemplate\":\"<b>%{hovertext}</b><br><br>State=%{location}<br>Population=%{z}<extra></extra>\",\"hovertext\":[\"AK\",\"AK\",\"AL\",\"AR\",\"AZ\",\"CA\",\"CO\",\"CT\",\"DC\",\"DE\",\"FL\",\"GA\",\"HI\",\"HI\",\"IA\",\"ID\",\"IL\",\"IN\",\"KS\",\"KY\",\"LA\",\"MA\",\"MD\",\"ME\",\"MI\",\"MN\",\"MO\",\"MS\",\"MT\",\"NC\",\"ND\",\"NE\",\"NH\",\"NJ\",\"NM\",\"NV\",\"NY\",\"OH\",\"OK\",\"OR\",\"PA\",\"RI\",\"SC\",\"SD\",\"TN\",\"TX\",\"UT\",\"VA\",\"VT\",\"WA\",\"WI\",\"WV\",\"WY\",\"AL\",\"AR\",\"AZ\",\"CA\",\"CO\",\"CT\",\"DC\",\"DE\",\"FL\",\"GA\",\"HI\",\"HI\",\"IA\",\"IL\",\"IN\",\"KS\",\"KY\",\"LA\",\"MA\",\"MD\",\"ME\",\"MI\",\"MN\",\"MO\",\"MS\",\"NC\",\"NE\",\"NH\",\"NJ\",\"NM\",\"NV\",\"NY\",\"OH\",\"OK\",\"OR\",\"PA\",\"RI\",\"SC\",\"TN\",\"TX\",\"UT\",\"VA\",\"VT\",\"WA\",\"WI\",\"WV\",\"CA\",\"CO\",\"HI\",\"HI\",\"IL\",\"NV\",\"OR\",\"PA\",\"TX\",\"WA\",\"MA\",\"CT\",\"DE\",\"IN\",\"KY\",\"MA\",\"ME\",\"MI\",\"MN\",\"MO\",\"NJ\",\"NY\",\"OH\",\"PA\",\"RI\",\"VA\",\"WV\",\"AL\",\"AR\",\"AZ\",\"CA\",\"CO\",\"CT\",\"DC\",\"DE\",\"FL\",\"GA\",\"IA\",\"ID\",\"IL\",\"IN\",\"KS\",\"KY\",\"LA\",\"MA\",\"MD\",\"ME\",\"MI\",\"MN\",\"MO\",\"MS\",\"NC\",\"ND\",\"NE\",\"NH\",\"NJ\",\"NM\",\"NV\",\"NY\",\"OH\",\"OK\",\"OR\",\"PA\",\"RI\",\"SC\",\"SD\",\"TN\",\"TX\",\"VA\",\"VT\",\"WA\",\"WI\",\"WV\",\"CO\",\"DC\",\"GA\",\"IA\",\"IL\",\"IN\",\"KS\",\"MD\",\"MI\",\"MN\",\"MO\",\"NC\",\"ND\",\"NE\",\"OH\",\"OR\",\"PA\",\"SD\",\"VA\",\"WI\",\"CT\",\"DC\",\"FL\",\"GA\",\"IL\",\"IN\",\"KY\",\"MA\",\"MD\",\"ME\",\"MI\",\"MN\",\"MO\",\"NH\",\"NJ\",\"NV\",\"NY\",\"OH\",\"PA\",\"RI\",\"TX\",\"VA\",\"AZ\",\"CA\",\"FL\",\"GA\",\"HI\",\"HI\",\"NC\",\"NV\",\"TX\",\"AK\",\"AK\",\"AL\",\"AR\",\"AZ\",\"CA\",\"CO\",\"CT\",\"DC\",\"DE\",\"FL\",\"GA\",\"HI\",\"HI\",\"IA\",\"ID\",\"IL\",\"IN\",\"KS\",\"KY\",\"LA\",\"MA\",\"MD\",\"ME\",\"MI\",\"MN\",\"MO\",\"MS\",\"MT\",\"NC\",\"ND\",\"NE\",\"NH\",\"NJ\",\"NM\",\"NV\",\"NY\",\"OH\",\"OK\",\"OR\",\"PA\",\"RI\",\"SC\",\"SD\",\"TN\",\"TX\",\"UT\",\"VA\",\"VT\",\"WA\",\"WI\",\"WV\",\"WY\"],\"locationmode\":\"USA-states\",\"locations\":[\"AK\",\"AK\",\"AL\",\"AR\",\"AZ\",\"CA\",\"CO\",\"CT\",\"DC\",\"DE\",\"FL\",\"GA\",\"HI\",\"HI\",\"IA\",\"ID\",\"IL\",\"IN\",\"KS\",\"KY\",\"LA\",\"MA\",\"MD\",\"ME\",\"MI\",\"MN\",\"MO\",\"MS\",\"MT\",\"NC\",\"ND\",\"NE\",\"NH\",\"NJ\",\"NM\",\"NV\",\"NY\",\"OH\",\"OK\",\"OR\",\"PA\",\"RI\",\"SC\",\"SD\",\"TN\",\"TX\",\"UT\",\"VA\",\"VT\",\"WA\",\"WI\",\"WV\",\"WY\",\"AL\",\"AR\",\"AZ\",\"CA\",\"CO\",\"CT\",\"DC\",\"DE\",\"FL\",\"GA\",\"HI\",\"HI\",\"IA\",\"IL\",\"IN\",\"KS\",\"KY\",\"LA\",\"MA\",\"MD\",\"ME\",\"MI\",\"MN\",\"MO\",\"MS\",\"NC\",\"NE\",\"NH\",\"NJ\",\"NM\",\"NV\",\"NY\",\"OH\",\"OK\",\"OR\",\"PA\",\"RI\",\"SC\",\"TN\",\"TX\",\"UT\",\"VA\",\"VT\",\"WA\",\"WI\",\"WV\",\"CA\",\"CO\",\"HI\",\"HI\",\"IL\",\"NV\",\"OR\",\"PA\",\"TX\",\"WA\",\"MA\",\"CT\",\"DE\",\"IN\",\"KY\",\"MA\",\"ME\",\"MI\",\"MN\",\"MO\",\"NJ\",\"NY\",\"OH\",\"PA\",\"RI\",\"VA\",\"WV\",\"AL\",\"AR\",\"AZ\",\"CA\",\"CO\",\"CT\",\"DC\",\"DE\",\"FL\",\"GA\",\"IA\",\"ID\",\"IL\",\"IN\",\"KS\",\"KY\",\"LA\",\"MA\",\"MD\",\"ME\",\"MI\",\"MN\",\"MO\",\"MS\",\"NC\",\"ND\",\"NE\",\"NH\",\"NJ\",\"NM\",\"NV\",\"NY\",\"OH\",\"OK\",\"OR\",\"PA\",\"RI\",\"SC\",\"SD\",\"TN\",\"TX\",\"VA\",\"VT\",\"WA\",\"WI\",\"WV\",\"CO\",\"DC\",\"GA\",\"IA\",\"IL\",\"IN\",\"KS\",\"MD\",\"MI\",\"MN\",\"MO\",\"NC\",\"ND\",\"NE\",\"OH\",\"OR\",\"PA\",\"SD\",\"VA\",\"WI\",\"CT\",\"DC\",\"FL\",\"GA\",\"IL\",\"IN\",\"KY\",\"MA\",\"MD\",\"ME\",\"MI\",\"MN\",\"MO\",\"NH\",\"NJ\",\"NV\",\"NY\",\"OH\",\"PA\",\"RI\",\"TX\",\"VA\",\"AZ\",\"CA\",\"FL\",\"GA\",\"HI\",\"HI\",\"NC\",\"NV\",\"TX\",\"AK\",\"AK\",\"AL\",\"AR\",\"AZ\",\"CA\",\"CO\",\"CT\",\"DC\",\"DE\",\"FL\",\"GA\",\"HI\",\"HI\",\"IA\",\"ID\",\"IL\",\"IN\",\"KS\",\"KY\",\"LA\",\"MA\",\"MD\",\"ME\",\"MI\",\"MN\",\"MO\",\"MS\",\"MT\",\"NC\",\"ND\",\"NE\",\"NH\",\"NJ\",\"NM\",\"NV\",\"NY\",\"OH\",\"OK\",\"OR\",\"PA\",\"RI\",\"SC\",\"SD\",\"TN\",\"TX\",\"UT\",\"VA\",\"VT\",\"WA\",\"WI\",\"WV\",\"WY\"],\"name\":\"\",\"z\":[733391,733391,5024279,3011524,7151502,39538223,5773714,3605944,689545,989948,21538187,10711908,1455271,1455271,3190369,1839106,12812508,6785528,2937880,4505836,4657757,7029917,6177224,1362359,10077331,5706494,6154913,2961279,1084225,10439388,779094,1961504,1377529,9288994,2117522,3104614,20201249,11799448,3959353,4237256,13002700,1097379,5118425,886667,6910840,29145505,3271616,8631393,643077,7705281,5893718,1793716,576851,5024279,3011524,7151502,39538223,5773714,3605944,689545,989948,21538187,10711908,1455271,1455271,3190369,12812508,6785528,2937880,4505836,4657757,7029917,6177224,1362359,10077331,5706494,6154913,2961279,10439388,1961504,1377529,9288994,2117522,3104614,20201249,11799448,3959353,4237256,13002700,1097379,5118425,6910840,29145505,3271616,8631393,643077,7705281,5893718,1793716,39538223,5773714,1455271,1455271,12812508,3104614,4237256,13002700,29145505,7705281,7029917,3605944,989948,6785528,4505836,7029917,1362359,10077331,5706494,6154913,9288994,20201249,11799448,13002700,1097379,8631393,1793716,5024279,3011524,7151502,39538223,5773714,3605944,689545,989948,21538187,10711908,3190369,1839106,12812508,6785528,2937880,4505836,4657757,7029917,6177224,1362359,10077331,5706494,6154913,2961279,10439388,779094,1961504,1377529,9288994,2117522,3104614,20201249,11799448,3959353,4237256,13002700,1097379,5118425,886667,6910840,29145505,8631393,643077,7705281,5893718,1793716,5773714,689545,10711908,3190369,12812508,6785528,2937880,6177224,10077331,5706494,6154913,10439388,779094,1961504,11799448,4237256,13002700,886667,8631393,5893718,3605944,689545,21538187,10711908,12812508,6785528,4505836,7029917,6177224,1362359,10077331,5706494,6154913,1377529,9288994,3104614,20201249,11799448,13002700,1097379,29145505,8631393,7151502,39538223,21538187,10711908,1455271,1455271,10439388,3104614,29145505,733391,733391,5024279,3011524,7151502,39538223,5773714,3605944,689545,989948,21538187,10711908,1455271,1455271,3190369,1839106,12812508,6785528,2937880,4505836,4657757,7029917,6177224,1362359,10077331,5706494,6154913,2961279,1084225,10439388,779094,1961504,1377529,9288994,2117522,3104614,20201249,11799448,3959353,4237256,13002700,1097379,5118425,886667,6910840,29145505,3271616,8631393,643077,7705281,5893718,1793716,576851],\"type\":\"choropleth\"}],                        {\"template\":{\"data\":{\"histogram2dcontour\":[{\"type\":\"histogram2dcontour\",\"colorbar\":{\"outlinewidth\":0,\"ticks\":\"\"},\"colorscale\":[[0.0,\"#0d0887\"],[0.1111111111111111,\"#46039f\"],[0.2222222222222222,\"#7201a8\"],[0.3333333333333333,\"#9c179e\"],[0.4444444444444444,\"#bd3786\"],[0.5555555555555556,\"#d8576b\"],[0.6666666666666666,\"#ed7953\"],[0.7777777777777778,\"#fb9f3a\"],[0.8888888888888888,\"#fdca26\"],[1.0,\"#f0f921\"]]}],\"choropleth\":[{\"type\":\"choropleth\",\"colorbar\":{\"outlinewidth\":0,\"ticks\":\"\"}}],\"histogram2d\":[{\"type\":\"histogram2d\",\"colorbar\":{\"outlinewidth\":0,\"ticks\":\"\"},\"colorscale\":[[0.0,\"#0d0887\"],[0.1111111111111111,\"#46039f\"],[0.2222222222222222,\"#7201a8\"],[0.3333333333333333,\"#9c179e\"],[0.4444444444444444,\"#bd3786\"],[0.5555555555555556,\"#d8576b\"],[0.6666666666666666,\"#ed7953\"],[0.7777777777777778,\"#fb9f3a\"],[0.8888888888888888,\"#fdca26\"],[1.0,\"#f0f921\"]]}],\"heatmap\":[{\"type\":\"heatmap\",\"colorbar\":{\"outlinewidth\":0,\"ticks\":\"\"},\"colorscale\":[[0.0,\"#0d0887\"],[0.1111111111111111,\"#46039f\"],[0.2222222222222222,\"#7201a8\"],[0.3333333333333333,\"#9c179e\"],[0.4444444444444444,\"#bd3786\"],[0.5555555555555556,\"#d8576b\"],[0.6666666666666666,\"#ed7953\"],[0.7777777777777778,\"#fb9f3a\"],[0.8888888888888888,\"#fdca26\"],[1.0,\"#f0f921\"]]}],\"heatmapgl\":[{\"type\":\"heatmapgl\",\"colorbar\":{\"outlinewidth\":0,\"ticks\":\"\"},\"colorscale\":[[0.0,\"#0d0887\"],[0.1111111111111111,\"#46039f\"],[0.2222222222222222,\"#7201a8\"],[0.3333333333333333,\"#9c179e\"],[0.4444444444444444,\"#bd3786\"],[0.5555555555555556,\"#d8576b\"],[0.6666666666666666,\"#ed7953\"],[0.7777777777777778,\"#fb9f3a\"],[0.8888888888888888,\"#fdca26\"],[1.0,\"#f0f921\"]]}],\"contourcarpet\":[{\"type\":\"contourcarpet\",\"colorbar\":{\"outlinewidth\":0,\"ticks\":\"\"}}],\"contour\":[{\"type\":\"contour\",\"colorbar\":{\"outlinewidth\":0,\"ticks\":\"\"},\"colorscale\":[[0.0,\"#0d0887\"],[0.1111111111111111,\"#46039f\"],[0.2222222222222222,\"#7201a8\"],[0.3333333333333333,\"#9c179e\"],[0.4444444444444444,\"#bd3786\"],[0.5555555555555556,\"#d8576b\"],[0.6666666666666666,\"#ed7953\"],[0.7777777777777778,\"#fb9f3a\"],[0.8888888888888888,\"#fdca26\"],[1.0,\"#f0f921\"]]}],\"surface\":[{\"type\":\"surface\",\"colorbar\":{\"outlinewidth\":0,\"ticks\":\"\"},\"colorscale\":[[0.0,\"#0d0887\"],[0.1111111111111111,\"#46039f\"],[0.2222222222222222,\"#7201a8\"],[0.3333333333333333,\"#9c179e\"],[0.4444444444444444,\"#bd3786\"],[0.5555555555555556,\"#d8576b\"],[0.6666666666666666,\"#ed7953\"],[0.7777777777777778,\"#fb9f3a\"],[0.8888888888888888,\"#fdca26\"],[1.0,\"#f0f921\"]]}],\"mesh3d\":[{\"type\":\"mesh3d\",\"colorbar\":{\"outlinewidth\":0,\"ticks\":\"\"}}],\"scatter\":[{\"fillpattern\":{\"fillmode\":\"overlay\",\"size\":10,\"solidity\":0.2},\"type\":\"scatter\"}],\"parcoords\":[{\"type\":\"parcoords\",\"line\":{\"colorbar\":{\"outlinewidth\":0,\"ticks\":\"\"}}}],\"scatterpolargl\":[{\"type\":\"scatterpolargl\",\"marker\":{\"colorbar\":{\"outlinewidth\":0,\"ticks\":\"\"}}}],\"bar\":[{\"error_x\":{\"color\":\"#2a3f5f\"},\"error_y\":{\"color\":\"#2a3f5f\"},\"marker\":{\"line\":{\"color\":\"#E5ECF6\",\"width\":0.5},\"pattern\":{\"fillmode\":\"overlay\",\"size\":10,\"solidity\":0.2}},\"type\":\"bar\"}],\"scattergeo\":[{\"type\":\"scattergeo\",\"marker\":{\"colorbar\":{\"outlinewidth\":0,\"ticks\":\"\"}}}],\"scatterpolar\":[{\"type\":\"scatterpolar\",\"marker\":{\"colorbar\":{\"outlinewidth\":0,\"ticks\":\"\"}}}],\"histogram\":[{\"marker\":{\"pattern\":{\"fillmode\":\"overlay\",\"size\":10,\"solidity\":0.2}},\"type\":\"histogram\"}],\"scattergl\":[{\"type\":\"scattergl\",\"marker\":{\"colorbar\":{\"outlinewidth\":0,\"ticks\":\"\"}}}],\"scatter3d\":[{\"type\":\"scatter3d\",\"line\":{\"colorbar\":{\"outlinewidth\":0,\"ticks\":\"\"}},\"marker\":{\"colorbar\":{\"outlinewidth\":0,\"ticks\":\"\"}}}],\"scattermapbox\":[{\"type\":\"scattermapbox\",\"marker\":{\"colorbar\":{\"outlinewidth\":0,\"ticks\":\"\"}}}],\"scatterternary\":[{\"type\":\"scatterternary\",\"marker\":{\"colorbar\":{\"outlinewidth\":0,\"ticks\":\"\"}}}],\"scattercarpet\":[{\"type\":\"scattercarpet\",\"marker\":{\"colorbar\":{\"outlinewidth\":0,\"ticks\":\"\"}}}],\"carpet\":[{\"aaxis\":{\"endlinecolor\":\"#2a3f5f\",\"gridcolor\":\"white\",\"linecolor\":\"white\",\"minorgridcolor\":\"white\",\"startlinecolor\":\"#2a3f5f\"},\"baxis\":{\"endlinecolor\":\"#2a3f5f\",\"gridcolor\":\"white\",\"linecolor\":\"white\",\"minorgridcolor\":\"white\",\"startlinecolor\":\"#2a3f5f\"},\"type\":\"carpet\"}],\"table\":[{\"cells\":{\"fill\":{\"color\":\"#EBF0F8\"},\"line\":{\"color\":\"white\"}},\"header\":{\"fill\":{\"color\":\"#C8D4E3\"},\"line\":{\"color\":\"white\"}},\"type\":\"table\"}],\"barpolar\":[{\"marker\":{\"line\":{\"color\":\"#E5ECF6\",\"width\":0.5},\"pattern\":{\"fillmode\":\"overlay\",\"size\":10,\"solidity\":0.2}},\"type\":\"barpolar\"}],\"pie\":[{\"automargin\":true,\"type\":\"pie\"}]},\"layout\":{\"autotypenumbers\":\"strict\",\"colorway\":[\"#636efa\",\"#EF553B\",\"#00cc96\",\"#ab63fa\",\"#FFA15A\",\"#19d3f3\",\"#FF6692\",\"#B6E880\",\"#FF97FF\",\"#FECB52\"],\"font\":{\"color\":\"#2a3f5f\"},\"hovermode\":\"closest\",\"hoverlabel\":{\"align\":\"left\"},\"paper_bgcolor\":\"white\",\"plot_bgcolor\":\"#E5ECF6\",\"polar\":{\"bgcolor\":\"#E5ECF6\",\"angularaxis\":{\"gridcolor\":\"white\",\"linecolor\":\"white\",\"ticks\":\"\"},\"radialaxis\":{\"gridcolor\":\"white\",\"linecolor\":\"white\",\"ticks\":\"\"}},\"ternary\":{\"bgcolor\":\"#E5ECF6\",\"aaxis\":{\"gridcolor\":\"white\",\"linecolor\":\"white\",\"ticks\":\"\"},\"baxis\":{\"gridcolor\":\"white\",\"linecolor\":\"white\",\"ticks\":\"\"},\"caxis\":{\"gridcolor\":\"white\",\"linecolor\":\"white\",\"ticks\":\"\"}},\"coloraxis\":{\"colorbar\":{\"outlinewidth\":0,\"ticks\":\"\"}},\"colorscale\":{\"sequential\":[[0.0,\"#0d0887\"],[0.1111111111111111,\"#46039f\"],[0.2222222222222222,\"#7201a8\"],[0.3333333333333333,\"#9c179e\"],[0.4444444444444444,\"#bd3786\"],[0.5555555555555556,\"#d8576b\"],[0.6666666666666666,\"#ed7953\"],[0.7777777777777778,\"#fb9f3a\"],[0.8888888888888888,\"#fdca26\"],[1.0,\"#f0f921\"]],\"sequentialminus\":[[0.0,\"#0d0887\"],[0.1111111111111111,\"#46039f\"],[0.2222222222222222,\"#7201a8\"],[0.3333333333333333,\"#9c179e\"],[0.4444444444444444,\"#bd3786\"],[0.5555555555555556,\"#d8576b\"],[0.6666666666666666,\"#ed7953\"],[0.7777777777777778,\"#fb9f3a\"],[0.8888888888888888,\"#fdca26\"],[1.0,\"#f0f921\"]],\"diverging\":[[0,\"#8e0152\"],[0.1,\"#c51b7d\"],[0.2,\"#de77ae\"],[0.3,\"#f1b6da\"],[0.4,\"#fde0ef\"],[0.5,\"#f7f7f7\"],[0.6,\"#e6f5d0\"],[0.7,\"#b8e186\"],[0.8,\"#7fbc41\"],[0.9,\"#4d9221\"],[1,\"#276419\"]]},\"xaxis\":{\"gridcolor\":\"white\",\"linecolor\":\"white\",\"ticks\":\"\",\"title\":{\"standoff\":15},\"zerolinecolor\":\"white\",\"automargin\":true,\"zerolinewidth\":2},\"yaxis\":{\"gridcolor\":\"white\",\"linecolor\":\"white\",\"ticks\":\"\",\"title\":{\"standoff\":15},\"zerolinecolor\":\"white\",\"automargin\":true,\"zerolinewidth\":2},\"scene\":{\"xaxis\":{\"backgroundcolor\":\"#E5ECF6\",\"gridcolor\":\"white\",\"linecolor\":\"white\",\"showbackground\":true,\"ticks\":\"\",\"zerolinecolor\":\"white\",\"gridwidth\":2},\"yaxis\":{\"backgroundcolor\":\"#E5ECF6\",\"gridcolor\":\"white\",\"linecolor\":\"white\",\"showbackground\":true,\"ticks\":\"\",\"zerolinecolor\":\"white\",\"gridwidth\":2},\"zaxis\":{\"backgroundcolor\":\"#E5ECF6\",\"gridcolor\":\"white\",\"linecolor\":\"white\",\"showbackground\":true,\"ticks\":\"\",\"zerolinecolor\":\"white\",\"gridwidth\":2}},\"shapedefaults\":{\"line\":{\"color\":\"#2a3f5f\"}},\"annotationdefaults\":{\"arrowcolor\":\"#2a3f5f\",\"arrowhead\":0,\"arrowwidth\":1},\"geo\":{\"bgcolor\":\"white\",\"landcolor\":\"#E5ECF6\",\"subunitcolor\":\"white\",\"showland\":true,\"showlakes\":true,\"lakecolor\":\"white\"},\"title\":{\"x\":0.05},\"mapbox\":{\"style\":\"light\"}}},\"geo\":{\"domain\":{\"x\":[0.0,1.0],\"y\":[0.0,1.0]},\"center\":{},\"scope\":\"usa\"},\"coloraxis\":{\"colorbar\":{\"title\":{\"text\":\"Population\"}},\"colorscale\":[[0.0,\"#0d0887\"],[0.1111111111111111,\"#46039f\"],[0.2222222222222222,\"#7201a8\"],[0.3333333333333333,\"#9c179e\"],[0.4444444444444444,\"#bd3786\"],[0.5555555555555556,\"#d8576b\"],[0.6666666666666666,\"#ed7953\"],[0.7777777777777778,\"#fb9f3a\"],[0.8888888888888888,\"#fdca26\"],[1.0,\"#f0f921\"]]},\"legend\":{\"tracegroupgap\":0},\"title\":{\"text\":\"Population by State\"}},                        {\"responsive\": true}                    ).then(function(){\n",
       "                            \n",
       "var gd = document.getElementById('b8333ac6-10b6-4eb2-a767-a80482b45164');\n",
       "var x = new MutationObserver(function (mutations, observer) {{\n",
       "        var display = window.getComputedStyle(gd).display;\n",
       "        if (!display || display === 'none') {{\n",
       "            console.log([gd, 'removed!']);\n",
       "            Plotly.purge(gd);\n",
       "            observer.disconnect();\n",
       "        }}\n",
       "}});\n",
       "\n",
       "// Listen for the removal of the full notebook cells\n",
       "var notebookContainer = gd.closest('#notebook-container');\n",
       "if (notebookContainer) {{\n",
       "    x.observe(notebookContainer, {childList: true});\n",
       "}}\n",
       "\n",
       "// Listen for the clearing of the current output cell\n",
       "var outputEl = gd.closest('.output');\n",
       "if (outputEl) {{\n",
       "    x.observe(outputEl, {childList: true});\n",
       "}}\n",
       "\n",
       "                        })                };                });            </script>        </div>"
      ]
     },
     "metadata": {},
     "output_type": "display_data"
    }
   ],
   "source": [
    "fig_choropleth = px.choropleth(\n",
    "    coffee_clean,\n",
    "    locations='State',\n",
    "    locationmode='USA-states',\n",
    "    color='Population',\n",
    "    hover_name='State',\n",
    "    title='Population by State',\n",
    "    scope='usa'\n",
    ")\n",
    "\n",
    "fig_choropleth.show()"
   ]
  },
  {
   "cell_type": "code",
   "execution_count": 324,
   "id": "960cf1bc",
   "metadata": {},
   "outputs": [
    {
     "data": {
      "text/html": [
       "<div>\n",
       "<style scoped>\n",
       "    .dataframe tbody tr th:only-of-type {\n",
       "        vertical-align: middle;\n",
       "    }\n",
       "\n",
       "    .dataframe tbody tr th {\n",
       "        vertical-align: top;\n",
       "    }\n",
       "\n",
       "    .dataframe thead th {\n",
       "        text-align: right;\n",
       "    }\n",
       "</style>\n",
       "<table border=\"1\" class=\"dataframe\">\n",
       "  <thead>\n",
       "    <tr style=\"text-align: right;\">\n",
       "      <th></th>\n",
       "      <th>State Full</th>\n",
       "      <th>Coffee Chain</th>\n",
       "      <th>State</th>\n",
       "      <th>Location Count</th>\n",
       "      <th>Population</th>\n",
       "      <th>Region</th>\n",
       "      <th>Revenue2022</th>\n",
       "      <th>Revenue per Location</th>\n",
       "    </tr>\n",
       "  </thead>\n",
       "  <tbody>\n",
       "    <tr>\n",
       "      <th>0</th>\n",
       "      <td>Alaska</td>\n",
       "      <td>Starbucks</td>\n",
       "      <td>AK</td>\n",
       "      <td>24</td>\n",
       "      <td>733391</td>\n",
       "      <td>West</td>\n",
       "      <td>32250000000</td>\n",
       "      <td>1.343750e+09</td>\n",
       "    </tr>\n",
       "    <tr>\n",
       "      <th>1</th>\n",
       "      <td>Alaska</td>\n",
       "      <td>Starbucks</td>\n",
       "      <td>AK</td>\n",
       "      <td>24</td>\n",
       "      <td>733391</td>\n",
       "      <td>Pacific</td>\n",
       "      <td>32250000000</td>\n",
       "      <td>1.343750e+09</td>\n",
       "    </tr>\n",
       "    <tr>\n",
       "      <th>2</th>\n",
       "      <td>Alabama</td>\n",
       "      <td>Starbucks</td>\n",
       "      <td>AL</td>\n",
       "      <td>73</td>\n",
       "      <td>5024279</td>\n",
       "      <td>South</td>\n",
       "      <td>32250000000</td>\n",
       "      <td>4.417808e+08</td>\n",
       "    </tr>\n",
       "    <tr>\n",
       "      <th>3</th>\n",
       "      <td>Arkansas</td>\n",
       "      <td>Starbucks</td>\n",
       "      <td>AR</td>\n",
       "      <td>33</td>\n",
       "      <td>3011524</td>\n",
       "      <td>South</td>\n",
       "      <td>32250000000</td>\n",
       "      <td>9.772727e+08</td>\n",
       "    </tr>\n",
       "    <tr>\n",
       "      <th>4</th>\n",
       "      <td>Arizona</td>\n",
       "      <td>Starbucks</td>\n",
       "      <td>AZ</td>\n",
       "      <td>279</td>\n",
       "      <td>7151502</td>\n",
       "      <td>West</td>\n",
       "      <td>32250000000</td>\n",
       "      <td>1.155914e+08</td>\n",
       "    </tr>\n",
       "    <tr>\n",
       "      <th>...</th>\n",
       "      <td>...</td>\n",
       "      <td>...</td>\n",
       "      <td>...</td>\n",
       "      <td>...</td>\n",
       "      <td>...</td>\n",
       "      <td>...</td>\n",
       "      <td>...</td>\n",
       "      <td>...</td>\n",
       "    </tr>\n",
       "    <tr>\n",
       "      <th>271</th>\n",
       "      <td>Vermont</td>\n",
       "      <td>McDonald's</td>\n",
       "      <td>VT</td>\n",
       "      <td>30</td>\n",
       "      <td>643077</td>\n",
       "      <td>Northeast</td>\n",
       "      <td>23180000000</td>\n",
       "      <td>7.726667e+08</td>\n",
       "    </tr>\n",
       "    <tr>\n",
       "      <th>272</th>\n",
       "      <td>Washington</td>\n",
       "      <td>McDonald's</td>\n",
       "      <td>WA</td>\n",
       "      <td>326</td>\n",
       "      <td>7705281</td>\n",
       "      <td>West</td>\n",
       "      <td>23180000000</td>\n",
       "      <td>7.110429e+07</td>\n",
       "    </tr>\n",
       "    <tr>\n",
       "      <th>273</th>\n",
       "      <td>Wisconsin</td>\n",
       "      <td>McDonald's</td>\n",
       "      <td>WI</td>\n",
       "      <td>353</td>\n",
       "      <td>5893718</td>\n",
       "      <td>Midwest</td>\n",
       "      <td>23180000000</td>\n",
       "      <td>6.566572e+07</td>\n",
       "    </tr>\n",
       "    <tr>\n",
       "      <th>274</th>\n",
       "      <td>West Virginia</td>\n",
       "      <td>McDonald's</td>\n",
       "      <td>WV</td>\n",
       "      <td>107</td>\n",
       "      <td>1793716</td>\n",
       "      <td>South</td>\n",
       "      <td>23180000000</td>\n",
       "      <td>2.166355e+08</td>\n",
       "    </tr>\n",
       "    <tr>\n",
       "      <th>275</th>\n",
       "      <td>Wyoming</td>\n",
       "      <td>McDonald's</td>\n",
       "      <td>WY</td>\n",
       "      <td>34</td>\n",
       "      <td>576851</td>\n",
       "      <td>West</td>\n",
       "      <td>23180000000</td>\n",
       "      <td>6.817647e+08</td>\n",
       "    </tr>\n",
       "  </tbody>\n",
       "</table>\n",
       "<p>276 rows × 8 columns</p>\n",
       "</div>"
      ],
      "text/plain": [
       "        State Full Coffee Chain State  Location Count  Population     Region  \\\n",
       "0           Alaska    Starbucks    AK              24      733391       West   \n",
       "1           Alaska    Starbucks    AK              24      733391    Pacific   \n",
       "2          Alabama    Starbucks    AL              73     5024279      South   \n",
       "3         Arkansas    Starbucks    AR              33     3011524      South   \n",
       "4          Arizona    Starbucks    AZ             279     7151502       West   \n",
       "..             ...          ...   ...             ...         ...        ...   \n",
       "271        Vermont   McDonald's    VT              30      643077  Northeast   \n",
       "272     Washington   McDonald's    WA             326     7705281       West   \n",
       "273      Wisconsin   McDonald's    WI             353     5893718    Midwest   \n",
       "274  West Virginia   McDonald's    WV             107     1793716      South   \n",
       "275        Wyoming   McDonald's    WY              34      576851       West   \n",
       "\n",
       "     Revenue2022  Revenue per Location  \n",
       "0    32250000000          1.343750e+09  \n",
       "1    32250000000          1.343750e+09  \n",
       "2    32250000000          4.417808e+08  \n",
       "3    32250000000          9.772727e+08  \n",
       "4    32250000000          1.155914e+08  \n",
       "..           ...                   ...  \n",
       "271  23180000000          7.726667e+08  \n",
       "272  23180000000          7.110429e+07  \n",
       "273  23180000000          6.566572e+07  \n",
       "274  23180000000          2.166355e+08  \n",
       "275  23180000000          6.817647e+08  \n",
       "\n",
       "[276 rows x 8 columns]"
      ]
     },
     "execution_count": 324,
     "metadata": {},
     "output_type": "execute_result"
    }
   ],
   "source": [
    "coffee_clean"
   ]
  },
  {
   "cell_type": "markdown",
   "id": "4d2ea473",
   "metadata": {},
   "source": [
    "### Visualizing the location counts per state to answer where coffee itself is most prevalent in the form of coffee shops at least."
   ]
  },
  {
   "cell_type": "code",
   "execution_count": 325,
   "id": "69c229b4",
   "metadata": {},
   "outputs": [
    {
     "data": {
      "application/vnd.plotly.v1+json": {
       "config": {
        "plotlyServerURL": "https://plot.ly"
       },
       "data": [
        {
         "coloraxis": "coloraxis",
         "geo": "geo",
         "hovertemplate": "<b>%{hovertext}</b><br><br>state_for_vis2=%{location}<br>Location Count=%{z}<extra></extra>",
         "hovertext": [
          "AK",
          "AL",
          "AR",
          "AZ",
          "CA",
          "CO",
          "CT",
          "DC",
          "DE",
          "FL",
          "GA",
          "HI",
          "IA",
          "ID",
          "IL",
          "IN",
          "KS",
          "KY",
          "LA",
          "MA",
          "MD",
          "ME",
          "MI",
          "MN",
          "MO",
          "MS",
          "MT",
          "NC",
          "ND",
          "NE",
          "NH",
          "NJ",
          "NM",
          "NV",
          "NY",
          "OH",
          "OK",
          "OR",
          "PA",
          "RI",
          "SC",
          "SD",
          "TN",
          "TX",
          "UT",
          "VA",
          "VT",
          "WA",
          "WI",
          "WV",
          "WY"
         ],
         "locationmode": "USA-states",
         "locations": [
          "AK",
          "AL",
          "AR",
          "AZ",
          "CA",
          "CO",
          "CT",
          "DC",
          "DE",
          "FL",
          "GA",
          "HI",
          "IA",
          "ID",
          "IL",
          "IN",
          "KS",
          "KY",
          "LA",
          "MA",
          "MD",
          "ME",
          "MI",
          "MN",
          "MO",
          "MS",
          "MT",
          "NC",
          "ND",
          "NE",
          "NH",
          "NJ",
          "NM",
          "NV",
          "NY",
          "OH",
          "OK",
          "OR",
          "PA",
          "RI",
          "SC",
          "SD",
          "TN",
          "TX",
          "UT",
          "VA",
          "VT",
          "WA",
          "WI",
          "WV",
          "WY"
         ],
         "name": "",
         "type": "choropleth",
         "z": [
          114,
          373,
          247,
          727,
          4585,
          657,
          745,
          157,
          133,
          2663,
          1059,
          340,
          282,
          135,
          2095,
          717,
          297,
          420,
          373,
          1771,
          902,
          229,
          1284,
          827,
          632,
          195,
          75,
          798,
          53,
          149,
          297,
          1076,
          174,
          414,
          2621,
          1556,
          316,
          510,
          1440,
          249,
          355,
          56,
          632,
          2250,
          211,
          1048,
          76,
          992,
          565,
          146,
          50
         ]
        }
       ],
       "layout": {
        "coloraxis": {
         "colorbar": {
          "title": {
           "text": "Location Count"
          }
         },
         "colorscale": [
          [
           0,
           "#0d0887"
          ],
          [
           0.1111111111111111,
           "#46039f"
          ],
          [
           0.2222222222222222,
           "#7201a8"
          ],
          [
           0.3333333333333333,
           "#9c179e"
          ],
          [
           0.4444444444444444,
           "#bd3786"
          ],
          [
           0.5555555555555556,
           "#d8576b"
          ],
          [
           0.6666666666666666,
           "#ed7953"
          ],
          [
           0.7777777777777778,
           "#fb9f3a"
          ],
          [
           0.8888888888888888,
           "#fdca26"
          ],
          [
           1,
           "#f0f921"
          ]
         ]
        },
        "geo": {
         "center": {},
         "domain": {
          "x": [
           0,
           1
          ],
          "y": [
           0,
           1
          ]
         },
         "scope": "usa"
        },
        "legend": {
         "tracegroupgap": 0
        },
        "template": {
         "data": {
          "bar": [
           {
            "error_x": {
             "color": "#2a3f5f"
            },
            "error_y": {
             "color": "#2a3f5f"
            },
            "marker": {
             "line": {
              "color": "#E5ECF6",
              "width": 0.5
             },
             "pattern": {
              "fillmode": "overlay",
              "size": 10,
              "solidity": 0.2
             }
            },
            "type": "bar"
           }
          ],
          "barpolar": [
           {
            "marker": {
             "line": {
              "color": "#E5ECF6",
              "width": 0.5
             },
             "pattern": {
              "fillmode": "overlay",
              "size": 10,
              "solidity": 0.2
             }
            },
            "type": "barpolar"
           }
          ],
          "carpet": [
           {
            "aaxis": {
             "endlinecolor": "#2a3f5f",
             "gridcolor": "white",
             "linecolor": "white",
             "minorgridcolor": "white",
             "startlinecolor": "#2a3f5f"
            },
            "baxis": {
             "endlinecolor": "#2a3f5f",
             "gridcolor": "white",
             "linecolor": "white",
             "minorgridcolor": "white",
             "startlinecolor": "#2a3f5f"
            },
            "type": "carpet"
           }
          ],
          "choropleth": [
           {
            "colorbar": {
             "outlinewidth": 0,
             "ticks": ""
            },
            "type": "choropleth"
           }
          ],
          "contour": [
           {
            "colorbar": {
             "outlinewidth": 0,
             "ticks": ""
            },
            "colorscale": [
             [
              0,
              "#0d0887"
             ],
             [
              0.1111111111111111,
              "#46039f"
             ],
             [
              0.2222222222222222,
              "#7201a8"
             ],
             [
              0.3333333333333333,
              "#9c179e"
             ],
             [
              0.4444444444444444,
              "#bd3786"
             ],
             [
              0.5555555555555556,
              "#d8576b"
             ],
             [
              0.6666666666666666,
              "#ed7953"
             ],
             [
              0.7777777777777778,
              "#fb9f3a"
             ],
             [
              0.8888888888888888,
              "#fdca26"
             ],
             [
              1,
              "#f0f921"
             ]
            ],
            "type": "contour"
           }
          ],
          "contourcarpet": [
           {
            "colorbar": {
             "outlinewidth": 0,
             "ticks": ""
            },
            "type": "contourcarpet"
           }
          ],
          "heatmap": [
           {
            "colorbar": {
             "outlinewidth": 0,
             "ticks": ""
            },
            "colorscale": [
             [
              0,
              "#0d0887"
             ],
             [
              0.1111111111111111,
              "#46039f"
             ],
             [
              0.2222222222222222,
              "#7201a8"
             ],
             [
              0.3333333333333333,
              "#9c179e"
             ],
             [
              0.4444444444444444,
              "#bd3786"
             ],
             [
              0.5555555555555556,
              "#d8576b"
             ],
             [
              0.6666666666666666,
              "#ed7953"
             ],
             [
              0.7777777777777778,
              "#fb9f3a"
             ],
             [
              0.8888888888888888,
              "#fdca26"
             ],
             [
              1,
              "#f0f921"
             ]
            ],
            "type": "heatmap"
           }
          ],
          "heatmapgl": [
           {
            "colorbar": {
             "outlinewidth": 0,
             "ticks": ""
            },
            "colorscale": [
             [
              0,
              "#0d0887"
             ],
             [
              0.1111111111111111,
              "#46039f"
             ],
             [
              0.2222222222222222,
              "#7201a8"
             ],
             [
              0.3333333333333333,
              "#9c179e"
             ],
             [
              0.4444444444444444,
              "#bd3786"
             ],
             [
              0.5555555555555556,
              "#d8576b"
             ],
             [
              0.6666666666666666,
              "#ed7953"
             ],
             [
              0.7777777777777778,
              "#fb9f3a"
             ],
             [
              0.8888888888888888,
              "#fdca26"
             ],
             [
              1,
              "#f0f921"
             ]
            ],
            "type": "heatmapgl"
           }
          ],
          "histogram": [
           {
            "marker": {
             "pattern": {
              "fillmode": "overlay",
              "size": 10,
              "solidity": 0.2
             }
            },
            "type": "histogram"
           }
          ],
          "histogram2d": [
           {
            "colorbar": {
             "outlinewidth": 0,
             "ticks": ""
            },
            "colorscale": [
             [
              0,
              "#0d0887"
             ],
             [
              0.1111111111111111,
              "#46039f"
             ],
             [
              0.2222222222222222,
              "#7201a8"
             ],
             [
              0.3333333333333333,
              "#9c179e"
             ],
             [
              0.4444444444444444,
              "#bd3786"
             ],
             [
              0.5555555555555556,
              "#d8576b"
             ],
             [
              0.6666666666666666,
              "#ed7953"
             ],
             [
              0.7777777777777778,
              "#fb9f3a"
             ],
             [
              0.8888888888888888,
              "#fdca26"
             ],
             [
              1,
              "#f0f921"
             ]
            ],
            "type": "histogram2d"
           }
          ],
          "histogram2dcontour": [
           {
            "colorbar": {
             "outlinewidth": 0,
             "ticks": ""
            },
            "colorscale": [
             [
              0,
              "#0d0887"
             ],
             [
              0.1111111111111111,
              "#46039f"
             ],
             [
              0.2222222222222222,
              "#7201a8"
             ],
             [
              0.3333333333333333,
              "#9c179e"
             ],
             [
              0.4444444444444444,
              "#bd3786"
             ],
             [
              0.5555555555555556,
              "#d8576b"
             ],
             [
              0.6666666666666666,
              "#ed7953"
             ],
             [
              0.7777777777777778,
              "#fb9f3a"
             ],
             [
              0.8888888888888888,
              "#fdca26"
             ],
             [
              1,
              "#f0f921"
             ]
            ],
            "type": "histogram2dcontour"
           }
          ],
          "mesh3d": [
           {
            "colorbar": {
             "outlinewidth": 0,
             "ticks": ""
            },
            "type": "mesh3d"
           }
          ],
          "parcoords": [
           {
            "line": {
             "colorbar": {
              "outlinewidth": 0,
              "ticks": ""
             }
            },
            "type": "parcoords"
           }
          ],
          "pie": [
           {
            "automargin": true,
            "type": "pie"
           }
          ],
          "scatter": [
           {
            "fillpattern": {
             "fillmode": "overlay",
             "size": 10,
             "solidity": 0.2
            },
            "type": "scatter"
           }
          ],
          "scatter3d": [
           {
            "line": {
             "colorbar": {
              "outlinewidth": 0,
              "ticks": ""
             }
            },
            "marker": {
             "colorbar": {
              "outlinewidth": 0,
              "ticks": ""
             }
            },
            "type": "scatter3d"
           }
          ],
          "scattercarpet": [
           {
            "marker": {
             "colorbar": {
              "outlinewidth": 0,
              "ticks": ""
             }
            },
            "type": "scattercarpet"
           }
          ],
          "scattergeo": [
           {
            "marker": {
             "colorbar": {
              "outlinewidth": 0,
              "ticks": ""
             }
            },
            "type": "scattergeo"
           }
          ],
          "scattergl": [
           {
            "marker": {
             "colorbar": {
              "outlinewidth": 0,
              "ticks": ""
             }
            },
            "type": "scattergl"
           }
          ],
          "scattermapbox": [
           {
            "marker": {
             "colorbar": {
              "outlinewidth": 0,
              "ticks": ""
             }
            },
            "type": "scattermapbox"
           }
          ],
          "scatterpolar": [
           {
            "marker": {
             "colorbar": {
              "outlinewidth": 0,
              "ticks": ""
             }
            },
            "type": "scatterpolar"
           }
          ],
          "scatterpolargl": [
           {
            "marker": {
             "colorbar": {
              "outlinewidth": 0,
              "ticks": ""
             }
            },
            "type": "scatterpolargl"
           }
          ],
          "scatterternary": [
           {
            "marker": {
             "colorbar": {
              "outlinewidth": 0,
              "ticks": ""
             }
            },
            "type": "scatterternary"
           }
          ],
          "surface": [
           {
            "colorbar": {
             "outlinewidth": 0,
             "ticks": ""
            },
            "colorscale": [
             [
              0,
              "#0d0887"
             ],
             [
              0.1111111111111111,
              "#46039f"
             ],
             [
              0.2222222222222222,
              "#7201a8"
             ],
             [
              0.3333333333333333,
              "#9c179e"
             ],
             [
              0.4444444444444444,
              "#bd3786"
             ],
             [
              0.5555555555555556,
              "#d8576b"
             ],
             [
              0.6666666666666666,
              "#ed7953"
             ],
             [
              0.7777777777777778,
              "#fb9f3a"
             ],
             [
              0.8888888888888888,
              "#fdca26"
             ],
             [
              1,
              "#f0f921"
             ]
            ],
            "type": "surface"
           }
          ],
          "table": [
           {
            "cells": {
             "fill": {
              "color": "#EBF0F8"
             },
             "line": {
              "color": "white"
             }
            },
            "header": {
             "fill": {
              "color": "#C8D4E3"
             },
             "line": {
              "color": "white"
             }
            },
            "type": "table"
           }
          ]
         },
         "layout": {
          "annotationdefaults": {
           "arrowcolor": "#2a3f5f",
           "arrowhead": 0,
           "arrowwidth": 1
          },
          "autotypenumbers": "strict",
          "coloraxis": {
           "colorbar": {
            "outlinewidth": 0,
            "ticks": ""
           }
          },
          "colorscale": {
           "diverging": [
            [
             0,
             "#8e0152"
            ],
            [
             0.1,
             "#c51b7d"
            ],
            [
             0.2,
             "#de77ae"
            ],
            [
             0.3,
             "#f1b6da"
            ],
            [
             0.4,
             "#fde0ef"
            ],
            [
             0.5,
             "#f7f7f7"
            ],
            [
             0.6,
             "#e6f5d0"
            ],
            [
             0.7,
             "#b8e186"
            ],
            [
             0.8,
             "#7fbc41"
            ],
            [
             0.9,
             "#4d9221"
            ],
            [
             1,
             "#276419"
            ]
           ],
           "sequential": [
            [
             0,
             "#0d0887"
            ],
            [
             0.1111111111111111,
             "#46039f"
            ],
            [
             0.2222222222222222,
             "#7201a8"
            ],
            [
             0.3333333333333333,
             "#9c179e"
            ],
            [
             0.4444444444444444,
             "#bd3786"
            ],
            [
             0.5555555555555556,
             "#d8576b"
            ],
            [
             0.6666666666666666,
             "#ed7953"
            ],
            [
             0.7777777777777778,
             "#fb9f3a"
            ],
            [
             0.8888888888888888,
             "#fdca26"
            ],
            [
             1,
             "#f0f921"
            ]
           ],
           "sequentialminus": [
            [
             0,
             "#0d0887"
            ],
            [
             0.1111111111111111,
             "#46039f"
            ],
            [
             0.2222222222222222,
             "#7201a8"
            ],
            [
             0.3333333333333333,
             "#9c179e"
            ],
            [
             0.4444444444444444,
             "#bd3786"
            ],
            [
             0.5555555555555556,
             "#d8576b"
            ],
            [
             0.6666666666666666,
             "#ed7953"
            ],
            [
             0.7777777777777778,
             "#fb9f3a"
            ],
            [
             0.8888888888888888,
             "#fdca26"
            ],
            [
             1,
             "#f0f921"
            ]
           ]
          },
          "colorway": [
           "#636efa",
           "#EF553B",
           "#00cc96",
           "#ab63fa",
           "#FFA15A",
           "#19d3f3",
           "#FF6692",
           "#B6E880",
           "#FF97FF",
           "#FECB52"
          ],
          "font": {
           "color": "#2a3f5f"
          },
          "geo": {
           "bgcolor": "white",
           "lakecolor": "white",
           "landcolor": "#E5ECF6",
           "showlakes": true,
           "showland": true,
           "subunitcolor": "white"
          },
          "hoverlabel": {
           "align": "left"
          },
          "hovermode": "closest",
          "mapbox": {
           "style": "light"
          },
          "paper_bgcolor": "white",
          "plot_bgcolor": "#E5ECF6",
          "polar": {
           "angularaxis": {
            "gridcolor": "white",
            "linecolor": "white",
            "ticks": ""
           },
           "bgcolor": "#E5ECF6",
           "radialaxis": {
            "gridcolor": "white",
            "linecolor": "white",
            "ticks": ""
           }
          },
          "scene": {
           "xaxis": {
            "backgroundcolor": "#E5ECF6",
            "gridcolor": "white",
            "gridwidth": 2,
            "linecolor": "white",
            "showbackground": true,
            "ticks": "",
            "zerolinecolor": "white"
           },
           "yaxis": {
            "backgroundcolor": "#E5ECF6",
            "gridcolor": "white",
            "gridwidth": 2,
            "linecolor": "white",
            "showbackground": true,
            "ticks": "",
            "zerolinecolor": "white"
           },
           "zaxis": {
            "backgroundcolor": "#E5ECF6",
            "gridcolor": "white",
            "gridwidth": 2,
            "linecolor": "white",
            "showbackground": true,
            "ticks": "",
            "zerolinecolor": "white"
           }
          },
          "shapedefaults": {
           "line": {
            "color": "#2a3f5f"
           }
          },
          "ternary": {
           "aaxis": {
            "gridcolor": "white",
            "linecolor": "white",
            "ticks": ""
           },
           "baxis": {
            "gridcolor": "white",
            "linecolor": "white",
            "ticks": ""
           },
           "bgcolor": "#E5ECF6",
           "caxis": {
            "gridcolor": "white",
            "linecolor": "white",
            "ticks": ""
           }
          },
          "title": {
           "x": 0.05
          },
          "xaxis": {
           "automargin": true,
           "gridcolor": "white",
           "linecolor": "white",
           "ticks": "",
           "title": {
            "standoff": 15
           },
           "zerolinecolor": "white",
           "zerolinewidth": 2
          },
          "yaxis": {
           "automargin": true,
           "gridcolor": "white",
           "linecolor": "white",
           "ticks": "",
           "title": {
            "standoff": 15
           },
           "zerolinecolor": "white",
           "zerolinewidth": 2
          }
         }
        },
        "title": {
         "text": "Location Count by State"
        }
       }
      },
      "text/html": [
       "<div>                            <div id=\"1d9a21d6-ec10-441e-9a85-b143fd15da4e\" class=\"plotly-graph-div\" style=\"height:525px; width:100%;\"></div>            <script type=\"text/javascript\">                require([\"plotly\"], function(Plotly) {                    window.PLOTLYENV=window.PLOTLYENV || {};                                    if (document.getElementById(\"1d9a21d6-ec10-441e-9a85-b143fd15da4e\")) {                    Plotly.newPlot(                        \"1d9a21d6-ec10-441e-9a85-b143fd15da4e\",                        [{\"coloraxis\":\"coloraxis\",\"geo\":\"geo\",\"hovertemplate\":\"<b>%{hovertext}</b><br><br>state_for_vis2=%{location}<br>Location Count=%{z}<extra></extra>\",\"hovertext\":[\"AK\",\"AL\",\"AR\",\"AZ\",\"CA\",\"CO\",\"CT\",\"DC\",\"DE\",\"FL\",\"GA\",\"HI\",\"IA\",\"ID\",\"IL\",\"IN\",\"KS\",\"KY\",\"LA\",\"MA\",\"MD\",\"ME\",\"MI\",\"MN\",\"MO\",\"MS\",\"MT\",\"NC\",\"ND\",\"NE\",\"NH\",\"NJ\",\"NM\",\"NV\",\"NY\",\"OH\",\"OK\",\"OR\",\"PA\",\"RI\",\"SC\",\"SD\",\"TN\",\"TX\",\"UT\",\"VA\",\"VT\",\"WA\",\"WI\",\"WV\",\"WY\"],\"locationmode\":\"USA-states\",\"locations\":[\"AK\",\"AL\",\"AR\",\"AZ\",\"CA\",\"CO\",\"CT\",\"DC\",\"DE\",\"FL\",\"GA\",\"HI\",\"IA\",\"ID\",\"IL\",\"IN\",\"KS\",\"KY\",\"LA\",\"MA\",\"MD\",\"ME\",\"MI\",\"MN\",\"MO\",\"MS\",\"MT\",\"NC\",\"ND\",\"NE\",\"NH\",\"NJ\",\"NM\",\"NV\",\"NY\",\"OH\",\"OK\",\"OR\",\"PA\",\"RI\",\"SC\",\"SD\",\"TN\",\"TX\",\"UT\",\"VA\",\"VT\",\"WA\",\"WI\",\"WV\",\"WY\"],\"name\":\"\",\"z\":[114,373,247,727,4585,657,745,157,133,2663,1059,340,282,135,2095,717,297,420,373,1771,902,229,1284,827,632,195,75,798,53,149,297,1076,174,414,2621,1556,316,510,1440,249,355,56,632,2250,211,1048,76,992,565,146,50],\"type\":\"choropleth\"}],                        {\"template\":{\"data\":{\"histogram2dcontour\":[{\"type\":\"histogram2dcontour\",\"colorbar\":{\"outlinewidth\":0,\"ticks\":\"\"},\"colorscale\":[[0.0,\"#0d0887\"],[0.1111111111111111,\"#46039f\"],[0.2222222222222222,\"#7201a8\"],[0.3333333333333333,\"#9c179e\"],[0.4444444444444444,\"#bd3786\"],[0.5555555555555556,\"#d8576b\"],[0.6666666666666666,\"#ed7953\"],[0.7777777777777778,\"#fb9f3a\"],[0.8888888888888888,\"#fdca26\"],[1.0,\"#f0f921\"]]}],\"choropleth\":[{\"type\":\"choropleth\",\"colorbar\":{\"outlinewidth\":0,\"ticks\":\"\"}}],\"histogram2d\":[{\"type\":\"histogram2d\",\"colorbar\":{\"outlinewidth\":0,\"ticks\":\"\"},\"colorscale\":[[0.0,\"#0d0887\"],[0.1111111111111111,\"#46039f\"],[0.2222222222222222,\"#7201a8\"],[0.3333333333333333,\"#9c179e\"],[0.4444444444444444,\"#bd3786\"],[0.5555555555555556,\"#d8576b\"],[0.6666666666666666,\"#ed7953\"],[0.7777777777777778,\"#fb9f3a\"],[0.8888888888888888,\"#fdca26\"],[1.0,\"#f0f921\"]]}],\"heatmap\":[{\"type\":\"heatmap\",\"colorbar\":{\"outlinewidth\":0,\"ticks\":\"\"},\"colorscale\":[[0.0,\"#0d0887\"],[0.1111111111111111,\"#46039f\"],[0.2222222222222222,\"#7201a8\"],[0.3333333333333333,\"#9c179e\"],[0.4444444444444444,\"#bd3786\"],[0.5555555555555556,\"#d8576b\"],[0.6666666666666666,\"#ed7953\"],[0.7777777777777778,\"#fb9f3a\"],[0.8888888888888888,\"#fdca26\"],[1.0,\"#f0f921\"]]}],\"heatmapgl\":[{\"type\":\"heatmapgl\",\"colorbar\":{\"outlinewidth\":0,\"ticks\":\"\"},\"colorscale\":[[0.0,\"#0d0887\"],[0.1111111111111111,\"#46039f\"],[0.2222222222222222,\"#7201a8\"],[0.3333333333333333,\"#9c179e\"],[0.4444444444444444,\"#bd3786\"],[0.5555555555555556,\"#d8576b\"],[0.6666666666666666,\"#ed7953\"],[0.7777777777777778,\"#fb9f3a\"],[0.8888888888888888,\"#fdca26\"],[1.0,\"#f0f921\"]]}],\"contourcarpet\":[{\"type\":\"contourcarpet\",\"colorbar\":{\"outlinewidth\":0,\"ticks\":\"\"}}],\"contour\":[{\"type\":\"contour\",\"colorbar\":{\"outlinewidth\":0,\"ticks\":\"\"},\"colorscale\":[[0.0,\"#0d0887\"],[0.1111111111111111,\"#46039f\"],[0.2222222222222222,\"#7201a8\"],[0.3333333333333333,\"#9c179e\"],[0.4444444444444444,\"#bd3786\"],[0.5555555555555556,\"#d8576b\"],[0.6666666666666666,\"#ed7953\"],[0.7777777777777778,\"#fb9f3a\"],[0.8888888888888888,\"#fdca26\"],[1.0,\"#f0f921\"]]}],\"surface\":[{\"type\":\"surface\",\"colorbar\":{\"outlinewidth\":0,\"ticks\":\"\"},\"colorscale\":[[0.0,\"#0d0887\"],[0.1111111111111111,\"#46039f\"],[0.2222222222222222,\"#7201a8\"],[0.3333333333333333,\"#9c179e\"],[0.4444444444444444,\"#bd3786\"],[0.5555555555555556,\"#d8576b\"],[0.6666666666666666,\"#ed7953\"],[0.7777777777777778,\"#fb9f3a\"],[0.8888888888888888,\"#fdca26\"],[1.0,\"#f0f921\"]]}],\"mesh3d\":[{\"type\":\"mesh3d\",\"colorbar\":{\"outlinewidth\":0,\"ticks\":\"\"}}],\"scatter\":[{\"fillpattern\":{\"fillmode\":\"overlay\",\"size\":10,\"solidity\":0.2},\"type\":\"scatter\"}],\"parcoords\":[{\"type\":\"parcoords\",\"line\":{\"colorbar\":{\"outlinewidth\":0,\"ticks\":\"\"}}}],\"scatterpolargl\":[{\"type\":\"scatterpolargl\",\"marker\":{\"colorbar\":{\"outlinewidth\":0,\"ticks\":\"\"}}}],\"bar\":[{\"error_x\":{\"color\":\"#2a3f5f\"},\"error_y\":{\"color\":\"#2a3f5f\"},\"marker\":{\"line\":{\"color\":\"#E5ECF6\",\"width\":0.5},\"pattern\":{\"fillmode\":\"overlay\",\"size\":10,\"solidity\":0.2}},\"type\":\"bar\"}],\"scattergeo\":[{\"type\":\"scattergeo\",\"marker\":{\"colorbar\":{\"outlinewidth\":0,\"ticks\":\"\"}}}],\"scatterpolar\":[{\"type\":\"scatterpolar\",\"marker\":{\"colorbar\":{\"outlinewidth\":0,\"ticks\":\"\"}}}],\"histogram\":[{\"marker\":{\"pattern\":{\"fillmode\":\"overlay\",\"size\":10,\"solidity\":0.2}},\"type\":\"histogram\"}],\"scattergl\":[{\"type\":\"scattergl\",\"marker\":{\"colorbar\":{\"outlinewidth\":0,\"ticks\":\"\"}}}],\"scatter3d\":[{\"type\":\"scatter3d\",\"line\":{\"colorbar\":{\"outlinewidth\":0,\"ticks\":\"\"}},\"marker\":{\"colorbar\":{\"outlinewidth\":0,\"ticks\":\"\"}}}],\"scattermapbox\":[{\"type\":\"scattermapbox\",\"marker\":{\"colorbar\":{\"outlinewidth\":0,\"ticks\":\"\"}}}],\"scatterternary\":[{\"type\":\"scatterternary\",\"marker\":{\"colorbar\":{\"outlinewidth\":0,\"ticks\":\"\"}}}],\"scattercarpet\":[{\"type\":\"scattercarpet\",\"marker\":{\"colorbar\":{\"outlinewidth\":0,\"ticks\":\"\"}}}],\"carpet\":[{\"aaxis\":{\"endlinecolor\":\"#2a3f5f\",\"gridcolor\":\"white\",\"linecolor\":\"white\",\"minorgridcolor\":\"white\",\"startlinecolor\":\"#2a3f5f\"},\"baxis\":{\"endlinecolor\":\"#2a3f5f\",\"gridcolor\":\"white\",\"linecolor\":\"white\",\"minorgridcolor\":\"white\",\"startlinecolor\":\"#2a3f5f\"},\"type\":\"carpet\"}],\"table\":[{\"cells\":{\"fill\":{\"color\":\"#EBF0F8\"},\"line\":{\"color\":\"white\"}},\"header\":{\"fill\":{\"color\":\"#C8D4E3\"},\"line\":{\"color\":\"white\"}},\"type\":\"table\"}],\"barpolar\":[{\"marker\":{\"line\":{\"color\":\"#E5ECF6\",\"width\":0.5},\"pattern\":{\"fillmode\":\"overlay\",\"size\":10,\"solidity\":0.2}},\"type\":\"barpolar\"}],\"pie\":[{\"automargin\":true,\"type\":\"pie\"}]},\"layout\":{\"autotypenumbers\":\"strict\",\"colorway\":[\"#636efa\",\"#EF553B\",\"#00cc96\",\"#ab63fa\",\"#FFA15A\",\"#19d3f3\",\"#FF6692\",\"#B6E880\",\"#FF97FF\",\"#FECB52\"],\"font\":{\"color\":\"#2a3f5f\"},\"hovermode\":\"closest\",\"hoverlabel\":{\"align\":\"left\"},\"paper_bgcolor\":\"white\",\"plot_bgcolor\":\"#E5ECF6\",\"polar\":{\"bgcolor\":\"#E5ECF6\",\"angularaxis\":{\"gridcolor\":\"white\",\"linecolor\":\"white\",\"ticks\":\"\"},\"radialaxis\":{\"gridcolor\":\"white\",\"linecolor\":\"white\",\"ticks\":\"\"}},\"ternary\":{\"bgcolor\":\"#E5ECF6\",\"aaxis\":{\"gridcolor\":\"white\",\"linecolor\":\"white\",\"ticks\":\"\"},\"baxis\":{\"gridcolor\":\"white\",\"linecolor\":\"white\",\"ticks\":\"\"},\"caxis\":{\"gridcolor\":\"white\",\"linecolor\":\"white\",\"ticks\":\"\"}},\"coloraxis\":{\"colorbar\":{\"outlinewidth\":0,\"ticks\":\"\"}},\"colorscale\":{\"sequential\":[[0.0,\"#0d0887\"],[0.1111111111111111,\"#46039f\"],[0.2222222222222222,\"#7201a8\"],[0.3333333333333333,\"#9c179e\"],[0.4444444444444444,\"#bd3786\"],[0.5555555555555556,\"#d8576b\"],[0.6666666666666666,\"#ed7953\"],[0.7777777777777778,\"#fb9f3a\"],[0.8888888888888888,\"#fdca26\"],[1.0,\"#f0f921\"]],\"sequentialminus\":[[0.0,\"#0d0887\"],[0.1111111111111111,\"#46039f\"],[0.2222222222222222,\"#7201a8\"],[0.3333333333333333,\"#9c179e\"],[0.4444444444444444,\"#bd3786\"],[0.5555555555555556,\"#d8576b\"],[0.6666666666666666,\"#ed7953\"],[0.7777777777777778,\"#fb9f3a\"],[0.8888888888888888,\"#fdca26\"],[1.0,\"#f0f921\"]],\"diverging\":[[0,\"#8e0152\"],[0.1,\"#c51b7d\"],[0.2,\"#de77ae\"],[0.3,\"#f1b6da\"],[0.4,\"#fde0ef\"],[0.5,\"#f7f7f7\"],[0.6,\"#e6f5d0\"],[0.7,\"#b8e186\"],[0.8,\"#7fbc41\"],[0.9,\"#4d9221\"],[1,\"#276419\"]]},\"xaxis\":{\"gridcolor\":\"white\",\"linecolor\":\"white\",\"ticks\":\"\",\"title\":{\"standoff\":15},\"zerolinecolor\":\"white\",\"automargin\":true,\"zerolinewidth\":2},\"yaxis\":{\"gridcolor\":\"white\",\"linecolor\":\"white\",\"ticks\":\"\",\"title\":{\"standoff\":15},\"zerolinecolor\":\"white\",\"automargin\":true,\"zerolinewidth\":2},\"scene\":{\"xaxis\":{\"backgroundcolor\":\"#E5ECF6\",\"gridcolor\":\"white\",\"linecolor\":\"white\",\"showbackground\":true,\"ticks\":\"\",\"zerolinecolor\":\"white\",\"gridwidth\":2},\"yaxis\":{\"backgroundcolor\":\"#E5ECF6\",\"gridcolor\":\"white\",\"linecolor\":\"white\",\"showbackground\":true,\"ticks\":\"\",\"zerolinecolor\":\"white\",\"gridwidth\":2},\"zaxis\":{\"backgroundcolor\":\"#E5ECF6\",\"gridcolor\":\"white\",\"linecolor\":\"white\",\"showbackground\":true,\"ticks\":\"\",\"zerolinecolor\":\"white\",\"gridwidth\":2}},\"shapedefaults\":{\"line\":{\"color\":\"#2a3f5f\"}},\"annotationdefaults\":{\"arrowcolor\":\"#2a3f5f\",\"arrowhead\":0,\"arrowwidth\":1},\"geo\":{\"bgcolor\":\"white\",\"landcolor\":\"#E5ECF6\",\"subunitcolor\":\"white\",\"showland\":true,\"showlakes\":true,\"lakecolor\":\"white\"},\"title\":{\"x\":0.05},\"mapbox\":{\"style\":\"light\"}}},\"geo\":{\"domain\":{\"x\":[0.0,1.0],\"y\":[0.0,1.0]},\"center\":{},\"scope\":\"usa\"},\"coloraxis\":{\"colorbar\":{\"title\":{\"text\":\"Location Count\"}},\"colorscale\":[[0.0,\"#0d0887\"],[0.1111111111111111,\"#46039f\"],[0.2222222222222222,\"#7201a8\"],[0.3333333333333333,\"#9c179e\"],[0.4444444444444444,\"#bd3786\"],[0.5555555555555556,\"#d8576b\"],[0.6666666666666666,\"#ed7953\"],[0.7777777777777778,\"#fb9f3a\"],[0.8888888888888888,\"#fdca26\"],[1.0,\"#f0f921\"]]},\"legend\":{\"tracegroupgap\":0},\"title\":{\"text\":\"Location Count by State\"}},                        {\"responsive\": true}                    ).then(function(){\n",
       "                            \n",
       "var gd = document.getElementById('1d9a21d6-ec10-441e-9a85-b143fd15da4e');\n",
       "var x = new MutationObserver(function (mutations, observer) {{\n",
       "        var display = window.getComputedStyle(gd).display;\n",
       "        if (!display || display === 'none') {{\n",
       "            console.log([gd, 'removed!']);\n",
       "            Plotly.purge(gd);\n",
       "            observer.disconnect();\n",
       "        }}\n",
       "}});\n",
       "\n",
       "// Listen for the removal of the full notebook cells\n",
       "var notebookContainer = gd.closest('#notebook-container');\n",
       "if (notebookContainer) {{\n",
       "    x.observe(notebookContainer, {childList: true});\n",
       "}}\n",
       "\n",
       "// Listen for the clearing of the current output cell\n",
       "var outputEl = gd.closest('.output');\n",
       "if (outputEl) {{\n",
       "    x.observe(outputEl, {childList: true});\n",
       "}}\n",
       "\n",
       "                        })                };                });            </script>        </div>"
      ]
     },
     "metadata": {},
     "output_type": "display_data"
    }
   ],
   "source": [
    "#getting the data in the right format to show the sum of locations\n",
    "state_location_data = coffee_clean.groupby('State').agg({'Location Count': 'sum'}).reset_index()\n",
    "state_location_data['state_for_vis2'] = state_location_data['State']  # Map state abbreviations to 'country'\n",
    "\n",
    "#visualizing\n",
    "fig_choropleth = px.choropleth(\n",
    "    state_location_data,\n",
    "    locations='state_for_vis2',\n",
    "    locationmode='USA-states',\n",
    "    color='Location Count',\n",
    "    hover_name='State',\n",
    "    title='Location Count by State',\n",
    "    scope='usa'\n",
    ")\n",
    "\n",
    "fig_choropleth.show()\n"
   ]
  },
  {
   "cell_type": "markdown",
   "id": "d404b1dc",
   "metadata": {},
   "source": [
    "### Perhaps we want to show the correlation between revenue and location count and we see that there indeed is a correlation. Further analysis is needed to show what factors may be driving this correlation since we did not have a lot of data points for revenue to begin with\n"
   ]
  },
  {
   "cell_type": "code",
   "execution_count": 326,
   "id": "8c9c76bf",
   "metadata": {},
   "outputs": [
    {
     "data": {
      "application/vnd.plotly.v1+json": {
       "config": {
        "plotlyServerURL": "https://plot.ly"
       },
       "data": [
        {
         "hovertemplate": "<b>%{hovertext}</b><br><br>Coffee Chain=Au Bon Pain<br>Location Count=%{x}<br>Revenue2022=%{y}<extra></extra>",
         "hovertext": [
          "Au Bon Pain"
         ],
         "legendgroup": "Au Bon Pain",
         "marker": {
          "color": "#636efa",
          "symbol": "circle"
         },
         "mode": "markers",
         "name": "Au Bon Pain",
         "orientation": "v",
         "showlegend": true,
         "type": "scatter",
         "x": [
          332
         ],
         "xaxis": "x",
         "y": [
          41000000
         ],
         "yaxis": "y"
        },
        {
         "hovertemplate": "<b>%{hovertext}</b><br><br>Coffee Chain=Caribou Coffee<br>Location Count=%{x}<br>Revenue2022=%{y}<extra></extra>",
         "hovertext": [
          "Caribou Coffee"
         ],
         "legendgroup": "Caribou Coffee",
         "marker": {
          "color": "#EF553B",
          "symbol": "circle"
         },
         "mode": "markers",
         "name": "Caribou Coffee",
         "orientation": "v",
         "showlegend": true,
         "type": "scatter",
         "x": [
          623
         ],
         "xaxis": "x",
         "y": [
          262000000
         ],
         "yaxis": "y"
        },
        {
         "hovertemplate": "<b>%{hovertext}</b><br><br>Coffee Chain=Dunkin' Donuts<br>Location Count=%{x}<br>Revenue2022=%{y}<extra></extra>",
         "hovertext": [
          "Dunkin' Donuts"
         ],
         "legendgroup": "Dunkin' Donuts",
         "marker": {
          "color": "#00cc96",
          "symbol": "circle"
         },
         "mode": "markers",
         "name": "Dunkin' Donuts",
         "orientation": "v",
         "showlegend": true,
         "type": "scatter",
         "x": [
          6482
         ],
         "xaxis": "x",
         "y": [
          1400000000
         ],
         "yaxis": "y"
        },
        {
         "hovertemplate": "<b>%{hovertext}</b><br><br>Coffee Chain=McDonald's<br>Location Count=%{x}<br>Revenue2022=%{y}<extra></extra>",
         "hovertext": [
          "McDonald's"
         ],
         "legendgroup": "McDonald's",
         "marker": {
          "color": "#ab63fa",
          "symbol": "circle"
         },
         "mode": "markers",
         "name": "McDonald's",
         "orientation": "v",
         "showlegend": true,
         "type": "scatter",
         "x": [
          16888
         ],
         "xaxis": "x",
         "y": [
          23180000000
         ],
         "yaxis": "y"
        },
        {
         "hovertemplate": "<b>%{hovertext}</b><br><br>Coffee Chain=Panera Bread<br>Location Count=%{x}<br>Revenue2022=%{y}<extra></extra>",
         "hovertext": [
          "Panera Bread"
         ],
         "legendgroup": "Panera Bread",
         "marker": {
          "color": "#FFA15A",
          "symbol": "circle"
         },
         "mode": "markers",
         "name": "Panera Bread",
         "orientation": "v",
         "showlegend": true,
         "type": "scatter",
         "x": [
          2378
         ],
         "xaxis": "x",
         "y": [
          4800000000
         ],
         "yaxis": "y"
        },
        {
         "hovertemplate": "<b>%{hovertext}</b><br><br>Coffee Chain=Peet's Coffee & Tea<br>Location Count=%{x}<br>Revenue2022=%{y}<extra></extra>",
         "hovertext": [
          "Peet's Coffee & Tea"
         ],
         "legendgroup": "Peet's Coffee & Tea",
         "marker": {
          "color": "#19d3f3",
          "symbol": "circle"
         },
         "mode": "markers",
         "name": "Peet's Coffee & Tea",
         "orientation": "v",
         "showlegend": true,
         "type": "scatter",
         "x": [
          205
         ],
         "xaxis": "x",
         "y": [
          983000000
         ],
         "yaxis": "y"
        },
        {
         "hovertemplate": "<b>%{hovertext}</b><br><br>Coffee Chain=Starbucks<br>Location Count=%{x}<br>Revenue2022=%{y}<extra></extra>",
         "hovertext": [
          "Starbucks"
         ],
         "legendgroup": "Starbucks",
         "marker": {
          "color": "#FF6692",
          "symbol": "circle"
         },
         "mode": "markers",
         "name": "Starbucks",
         "orientation": "v",
         "showlegend": true,
         "type": "scatter",
         "x": [
          10390
         ],
         "xaxis": "x",
         "y": [
          32250000000
         ],
         "yaxis": "y"
        },
        {
         "hovertemplate": "<b>%{hovertext}</b><br><br>Coffee Chain=The Coffee Bean & Tea Leaf<br>Location Count=%{x}<br>Revenue2022=%{y}<extra></extra>",
         "hovertext": [
          "The Coffee Bean & Tea Leaf"
         ],
         "legendgroup": "The Coffee Bean & Tea Leaf",
         "marker": {
          "color": "#B6E880",
          "symbol": "circle"
         },
         "mode": "markers",
         "name": "The Coffee Bean & Tea Leaf",
         "orientation": "v",
         "showlegend": true,
         "type": "scatter",
         "x": [
          270
         ],
         "xaxis": "x",
         "y": [
          500000000
         ],
         "yaxis": "y"
        },
        {
         "hovertemplate": "<b>%{hovertext}</b><br><br>Coffee Chain=Tim Horton's<br>Location Count=%{x}<br>Revenue2022=%{y}<extra></extra>",
         "hovertext": [
          "Tim Horton's"
         ],
         "legendgroup": "Tim Horton's",
         "marker": {
          "color": "#FF97FF",
          "symbol": "circle"
         },
         "mode": "markers",
         "name": "Tim Horton's",
         "orientation": "v",
         "showlegend": true,
         "type": "scatter",
         "x": [
          500
         ],
         "xaxis": "x",
         "y": [
          2630000000
         ],
         "yaxis": "y"
        }
       ],
       "layout": {
        "annotations": [
         {
          "font": {
           "size": 16
          },
          "showarrow": false,
          "text": "Correlation Coefficient: 0.84",
          "x": 0.05,
          "xref": "paper",
          "y": 0.95,
          "yref": "paper"
         }
        ],
        "legend": {
         "title": {
          "text": "Coffee Chain"
         },
         "tracegroupgap": 0
        },
        "template": {
         "data": {
          "bar": [
           {
            "error_x": {
             "color": "#2a3f5f"
            },
            "error_y": {
             "color": "#2a3f5f"
            },
            "marker": {
             "line": {
              "color": "#E5ECF6",
              "width": 0.5
             },
             "pattern": {
              "fillmode": "overlay",
              "size": 10,
              "solidity": 0.2
             }
            },
            "type": "bar"
           }
          ],
          "barpolar": [
           {
            "marker": {
             "line": {
              "color": "#E5ECF6",
              "width": 0.5
             },
             "pattern": {
              "fillmode": "overlay",
              "size": 10,
              "solidity": 0.2
             }
            },
            "type": "barpolar"
           }
          ],
          "carpet": [
           {
            "aaxis": {
             "endlinecolor": "#2a3f5f",
             "gridcolor": "white",
             "linecolor": "white",
             "minorgridcolor": "white",
             "startlinecolor": "#2a3f5f"
            },
            "baxis": {
             "endlinecolor": "#2a3f5f",
             "gridcolor": "white",
             "linecolor": "white",
             "minorgridcolor": "white",
             "startlinecolor": "#2a3f5f"
            },
            "type": "carpet"
           }
          ],
          "choropleth": [
           {
            "colorbar": {
             "outlinewidth": 0,
             "ticks": ""
            },
            "type": "choropleth"
           }
          ],
          "contour": [
           {
            "colorbar": {
             "outlinewidth": 0,
             "ticks": ""
            },
            "colorscale": [
             [
              0,
              "#0d0887"
             ],
             [
              0.1111111111111111,
              "#46039f"
             ],
             [
              0.2222222222222222,
              "#7201a8"
             ],
             [
              0.3333333333333333,
              "#9c179e"
             ],
             [
              0.4444444444444444,
              "#bd3786"
             ],
             [
              0.5555555555555556,
              "#d8576b"
             ],
             [
              0.6666666666666666,
              "#ed7953"
             ],
             [
              0.7777777777777778,
              "#fb9f3a"
             ],
             [
              0.8888888888888888,
              "#fdca26"
             ],
             [
              1,
              "#f0f921"
             ]
            ],
            "type": "contour"
           }
          ],
          "contourcarpet": [
           {
            "colorbar": {
             "outlinewidth": 0,
             "ticks": ""
            },
            "type": "contourcarpet"
           }
          ],
          "heatmap": [
           {
            "colorbar": {
             "outlinewidth": 0,
             "ticks": ""
            },
            "colorscale": [
             [
              0,
              "#0d0887"
             ],
             [
              0.1111111111111111,
              "#46039f"
             ],
             [
              0.2222222222222222,
              "#7201a8"
             ],
             [
              0.3333333333333333,
              "#9c179e"
             ],
             [
              0.4444444444444444,
              "#bd3786"
             ],
             [
              0.5555555555555556,
              "#d8576b"
             ],
             [
              0.6666666666666666,
              "#ed7953"
             ],
             [
              0.7777777777777778,
              "#fb9f3a"
             ],
             [
              0.8888888888888888,
              "#fdca26"
             ],
             [
              1,
              "#f0f921"
             ]
            ],
            "type": "heatmap"
           }
          ],
          "heatmapgl": [
           {
            "colorbar": {
             "outlinewidth": 0,
             "ticks": ""
            },
            "colorscale": [
             [
              0,
              "#0d0887"
             ],
             [
              0.1111111111111111,
              "#46039f"
             ],
             [
              0.2222222222222222,
              "#7201a8"
             ],
             [
              0.3333333333333333,
              "#9c179e"
             ],
             [
              0.4444444444444444,
              "#bd3786"
             ],
             [
              0.5555555555555556,
              "#d8576b"
             ],
             [
              0.6666666666666666,
              "#ed7953"
             ],
             [
              0.7777777777777778,
              "#fb9f3a"
             ],
             [
              0.8888888888888888,
              "#fdca26"
             ],
             [
              1,
              "#f0f921"
             ]
            ],
            "type": "heatmapgl"
           }
          ],
          "histogram": [
           {
            "marker": {
             "pattern": {
              "fillmode": "overlay",
              "size": 10,
              "solidity": 0.2
             }
            },
            "type": "histogram"
           }
          ],
          "histogram2d": [
           {
            "colorbar": {
             "outlinewidth": 0,
             "ticks": ""
            },
            "colorscale": [
             [
              0,
              "#0d0887"
             ],
             [
              0.1111111111111111,
              "#46039f"
             ],
             [
              0.2222222222222222,
              "#7201a8"
             ],
             [
              0.3333333333333333,
              "#9c179e"
             ],
             [
              0.4444444444444444,
              "#bd3786"
             ],
             [
              0.5555555555555556,
              "#d8576b"
             ],
             [
              0.6666666666666666,
              "#ed7953"
             ],
             [
              0.7777777777777778,
              "#fb9f3a"
             ],
             [
              0.8888888888888888,
              "#fdca26"
             ],
             [
              1,
              "#f0f921"
             ]
            ],
            "type": "histogram2d"
           }
          ],
          "histogram2dcontour": [
           {
            "colorbar": {
             "outlinewidth": 0,
             "ticks": ""
            },
            "colorscale": [
             [
              0,
              "#0d0887"
             ],
             [
              0.1111111111111111,
              "#46039f"
             ],
             [
              0.2222222222222222,
              "#7201a8"
             ],
             [
              0.3333333333333333,
              "#9c179e"
             ],
             [
              0.4444444444444444,
              "#bd3786"
             ],
             [
              0.5555555555555556,
              "#d8576b"
             ],
             [
              0.6666666666666666,
              "#ed7953"
             ],
             [
              0.7777777777777778,
              "#fb9f3a"
             ],
             [
              0.8888888888888888,
              "#fdca26"
             ],
             [
              1,
              "#f0f921"
             ]
            ],
            "type": "histogram2dcontour"
           }
          ],
          "mesh3d": [
           {
            "colorbar": {
             "outlinewidth": 0,
             "ticks": ""
            },
            "type": "mesh3d"
           }
          ],
          "parcoords": [
           {
            "line": {
             "colorbar": {
              "outlinewidth": 0,
              "ticks": ""
             }
            },
            "type": "parcoords"
           }
          ],
          "pie": [
           {
            "automargin": true,
            "type": "pie"
           }
          ],
          "scatter": [
           {
            "fillpattern": {
             "fillmode": "overlay",
             "size": 10,
             "solidity": 0.2
            },
            "type": "scatter"
           }
          ],
          "scatter3d": [
           {
            "line": {
             "colorbar": {
              "outlinewidth": 0,
              "ticks": ""
             }
            },
            "marker": {
             "colorbar": {
              "outlinewidth": 0,
              "ticks": ""
             }
            },
            "type": "scatter3d"
           }
          ],
          "scattercarpet": [
           {
            "marker": {
             "colorbar": {
              "outlinewidth": 0,
              "ticks": ""
             }
            },
            "type": "scattercarpet"
           }
          ],
          "scattergeo": [
           {
            "marker": {
             "colorbar": {
              "outlinewidth": 0,
              "ticks": ""
             }
            },
            "type": "scattergeo"
           }
          ],
          "scattergl": [
           {
            "marker": {
             "colorbar": {
              "outlinewidth": 0,
              "ticks": ""
             }
            },
            "type": "scattergl"
           }
          ],
          "scattermapbox": [
           {
            "marker": {
             "colorbar": {
              "outlinewidth": 0,
              "ticks": ""
             }
            },
            "type": "scattermapbox"
           }
          ],
          "scatterpolar": [
           {
            "marker": {
             "colorbar": {
              "outlinewidth": 0,
              "ticks": ""
             }
            },
            "type": "scatterpolar"
           }
          ],
          "scatterpolargl": [
           {
            "marker": {
             "colorbar": {
              "outlinewidth": 0,
              "ticks": ""
             }
            },
            "type": "scatterpolargl"
           }
          ],
          "scatterternary": [
           {
            "marker": {
             "colorbar": {
              "outlinewidth": 0,
              "ticks": ""
             }
            },
            "type": "scatterternary"
           }
          ],
          "surface": [
           {
            "colorbar": {
             "outlinewidth": 0,
             "ticks": ""
            },
            "colorscale": [
             [
              0,
              "#0d0887"
             ],
             [
              0.1111111111111111,
              "#46039f"
             ],
             [
              0.2222222222222222,
              "#7201a8"
             ],
             [
              0.3333333333333333,
              "#9c179e"
             ],
             [
              0.4444444444444444,
              "#bd3786"
             ],
             [
              0.5555555555555556,
              "#d8576b"
             ],
             [
              0.6666666666666666,
              "#ed7953"
             ],
             [
              0.7777777777777778,
              "#fb9f3a"
             ],
             [
              0.8888888888888888,
              "#fdca26"
             ],
             [
              1,
              "#f0f921"
             ]
            ],
            "type": "surface"
           }
          ],
          "table": [
           {
            "cells": {
             "fill": {
              "color": "#EBF0F8"
             },
             "line": {
              "color": "white"
             }
            },
            "header": {
             "fill": {
              "color": "#C8D4E3"
             },
             "line": {
              "color": "white"
             }
            },
            "type": "table"
           }
          ]
         },
         "layout": {
          "annotationdefaults": {
           "arrowcolor": "#2a3f5f",
           "arrowhead": 0,
           "arrowwidth": 1
          },
          "autotypenumbers": "strict",
          "coloraxis": {
           "colorbar": {
            "outlinewidth": 0,
            "ticks": ""
           }
          },
          "colorscale": {
           "diverging": [
            [
             0,
             "#8e0152"
            ],
            [
             0.1,
             "#c51b7d"
            ],
            [
             0.2,
             "#de77ae"
            ],
            [
             0.3,
             "#f1b6da"
            ],
            [
             0.4,
             "#fde0ef"
            ],
            [
             0.5,
             "#f7f7f7"
            ],
            [
             0.6,
             "#e6f5d0"
            ],
            [
             0.7,
             "#b8e186"
            ],
            [
             0.8,
             "#7fbc41"
            ],
            [
             0.9,
             "#4d9221"
            ],
            [
             1,
             "#276419"
            ]
           ],
           "sequential": [
            [
             0,
             "#0d0887"
            ],
            [
             0.1111111111111111,
             "#46039f"
            ],
            [
             0.2222222222222222,
             "#7201a8"
            ],
            [
             0.3333333333333333,
             "#9c179e"
            ],
            [
             0.4444444444444444,
             "#bd3786"
            ],
            [
             0.5555555555555556,
             "#d8576b"
            ],
            [
             0.6666666666666666,
             "#ed7953"
            ],
            [
             0.7777777777777778,
             "#fb9f3a"
            ],
            [
             0.8888888888888888,
             "#fdca26"
            ],
            [
             1,
             "#f0f921"
            ]
           ],
           "sequentialminus": [
            [
             0,
             "#0d0887"
            ],
            [
             0.1111111111111111,
             "#46039f"
            ],
            [
             0.2222222222222222,
             "#7201a8"
            ],
            [
             0.3333333333333333,
             "#9c179e"
            ],
            [
             0.4444444444444444,
             "#bd3786"
            ],
            [
             0.5555555555555556,
             "#d8576b"
            ],
            [
             0.6666666666666666,
             "#ed7953"
            ],
            [
             0.7777777777777778,
             "#fb9f3a"
            ],
            [
             0.8888888888888888,
             "#fdca26"
            ],
            [
             1,
             "#f0f921"
            ]
           ]
          },
          "colorway": [
           "#636efa",
           "#EF553B",
           "#00cc96",
           "#ab63fa",
           "#FFA15A",
           "#19d3f3",
           "#FF6692",
           "#B6E880",
           "#FF97FF",
           "#FECB52"
          ],
          "font": {
           "color": "#2a3f5f"
          },
          "geo": {
           "bgcolor": "white",
           "lakecolor": "white",
           "landcolor": "#E5ECF6",
           "showlakes": true,
           "showland": true,
           "subunitcolor": "white"
          },
          "hoverlabel": {
           "align": "left"
          },
          "hovermode": "closest",
          "mapbox": {
           "style": "light"
          },
          "paper_bgcolor": "white",
          "plot_bgcolor": "#E5ECF6",
          "polar": {
           "angularaxis": {
            "gridcolor": "white",
            "linecolor": "white",
            "ticks": ""
           },
           "bgcolor": "#E5ECF6",
           "radialaxis": {
            "gridcolor": "white",
            "linecolor": "white",
            "ticks": ""
           }
          },
          "scene": {
           "xaxis": {
            "backgroundcolor": "#E5ECF6",
            "gridcolor": "white",
            "gridwidth": 2,
            "linecolor": "white",
            "showbackground": true,
            "ticks": "",
            "zerolinecolor": "white"
           },
           "yaxis": {
            "backgroundcolor": "#E5ECF6",
            "gridcolor": "white",
            "gridwidth": 2,
            "linecolor": "white",
            "showbackground": true,
            "ticks": "",
            "zerolinecolor": "white"
           },
           "zaxis": {
            "backgroundcolor": "#E5ECF6",
            "gridcolor": "white",
            "gridwidth": 2,
            "linecolor": "white",
            "showbackground": true,
            "ticks": "",
            "zerolinecolor": "white"
           }
          },
          "shapedefaults": {
           "line": {
            "color": "#2a3f5f"
           }
          },
          "ternary": {
           "aaxis": {
            "gridcolor": "white",
            "linecolor": "white",
            "ticks": ""
           },
           "baxis": {
            "gridcolor": "white",
            "linecolor": "white",
            "ticks": ""
           },
           "bgcolor": "#E5ECF6",
           "caxis": {
            "gridcolor": "white",
            "linecolor": "white",
            "ticks": ""
           }
          },
          "title": {
           "x": 0.05
          },
          "xaxis": {
           "automargin": true,
           "gridcolor": "white",
           "linecolor": "white",
           "ticks": "",
           "title": {
            "standoff": 15
           },
           "zerolinecolor": "white",
           "zerolinewidth": 2
          },
          "yaxis": {
           "automargin": true,
           "gridcolor": "white",
           "linecolor": "white",
           "ticks": "",
           "title": {
            "standoff": 15
           },
           "zerolinecolor": "white",
           "zerolinewidth": 2
          }
         }
        },
        "title": {
         "text": "Scatter Plot of Revenue vs. Sum of Location Count by Coffee Chain"
        },
        "xaxis": {
         "anchor": "y",
         "domain": [
          0,
          1
         ],
         "title": {
          "text": "Location Count"
         }
        },
        "yaxis": {
         "anchor": "x",
         "domain": [
          0,
          1
         ],
         "title": {
          "text": "Revenue2022"
         }
        }
       }
      },
      "text/html": [
       "<div>                            <div id=\"d058dd31-db5f-41bc-a733-804e2a7ad39a\" class=\"plotly-graph-div\" style=\"height:525px; width:100%;\"></div>            <script type=\"text/javascript\">                require([\"plotly\"], function(Plotly) {                    window.PLOTLYENV=window.PLOTLYENV || {};                                    if (document.getElementById(\"d058dd31-db5f-41bc-a733-804e2a7ad39a\")) {                    Plotly.newPlot(                        \"d058dd31-db5f-41bc-a733-804e2a7ad39a\",                        [{\"hovertemplate\":\"<b>%{hovertext}</b><br><br>Coffee Chain=Au Bon Pain<br>Location Count=%{x}<br>Revenue2022=%{y}<extra></extra>\",\"hovertext\":[\"Au Bon Pain\"],\"legendgroup\":\"Au Bon Pain\",\"marker\":{\"color\":\"#636efa\",\"symbol\":\"circle\"},\"mode\":\"markers\",\"name\":\"Au Bon Pain\",\"orientation\":\"v\",\"showlegend\":true,\"x\":[332],\"xaxis\":\"x\",\"y\":[41000000],\"yaxis\":\"y\",\"type\":\"scatter\"},{\"hovertemplate\":\"<b>%{hovertext}</b><br><br>Coffee Chain=Caribou Coffee<br>Location Count=%{x}<br>Revenue2022=%{y}<extra></extra>\",\"hovertext\":[\"Caribou Coffee\"],\"legendgroup\":\"Caribou Coffee\",\"marker\":{\"color\":\"#EF553B\",\"symbol\":\"circle\"},\"mode\":\"markers\",\"name\":\"Caribou Coffee\",\"orientation\":\"v\",\"showlegend\":true,\"x\":[623],\"xaxis\":\"x\",\"y\":[262000000],\"yaxis\":\"y\",\"type\":\"scatter\"},{\"hovertemplate\":\"<b>%{hovertext}</b><br><br>Coffee Chain=Dunkin' Donuts<br>Location Count=%{x}<br>Revenue2022=%{y}<extra></extra>\",\"hovertext\":[\"Dunkin' Donuts\"],\"legendgroup\":\"Dunkin' Donuts\",\"marker\":{\"color\":\"#00cc96\",\"symbol\":\"circle\"},\"mode\":\"markers\",\"name\":\"Dunkin' Donuts\",\"orientation\":\"v\",\"showlegend\":true,\"x\":[6482],\"xaxis\":\"x\",\"y\":[1400000000],\"yaxis\":\"y\",\"type\":\"scatter\"},{\"hovertemplate\":\"<b>%{hovertext}</b><br><br>Coffee Chain=McDonald's<br>Location Count=%{x}<br>Revenue2022=%{y}<extra></extra>\",\"hovertext\":[\"McDonald's\"],\"legendgroup\":\"McDonald's\",\"marker\":{\"color\":\"#ab63fa\",\"symbol\":\"circle\"},\"mode\":\"markers\",\"name\":\"McDonald's\",\"orientation\":\"v\",\"showlegend\":true,\"x\":[16888],\"xaxis\":\"x\",\"y\":[23180000000],\"yaxis\":\"y\",\"type\":\"scatter\"},{\"hovertemplate\":\"<b>%{hovertext}</b><br><br>Coffee Chain=Panera Bread<br>Location Count=%{x}<br>Revenue2022=%{y}<extra></extra>\",\"hovertext\":[\"Panera Bread\"],\"legendgroup\":\"Panera Bread\",\"marker\":{\"color\":\"#FFA15A\",\"symbol\":\"circle\"},\"mode\":\"markers\",\"name\":\"Panera Bread\",\"orientation\":\"v\",\"showlegend\":true,\"x\":[2378],\"xaxis\":\"x\",\"y\":[4800000000],\"yaxis\":\"y\",\"type\":\"scatter\"},{\"hovertemplate\":\"<b>%{hovertext}</b><br><br>Coffee Chain=Peet's Coffee & Tea<br>Location Count=%{x}<br>Revenue2022=%{y}<extra></extra>\",\"hovertext\":[\"Peet's Coffee & Tea\"],\"legendgroup\":\"Peet's Coffee & Tea\",\"marker\":{\"color\":\"#19d3f3\",\"symbol\":\"circle\"},\"mode\":\"markers\",\"name\":\"Peet's Coffee & Tea\",\"orientation\":\"v\",\"showlegend\":true,\"x\":[205],\"xaxis\":\"x\",\"y\":[983000000],\"yaxis\":\"y\",\"type\":\"scatter\"},{\"hovertemplate\":\"<b>%{hovertext}</b><br><br>Coffee Chain=Starbucks<br>Location Count=%{x}<br>Revenue2022=%{y}<extra></extra>\",\"hovertext\":[\"Starbucks\"],\"legendgroup\":\"Starbucks\",\"marker\":{\"color\":\"#FF6692\",\"symbol\":\"circle\"},\"mode\":\"markers\",\"name\":\"Starbucks\",\"orientation\":\"v\",\"showlegend\":true,\"x\":[10390],\"xaxis\":\"x\",\"y\":[32250000000],\"yaxis\":\"y\",\"type\":\"scatter\"},{\"hovertemplate\":\"<b>%{hovertext}</b><br><br>Coffee Chain=The Coffee Bean & Tea Leaf<br>Location Count=%{x}<br>Revenue2022=%{y}<extra></extra>\",\"hovertext\":[\"The Coffee Bean & Tea Leaf\"],\"legendgroup\":\"The Coffee Bean & Tea Leaf\",\"marker\":{\"color\":\"#B6E880\",\"symbol\":\"circle\"},\"mode\":\"markers\",\"name\":\"The Coffee Bean & Tea Leaf\",\"orientation\":\"v\",\"showlegend\":true,\"x\":[270],\"xaxis\":\"x\",\"y\":[500000000],\"yaxis\":\"y\",\"type\":\"scatter\"},{\"hovertemplate\":\"<b>%{hovertext}</b><br><br>Coffee Chain=Tim Horton's<br>Location Count=%{x}<br>Revenue2022=%{y}<extra></extra>\",\"hovertext\":[\"Tim Horton's\"],\"legendgroup\":\"Tim Horton's\",\"marker\":{\"color\":\"#FF97FF\",\"symbol\":\"circle\"},\"mode\":\"markers\",\"name\":\"Tim Horton's\",\"orientation\":\"v\",\"showlegend\":true,\"x\":[500],\"xaxis\":\"x\",\"y\":[2630000000],\"yaxis\":\"y\",\"type\":\"scatter\"}],                        {\"template\":{\"data\":{\"histogram2dcontour\":[{\"type\":\"histogram2dcontour\",\"colorbar\":{\"outlinewidth\":0,\"ticks\":\"\"},\"colorscale\":[[0.0,\"#0d0887\"],[0.1111111111111111,\"#46039f\"],[0.2222222222222222,\"#7201a8\"],[0.3333333333333333,\"#9c179e\"],[0.4444444444444444,\"#bd3786\"],[0.5555555555555556,\"#d8576b\"],[0.6666666666666666,\"#ed7953\"],[0.7777777777777778,\"#fb9f3a\"],[0.8888888888888888,\"#fdca26\"],[1.0,\"#f0f921\"]]}],\"choropleth\":[{\"type\":\"choropleth\",\"colorbar\":{\"outlinewidth\":0,\"ticks\":\"\"}}],\"histogram2d\":[{\"type\":\"histogram2d\",\"colorbar\":{\"outlinewidth\":0,\"ticks\":\"\"},\"colorscale\":[[0.0,\"#0d0887\"],[0.1111111111111111,\"#46039f\"],[0.2222222222222222,\"#7201a8\"],[0.3333333333333333,\"#9c179e\"],[0.4444444444444444,\"#bd3786\"],[0.5555555555555556,\"#d8576b\"],[0.6666666666666666,\"#ed7953\"],[0.7777777777777778,\"#fb9f3a\"],[0.8888888888888888,\"#fdca26\"],[1.0,\"#f0f921\"]]}],\"heatmap\":[{\"type\":\"heatmap\",\"colorbar\":{\"outlinewidth\":0,\"ticks\":\"\"},\"colorscale\":[[0.0,\"#0d0887\"],[0.1111111111111111,\"#46039f\"],[0.2222222222222222,\"#7201a8\"],[0.3333333333333333,\"#9c179e\"],[0.4444444444444444,\"#bd3786\"],[0.5555555555555556,\"#d8576b\"],[0.6666666666666666,\"#ed7953\"],[0.7777777777777778,\"#fb9f3a\"],[0.8888888888888888,\"#fdca26\"],[1.0,\"#f0f921\"]]}],\"heatmapgl\":[{\"type\":\"heatmapgl\",\"colorbar\":{\"outlinewidth\":0,\"ticks\":\"\"},\"colorscale\":[[0.0,\"#0d0887\"],[0.1111111111111111,\"#46039f\"],[0.2222222222222222,\"#7201a8\"],[0.3333333333333333,\"#9c179e\"],[0.4444444444444444,\"#bd3786\"],[0.5555555555555556,\"#d8576b\"],[0.6666666666666666,\"#ed7953\"],[0.7777777777777778,\"#fb9f3a\"],[0.8888888888888888,\"#fdca26\"],[1.0,\"#f0f921\"]]}],\"contourcarpet\":[{\"type\":\"contourcarpet\",\"colorbar\":{\"outlinewidth\":0,\"ticks\":\"\"}}],\"contour\":[{\"type\":\"contour\",\"colorbar\":{\"outlinewidth\":0,\"ticks\":\"\"},\"colorscale\":[[0.0,\"#0d0887\"],[0.1111111111111111,\"#46039f\"],[0.2222222222222222,\"#7201a8\"],[0.3333333333333333,\"#9c179e\"],[0.4444444444444444,\"#bd3786\"],[0.5555555555555556,\"#d8576b\"],[0.6666666666666666,\"#ed7953\"],[0.7777777777777778,\"#fb9f3a\"],[0.8888888888888888,\"#fdca26\"],[1.0,\"#f0f921\"]]}],\"surface\":[{\"type\":\"surface\",\"colorbar\":{\"outlinewidth\":0,\"ticks\":\"\"},\"colorscale\":[[0.0,\"#0d0887\"],[0.1111111111111111,\"#46039f\"],[0.2222222222222222,\"#7201a8\"],[0.3333333333333333,\"#9c179e\"],[0.4444444444444444,\"#bd3786\"],[0.5555555555555556,\"#d8576b\"],[0.6666666666666666,\"#ed7953\"],[0.7777777777777778,\"#fb9f3a\"],[0.8888888888888888,\"#fdca26\"],[1.0,\"#f0f921\"]]}],\"mesh3d\":[{\"type\":\"mesh3d\",\"colorbar\":{\"outlinewidth\":0,\"ticks\":\"\"}}],\"scatter\":[{\"fillpattern\":{\"fillmode\":\"overlay\",\"size\":10,\"solidity\":0.2},\"type\":\"scatter\"}],\"parcoords\":[{\"type\":\"parcoords\",\"line\":{\"colorbar\":{\"outlinewidth\":0,\"ticks\":\"\"}}}],\"scatterpolargl\":[{\"type\":\"scatterpolargl\",\"marker\":{\"colorbar\":{\"outlinewidth\":0,\"ticks\":\"\"}}}],\"bar\":[{\"error_x\":{\"color\":\"#2a3f5f\"},\"error_y\":{\"color\":\"#2a3f5f\"},\"marker\":{\"line\":{\"color\":\"#E5ECF6\",\"width\":0.5},\"pattern\":{\"fillmode\":\"overlay\",\"size\":10,\"solidity\":0.2}},\"type\":\"bar\"}],\"scattergeo\":[{\"type\":\"scattergeo\",\"marker\":{\"colorbar\":{\"outlinewidth\":0,\"ticks\":\"\"}}}],\"scatterpolar\":[{\"type\":\"scatterpolar\",\"marker\":{\"colorbar\":{\"outlinewidth\":0,\"ticks\":\"\"}}}],\"histogram\":[{\"marker\":{\"pattern\":{\"fillmode\":\"overlay\",\"size\":10,\"solidity\":0.2}},\"type\":\"histogram\"}],\"scattergl\":[{\"type\":\"scattergl\",\"marker\":{\"colorbar\":{\"outlinewidth\":0,\"ticks\":\"\"}}}],\"scatter3d\":[{\"type\":\"scatter3d\",\"line\":{\"colorbar\":{\"outlinewidth\":0,\"ticks\":\"\"}},\"marker\":{\"colorbar\":{\"outlinewidth\":0,\"ticks\":\"\"}}}],\"scattermapbox\":[{\"type\":\"scattermapbox\",\"marker\":{\"colorbar\":{\"outlinewidth\":0,\"ticks\":\"\"}}}],\"scatterternary\":[{\"type\":\"scatterternary\",\"marker\":{\"colorbar\":{\"outlinewidth\":0,\"ticks\":\"\"}}}],\"scattercarpet\":[{\"type\":\"scattercarpet\",\"marker\":{\"colorbar\":{\"outlinewidth\":0,\"ticks\":\"\"}}}],\"carpet\":[{\"aaxis\":{\"endlinecolor\":\"#2a3f5f\",\"gridcolor\":\"white\",\"linecolor\":\"white\",\"minorgridcolor\":\"white\",\"startlinecolor\":\"#2a3f5f\"},\"baxis\":{\"endlinecolor\":\"#2a3f5f\",\"gridcolor\":\"white\",\"linecolor\":\"white\",\"minorgridcolor\":\"white\",\"startlinecolor\":\"#2a3f5f\"},\"type\":\"carpet\"}],\"table\":[{\"cells\":{\"fill\":{\"color\":\"#EBF0F8\"},\"line\":{\"color\":\"white\"}},\"header\":{\"fill\":{\"color\":\"#C8D4E3\"},\"line\":{\"color\":\"white\"}},\"type\":\"table\"}],\"barpolar\":[{\"marker\":{\"line\":{\"color\":\"#E5ECF6\",\"width\":0.5},\"pattern\":{\"fillmode\":\"overlay\",\"size\":10,\"solidity\":0.2}},\"type\":\"barpolar\"}],\"pie\":[{\"automargin\":true,\"type\":\"pie\"}]},\"layout\":{\"autotypenumbers\":\"strict\",\"colorway\":[\"#636efa\",\"#EF553B\",\"#00cc96\",\"#ab63fa\",\"#FFA15A\",\"#19d3f3\",\"#FF6692\",\"#B6E880\",\"#FF97FF\",\"#FECB52\"],\"font\":{\"color\":\"#2a3f5f\"},\"hovermode\":\"closest\",\"hoverlabel\":{\"align\":\"left\"},\"paper_bgcolor\":\"white\",\"plot_bgcolor\":\"#E5ECF6\",\"polar\":{\"bgcolor\":\"#E5ECF6\",\"angularaxis\":{\"gridcolor\":\"white\",\"linecolor\":\"white\",\"ticks\":\"\"},\"radialaxis\":{\"gridcolor\":\"white\",\"linecolor\":\"white\",\"ticks\":\"\"}},\"ternary\":{\"bgcolor\":\"#E5ECF6\",\"aaxis\":{\"gridcolor\":\"white\",\"linecolor\":\"white\",\"ticks\":\"\"},\"baxis\":{\"gridcolor\":\"white\",\"linecolor\":\"white\",\"ticks\":\"\"},\"caxis\":{\"gridcolor\":\"white\",\"linecolor\":\"white\",\"ticks\":\"\"}},\"coloraxis\":{\"colorbar\":{\"outlinewidth\":0,\"ticks\":\"\"}},\"colorscale\":{\"sequential\":[[0.0,\"#0d0887\"],[0.1111111111111111,\"#46039f\"],[0.2222222222222222,\"#7201a8\"],[0.3333333333333333,\"#9c179e\"],[0.4444444444444444,\"#bd3786\"],[0.5555555555555556,\"#d8576b\"],[0.6666666666666666,\"#ed7953\"],[0.7777777777777778,\"#fb9f3a\"],[0.8888888888888888,\"#fdca26\"],[1.0,\"#f0f921\"]],\"sequentialminus\":[[0.0,\"#0d0887\"],[0.1111111111111111,\"#46039f\"],[0.2222222222222222,\"#7201a8\"],[0.3333333333333333,\"#9c179e\"],[0.4444444444444444,\"#bd3786\"],[0.5555555555555556,\"#d8576b\"],[0.6666666666666666,\"#ed7953\"],[0.7777777777777778,\"#fb9f3a\"],[0.8888888888888888,\"#fdca26\"],[1.0,\"#f0f921\"]],\"diverging\":[[0,\"#8e0152\"],[0.1,\"#c51b7d\"],[0.2,\"#de77ae\"],[0.3,\"#f1b6da\"],[0.4,\"#fde0ef\"],[0.5,\"#f7f7f7\"],[0.6,\"#e6f5d0\"],[0.7,\"#b8e186\"],[0.8,\"#7fbc41\"],[0.9,\"#4d9221\"],[1,\"#276419\"]]},\"xaxis\":{\"gridcolor\":\"white\",\"linecolor\":\"white\",\"ticks\":\"\",\"title\":{\"standoff\":15},\"zerolinecolor\":\"white\",\"automargin\":true,\"zerolinewidth\":2},\"yaxis\":{\"gridcolor\":\"white\",\"linecolor\":\"white\",\"ticks\":\"\",\"title\":{\"standoff\":15},\"zerolinecolor\":\"white\",\"automargin\":true,\"zerolinewidth\":2},\"scene\":{\"xaxis\":{\"backgroundcolor\":\"#E5ECF6\",\"gridcolor\":\"white\",\"linecolor\":\"white\",\"showbackground\":true,\"ticks\":\"\",\"zerolinecolor\":\"white\",\"gridwidth\":2},\"yaxis\":{\"backgroundcolor\":\"#E5ECF6\",\"gridcolor\":\"white\",\"linecolor\":\"white\",\"showbackground\":true,\"ticks\":\"\",\"zerolinecolor\":\"white\",\"gridwidth\":2},\"zaxis\":{\"backgroundcolor\":\"#E5ECF6\",\"gridcolor\":\"white\",\"linecolor\":\"white\",\"showbackground\":true,\"ticks\":\"\",\"zerolinecolor\":\"white\",\"gridwidth\":2}},\"shapedefaults\":{\"line\":{\"color\":\"#2a3f5f\"}},\"annotationdefaults\":{\"arrowcolor\":\"#2a3f5f\",\"arrowhead\":0,\"arrowwidth\":1},\"geo\":{\"bgcolor\":\"white\",\"landcolor\":\"#E5ECF6\",\"subunitcolor\":\"white\",\"showland\":true,\"showlakes\":true,\"lakecolor\":\"white\"},\"title\":{\"x\":0.05},\"mapbox\":{\"style\":\"light\"}}},\"xaxis\":{\"anchor\":\"y\",\"domain\":[0.0,1.0],\"title\":{\"text\":\"Location Count\"}},\"yaxis\":{\"anchor\":\"x\",\"domain\":[0.0,1.0],\"title\":{\"text\":\"Revenue2022\"}},\"legend\":{\"title\":{\"text\":\"Coffee Chain\"},\"tracegroupgap\":0},\"title\":{\"text\":\"Scatter Plot of Revenue vs. Sum of Location Count by Coffee Chain\"},\"annotations\":[{\"font\":{\"size\":16},\"showarrow\":false,\"text\":\"Correlation Coefficient: 0.84\",\"x\":0.05,\"xref\":\"paper\",\"y\":0.95,\"yref\":\"paper\"}]},                        {\"responsive\": true}                    ).then(function(){\n",
       "                            \n",
       "var gd = document.getElementById('d058dd31-db5f-41bc-a733-804e2a7ad39a');\n",
       "var x = new MutationObserver(function (mutations, observer) {{\n",
       "        var display = window.getComputedStyle(gd).display;\n",
       "        if (!display || display === 'none') {{\n",
       "            console.log([gd, 'removed!']);\n",
       "            Plotly.purge(gd);\n",
       "            observer.disconnect();\n",
       "        }}\n",
       "}});\n",
       "\n",
       "// Listen for the removal of the full notebook cells\n",
       "var notebookContainer = gd.closest('#notebook-container');\n",
       "if (notebookContainer) {{\n",
       "    x.observe(notebookContainer, {childList: true});\n",
       "}}\n",
       "\n",
       "// Listen for the clearing of the current output cell\n",
       "var outputEl = gd.closest('.output');\n",
       "if (outputEl) {{\n",
       "    x.observe(outputEl, {childList: true});\n",
       "}}\n",
       "\n",
       "                        })                };                });            </script>        </div>"
      ]
     },
     "metadata": {},
     "output_type": "display_data"
    }
   ],
   "source": [
    "#grouping to get the sum of the locations and making sure that the revenues dont get added\n",
    "coffee_chain_data = coffee_clean.groupby('Coffee Chain').agg({\n",
    "    'Location Count': 'sum',\n",
    "    'Revenue2022': 'first'  # Take the first revenue value for each coffee chain\n",
    "}).reset_index()\n",
    "\n",
    "#Calculating the correlation between location counts and revenue\n",
    "correlation_coefficient = np.corrcoef(coffee_chain_data['Location Count'], coffee_chain_data['Revenue2022'])[0, 1]\n",
    "correlation_text = f'Correlation Coefficient: {correlation_coefficient:.2f}'\n",
    "\n",
    "#creating scatter plot\n",
    "fig_scatter_revenue_locations = px.scatter(\n",
    "    coffee_chain_data,\n",
    "    x='Location Count',\n",
    "    y='Revenue2022',\n",
    "    color='Coffee Chain',\n",
    "    hover_name='Coffee Chain',\n",
    "    title='Scatter Plot of Revenue vs. Sum of Location Count by Coffee Chain',\n",
    ")\n",
    "\n",
    "#Adding the correlation coefficient as an annotation\n",
    "fig_scatter_revenue_locations.add_annotation(\n",
    "    go.layout.Annotation(\n",
    "        text=correlation_text,\n",
    "        xref='paper',\n",
    "        yref='paper',\n",
    "        x=0.05,\n",
    "        y=0.95,\n",
    "        showarrow=False,\n",
    "        font=dict(size=16)\n",
    "    )\n",
    ")\n",
    "\n",
    "fig_scatter_revenue_locations.show()"
   ]
  },
  {
   "cell_type": "markdown",
   "id": "c37d796b",
   "metadata": {},
   "source": [
    "# Automate"
   ]
  },
  {
   "cell_type": "markdown",
   "id": "44745a5f",
   "metadata": {},
   "source": [
    "## Function with single argument that scrapes Menuism"
   ]
  },
  {
   "cell_type": "code",
   "execution_count": 327,
   "id": "78864f5a",
   "metadata": {},
   "outputs": [],
   "source": [
    "#technically my first function did this already as I thought that was the fastest way to do part 1, however:\n",
    "\n",
    "#this function returns a dataframe with the following columns State, Coffee Chain, and Location Counts#Function to Scrape the URLs for each restaurant\n",
    "def scrape_data(url):\n",
    "    \"\"\"\n",
    "      The function should take a single argument (x) and multiply the input by 7.\n",
    "\n",
    "  Parameter\n",
    "  ---------\n",
    "  url: url\n",
    "    insert specific url from https://www.menuism.com/restaurant-locations/\n",
    "    followed by the appropriate resaurant that you are trying to get, best to go into\n",
    "    that website and click into the restaurant first to get the link.\n",
    "\n",
    "  Returns\n",
    "  -------\n",
    "  dataframe object: Columns, 'State', 'Coffee Chain', 'Location Count'\n",
    "    \n",
    "    \"\"\"\n",
    "    #Using beautiful soup and the requests to be able to scrape\n",
    "    response = requests.get(url)\n",
    "    soup = BeautifulSoup(response.content, \"html.parser\")\n",
    "\n",
    "    #Creating a dictionary of U.S. states In order to only pull information about these\n",
    "    us_states = {\n",
    "        'Alabama', 'Alaska', 'Arizona', 'Arkansas', 'California', 'Colorado', 'Connecticut',\n",
    "        'Delaware', 'District of Columbia', 'Florida', 'Georgia', 'Hawaii', 'Idaho', 'Illinois', 'Indiana', 'Iowa',\n",
    "        'Kansas', 'Kentucky', 'Louisiana', 'Maine', 'Maryland', 'Massachusetts', 'Michigan',\n",
    "        'Minnesota', 'Mississippi', 'Missouri', 'Montana', 'Nebraska', 'Nevada', 'New Hampshire',\n",
    "        'New Jersey', 'New Mexico', 'New York', 'North Carolina', 'North Dakota', 'Ohio', 'Oklahoma',\n",
    "        'Oregon', 'Pennsylvania', 'Rhode Island', 'South Carolina', 'South Dakota', 'Tennessee',\n",
    "        'Texas', 'Utah', 'Vermont', 'Virginia', 'Washington', 'West Virginia', 'Wisconsin', 'Wyoming'\n",
    "    }\n",
    "\n",
    "    #making the regular expression for extracting the state\n",
    "    state_pattern = r'^\\w+\\s+.*\\slocations \\(\\d+\\)$'\n",
    "\n",
    "    #Creating an empty list to put our scraped items in\n",
    "    rows = []\n",
    "\n",
    "    #Iterating over all <li> elements with class=\"\"\n",
    "    for coffee_location in soup.find_all('li', {'class': \"\"}):\n",
    "        a_tag = coffee_location.find(\"a\")\n",
    "        if a_tag:\n",
    "            \n",
    "            #Getting the text from the <a> tag\n",
    "            text = a_tag.get_text(strip=True)\n",
    "            \n",
    "            #Checking if the text matches the desired format and if the state is in the list of U.S. states\n",
    "            if re.match(state_pattern, text) and text.split()[0] in us_states:\n",
    "                \n",
    "                #Extract the state name and add it to the \"State\" field in the dictionary\n",
    "                state = text.split()[0]\n",
    "\n",
    "                #Extract the restaurant name (anything after the state name and before \"locations\")\n",
    "                match = re.search(fr'{state}\\s+(.*?)\\s+locations', text)\n",
    "                restaurant_name = match.group(1) if match else None\n",
    "\n",
    "                #Extract the number of locations using a regular expression\n",
    "                locations_match = re.search(r'\\((\\d+)\\)', text)\n",
    "                num_of_locations = int(locations_match.group(1)) if locations_match else None\n",
    "                \n",
    "                #filling the list, note we used the stateabb function here for the state\n",
    "                rows.append({\"State\": stateabb(state), \"Coffee Chain\": restaurant_name, \"Locations\": num_of_locations})\n",
    "\n",
    "    #creating a dataframe\n",
    "    data_df = pd.DataFrame(rows)\n",
    "\n",
    "    return data_df"
   ]
  },
  {
   "cell_type": "code",
   "execution_count": 328,
   "id": "887ba055",
   "metadata": {},
   "outputs": [
    {
     "data": {
      "text/html": [
       "<div>\n",
       "<style scoped>\n",
       "    .dataframe tbody tr th:only-of-type {\n",
       "        vertical-align: middle;\n",
       "    }\n",
       "\n",
       "    .dataframe tbody tr th {\n",
       "        vertical-align: top;\n",
       "    }\n",
       "\n",
       "    .dataframe thead th {\n",
       "        text-align: right;\n",
       "    }\n",
       "</style>\n",
       "<table border=\"1\" class=\"dataframe\">\n",
       "  <thead>\n",
       "    <tr style=\"text-align: right;\">\n",
       "      <th></th>\n",
       "      <th>State</th>\n",
       "      <th>Coffee Chain</th>\n",
       "      <th>Locations</th>\n",
       "    </tr>\n",
       "  </thead>\n",
       "  <tbody>\n",
       "    <tr>\n",
       "      <th>0</th>\n",
       "      <td>AL</td>\n",
       "      <td>Dunkin' Donuts</td>\n",
       "      <td>1</td>\n",
       "    </tr>\n",
       "    <tr>\n",
       "      <th>1</th>\n",
       "      <td>AR</td>\n",
       "      <td>Dunkin' Donuts</td>\n",
       "      <td>11</td>\n",
       "    </tr>\n",
       "    <tr>\n",
       "      <th>2</th>\n",
       "      <td>AZ</td>\n",
       "      <td>Dunkin' Donuts</td>\n",
       "      <td>74</td>\n",
       "    </tr>\n",
       "    <tr>\n",
       "      <th>3</th>\n",
       "      <td>CA</td>\n",
       "      <td>Dunkin' Donuts</td>\n",
       "      <td>46</td>\n",
       "    </tr>\n",
       "    <tr>\n",
       "      <th>4</th>\n",
       "      <td>CO</td>\n",
       "      <td>Dunkin' Donuts</td>\n",
       "      <td>5</td>\n",
       "    </tr>\n",
       "  </tbody>\n",
       "</table>\n",
       "</div>"
      ],
      "text/plain": [
       "  State    Coffee Chain  Locations\n",
       "0    AL  Dunkin' Donuts          1\n",
       "1    AR  Dunkin' Donuts         11\n",
       "2    AZ  Dunkin' Donuts         74\n",
       "3    CA  Dunkin' Donuts         46\n",
       "4    CO  Dunkin' Donuts          5"
      ]
     },
     "execution_count": 328,
     "metadata": {},
     "output_type": "execute_result"
    }
   ],
   "source": [
    "scrape_data(\"https://web.archive.org/web/20220518102911/https://www.menuism.com/restaurant-locations/dunkin-donuts-181624\").head()"
   ]
  },
  {
   "cell_type": "code",
   "execution_count": null,
   "id": "61103f4c",
   "metadata": {},
   "outputs": [],
   "source": []
  },
  {
   "cell_type": "code",
   "execution_count": null,
   "id": "6a6f751d",
   "metadata": {},
   "outputs": [],
   "source": []
  },
  {
   "cell_type": "code",
   "execution_count": null,
   "id": "a71e71b0",
   "metadata": {},
   "outputs": [],
   "source": []
  },
  {
   "cell_type": "code",
   "execution_count": null,
   "id": "ecfcbe55",
   "metadata": {},
   "outputs": [],
   "source": []
  }
 ],
 "metadata": {
  "kernelspec": {
   "display_name": "Python 3 (ipykernel)",
   "language": "python",
   "name": "python3"
  },
  "language_info": {
   "codemirror_mode": {
    "name": "ipython",
    "version": 3
   },
   "file_extension": ".py",
   "mimetype": "text/x-python",
   "name": "python",
   "nbconvert_exporter": "python",
   "pygments_lexer": "ipython3",
   "version": "3.11.4"
  }
 },
 "nbformat": 4,
 "nbformat_minor": 5
}
